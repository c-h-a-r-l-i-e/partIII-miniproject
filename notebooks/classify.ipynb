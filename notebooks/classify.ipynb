{
 "cells": [
  {
   "cell_type": "markdown",
   "id": "wooden-north",
   "metadata": {},
   "source": [
    "Code for classifying videos based on emotions present\n",
    "\n",
    "Currently implemented:\n",
    "- Mean\n",
    "- Mode\n",
    "\n",
    "TODO:\n",
    "- take in a CNN model\n",
    "- setup code for mean/mode\n",
    "- classify on video\n",
    "- view results"
   ]
  },
  {
   "cell_type": "code",
   "execution_count": 1,
   "id": "focal-rhythm",
   "metadata": {},
   "outputs": [],
   "source": [
    "from tensorflow.keras.models import load_model\n",
    "from collections import deque\n",
    "import numpy as np\n",
    "from sklearn.preprocessing import LabelBinarizer\n",
    "import argparse\n",
    "import pickle\n",
    "import cv2"
   ]
  },
  {
   "cell_type": "code",
   "execution_count": 2,
   "id": "saving-cricket",
   "metadata": {},
   "outputs": [],
   "source": [
    "MODEL = \"RN50\"\n",
    "\n",
    "if MODEL == \"RN50\":\n",
    "    model = load_model('../models/best-models/resnet50.h5')\n"
   ]
  },
  {
   "cell_type": "code",
   "execution_count": 18,
   "id": "exciting-information",
   "metadata": {},
   "outputs": [],
   "source": [
    "lb = pickle.loads(open(\"label_bin\", \"rb\").read())\n",
    "\n",
    "mean = np.array([123.68, 116.779, 103.939][::1], dtype=\"float32\")\n",
    "size = 2\n",
    "Q = deque(maxlen=size)\n",
    "\n"
   ]
  },
  {
   "cell_type": "code",
   "execution_count": 19,
   "id": "accepted-spyware",
   "metadata": {},
   "outputs": [],
   "source": [
    "video_fn = \"../data/dataset/02-01-02-01-18-30-720.mp4\"\n",
    "output_fn = \"results/test.mp4\"\n",
    "\n",
    "vs = cv2.VideoCapture(video_fn)\n",
    "writer = None\n",
    "(W, H) = (None, None)\n",
    "\n",
    "# Loop over video frames\n",
    "while True:\n",
    "    (grabbed, frame) = vs.read()\n",
    "    if not grabbed:\n",
    "        break\n",
    "        \n",
    "    if W is None or H is None:\n",
    "        (H, W) = frame.shape[:2]\n",
    "        \n",
    "    output = frame.copy()\n",
    "    frame = cv2.cvtColor(frame, cv2.COLOR_BGR2RGB)\n",
    "    frame = cv2.resize(frame, (224, 224)).astype(\"float32\")\n",
    "    frame -= mean\n",
    "    \n",
    "    preds = model.predict(np.expand_dims(frame, axis=0))[0]\n",
    "    Q.append(preds)\n",
    "    \n",
    "    results = np.array(Q).mean(axis=0)\n",
    "    i = np.argmax(results)\n",
    "    label = lb.classes_[i]\n",
    "    \n",
    "    text = \"emotion : {}\".format(label)\n",
    "    cv2.putText(output, text, (35, 50), cv2.FONT_HERSHEY_SIMPLEX, 1.25, (0, 255, 0), 5)\n",
    "    \n",
    "    if writer is None:\n",
    "        fourcc = cv2.VideoWriter_fourcc(*\"MJPG\")\n",
    "        # TODO: setup fps?\n",
    "        writer = cv2.VideoWriter(output_fn, fourcc, 30, (W,H), True)\n",
    "        \n",
    "    writer.write(output)\n",
    "    cv2.imshow(\"Output\", output)\n",
    "    key = cv2.waitKey(1) & 0xFF\n",
    "    \n",
    "    \n",
    "    # if the `q` key was pressed, break from the loop\n",
    "    if key == ord(\"q\"):\n",
    "        break\n",
    "\n",
    "cv2.destroyWindow('Output')\n",
    "\n",
    "writer.release()\n",
    "vs.release()\n",
    "\n",
    "    "
   ]
  },
  {
   "cell_type": "code",
   "execution_count": null,
   "id": "varying-opinion",
   "metadata": {},
   "outputs": [],
   "source": []
  }
 ],
 "metadata": {
  "kernelspec": {
   "display_name": "Python 3",
   "language": "python",
   "name": "python3"
  },
  "language_info": {
   "codemirror_mode": {
    "name": "ipython",
    "version": 3
   },
   "file_extension": ".py",
   "mimetype": "text/x-python",
   "name": "python",
   "nbconvert_exporter": "python",
   "pygments_lexer": "ipython3",
   "version": "3.8.5"
  }
 },
 "nbformat": 4,
 "nbformat_minor": 5
}
