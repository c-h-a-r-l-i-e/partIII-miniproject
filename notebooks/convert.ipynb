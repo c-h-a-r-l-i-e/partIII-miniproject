{
 "cells": [
  {
   "cell_type": "markdown",
   "id": "constitutional-heart",
   "metadata": {},
   "source": [
    "# Conversion Tools\n",
    "This a notebook containing various scripts to convert things\n",
    "\n",
    "## 1 - convert a pytorch model to something I can use in keras"
   ]
  },
  {
   "cell_type": "code",
   "execution_count": null,
   "id": "manual-williams",
   "metadata": {},
   "outputs": [],
   "source": [
    "import torch\n",
    "import torchvision.models as models\n",
    "import onnx\n",
    "from onnx2keras import onnx_to_keras"
   ]
  },
  {
   "cell_type": "code",
   "execution_count": null,
   "id": "injured-estate",
   "metadata": {},
   "outputs": [],
   "source": [
    "fer_model = models.resnet18(num_classes=7)\n",
    "\n",
    "checkpoint = torch.load('../papers/Emotion-FAN/pretrain_model/Resnet18_FER+_pytorch.pth.tar', map_location=torch.device('cpu'))\n",
    "pretrained_state_dict = checkpoint['state_dict']\n",
    "model_state_dict = fer_model.state_dict()\n",
    "\n",
    "for key in pretrained_state_dict:\n",
    "    if ((key == 'module.fc.weight') | (key == 'module.fc.bias')):\n",
    "        pass\n",
    "    else:\n",
    "        model_state_dict[key.replace('module.', '')] = pretrained_state_dict[key]\n",
    "\n",
    "fer_model.load_state_dict(model_state_dict, strict=False)\n",
    "model = torch.nn.DataParallel(fer_model)\n",
    "\n",
    "model.eval()\n",
    "\n",
    "x = torch.randn(64, 3, 244, 244, requires_grad=True)\n",
    "\n",
    "torch.onnx.export(model.module, x, \"../models/fan-fer.onnx\", input_names= ['input'], \n",
    "                  dynamic_axes={'input':{0:'batch'}})\n",
    "\n"
   ]
  },
  {
   "cell_type": "code",
   "execution_count": null,
   "id": "cellular-content",
   "metadata": {},
   "outputs": [],
   "source": [
    "onnx_model = onnx.load(\"../models/fan-fer.onnx\")\n",
    "onnx.checker.check_model(onnx_model)\n",
    "k_model = onnx_to_keras(onnx_model, ['input'])\n",
    "k_model.save('../models/fan-fer')"
   ]
  },
  {
   "cell_type": "code",
   "execution_count": null,
   "id": "continuous-puppy",
   "metadata": {},
   "outputs": [],
   "source": [
    "\n",
    "ms1m_model = models.resnet18(num_classes=7)\n",
    "\n",
    "checkpoint = torch.load('../papers/Emotion-FAN/pretrain_model/Resnet18_MS1M_pytorch.pth.tar', map_location=torch.device('cpu'))\n",
    "pretrained_state_dict = checkpoint['state_dict']\n",
    "model_state_dict = ms1m_model.state_dict()\n",
    "\n",
    "for key in pretrained_state_dict:\n",
    "    if ((key == 'module.fc.weight') | (key == 'module.fc.bias')):\n",
    "        pass\n",
    "    else:\n",
    "        model_state_dict[key.replace('module.', '')] = pretrained_state_dict[key]\n",
    "\n",
    "ms1m_model.load_state_dict(model_state_dict, strict=False)\n",
    "model = torch.nn.DataParallel(ms1m_model)\n",
    "\n",
    "model.eval()\n",
    "\n",
    "x = torch.randn(64, 3, 244, 224, requires_grad=True)\n",
    "\n",
    "# if using MS1M, then fix this which goes wrong for some reason\n",
    "torch.onnx.export(model.module, x, \"../models/fan-ms1m.onnx\")\n"
   ]
  },
  {
   "cell_type": "code",
   "execution_count": null,
   "id": "current-chick",
   "metadata": {},
   "outputs": [],
   "source": [
    "onnx_model = onnx.load(\"../models/fan-ms1m.onnx\")\n",
    "onnx.checker.check_model(onnx_model)\n",
    "k_model = onnx_to_keras(onnx_model, ['input.1'])\n",
    "k_model.save('../models/fan-ms1m')"
   ]
  },
  {
   "cell_type": "markdown",
   "id": "southwest-tanzania",
   "metadata": {},
   "source": [
    "## Model from https://github.com/WuJie1010/Facial-Expression-Recognition.Pytorch\n",
    " Takes input of size 28x28"
   ]
  },
  {
   "cell_type": "code",
   "execution_count": null,
   "id": "english-contrary",
   "metadata": {},
   "outputs": [],
   "source": []
  }
 ],
 "metadata": {
  "kernelspec": {
   "display_name": "Python 3",
   "language": "python",
   "name": "python3"
  },
  "language_info": {
   "codemirror_mode": {
    "name": "ipython",
    "version": 3
   },
   "file_extension": ".py",
   "mimetype": "text/x-python",
   "name": "python",
   "nbconvert_exporter": "python",
   "pygments_lexer": "ipython3",
   "version": "3.8.5"
  }
 },
 "nbformat": 4,
 "nbformat_minor": 5
}
