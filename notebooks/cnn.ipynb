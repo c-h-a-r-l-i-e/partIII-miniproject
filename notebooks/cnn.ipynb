{
 "cells": [
  {
   "cell_type": "markdown",
   "id": "assured-praise",
   "metadata": {},
   "source": [
    "# CNN Video Sentiment Analysis\n",
    "This notebook will walk through the process of training a CNN to analyse frames of videos, and then take the aggregate over frames in a video."
   ]
  },
  {
   "cell_type": "code",
   "execution_count": 1,
   "id": "african-accuracy",
   "metadata": {},
   "outputs": [],
   "source": [
    "import matplotlib\n",
    "from tensorflow.keras.preprocessing.image import ImageDataGenerator\n",
    "from tensorflow.keras.layers import AveragePooling2D\n",
    "from tensorflow.keras.applications import ResNet50\n",
    "from tensorflow.keras.layers import Dropout\n",
    "from tensorflow.keras.layers import Flatten\n",
    "from tensorflow.keras.layers import Dense\n",
    "from tensorflow.keras.layers import Input\n",
    "from tensorflow.keras.models import Model\n",
    "from tensorflow.keras.optimizers import SGD\n",
    "from sklearn.preprocessing import LabelBinarizer\n",
    "from sklearn.model_selection import train_test_split\n",
    "from sklearn.metrics import classification_report\n",
    "from imutils import paths\n",
    "import random\n",
    "import matplotlib.pyplot as plt\n",
    "import numpy as np\n",
    "import argparse\n",
    "import pickle\n",
    "import cv2\n",
    "import os\n"
   ]
  },
  {
   "cell_type": "code",
   "execution_count": 2,
   "id": "electronic-candle",
   "metadata": {},
   "outputs": [
    {
     "name": "stderr",
     "output_type": "stream",
     "text": [
      "Failed to detect the name of this notebook, you can set it manually with the WANDB_NOTEBOOK_NAME environment variable to enable code saving.\n",
      "\u001b[34m\u001b[1mwandb\u001b[0m: Currently logged in as: \u001b[33mcharlieisalright\u001b[0m (use `wandb login --relogin` to force relogin)\n"
     ]
    },
    {
     "data": {
      "text/plain": [
       "True"
      ]
     },
     "execution_count": 2,
     "metadata": {},
     "output_type": "execute_result"
    }
   ],
   "source": [
    "import wandb\n",
    "from wandb.keras import WandbCallback\n",
    "wandb.login()"
   ]
  },
  {
   "cell_type": "code",
   "execution_count": 3,
   "id": "built-interstate",
   "metadata": {},
   "outputs": [],
   "source": [
    "# Setup the location of the various parameters needed\n",
    "\n",
    "dataset = \"../data/img_dataset\"\n",
    "epochs = 25\n",
    "\n",
    "labels = set([\"neutral\", \"calm\", \"happy\", \"sad\", \"angry\", \"fearful\", \"disgust\", \"surprised\"])"
   ]
  },
  {
   "cell_type": "code",
   "execution_count": null,
   "id": "frank-taste",
   "metadata": {},
   "outputs": [],
   "source": []
  },
  {
   "cell_type": "markdown",
   "id": "married-cream",
   "metadata": {},
   "source": [
    "We use transfer learning, on top of the ResNet CNN, using frames extracted from our videos to get the specific model. In this case, we are training using data at 720p."
   ]
  },
  {
   "cell_type": "code",
   "execution_count": 4,
   "id": "simple-devon",
   "metadata": {},
   "outputs": [
    {
     "name": "stdout",
     "output_type": "stream",
     "text": [
      "3000\n",
      "Done fetching images\n"
     ]
    }
   ],
   "source": [
    "image_paths = list(paths.list_images(dataset))\n",
    "random.seed(10)\n",
    "random.shuffle(image_paths)\n",
    "image_paths = image_paths[:3000]\n",
    "data = []\n",
    "labels = []\n",
    "\n",
    "print(len(image_paths))\n",
    "\n",
    "for image_path in image_paths:\n",
    "    label = image_path.split(os.path.sep)[-2]\n",
    "    \n",
    "    # Load images, converting to RGB channels and scaling to 224 x 224\n",
    "    image = cv2.imread(image_path)\n",
    "    image = cv2.cvtColor(image, cv2.COLOR_BGR2RGB)\n",
    "    image = cv2.resize(image, (224, 224))\n",
    "    \n",
    "    data.append(image)\n",
    "    labels.append(label)\n",
    "    \n",
    "print(\"Done fetching images\")\n",
    "    \n",
    "    \n",
    "data = np.array(data)\n",
    "labels = np.array(labels)\n",
    "\n",
    "# One-hot encoding\n",
    "lb = LabelBinarizer()\n",
    "labels = lb.fit_transform(labels)\n",
    "\n",
    "(trainX, testX, trainY, testY) = train_test_split(data, labels, \n",
    "                        test_size=0.25, stratify=labels, random_state=42)\n",
    "\n",
    "# Randomly change the train set so results are more generalizable\n",
    "train_augmentation = ImageDataGenerator(\n",
    "    rotation_range=30,\n",
    "    zoom_range=0.15,\n",
    "    width_shift_range=0.2,\n",
    "    height_shift_range=0.2,\n",
    "    shear_range=0.15,\n",
    "    horizontal_flip=True,\n",
    "    fill_mode=\"nearest\")\n",
    "\n",
    "val_augmentation = ImageDataGenerator()\n",
    "mean = np.array([123.68, 116.779, 103.939], dtype=\"float32\")\n",
    "train_augmentation.mean = mean\n",
    "val_augmentation.mean = mean"
   ]
  },
  {
   "cell_type": "code",
   "execution_count": 5,
   "id": "front-provision",
   "metadata": {},
   "outputs": [],
   "source": [
    "def get_model():\n",
    "    base_model = ResNet50(weights=\"imagenet\", include_top=False, \n",
    "                      input_tensor=Input(shape=(224, 224, 3)))\n",
    "\n",
    "    head_model = base_model.output\n",
    "    head_model = AveragePooling2D(pool_size=(7, 7))(head_model)\n",
    "    head_model = Flatten(name=\"flatten\")(head_model)\n",
    "    head_model = Dense(512, activation=\"relu\")(head_model)\n",
    "    head_model = Dropout(0.5)(head_model)\n",
    "    head_model = Dense(len(lb.classes_), activation=\"softmax\")(head_model)\n",
    "\n",
    "    model = Model(inputs=base_model.input, outputs=head_model)\n",
    "\n",
    "    # Ensure we don't train the base model\n",
    "    for layer in base_model.layers:\n",
    "        layer.trainable = False\n",
    "        \n",
    "    return model\n"
   ]
  },
  {
   "cell_type": "code",
   "execution_count": 6,
   "id": "sapphire-float",
   "metadata": {},
   "outputs": [],
   "source": [
    "def train():\n",
    "    # default hyperparameters\n",
    "    config_defaults = {\n",
    "        'batch_size' : 32,\n",
    "        'learning_rate' : 0.001,\n",
    "        'epochs': 25\n",
    "    }\n",
    "\n",
    "    wandb.init(project='sentiment', entity='charlieisalright', config=config_defaults)\n",
    "    config = wandb.config\n",
    "    \n",
    "    config.architecture_name = \"ResNet50\"\n",
    "    \n",
    "    # Compile the model, using stochastic gradient descent optimization.\n",
    "    opt = SGD(lr=config.learning_rate, momentum=0.9, decay=1e-4 / config.epochs)\n",
    "    model = get_model()\n",
    "    model.compile(loss=\"categorical_crossentropy\", optimizer=opt,\n",
    "        metrics=[\"accuracy\"])\n",
    "\n",
    "    # Now we can start training!\n",
    "    H = model.fit(\n",
    "        x = train_augmentation.flow(trainX, trainY, batch_size=config.batch_size),\n",
    "        steps_per_epoch = len(trainX) // 32,\n",
    "        validation_data = val_augmentation.flow(testX, testY),\n",
    "        validation_steps = len(testX) // 32,\n",
    "        epochs = config.epochs,\n",
    "        callbacks = [WandbCallback()]\n",
    "    )\n"
   ]
  },
  {
   "cell_type": "markdown",
   "id": "humanitarian-collective",
   "metadata": {},
   "source": [
    "Next, we setup a sweep of hyperparameters."
   ]
  },
  {
   "cell_type": "code",
   "execution_count": null,
   "id": "first-nightlife",
   "metadata": {},
   "outputs": [
    {
     "name": "stderr",
     "output_type": "stream",
     "text": [
      "\u001b[34m\u001b[1mwandb\u001b[0m: Agent Starting Run: zd82erpg with config:\n",
      "\u001b[34m\u001b[1mwandb\u001b[0m: \tbatch_size: 59\n",
      "\u001b[34m\u001b[1mwandb\u001b[0m: \tepochs: 41\n",
      "\u001b[34m\u001b[1mwandb\u001b[0m: \tlearning_rate: 0.006203575112534187\n",
      "Failed to detect the name of this notebook, you can set it manually with the WANDB_NOTEBOOK_NAME environment variable to enable code saving.\n",
      "\u001b[34m\u001b[1mwandb\u001b[0m: \u001b[33mWARNING\u001b[0m Ignored wandb.init() arg project when running a sweep\n",
      "\u001b[34m\u001b[1mwandb\u001b[0m: \u001b[33mWARNING\u001b[0m Ignored wandb.init() arg entity when running a sweep\n",
      "/home/charlie/Documents/courses/miniproject/env/lib/python3.8/site-packages/IPython/html.py:12: ShimWarning: The `IPython.html` package has been deprecated since IPython 4.0. You should import from `notebook` instead. `IPython.html.widgets` has moved to `ipywidgets`.\n",
      "  warn(\"The `IPython.html` package has been deprecated since IPython 4.0. \"\n"
     ]
    },
    {
     "data": {
      "text/html": [
       "\n",
       "                Tracking run with wandb version 0.10.23<br/>\n",
       "                Syncing run <strong style=\"color:#cdcd00\">northern-sweep-39</strong> to <a href=\"https://wandb.ai\" target=\"_blank\">Weights & Biases</a> <a href=\"https://docs.wandb.com/integrations/jupyter.html\" target=\"_blank\">(Documentation)</a>.<br/>\n",
       "                Project page: <a href=\"https://wandb.ai/charlieisalright/sentiment\" target=\"_blank\">https://wandb.ai/charlieisalright/sentiment</a><br/>\n",
       "                Sweep page: <a href=\"https://wandb.ai/charlieisalright/sentiment/sweeps/fnf3wbru\" target=\"_blank\">https://wandb.ai/charlieisalright/sentiment/sweeps/fnf3wbru</a><br/>\n",
       "Run page: <a href=\"https://wandb.ai/charlieisalright/sentiment/runs/zd82erpg\" target=\"_blank\">https://wandb.ai/charlieisalright/sentiment/runs/zd82erpg</a><br/>\n",
       "                Run data is saved locally in <code>/home/charlie/Documents/courses/miniproject/notebooks/wandb/run-20210329_205817-zd82erpg</code><br/><br/>\n",
       "            "
      ],
      "text/plain": [
       "<IPython.core.display.HTML object>"
      ]
     },
     "metadata": {},
     "output_type": "display_data"
    },
    {
     "name": "stdout",
     "output_type": "stream",
     "text": [
      "Epoch 1/41\n",
      "39/70 [===============>..............] - ETA: 29s - loss: 2.2777 - accuracy: 0.1538WARNING:tensorflow:Your input ran out of data; interrupting training. Make sure that your dataset or generator can generate at least `steps_per_epoch * epochs` batches (in this case, 2870 batches). You may need to use the repeat() function when building your dataset.\n",
      "39/70 [===============>..............] - 43s 1s/step - loss: 2.2777 - accuracy: 0.1538 - val_loss: 2.0229 - val_accuracy: 0.1970\n"
     ]
    },
    {
     "data": {
      "text/html": [
       "<br/>Waiting for W&B process to finish, PID 3329<br/>Program ended successfully."
      ],
      "text/plain": [
       "<IPython.core.display.HTML object>"
      ]
     },
     "metadata": {},
     "output_type": "display_data"
    },
    {
     "data": {
      "text/html": [
       "Find user logs for this run at: <code>/home/charlie/Documents/courses/miniproject/notebooks/wandb/run-20210329_205817-zd82erpg/logs/debug.log</code>"
      ],
      "text/plain": [
       "<IPython.core.display.HTML object>"
      ]
     },
     "metadata": {},
     "output_type": "display_data"
    },
    {
     "data": {
      "text/html": [
       "Find internal logs for this run at: <code>/home/charlie/Documents/courses/miniproject/notebooks/wandb/run-20210329_205817-zd82erpg/logs/debug-internal.log</code>"
      ],
      "text/plain": [
       "<IPython.core.display.HTML object>"
      ]
     },
     "metadata": {},
     "output_type": "display_data"
    },
    {
     "data": {
      "text/html": [
       "<h3>Run summary:</h3><br/><style>\n",
       "    table.wandb td:nth-child(1) { padding: 0 10px; text-align: right }\n",
       "    </style><table class=\"wandb\">\n",
       "<tr><td>epoch</td><td>0</td></tr><tr><td>loss</td><td>2.27771</td></tr><tr><td>accuracy</td><td>0.15378</td></tr><tr><td>val_loss</td><td>2.02285</td></tr><tr><td>val_accuracy</td><td>0.19701</td></tr><tr><td>_runtime</td><td>58</td></tr><tr><td>_timestamp</td><td>1617047955</td></tr><tr><td>_step</td><td>0</td></tr><tr><td>best_val_loss</td><td>2.02285</td></tr><tr><td>best_epoch</td><td>0</td></tr></table>"
      ],
      "text/plain": [
       "<IPython.core.display.HTML object>"
      ]
     },
     "metadata": {},
     "output_type": "display_data"
    },
    {
     "data": {
      "text/html": [
       "<h3>Run history:</h3><br/><style>\n",
       "    table.wandb td:nth-child(1) { padding: 0 10px; text-align: right }\n",
       "    </style><table class=\"wandb\">\n",
       "<tr><td>epoch</td><td>▁</td></tr><tr><td>loss</td><td>▁</td></tr><tr><td>accuracy</td><td>▁</td></tr><tr><td>val_loss</td><td>▁</td></tr><tr><td>val_accuracy</td><td>▁</td></tr><tr><td>_runtime</td><td>▁</td></tr><tr><td>_timestamp</td><td>▁</td></tr><tr><td>_step</td><td>▁</td></tr></table><br/>"
      ],
      "text/plain": [
       "<IPython.core.display.HTML object>"
      ]
     },
     "metadata": {},
     "output_type": "display_data"
    },
    {
     "data": {
      "text/html": [
       "Synced 5 W&B file(s), 1 media file(s), 0 artifact file(s) and 1 other file(s)"
      ],
      "text/plain": [
       "<IPython.core.display.HTML object>"
      ]
     },
     "metadata": {},
     "output_type": "display_data"
    },
    {
     "data": {
      "text/html": [
       "\n",
       "                    <br/>Synced <strong style=\"color:#cdcd00\">northern-sweep-39</strong>: <a href=\"https://wandb.ai/charlieisalright/sentiment/runs/zd82erpg\" target=\"_blank\">https://wandb.ai/charlieisalright/sentiment/runs/zd82erpg</a><br/>\n",
       "                "
      ],
      "text/plain": [
       "<IPython.core.display.HTML object>"
      ]
     },
     "metadata": {},
     "output_type": "display_data"
    },
    {
     "name": "stderr",
     "output_type": "stream",
     "text": [
      "\u001b[34m\u001b[1mwandb\u001b[0m: Agent Starting Run: gqrp7e89 with config:\n",
      "\u001b[34m\u001b[1mwandb\u001b[0m: \tbatch_size: 12\n",
      "\u001b[34m\u001b[1mwandb\u001b[0m: \tepochs: 46\n",
      "\u001b[34m\u001b[1mwandb\u001b[0m: \tlearning_rate: 0.003954295645280029\n",
      "Failed to detect the name of this notebook, you can set it manually with the WANDB_NOTEBOOK_NAME environment variable to enable code saving.\n",
      "\u001b[34m\u001b[1mwandb\u001b[0m: \u001b[33mWARNING\u001b[0m Ignored wandb.init() arg project when running a sweep\n",
      "\u001b[34m\u001b[1mwandb\u001b[0m: \u001b[33mWARNING\u001b[0m Ignored wandb.init() arg entity when running a sweep\n"
     ]
    },
    {
     "data": {
      "text/html": [
       "\n",
       "                Tracking run with wandb version 0.10.23<br/>\n",
       "                Syncing run <strong style=\"color:#cdcd00\">radiant-sweep-40</strong> to <a href=\"https://wandb.ai\" target=\"_blank\">Weights & Biases</a> <a href=\"https://docs.wandb.com/integrations/jupyter.html\" target=\"_blank\">(Documentation)</a>.<br/>\n",
       "                Project page: <a href=\"https://wandb.ai/charlieisalright/sentiment\" target=\"_blank\">https://wandb.ai/charlieisalright/sentiment</a><br/>\n",
       "                Sweep page: <a href=\"https://wandb.ai/charlieisalright/sentiment/sweeps/fnf3wbru\" target=\"_blank\">https://wandb.ai/charlieisalright/sentiment/sweeps/fnf3wbru</a><br/>\n",
       "Run page: <a href=\"https://wandb.ai/charlieisalright/sentiment/runs/gqrp7e89\" target=\"_blank\">https://wandb.ai/charlieisalright/sentiment/runs/gqrp7e89</a><br/>\n",
       "                Run data is saved locally in <code>/home/charlie/Documents/courses/miniproject/notebooks/wandb/run-20210329_205947-gqrp7e89</code><br/><br/>\n",
       "            "
      ],
      "text/plain": [
       "<IPython.core.display.HTML object>"
      ]
     },
     "metadata": {},
     "output_type": "display_data"
    },
    {
     "name": "stdout",
     "output_type": "stream",
     "text": [
      "Epoch 1/46\n",
      "70/70 [==============================] - 13s 184ms/step - loss: 2.5367 - accuracy: 0.1357 - val_loss: 2.0582 - val_accuracy: 0.1223\n",
      "Epoch 2/46\n",
      "70/70 [==============================] - 12s 175ms/step - loss: 2.0780 - accuracy: 0.1512 - val_loss: 2.0541 - val_accuracy: 0.1413\n",
      "Epoch 3/46\n",
      "70/70 [==============================] - 12s 177ms/step - loss: 2.0670 - accuracy: 0.1488 - val_loss: 2.0480 - val_accuracy: 0.1889\n",
      "Epoch 4/46\n",
      "70/70 [==============================] - 12s 174ms/step - loss: 2.0666 - accuracy: 0.1452 - val_loss: 2.0366 - val_accuracy: 0.1834\n",
      "Epoch 5/46\n",
      "70/70 [==============================] - 12s 178ms/step - loss: 2.0533 - accuracy: 0.1439 - val_loss: 2.0664 - val_accuracy: 0.1318\n",
      "Epoch 6/46\n",
      "70/70 [==============================] - 12s 171ms/step - loss: 2.0655 - accuracy: 0.1310 - val_loss: 2.0621 - val_accuracy: 0.1399\n",
      "Epoch 7/46\n",
      "70/70 [==============================] - 12s 169ms/step - loss: 2.0608 - accuracy: 0.1190 - val_loss: 2.0595 - val_accuracy: 0.1467\n",
      "Epoch 8/46\n",
      "70/70 [==============================] - 12s 171ms/step - loss: 2.0696 - accuracy: 0.1286 - val_loss: 2.0609 - val_accuracy: 0.1413\n",
      "Epoch 9/46\n",
      "70/70 [==============================] - 12s 170ms/step - loss: 2.0633 - accuracy: 0.1369 - val_loss: 2.0585 - val_accuracy: 0.1372\n",
      "Epoch 10/46\n",
      "70/70 [==============================] - 12s 169ms/step - loss: 2.0547 - accuracy: 0.1405 - val_loss: 2.0580 - val_accuracy: 0.1454\n",
      "Epoch 11/46\n",
      "70/70 [==============================] - 12s 167ms/step - loss: 2.0569 - accuracy: 0.1595 - val_loss: 2.0597 - val_accuracy: 0.1413\n",
      "Epoch 12/46\n",
      "70/70 [==============================] - 12s 168ms/step - loss: 2.0653 - accuracy: 0.1463 - val_loss: 2.0580 - val_accuracy: 0.1427\n",
      "Epoch 13/46\n",
      "70/70 [==============================] - 12s 167ms/step - loss: 2.0604 - accuracy: 0.1417 - val_loss: 2.0587 - val_accuracy: 0.1440\n",
      "Epoch 14/46\n",
      "70/70 [==============================] - 12s 167ms/step - loss: 2.0601 - accuracy: 0.1321 - val_loss: 2.0581 - val_accuracy: 0.1413\n",
      "Epoch 15/46\n",
      "70/70 [==============================] - 12s 167ms/step - loss: 2.0600 - accuracy: 0.1631 - val_loss: 2.0579 - val_accuracy: 0.1440\n",
      "Epoch 16/46\n",
      "70/70 [==============================] - 12s 166ms/step - loss: 2.0665 - accuracy: 0.1535 - val_loss: 2.0590 - val_accuracy: 0.1427\n",
      "Epoch 17/46\n",
      "70/70 [==============================] - 12s 167ms/step - loss: 2.0644 - accuracy: 0.1524 - val_loss: 2.0583 - val_accuracy: 0.1440\n",
      "Epoch 18/46\n",
      "70/70 [==============================] - 12s 167ms/step - loss: 2.0612 - accuracy: 0.1393 - val_loss: 2.0559 - val_accuracy: 0.1481\n",
      "Epoch 19/46\n",
      "70/70 [==============================] - 12s 167ms/step - loss: 2.0552 - accuracy: 0.1595 - val_loss: 2.0493 - val_accuracy: 0.1726\n",
      "Epoch 20/46\n",
      "70/70 [==============================] - 12s 167ms/step - loss: 2.0337 - accuracy: 0.1476 - val_loss: 2.0463 - val_accuracy: 0.1467\n",
      "Epoch 21/46\n",
      "70/70 [==============================] - 12s 167ms/step - loss: 2.0335 - accuracy: 0.1512 - val_loss: 2.0562 - val_accuracy: 0.1522\n",
      "Epoch 22/46\n",
      "70/70 [==============================] - 12s 174ms/step - loss: 2.0334 - accuracy: 0.1440 - val_loss: 2.0152 - val_accuracy: 0.1848\n",
      "Epoch 23/46\n",
      "70/70 [==============================] - 12s 167ms/step - loss: 2.0453 - accuracy: 0.1583 - val_loss: 2.0192 - val_accuracy: 0.1454\n",
      "Epoch 24/46\n",
      "70/70 [==============================] - 12s 167ms/step - loss: 2.0456 - accuracy: 0.1429 - val_loss: 2.0571 - val_accuracy: 0.1440\n",
      "Epoch 25/46\n",
      "70/70 [==============================] - 12s 167ms/step - loss: 2.0386 - accuracy: 0.1619 - val_loss: 2.0483 - val_accuracy: 0.1522\n",
      "Epoch 26/46\n",
      "70/70 [==============================] - 12s 166ms/step - loss: 2.0602 - accuracy: 0.1307 - val_loss: 2.0554 - val_accuracy: 0.1440\n",
      "Epoch 27/46\n",
      "70/70 [==============================] - 12s 167ms/step - loss: 2.0345 - accuracy: 0.1499 - val_loss: 2.0419 - val_accuracy: 0.1603\n",
      "Epoch 28/46\n",
      "70/70 [==============================] - 12s 173ms/step - loss: 2.0351 - accuracy: 0.1405 - val_loss: 1.9909 - val_accuracy: 0.1658\n",
      "Epoch 29/46\n",
      "70/70 [==============================] - 12s 167ms/step - loss: 2.0510 - accuracy: 0.1679 - val_loss: 2.0290 - val_accuracy: 0.1726\n",
      "Epoch 30/46\n",
      "70/70 [==============================] - 12s 167ms/step - loss: 2.0282 - accuracy: 0.1595 - val_loss: 2.0050 - val_accuracy: 0.1427\n",
      "Epoch 31/46\n",
      "70/70 [==============================] - 12s 167ms/step - loss: 2.0425 - accuracy: 0.1571 - val_loss: 2.0375 - val_accuracy: 0.1671\n",
      "Epoch 32/46\n",
      "70/70 [==============================] - 12s 168ms/step - loss: 2.0465 - accuracy: 0.1500 - val_loss: 2.0541 - val_accuracy: 0.1372\n",
      "Epoch 33/46\n",
      "70/70 [==============================] - 12s 173ms/step - loss: 2.0432 - accuracy: 0.1415 - val_loss: 1.9853 - val_accuracy: 0.1739\n",
      "Epoch 34/46\n",
      "70/70 [==============================] - 12s 166ms/step - loss: 2.0476 - accuracy: 0.1415 - val_loss: 2.0421 - val_accuracy: 0.1467\n",
      "Epoch 35/46\n",
      "70/70 [==============================] - 12s 167ms/step - loss: 2.0289 - accuracy: 0.1464 - val_loss: 2.0010 - val_accuracy: 0.2011\n",
      "Epoch 36/46\n",
      "70/70 [==============================] - 12s 168ms/step - loss: 2.0153 - accuracy: 0.1643 - val_loss: 2.0145 - val_accuracy: 0.1793\n",
      "Epoch 37/46\n",
      "70/70 [==============================] - 12s 170ms/step - loss: 2.0387 - accuracy: 0.1560 - val_loss: 2.0278 - val_accuracy: 0.1454\n",
      "Epoch 38/46\n",
      "70/70 [==============================] - 12s 171ms/step - loss: 2.0290 - accuracy: 0.1475 - val_loss: 1.9901 - val_accuracy: 0.1916\n",
      "Epoch 39/46\n",
      "70/70 [==============================] - 12s 170ms/step - loss: 2.0137 - accuracy: 0.1833 - val_loss: 1.9966 - val_accuracy: 0.2174\n",
      "Epoch 40/46\n",
      "70/70 [==============================] - 12s 170ms/step - loss: 2.0479 - accuracy: 0.1523 - val_loss: 1.9935 - val_accuracy: 0.2188\n",
      "Epoch 41/46\n",
      "70/70 [==============================] - 12s 176ms/step - loss: 2.0266 - accuracy: 0.1536 - val_loss: 1.9704 - val_accuracy: 0.2418\n",
      "Epoch 42/46\n",
      "70/70 [==============================] - 12s 170ms/step - loss: 2.0272 - accuracy: 0.1786 - val_loss: 2.0069 - val_accuracy: 0.2065\n",
      "Epoch 43/46\n",
      "70/70 [==============================] - 12s 167ms/step - loss: 2.0178 - accuracy: 0.1739 - val_loss: 2.0332 - val_accuracy: 0.1821\n",
      "Epoch 44/46\n",
      "70/70 [==============================] - 12s 167ms/step - loss: 2.0268 - accuracy: 0.1714 - val_loss: 1.9834 - val_accuracy: 0.2201\n",
      "Epoch 45/46\n",
      "70/70 [==============================] - 12s 173ms/step - loss: 2.0184 - accuracy: 0.1738 - val_loss: 1.9572 - val_accuracy: 0.2378\n",
      "Epoch 46/46\n",
      "70/70 [==============================] - 12s 167ms/step - loss: 2.0229 - accuracy: 0.1667 - val_loss: 1.9578 - val_accuracy: 0.2364\n"
     ]
    },
    {
     "data": {
      "text/html": [
       "<br/>Waiting for W&B process to finish, PID 7846<br/>Program ended successfully."
      ],
      "text/plain": [
       "<IPython.core.display.HTML object>"
      ]
     },
     "metadata": {},
     "output_type": "display_data"
    },
    {
     "data": {
      "text/html": [
       "Find user logs for this run at: <code>/home/charlie/Documents/courses/miniproject/notebooks/wandb/run-20210329_205947-gqrp7e89/logs/debug.log</code>"
      ],
      "text/plain": [
       "<IPython.core.display.HTML object>"
      ]
     },
     "metadata": {},
     "output_type": "display_data"
    },
    {
     "data": {
      "text/html": [
       "Find internal logs for this run at: <code>/home/charlie/Documents/courses/miniproject/notebooks/wandb/run-20210329_205947-gqrp7e89/logs/debug-internal.log</code>"
      ],
      "text/plain": [
       "<IPython.core.display.HTML object>"
      ]
     },
     "metadata": {},
     "output_type": "display_data"
    },
    {
     "data": {
      "text/html": [
       "<h3>Run summary:</h3><br/><style>\n",
       "    table.wandb td:nth-child(1) { padding: 0 10px; text-align: right }\n",
       "    </style><table class=\"wandb\">\n",
       "<tr><td>epoch</td><td>45</td></tr><tr><td>loss</td><td>2.02287</td></tr><tr><td>accuracy</td><td>0.16667</td></tr><tr><td>val_loss</td><td>1.95777</td></tr><tr><td>val_accuracy</td><td>0.23641</td></tr><tr><td>_runtime</td><td>562</td></tr><tr><td>_timestamp</td><td>1617048549</td></tr><tr><td>_step</td><td>45</td></tr><tr><td>best_val_loss</td><td>1.95721</td></tr><tr><td>best_epoch</td><td>44</td></tr></table>"
      ],
      "text/plain": [
       "<IPython.core.display.HTML object>"
      ]
     },
     "metadata": {},
     "output_type": "display_data"
    },
    {
     "data": {
      "text/html": [
       "<h3>Run history:</h3><br/><style>\n",
       "    table.wandb td:nth-child(1) { padding: 0 10px; text-align: right }\n",
       "    </style><table class=\"wandb\">\n",
       "<tr><td>epoch</td><td>▁▁▁▁▂▂▂▂▂▃▃▃▃▃▄▄▄▄▄▄▅▅▅▅▅▅▆▆▆▆▆▇▇▇▇▇████</td></tr><tr><td>loss</td><td>█▂▂▂▂▂▂▂▂▂▂▂▂▂▂▂▂▁▁▁▁▁▂▁▁▁▁▁▁▁▁▁▁▁▁▁▁▁▁▁</td></tr><tr><td>accuracy</td><td>▃▄▄▄▄▂▁▃▃▅▄▃▂▆▅▃▅▄▄▄▄▆▂▄▃▆▅▄▃▃▄▆▅█▅▅▇▇▇▇</td></tr><tr><td>val_loss</td><td>▇▇▇▆███▇▇█▇█▇▇▇▇▇▇▇▅▇▇▇▆▃▆▄▇▃▆▄▅▆▄▃▂▄▆▃▁</td></tr><tr><td>val_accuracy</td><td>▁▂▅▅▂▂▂▂▂▂▂▂▂▂▂▃▄▂▃▅▂▃▂▃▄▄▂▂▄▂▆▄▂▇▇█▆▅▇█</td></tr><tr><td>_runtime</td><td>▁▁▁▁▂▂▂▂▂▃▃▃▃▃▄▄▄▄▄▄▅▅▅▅▅▅▆▆▆▆▆▇▇▇▇▇████</td></tr><tr><td>_timestamp</td><td>▁▁▁▁▂▂▂▂▂▃▃▃▃▃▄▄▄▄▄▄▅▅▅▅▅▅▆▆▆▆▆▇▇▇▇▇████</td></tr><tr><td>_step</td><td>▁▁▁▁▂▂▂▂▂▃▃▃▃▃▄▄▄▄▄▄▅▅▅▅▅▅▆▆▆▆▆▇▇▇▇▇████</td></tr></table><br/>"
      ],
      "text/plain": [
       "<IPython.core.display.HTML object>"
      ]
     },
     "metadata": {},
     "output_type": "display_data"
    },
    {
     "data": {
      "text/html": [
       "Synced 5 W&B file(s), 1 media file(s), 0 artifact file(s) and 1 other file(s)"
      ],
      "text/plain": [
       "<IPython.core.display.HTML object>"
      ]
     },
     "metadata": {},
     "output_type": "display_data"
    },
    {
     "data": {
      "text/html": [
       "\n",
       "                    <br/>Synced <strong style=\"color:#cdcd00\">radiant-sweep-40</strong>: <a href=\"https://wandb.ai/charlieisalright/sentiment/runs/gqrp7e89\" target=\"_blank\">https://wandb.ai/charlieisalright/sentiment/runs/gqrp7e89</a><br/>\n",
       "                "
      ],
      "text/plain": [
       "<IPython.core.display.HTML object>"
      ]
     },
     "metadata": {},
     "output_type": "display_data"
    },
    {
     "name": "stderr",
     "output_type": "stream",
     "text": [
      "\u001b[34m\u001b[1mwandb\u001b[0m: Agent Starting Run: gsnjs4ax with config:\n",
      "\u001b[34m\u001b[1mwandb\u001b[0m: \tbatch_size: 23\n",
      "\u001b[34m\u001b[1mwandb\u001b[0m: \tepochs: 39\n",
      "\u001b[34m\u001b[1mwandb\u001b[0m: \tlearning_rate: 0.009359214510297236\n",
      "Failed to detect the name of this notebook, you can set it manually with the WANDB_NOTEBOOK_NAME environment variable to enable code saving.\n",
      "\u001b[34m\u001b[1mwandb\u001b[0m: \u001b[33mWARNING\u001b[0m Ignored wandb.init() arg project when running a sweep\n",
      "\u001b[34m\u001b[1mwandb\u001b[0m: \u001b[33mWARNING\u001b[0m Ignored wandb.init() arg entity when running a sweep\n"
     ]
    },
    {
     "data": {
      "text/html": [
       "\n",
       "                Tracking run with wandb version 0.10.23<br/>\n",
       "                Syncing run <strong style=\"color:#cdcd00\">dazzling-sweep-41</strong> to <a href=\"https://wandb.ai\" target=\"_blank\">Weights & Biases</a> <a href=\"https://docs.wandb.com/integrations/jupyter.html\" target=\"_blank\">(Documentation)</a>.<br/>\n",
       "                Project page: <a href=\"https://wandb.ai/charlieisalright/sentiment\" target=\"_blank\">https://wandb.ai/charlieisalright/sentiment</a><br/>\n",
       "                Sweep page: <a href=\"https://wandb.ai/charlieisalright/sentiment/sweeps/fnf3wbru\" target=\"_blank\">https://wandb.ai/charlieisalright/sentiment/sweeps/fnf3wbru</a><br/>\n",
       "Run page: <a href=\"https://wandb.ai/charlieisalright/sentiment/runs/gsnjs4ax\" target=\"_blank\">https://wandb.ai/charlieisalright/sentiment/runs/gsnjs4ax</a><br/>\n",
       "                Run data is saved locally in <code>/home/charlie/Documents/courses/miniproject/notebooks/wandb/run-20210329_210928-gsnjs4ax</code><br/><br/>\n",
       "            "
      ],
      "text/plain": [
       "<IPython.core.display.HTML object>"
      ]
     },
     "metadata": {},
     "output_type": "display_data"
    },
    {
     "name": "stdout",
     "output_type": "stream",
     "text": [
      "Epoch 1/39\n",
      "70/70 [==============================] - 32s 460ms/step - loss: 2.3611 - accuracy: 0.1528 - val_loss: 2.0738 - val_accuracy: 0.1386\n",
      "Epoch 2/39\n",
      "70/70 [==============================] - 30s 433ms/step - loss: 2.0543 - accuracy: 0.1538 - val_loss: 2.0375 - val_accuracy: 0.1427\n",
      "Epoch 3/39\n",
      "70/70 [==============================] - 30s 429ms/step - loss: 2.0511 - accuracy: 0.1528 - val_loss: 2.0495 - val_accuracy: 0.1630\n",
      "Epoch 4/39\n",
      "70/70 [==============================] - 30s 431ms/step - loss: 2.0552 - accuracy: 0.1366 - val_loss: 2.0556 - val_accuracy: 0.1644\n",
      "Epoch 5/39\n",
      "70/70 [==============================] - 30s 430ms/step - loss: 2.0589 - accuracy: 0.1478 - val_loss: 2.0576 - val_accuracy: 0.1454\n",
      "Epoch 6/39\n",
      "70/70 [==============================] - 30s 429ms/step - loss: 2.0558 - accuracy: 0.1466 - val_loss: 2.0546 - val_accuracy: 0.1495\n",
      "Epoch 7/39\n",
      "70/70 [==============================] - 30s 429ms/step - loss: 2.0573 - accuracy: 0.1320 - val_loss: 2.0585 - val_accuracy: 0.1440\n",
      "Epoch 8/39\n",
      "70/70 [==============================] - 30s 428ms/step - loss: 2.0639 - accuracy: 0.1438 - val_loss: 2.0581 - val_accuracy: 0.1399\n",
      "Epoch 9/39\n",
      "70/70 [==============================] - 30s 428ms/step - loss: 2.0555 - accuracy: 0.1476 - val_loss: 2.0576 - val_accuracy: 0.1413\n",
      "Epoch 10/39\n",
      "70/70 [==============================] - 30s 428ms/step - loss: 2.0579 - accuracy: 0.1357 - val_loss: 2.0572 - val_accuracy: 0.1359\n",
      "Epoch 11/39\n",
      "70/70 [==============================] - 30s 432ms/step - loss: 2.0579 - accuracy: 0.1385 - val_loss: 2.0593 - val_accuracy: 0.1386\n",
      "Epoch 12/39\n",
      "70/70 [==============================] - 30s 432ms/step - loss: 2.0596 - accuracy: 0.1497 - val_loss: 2.0577 - val_accuracy: 0.1427\n",
      "Epoch 13/39\n",
      "70/70 [==============================] - 30s 427ms/step - loss: 2.0572 - accuracy: 0.1420 - val_loss: 2.0598 - val_accuracy: 0.1427\n",
      "Epoch 14/39\n",
      "70/70 [==============================] - 30s 428ms/step - loss: 2.0659 - accuracy: 0.1314 - val_loss: 2.0586 - val_accuracy: 0.1454\n",
      "Epoch 15/39\n",
      "70/70 [==============================] - 30s 429ms/step - loss: 2.0603 - accuracy: 0.1457 - val_loss: 2.0586 - val_accuracy: 0.1467\n",
      "Epoch 16/39\n",
      "70/70 [==============================] - 30s 429ms/step - loss: 2.0597 - accuracy: 0.1273 - val_loss: 2.0541 - val_accuracy: 0.1440\n",
      "Epoch 17/39\n",
      "70/70 [==============================] - 30s 428ms/step - loss: 2.0545 - accuracy: 0.1295 - val_loss: 2.0589 - val_accuracy: 0.1454\n",
      "Epoch 18/39\n",
      "70/70 [==============================] - 30s 428ms/step - loss: 2.0589 - accuracy: 0.1376 - val_loss: 2.0588 - val_accuracy: 0.1440\n",
      "Epoch 19/39\n",
      "70/70 [==============================] - 30s 429ms/step - loss: 2.0628 - accuracy: 0.1422 - val_loss: 2.0554 - val_accuracy: 0.1467\n",
      "Epoch 20/39\n",
      "70/70 [==============================] - 30s 428ms/step - loss: 2.0610 - accuracy: 0.1389 - val_loss: 2.0548 - val_accuracy: 0.1427\n",
      "Epoch 21/39\n",
      "70/70 [==============================] - 30s 429ms/step - loss: 2.0445 - accuracy: 0.1357 - val_loss: 2.0596 - val_accuracy: 0.1291\n",
      "Epoch 22/39\n",
      "70/70 [==============================] - 30s 428ms/step - loss: 2.0604 - accuracy: 0.1283 - val_loss: 2.0595 - val_accuracy: 0.1413\n",
      "Epoch 23/39\n",
      "70/70 [==============================] - 30s 429ms/step - loss: 2.0542 - accuracy: 0.1484 - val_loss: 2.0580 - val_accuracy: 0.1440\n",
      "Epoch 24/39\n",
      "70/70 [==============================] - 30s 428ms/step - loss: 2.0568 - accuracy: 0.1389 - val_loss: 2.0585 - val_accuracy: 0.1427\n",
      "Epoch 25/39\n",
      "70/70 [==============================] - 30s 428ms/step - loss: 2.0603 - accuracy: 0.1333 - val_loss: 2.0594 - val_accuracy: 0.1413\n",
      "Epoch 26/39\n",
      "70/70 [==============================] - 30s 429ms/step - loss: 2.0559 - accuracy: 0.1478 - val_loss: 2.0585 - val_accuracy: 0.1454\n",
      "Epoch 27/39\n",
      "70/70 [==============================] - 30s 429ms/step - loss: 2.0640 - accuracy: 0.1429 - val_loss: 2.0587 - val_accuracy: 0.1413\n",
      "Epoch 28/39\n",
      "70/70 [==============================] - 30s 429ms/step - loss: 2.0609 - accuracy: 0.1447 - val_loss: 2.0591 - val_accuracy: 0.1440\n",
      "Epoch 29/39\n",
      "70/70 [==============================] - 30s 428ms/step - loss: 2.0632 - accuracy: 0.1252 - val_loss: 2.0581 - val_accuracy: 0.1454\n",
      "Epoch 30/39\n",
      "70/70 [==============================] - 30s 428ms/step - loss: 2.0613 - accuracy: 0.1314 - val_loss: 2.0586 - val_accuracy: 0.1454\n",
      "Epoch 31/39\n",
      "70/70 [==============================] - 30s 428ms/step - loss: 2.0583 - accuracy: 0.1345 - val_loss: 2.0597 - val_accuracy: 0.1413\n",
      "Epoch 32/39\n",
      "70/70 [==============================] - 30s 429ms/step - loss: 2.0608 - accuracy: 0.1429 - val_loss: 2.0591 - val_accuracy: 0.1440\n",
      "Epoch 33/39\n",
      "70/70 [==============================] - 30s 429ms/step - loss: 2.0597 - accuracy: 0.1276 - val_loss: 2.0592 - val_accuracy: 0.1427\n",
      "Epoch 34/39\n",
      "70/70 [==============================] - 30s 429ms/step - loss: 2.0574 - accuracy: 0.1398 - val_loss: 2.0563 - val_accuracy: 0.1413\n",
      "Epoch 35/39\n",
      "70/70 [==============================] - 30s 428ms/step - loss: 2.0561 - accuracy: 0.1370 - val_loss: 2.0592 - val_accuracy: 0.1427\n",
      "Epoch 36/39\n",
      "70/70 [==============================] - 30s 429ms/step - loss: 2.0644 - accuracy: 0.1364 - val_loss: 2.0584 - val_accuracy: 0.1386\n",
      "Epoch 37/39\n",
      "70/70 [==============================] - 30s 430ms/step - loss: 2.0614 - accuracy: 0.1258 - val_loss: 2.0578 - val_accuracy: 0.1440\n",
      "Epoch 38/39\n",
      "70/70 [==============================] - 30s 427ms/step - loss: 2.0601 - accuracy: 0.1507 - val_loss: 2.0581 - val_accuracy: 0.1440\n",
      "Epoch 39/39\n",
      "70/70 [==============================] - 30s 428ms/step - loss: 2.0582 - accuracy: 0.1348 - val_loss: 2.0575 - val_accuracy: 0.1413\n"
     ]
    },
    {
     "data": {
      "text/html": [
       "<br/>Waiting for W&B process to finish, PID 35143<br/>Program ended successfully."
      ],
      "text/plain": [
       "<IPython.core.display.HTML object>"
      ]
     },
     "metadata": {},
     "output_type": "display_data"
    },
    {
     "data": {
      "text/html": [
       "Find user logs for this run at: <code>/home/charlie/Documents/courses/miniproject/notebooks/wandb/run-20210329_210928-gsnjs4ax/logs/debug.log</code>"
      ],
      "text/plain": [
       "<IPython.core.display.HTML object>"
      ]
     },
     "metadata": {},
     "output_type": "display_data"
    },
    {
     "data": {
      "text/html": [
       "Find internal logs for this run at: <code>/home/charlie/Documents/courses/miniproject/notebooks/wandb/run-20210329_210928-gsnjs4ax/logs/debug-internal.log</code>"
      ],
      "text/plain": [
       "<IPython.core.display.HTML object>"
      ]
     },
     "metadata": {},
     "output_type": "display_data"
    },
    {
     "data": {
      "text/html": [
       "<h3>Run summary:</h3><br/><style>\n",
       "    table.wandb td:nth-child(1) { padding: 0 10px; text-align: right }\n",
       "    </style><table class=\"wandb\">\n",
       "<tr><td>epoch</td><td>38</td></tr><tr><td>loss</td><td>2.05816</td></tr><tr><td>accuracy</td><td>0.13478</td></tr><tr><td>val_loss</td><td>2.05754</td></tr><tr><td>val_accuracy</td><td>0.1413</td></tr><tr><td>_runtime</td><td>1211</td></tr><tr><td>_timestamp</td><td>1617049779</td></tr><tr><td>_step</td><td>38</td></tr><tr><td>best_val_loss</td><td>2.03752</td></tr><tr><td>best_epoch</td><td>1</td></tr></table>"
      ],
      "text/plain": [
       "<IPython.core.display.HTML object>"
      ]
     },
     "metadata": {},
     "output_type": "display_data"
    },
    {
     "data": {
      "text/html": [
       "<h3>Run history:</h3><br/><style>\n",
       "    table.wandb td:nth-child(1) { padding: 0 10px; text-align: right }\n",
       "    </style><table class=\"wandb\">\n",
       "<tr><td>epoch</td><td>▁▁▁▂▂▂▂▂▂▃▃▃▃▃▄▄▄▄▄▅▅▅▅▅▅▆▆▆▆▆▇▇▇▇▇▇███</td></tr><tr><td>loss</td><td>█▁▁▁▁▁▁▁▁▁▁▁▁▁▁▁▁▁▁▁▁▁▁▁▁▁▁▁▁▁▁▁▁▁▁▁▁▁▁</td></tr><tr><td>accuracy</td><td>███▄▇▆▃▆▆▄▄▇▅▃▆▂▂▄▅▄▄▂▇▄▃▇▅▆▁▃▃▅▂▅▄▄▁▇▃</td></tr><tr><td>val_loss</td><td>█▁▃▄▅▄▅▅▅▅▅▅▅▅▅▄▅▅▄▄▅▅▅▅▅▅▅▅▅▅▅▅▅▅▅▅▅▅▅</td></tr><tr><td>val_accuracy</td><td>▃▄██▄▅▄▃▃▂▃▄▄▄▄▄▄▄▄▄▁▃▄▄▃▄▃▄▄▄▃▄▄▃▄▃▄▄▃</td></tr><tr><td>_runtime</td><td>▁▁▁▂▂▂▂▂▂▃▃▃▃▃▄▄▄▄▄▅▅▅▅▅▅▆▆▆▆▆▇▇▇▇▇▇███</td></tr><tr><td>_timestamp</td><td>▁▁▁▂▂▂▂▂▂▃▃▃▃▃▄▄▄▄▄▅▅▅▅▅▅▆▆▆▆▆▇▇▇▇▇▇███</td></tr><tr><td>_step</td><td>▁▁▁▂▂▂▂▂▂▃▃▃▃▃▄▄▄▄▄▅▅▅▅▅▅▆▆▆▆▆▇▇▇▇▇▇███</td></tr></table><br/>"
      ],
      "text/plain": [
       "<IPython.core.display.HTML object>"
      ]
     },
     "metadata": {},
     "output_type": "display_data"
    },
    {
     "data": {
      "text/html": [
       "Synced 5 W&B file(s), 1 media file(s), 0 artifact file(s) and 1 other file(s)"
      ],
      "text/plain": [
       "<IPython.core.display.HTML object>"
      ]
     },
     "metadata": {},
     "output_type": "display_data"
    },
    {
     "data": {
      "text/html": [
       "\n",
       "                    <br/>Synced <strong style=\"color:#cdcd00\">dazzling-sweep-41</strong>: <a href=\"https://wandb.ai/charlieisalright/sentiment/runs/gsnjs4ax\" target=\"_blank\">https://wandb.ai/charlieisalright/sentiment/runs/gsnjs4ax</a><br/>\n",
       "                "
      ],
      "text/plain": [
       "<IPython.core.display.HTML object>"
      ]
     },
     "metadata": {},
     "output_type": "display_data"
    },
    {
     "name": "stderr",
     "output_type": "stream",
     "text": [
      "\u001b[34m\u001b[1mwandb\u001b[0m: Agent Starting Run: m9vcnkel with config:\n",
      "\u001b[34m\u001b[1mwandb\u001b[0m: \tbatch_size: 39\n",
      "\u001b[34m\u001b[1mwandb\u001b[0m: \tepochs: 44\n",
      "\u001b[34m\u001b[1mwandb\u001b[0m: \tlearning_rate: 0.009228595374888453\n",
      "Failed to detect the name of this notebook, you can set it manually with the WANDB_NOTEBOOK_NAME environment variable to enable code saving.\n",
      "\u001b[34m\u001b[1mwandb\u001b[0m: \u001b[33mWARNING\u001b[0m Ignored wandb.init() arg project when running a sweep\n",
      "\u001b[34m\u001b[1mwandb\u001b[0m: \u001b[33mWARNING\u001b[0m Ignored wandb.init() arg entity when running a sweep\n"
     ]
    },
    {
     "data": {
      "text/html": [
       "\n",
       "                Tracking run with wandb version 0.10.23<br/>\n",
       "                Syncing run <strong style=\"color:#cdcd00\">upbeat-sweep-42</strong> to <a href=\"https://wandb.ai\" target=\"_blank\">Weights & Biases</a> <a href=\"https://docs.wandb.com/integrations/jupyter.html\" target=\"_blank\">(Documentation)</a>.<br/>\n",
       "                Project page: <a href=\"https://wandb.ai/charlieisalright/sentiment\" target=\"_blank\">https://wandb.ai/charlieisalright/sentiment</a><br/>\n",
       "                Sweep page: <a href=\"https://wandb.ai/charlieisalright/sentiment/sweeps/fnf3wbru\" target=\"_blank\">https://wandb.ai/charlieisalright/sentiment/sweeps/fnf3wbru</a><br/>\n",
       "Run page: <a href=\"https://wandb.ai/charlieisalright/sentiment/runs/m9vcnkel\" target=\"_blank\">https://wandb.ai/charlieisalright/sentiment/runs/m9vcnkel</a><br/>\n",
       "                Run data is saved locally in <code>/home/charlie/Documents/courses/miniproject/notebooks/wandb/run-20210329_213012-m9vcnkel</code><br/><br/>\n",
       "            "
      ],
      "text/plain": [
       "<IPython.core.display.HTML object>"
      ]
     },
     "metadata": {},
     "output_type": "display_data"
    },
    {
     "name": "stdout",
     "output_type": "stream",
     "text": [
      "Epoch 1/44\n",
      "58/70 [=======================>......] - ETA: 7s - loss: 2.2700 - accuracy: 0.1520WARNING:tensorflow:Your input ran out of data; interrupting training. Make sure that your dataset or generator can generate at least `steps_per_epoch * epochs` batches (in this case, 3080 batches). You may need to use the repeat() function when building your dataset.\n",
      "58/70 [=======================>......] - 40s 692ms/step - loss: 2.2700 - accuracy: 0.1520 - val_loss: 2.0187 - val_accuracy: 0.2024\n"
     ]
    },
    {
     "data": {
      "text/html": [
       "<br/>Waiting for W&B process to finish, PID 92919<br/>Program ended successfully."
      ],
      "text/plain": [
       "<IPython.core.display.HTML object>"
      ]
     },
     "metadata": {},
     "output_type": "display_data"
    },
    {
     "data": {
      "text/html": [
       "Find user logs for this run at: <code>/home/charlie/Documents/courses/miniproject/notebooks/wandb/run-20210329_213012-m9vcnkel/logs/debug.log</code>"
      ],
      "text/plain": [
       "<IPython.core.display.HTML object>"
      ]
     },
     "metadata": {},
     "output_type": "display_data"
    },
    {
     "data": {
      "text/html": [
       "Find internal logs for this run at: <code>/home/charlie/Documents/courses/miniproject/notebooks/wandb/run-20210329_213012-m9vcnkel/logs/debug-internal.log</code>"
      ],
      "text/plain": [
       "<IPython.core.display.HTML object>"
      ]
     },
     "metadata": {},
     "output_type": "display_data"
    },
    {
     "data": {
      "text/html": [
       "<h3>Run summary:</h3><br/><style>\n",
       "    table.wandb td:nth-child(1) { padding: 0 10px; text-align: right }\n",
       "    </style><table class=\"wandb\">\n",
       "<tr><td>epoch</td><td>0</td></tr><tr><td>loss</td><td>2.27003</td></tr><tr><td>accuracy</td><td>0.152</td></tr><tr><td>val_loss</td><td>2.01865</td></tr><tr><td>val_accuracy</td><td>0.20245</td></tr><tr><td>_runtime</td><td>57</td></tr><tr><td>_timestamp</td><td>1617049869</td></tr><tr><td>_step</td><td>0</td></tr><tr><td>best_val_loss</td><td>2.01865</td></tr><tr><td>best_epoch</td><td>0</td></tr></table>"
      ],
      "text/plain": [
       "<IPython.core.display.HTML object>"
      ]
     },
     "metadata": {},
     "output_type": "display_data"
    },
    {
     "data": {
      "text/html": [
       "<h3>Run history:</h3><br/><style>\n",
       "    table.wandb td:nth-child(1) { padding: 0 10px; text-align: right }\n",
       "    </style><table class=\"wandb\">\n",
       "<tr><td>epoch</td><td>▁</td></tr><tr><td>loss</td><td>▁</td></tr><tr><td>accuracy</td><td>▁</td></tr><tr><td>val_loss</td><td>▁</td></tr><tr><td>val_accuracy</td><td>▁</td></tr><tr><td>_runtime</td><td>▁</td></tr><tr><td>_timestamp</td><td>▁</td></tr><tr><td>_step</td><td>▁</td></tr></table><br/>"
      ],
      "text/plain": [
       "<IPython.core.display.HTML object>"
      ]
     },
     "metadata": {},
     "output_type": "display_data"
    },
    {
     "data": {
      "text/html": [
       "Synced 5 W&B file(s), 1 media file(s), 0 artifact file(s) and 1 other file(s)"
      ],
      "text/plain": [
       "<IPython.core.display.HTML object>"
      ]
     },
     "metadata": {},
     "output_type": "display_data"
    },
    {
     "data": {
      "text/html": [
       "\n",
       "                    <br/>Synced <strong style=\"color:#cdcd00\">upbeat-sweep-42</strong>: <a href=\"https://wandb.ai/charlieisalright/sentiment/runs/m9vcnkel\" target=\"_blank\">https://wandb.ai/charlieisalright/sentiment/runs/m9vcnkel</a><br/>\n",
       "                "
      ],
      "text/plain": [
       "<IPython.core.display.HTML object>"
      ]
     },
     "metadata": {},
     "output_type": "display_data"
    },
    {
     "name": "stderr",
     "output_type": "stream",
     "text": [
      "\u001b[34m\u001b[1mwandb\u001b[0m: Agent Starting Run: cjnz6lz8 with config:\n",
      "\u001b[34m\u001b[1mwandb\u001b[0m: \tbatch_size: 32\n",
      "\u001b[34m\u001b[1mwandb\u001b[0m: \tepochs: 49\n",
      "\u001b[34m\u001b[1mwandb\u001b[0m: \tlearning_rate: 0.0006802890958088098\n",
      "Failed to detect the name of this notebook, you can set it manually with the WANDB_NOTEBOOK_NAME environment variable to enable code saving.\n",
      "\u001b[34m\u001b[1mwandb\u001b[0m: \u001b[33mWARNING\u001b[0m Ignored wandb.init() arg project when running a sweep\n",
      "\u001b[34m\u001b[1mwandb\u001b[0m: \u001b[33mWARNING\u001b[0m Ignored wandb.init() arg entity when running a sweep\n"
     ]
    },
    {
     "data": {
      "text/html": [
       "\n",
       "                Tracking run with wandb version 0.10.23<br/>\n",
       "                Syncing run <strong style=\"color:#cdcd00\">toasty-sweep-43</strong> to <a href=\"https://wandb.ai\" target=\"_blank\">Weights & Biases</a> <a href=\"https://docs.wandb.com/integrations/jupyter.html\" target=\"_blank\">(Documentation)</a>.<br/>\n",
       "                Project page: <a href=\"https://wandb.ai/charlieisalright/sentiment\" target=\"_blank\">https://wandb.ai/charlieisalright/sentiment</a><br/>\n",
       "                Sweep page: <a href=\"https://wandb.ai/charlieisalright/sentiment/sweeps/fnf3wbru\" target=\"_blank\">https://wandb.ai/charlieisalright/sentiment/sweeps/fnf3wbru</a><br/>\n",
       "Run page: <a href=\"https://wandb.ai/charlieisalright/sentiment/runs/cjnz6lz8\" target=\"_blank\">https://wandb.ai/charlieisalright/sentiment/runs/cjnz6lz8</a><br/>\n",
       "                Run data is saved locally in <code>/home/charlie/Documents/courses/miniproject/notebooks/wandb/run-20210329_213139-cjnz6lz8</code><br/><br/>\n",
       "            "
      ],
      "text/plain": [
       "<IPython.core.display.HTML object>"
      ]
     },
     "metadata": {},
     "output_type": "display_data"
    },
    {
     "name": "stdout",
     "output_type": "stream",
     "text": [
      "Epoch 1/49\n",
      "70/70 [==============================] - 22s 319ms/step - loss: 2.3457 - accuracy: 0.1497 - val_loss: 2.0430 - val_accuracy: 0.2092\n",
      "Epoch 2/49\n",
      "70/70 [==============================] - 21s 307ms/step - loss: 2.0412 - accuracy: 0.1961 - val_loss: 1.9870 - val_accuracy: 0.1970\n",
      "Epoch 3/49\n",
      "70/70 [==============================] - 22s 311ms/step - loss: 2.0064 - accuracy: 0.2038 - val_loss: 1.9688 - val_accuracy: 0.2038\n",
      "Epoch 4/49\n",
      "70/70 [==============================] - 21s 305ms/step - loss: 1.9706 - accuracy: 0.2381 - val_loss: 1.9362 - val_accuracy: 0.2609\n",
      "Epoch 5/49\n",
      "70/70 [==============================] - 22s 307ms/step - loss: 1.9414 - accuracy: 0.2362 - val_loss: 1.9208 - val_accuracy: 0.2717\n",
      "Epoch 6/49\n",
      "70/70 [==============================] - 21s 305ms/step - loss: 1.9303 - accuracy: 0.2417 - val_loss: 1.9068 - val_accuracy: 0.2799\n",
      "Epoch 7/49\n",
      "70/70 [==============================] - 22s 308ms/step - loss: 1.9143 - accuracy: 0.2633 - val_loss: 1.8783 - val_accuracy: 0.2989\n",
      "Epoch 8/49\n",
      "70/70 [==============================] - 21s 299ms/step - loss: 1.9257 - accuracy: 0.2480 - val_loss: 1.8936 - val_accuracy: 0.2745\n",
      "Epoch 9/49\n",
      "70/70 [==============================] - 21s 304ms/step - loss: 1.8998 - accuracy: 0.2710 - val_loss: 1.8537 - val_accuracy: 0.3071\n",
      "Epoch 10/49\n",
      "70/70 [==============================] - 21s 307ms/step - loss: 1.8686 - accuracy: 0.2876 - val_loss: 1.8357 - val_accuracy: 0.3247\n",
      "Epoch 11/49\n",
      "70/70 [==============================] - 21s 303ms/step - loss: 1.8696 - accuracy: 0.2759 - val_loss: 1.8251 - val_accuracy: 0.3084\n",
      "Epoch 12/49\n",
      "70/70 [==============================] - 21s 307ms/step - loss: 1.8699 - accuracy: 0.2777 - val_loss: 1.8228 - val_accuracy: 0.2989\n",
      "Epoch 13/49\n",
      "70/70 [==============================] - 21s 307ms/step - loss: 1.8409 - accuracy: 0.2935 - val_loss: 1.8128 - val_accuracy: 0.2976\n",
      "Epoch 14/49\n",
      "70/70 [==============================] - 21s 306ms/step - loss: 1.8245 - accuracy: 0.2980 - val_loss: 1.8120 - val_accuracy: 0.2948\n",
      "Epoch 15/49\n",
      "70/70 [==============================] - 21s 305ms/step - loss: 1.8136 - accuracy: 0.3079 - val_loss: 1.7945 - val_accuracy: 0.3125\n",
      "Epoch 16/49\n",
      "70/70 [==============================] - 22s 308ms/step - loss: 1.8014 - accuracy: 0.3070 - val_loss: 1.7876 - val_accuracy: 0.3166\n",
      "Epoch 17/49\n",
      "70/70 [==============================] - 21s 307ms/step - loss: 1.8141 - accuracy: 0.3075 - val_loss: 1.7745 - val_accuracy: 0.3519\n",
      "Epoch 18/49\n",
      "70/70 [==============================] - 22s 310ms/step - loss: 1.7909 - accuracy: 0.3269 - val_loss: 1.7712 - val_accuracy: 0.3505\n",
      "Epoch 19/49\n",
      "70/70 [==============================] - 21s 307ms/step - loss: 1.7729 - accuracy: 0.3449 - val_loss: 1.7279 - val_accuracy: 0.3519\n",
      "Epoch 20/49\n",
      "70/70 [==============================] - 21s 298ms/step - loss: 1.7912 - accuracy: 0.3206 - val_loss: 1.7510 - val_accuracy: 0.3356\n",
      "Epoch 21/49\n",
      "70/70 [==============================] - 21s 301ms/step - loss: 1.7736 - accuracy: 0.3170 - val_loss: 1.7346 - val_accuracy: 0.3465\n",
      "Epoch 22/49\n",
      "70/70 [==============================] - 21s 307ms/step - loss: 1.7628 - accuracy: 0.3354 - val_loss: 1.7150 - val_accuracy: 0.3641\n",
      "Epoch 23/49\n",
      "70/70 [==============================] - 21s 299ms/step - loss: 1.7615 - accuracy: 0.3404 - val_loss: 1.7245 - val_accuracy: 0.3709\n",
      "Epoch 24/49\n",
      "70/70 [==============================] - 22s 308ms/step - loss: 1.7529 - accuracy: 0.3318 - val_loss: 1.7098 - val_accuracy: 0.3736\n",
      "Epoch 25/49\n",
      "70/70 [==============================] - 21s 305ms/step - loss: 1.7373 - accuracy: 0.3408 - val_loss: 1.6954 - val_accuracy: 0.3777\n",
      "Epoch 26/49\n",
      "70/70 [==============================] - 21s 299ms/step - loss: 1.7628 - accuracy: 0.3422 - val_loss: 1.7228 - val_accuracy: 0.3424\n",
      "Epoch 27/49\n",
      "70/70 [==============================] - 21s 300ms/step - loss: 1.7267 - accuracy: 0.3431 - val_loss: 1.7265 - val_accuracy: 0.3261\n",
      "Epoch 28/49\n",
      "70/70 [==============================] - 22s 309ms/step - loss: 1.7110 - accuracy: 0.3440 - val_loss: 1.6950 - val_accuracy: 0.3682\n",
      "Epoch 29/49\n",
      "70/70 [==============================] - 21s 307ms/step - loss: 1.7122 - accuracy: 0.3557 - val_loss: 1.6700 - val_accuracy: 0.3791\n",
      "Epoch 30/49\n",
      "70/70 [==============================] - 21s 300ms/step - loss: 1.6970 - accuracy: 0.3620 - val_loss: 1.6866 - val_accuracy: 0.3641\n",
      "Epoch 31/49\n",
      "70/70 [==============================] - 21s 301ms/step - loss: 1.7033 - accuracy: 0.3535 - val_loss: 1.6817 - val_accuracy: 0.3750\n",
      "Epoch 32/49\n",
      "70/70 [==============================] - 21s 295ms/step - loss: 1.7098 - accuracy: 0.3566 - val_loss: 1.6914 - val_accuracy: 0.3573\n",
      "Epoch 33/49\n",
      "70/70 [==============================] - 20s 293ms/step - loss: 1.7045 - accuracy: 0.3476 - val_loss: 1.6939 - val_accuracy: 0.3913\n",
      "Epoch 34/49\n",
      "70/70 [==============================] - 21s 302ms/step - loss: 1.6835 - accuracy: 0.3747 - val_loss: 1.6636 - val_accuracy: 0.3750\n",
      "Epoch 35/49\n",
      "70/70 [==============================] - 21s 300ms/step - loss: 1.6821 - accuracy: 0.3751 - val_loss: 1.6704 - val_accuracy: 0.3682\n",
      "Epoch 36/49\n",
      "70/70 [==============================] - 21s 304ms/step - loss: 1.6729 - accuracy: 0.3693 - val_loss: 1.6488 - val_accuracy: 0.3709\n",
      "Epoch 37/49\n",
      "70/70 [==============================] - 21s 297ms/step - loss: 1.6664 - accuracy: 0.3891 - val_loss: 1.6674 - val_accuracy: 0.3601\n",
      "Epoch 38/49\n",
      "70/70 [==============================] - 21s 299ms/step - loss: 1.6618 - accuracy: 0.3742 - val_loss: 1.6625 - val_accuracy: 0.3587\n",
      "Epoch 39/49\n",
      "70/70 [==============================] - 21s 305ms/step - loss: 1.6503 - accuracy: 0.3814 - val_loss: 1.6435 - val_accuracy: 0.3682\n",
      "Epoch 40/49\n",
      "70/70 [==============================] - 21s 300ms/step - loss: 1.6576 - accuracy: 0.3868 - val_loss: 1.6778 - val_accuracy: 0.3682\n",
      "Epoch 41/49\n",
      "70/70 [==============================] - 21s 298ms/step - loss: 1.6746 - accuracy: 0.3620 - val_loss: 1.6590 - val_accuracy: 0.3967\n",
      "Epoch 42/49\n",
      "70/70 [==============================] - 21s 303ms/step - loss: 1.6667 - accuracy: 0.3810 - val_loss: 1.6286 - val_accuracy: 0.3804\n",
      "Epoch 43/49\n",
      "70/70 [==============================] - 21s 301ms/step - loss: 1.6458 - accuracy: 0.3846 - val_loss: 1.6987 - val_accuracy: 0.3465\n",
      "Epoch 44/49\n",
      "70/70 [==============================] - 21s 299ms/step - loss: 1.6466 - accuracy: 0.3774 - val_loss: 1.6308 - val_accuracy: 0.3981\n",
      "Epoch 45/49\n",
      "70/70 [==============================] - 21s 298ms/step - loss: 1.6483 - accuracy: 0.3724 - val_loss: 1.6386 - val_accuracy: 0.3804\n",
      "Epoch 46/49\n",
      "70/70 [==============================] - 21s 298ms/step - loss: 1.6194 - accuracy: 0.3986 - val_loss: 1.6484 - val_accuracy: 0.3927\n",
      "Epoch 47/49\n",
      "70/70 [==============================] - 21s 303ms/step - loss: 1.6315 - accuracy: 0.3977 - val_loss: 1.5992 - val_accuracy: 0.4049\n",
      "Epoch 48/49\n",
      "70/70 [==============================] - 21s 299ms/step - loss: 1.6216 - accuracy: 0.3940 - val_loss: 1.6069 - val_accuracy: 0.3954\n",
      "Epoch 49/49\n",
      "70/70 [==============================] - 21s 301ms/step - loss: 1.6033 - accuracy: 0.4067 - val_loss: 1.5979 - val_accuracy: 0.3954\n"
     ]
    },
    {
     "data": {
      "text/html": [
       "<br/>Waiting for W&B process to finish, PID 97185<br/>Program ended successfully."
      ],
      "text/plain": [
       "<IPython.core.display.HTML object>"
      ]
     },
     "metadata": {},
     "output_type": "display_data"
    },
    {
     "data": {
      "text/html": [
       "Find user logs for this run at: <code>/home/charlie/Documents/courses/miniproject/notebooks/wandb/run-20210329_213139-cjnz6lz8/logs/debug.log</code>"
      ],
      "text/plain": [
       "<IPython.core.display.HTML object>"
      ]
     },
     "metadata": {},
     "output_type": "display_data"
    },
    {
     "data": {
      "text/html": [
       "Find internal logs for this run at: <code>/home/charlie/Documents/courses/miniproject/notebooks/wandb/run-20210329_213139-cjnz6lz8/logs/debug-internal.log</code>"
      ],
      "text/plain": [
       "<IPython.core.display.HTML object>"
      ]
     },
     "metadata": {},
     "output_type": "display_data"
    },
    {
     "data": {
      "text/html": [
       "<h3>Run summary:</h3><br/><style>\n",
       "    table.wandb td:nth-child(1) { padding: 0 10px; text-align: right }\n",
       "    </style><table class=\"wandb\">\n",
       "<tr><td>epoch</td><td>48</td></tr><tr><td>loss</td><td>1.60332</td></tr><tr><td>accuracy</td><td>0.40667</td></tr><tr><td>val_loss</td><td>1.59793</td></tr><tr><td>val_accuracy</td><td>0.39538</td></tr><tr><td>_runtime</td><td>1071</td></tr><tr><td>_timestamp</td><td>1617050970</td></tr><tr><td>_step</td><td>48</td></tr><tr><td>best_val_loss</td><td>1.59793</td></tr><tr><td>best_epoch</td><td>48</td></tr></table>"
      ],
      "text/plain": [
       "<IPython.core.display.HTML object>"
      ]
     },
     "metadata": {},
     "output_type": "display_data"
    },
    {
     "data": {
      "text/html": [
       "<h3>Run history:</h3><br/><style>\n",
       "    table.wandb td:nth-child(1) { padding: 0 10px; text-align: right }\n",
       "    </style><table class=\"wandb\">\n",
       "<tr><td>epoch</td><td>▁▁▁▁▂▂▂▂▂▃▃▃▃▃▃▄▄▄▄▄▅▅▅▅▅▅▆▆▆▆▆▇▇▇▇▇▇███</td></tr><tr><td>loss</td><td>█▅▅▄▄▄▄▄▄▄▃▃▃▃▃▃▃▃▂▂▂▃▂▂▂▂▂▂▂▂▂▁▂▂▂▁▁▁▁▁</td></tr><tr><td>accuracy</td><td>▁▂▂▃▃▄▄▄▅▄▅▅▅▅▆▆▆▆▆▆▆▆▆▇▇▇▆▇▇▇█▇▇▇▇▇▇███</td></tr><tr><td>val_loss</td><td>█▇▇▆▆▅▆▅▅▅▄▄▄▄▄▃▃▃▃▃▃▃▃▂▂▂▃▂▂▂▂▂▂▂▁▂▂▂▁▁</td></tr><tr><td>val_accuracy</td><td>▁▁▁▃▄▄▄▅▅▄▄▄▅▆▆▆▆▆▇▇▇▆▇▇▇▇█▇▇▇▆▇▇█▇█▇███</td></tr><tr><td>_runtime</td><td>▁▁▁▁▂▂▂▂▂▃▃▃▃▃▄▄▄▄▄▄▅▅▅▅▅▅▆▆▆▆▆▇▇▇▇▇▇███</td></tr><tr><td>_timestamp</td><td>▁▁▁▁▂▂▂▂▂▃▃▃▃▃▄▄▄▄▄▄▅▅▅▅▅▅▆▆▆▆▆▇▇▇▇▇▇███</td></tr><tr><td>_step</td><td>▁▁▁▁▂▂▂▂▂▃▃▃▃▃▃▄▄▄▄▄▅▅▅▅▅▅▆▆▆▆▆▇▇▇▇▇▇███</td></tr></table><br/>"
      ],
      "text/plain": [
       "<IPython.core.display.HTML object>"
      ]
     },
     "metadata": {},
     "output_type": "display_data"
    },
    {
     "data": {
      "text/html": [
       "Synced 5 W&B file(s), 1 media file(s), 0 artifact file(s) and 1 other file(s)"
      ],
      "text/plain": [
       "<IPython.core.display.HTML object>"
      ]
     },
     "metadata": {},
     "output_type": "display_data"
    },
    {
     "data": {
      "text/html": [
       "\n",
       "                    <br/>Synced <strong style=\"color:#cdcd00\">toasty-sweep-43</strong>: <a href=\"https://wandb.ai/charlieisalright/sentiment/runs/cjnz6lz8\" target=\"_blank\">https://wandb.ai/charlieisalright/sentiment/runs/cjnz6lz8</a><br/>\n",
       "                "
      ],
      "text/plain": [
       "<IPython.core.display.HTML object>"
      ]
     },
     "metadata": {},
     "output_type": "display_data"
    },
    {
     "name": "stderr",
     "output_type": "stream",
     "text": [
      "\u001b[34m\u001b[1mwandb\u001b[0m: Agent Starting Run: oet6oxdq with config:\n",
      "\u001b[34m\u001b[1mwandb\u001b[0m: \tbatch_size: 31\n",
      "\u001b[34m\u001b[1mwandb\u001b[0m: \tepochs: 49\n",
      "\u001b[34m\u001b[1mwandb\u001b[0m: \tlearning_rate: 0.0008474868121248405\n",
      "Failed to detect the name of this notebook, you can set it manually with the WANDB_NOTEBOOK_NAME environment variable to enable code saving.\n",
      "\u001b[34m\u001b[1mwandb\u001b[0m: \u001b[33mWARNING\u001b[0m Ignored wandb.init() arg project when running a sweep\n",
      "\u001b[34m\u001b[1mwandb\u001b[0m: \u001b[33mWARNING\u001b[0m Ignored wandb.init() arg entity when running a sweep\n"
     ]
    },
    {
     "data": {
      "text/html": [
       "\n",
       "                Tracking run with wandb version 0.10.23<br/>\n",
       "                Syncing run <strong style=\"color:#cdcd00\">glad-sweep-44</strong> to <a href=\"https://wandb.ai\" target=\"_blank\">Weights & Biases</a> <a href=\"https://docs.wandb.com/integrations/jupyter.html\" target=\"_blank\">(Documentation)</a>.<br/>\n",
       "                Project page: <a href=\"https://wandb.ai/charlieisalright/sentiment\" target=\"_blank\">https://wandb.ai/charlieisalright/sentiment</a><br/>\n",
       "                Sweep page: <a href=\"https://wandb.ai/charlieisalright/sentiment/sweeps/fnf3wbru\" target=\"_blank\">https://wandb.ai/charlieisalright/sentiment/sweeps/fnf3wbru</a><br/>\n",
       "Run page: <a href=\"https://wandb.ai/charlieisalright/sentiment/runs/oet6oxdq\" target=\"_blank\">https://wandb.ai/charlieisalright/sentiment/runs/oet6oxdq</a><br/>\n",
       "                Run data is saved locally in <code>/home/charlie/Documents/courses/miniproject/notebooks/wandb/run-20210329_215007-oet6oxdq</code><br/><br/>\n",
       "            "
      ],
      "text/plain": [
       "<IPython.core.display.HTML object>"
      ]
     },
     "metadata": {},
     "output_type": "display_data"
    },
    {
     "name": "stdout",
     "output_type": "stream",
     "text": [
      "Epoch 1/49\n",
      "70/70 [==============================] - 39s 558ms/step - loss: 2.3152 - accuracy: 0.1664 - val_loss: 2.0097 - val_accuracy: 0.1821\n",
      "Epoch 2/49\n",
      "70/70 [==============================] - 39s 552ms/step - loss: 2.0392 - accuracy: 0.1771 - val_loss: 1.9737 - val_accuracy: 0.2364\n",
      "Epoch 3/49\n",
      "70/70 [==============================] - 38s 550ms/step - loss: 1.9906 - accuracy: 0.2160 - val_loss: 1.9613 - val_accuracy: 0.2201\n",
      "Epoch 4/49\n",
      "70/70 [==============================] - 39s 557ms/step - loss: 1.9752 - accuracy: 0.2142 - val_loss: 1.9304 - val_accuracy: 0.2378\n",
      "Epoch 5/49\n",
      "70/70 [==============================] - 38s 550ms/step - loss: 1.9445 - accuracy: 0.2411 - val_loss: 1.9036 - val_accuracy: 0.2663\n",
      "Epoch 6/49\n",
      "70/70 [==============================] - 39s 552ms/step - loss: 1.9246 - accuracy: 0.2531 - val_loss: 1.8776 - val_accuracy: 0.3370\n",
      "Epoch 7/49\n",
      "70/70 [==============================] - 39s 552ms/step - loss: 1.9098 - accuracy: 0.2707 - val_loss: 1.8633 - val_accuracy: 0.3030\n",
      "Epoch 8/49\n",
      "70/70 [==============================] - 39s 552ms/step - loss: 1.9052 - accuracy: 0.2559 - val_loss: 1.8559 - val_accuracy: 0.3152\n",
      "Epoch 9/49\n",
      "70/70 [==============================] - 39s 555ms/step - loss: 1.8714 - accuracy: 0.2740 - val_loss: 1.8514 - val_accuracy: 0.2853\n",
      "Epoch 10/49\n",
      "70/70 [==============================] - 39s 552ms/step - loss: 1.8674 - accuracy: 0.2745 - val_loss: 1.8340 - val_accuracy: 0.3397\n",
      "Epoch 11/49\n",
      "70/70 [==============================] - 39s 555ms/step - loss: 1.8553 - accuracy: 0.2726 - val_loss: 1.8314 - val_accuracy: 0.2894\n",
      "Epoch 12/49\n",
      "70/70 [==============================] - 38s 546ms/step - loss: 1.8427 - accuracy: 0.3055 - val_loss: 1.8376 - val_accuracy: 0.3152\n",
      "Epoch 13/49\n",
      "70/70 [==============================] - 39s 551ms/step - loss: 1.8129 - accuracy: 0.3204 - val_loss: 1.7942 - val_accuracy: 0.3261\n",
      "Epoch 14/49\n",
      "70/70 [==============================] - 38s 550ms/step - loss: 1.8153 - accuracy: 0.3074 - val_loss: 1.7942 - val_accuracy: 0.3302\n",
      "Epoch 15/49\n",
      "70/70 [==============================] - 38s 544ms/step - loss: 1.8129 - accuracy: 0.3083 - val_loss: 1.8012 - val_accuracy: 0.3329\n",
      "Epoch 16/49\n",
      "70/70 [==============================] - 38s 545ms/step - loss: 1.8003 - accuracy: 0.3139 - val_loss: 1.8076 - val_accuracy: 0.3207\n",
      "Epoch 17/49\n",
      "70/70 [==============================] - 39s 552ms/step - loss: 1.8012 - accuracy: 0.3264 - val_loss: 1.7469 - val_accuracy: 0.3750\n",
      "Epoch 18/49\n",
      "70/70 [==============================] - 39s 550ms/step - loss: 1.7736 - accuracy: 0.3231 - val_loss: 1.7451 - val_accuracy: 0.3370\n",
      "Epoch 19/49\n",
      "70/70 [==============================] - 39s 551ms/step - loss: 1.7809 - accuracy: 0.3190 - val_loss: 1.7331 - val_accuracy: 0.3505\n",
      "Epoch 20/49\n",
      "70/70 [==============================] - 39s 551ms/step - loss: 1.7799 - accuracy: 0.3250 - val_loss: 1.7195 - val_accuracy: 0.3723\n",
      "Epoch 21/49\n",
      "70/70 [==============================] - 38s 549ms/step - loss: 1.7698 - accuracy: 0.3343 - val_loss: 1.7165 - val_accuracy: 0.3655\n",
      "Epoch 22/49\n",
      "70/70 [==============================] - 39s 552ms/step - loss: 1.7602 - accuracy: 0.3310 - val_loss: 1.7078 - val_accuracy: 0.3777\n",
      "Epoch 23/49\n",
      "70/70 [==============================] - 38s 544ms/step - loss: 1.7488 - accuracy: 0.3547 - val_loss: 1.7308 - val_accuracy: 0.3424\n",
      "Epoch 24/49\n",
      "70/70 [==============================] - 39s 551ms/step - loss: 1.7370 - accuracy: 0.3514 - val_loss: 1.7075 - val_accuracy: 0.3682\n",
      "Epoch 25/49\n",
      "70/70 [==============================] - 39s 551ms/step - loss: 1.7138 - accuracy: 0.3505 - val_loss: 1.6943 - val_accuracy: 0.3560\n",
      "Epoch 26/49\n",
      "70/70 [==============================] - 39s 558ms/step - loss: 1.7286 - accuracy: 0.3403 - val_loss: 1.6881 - val_accuracy: 0.3546\n",
      "Epoch 27/49\n",
      "70/70 [==============================] - 39s 553ms/step - loss: 1.7095 - accuracy: 0.3598 - val_loss: 1.6758 - val_accuracy: 0.3587\n",
      "Epoch 28/49\n",
      "70/70 [==============================] - 38s 544ms/step - loss: 1.7240 - accuracy: 0.3570 - val_loss: 1.7246 - val_accuracy: 0.3220\n",
      "Epoch 29/49\n",
      "70/70 [==============================] - 38s 545ms/step - loss: 1.7155 - accuracy: 0.3584 - val_loss: 1.7062 - val_accuracy: 0.3505\n",
      "Epoch 30/49\n",
      "70/70 [==============================] - 39s 551ms/step - loss: 1.6988 - accuracy: 0.3607 - val_loss: 1.6718 - val_accuracy: 0.3899\n",
      "Epoch 31/49\n",
      "70/70 [==============================] - 39s 552ms/step - loss: 1.6834 - accuracy: 0.3718 - val_loss: 1.6556 - val_accuracy: 0.3764\n",
      "Epoch 32/49\n",
      "70/70 [==============================] - 39s 555ms/step - loss: 1.6616 - accuracy: 0.3718 - val_loss: 1.6442 - val_accuracy: 0.3736\n",
      "Epoch 33/49\n",
      "70/70 [==============================] - 39s 555ms/step - loss: 1.6749 - accuracy: 0.3783 - val_loss: 1.6379 - val_accuracy: 0.3832\n",
      "Epoch 34/49\n",
      "70/70 [==============================] - 38s 545ms/step - loss: 1.6762 - accuracy: 0.3607 - val_loss: 1.6426 - val_accuracy: 0.3845\n",
      "Epoch 35/49\n",
      "70/70 [==============================] - 38s 545ms/step - loss: 1.6999 - accuracy: 0.3625 - val_loss: 1.6943 - val_accuracy: 0.3546\n",
      "Epoch 36/49\n",
      "70/70 [==============================] - 38s 545ms/step - loss: 1.6764 - accuracy: 0.3718 - val_loss: 1.6481 - val_accuracy: 0.4062\n",
      "Epoch 37/49\n",
      "70/70 [==============================] - 38s 544ms/step - loss: 1.6629 - accuracy: 0.3625 - val_loss: 1.6699 - val_accuracy: 0.3587\n",
      "Epoch 38/49\n",
      "70/70 [==============================] - 38s 544ms/step - loss: 1.6673 - accuracy: 0.3857 - val_loss: 1.6564 - val_accuracy: 0.3777\n",
      "Epoch 39/49\n",
      "70/70 [==============================] - 39s 552ms/step - loss: 1.6694 - accuracy: 0.3704 - val_loss: 1.6221 - val_accuracy: 0.4185\n",
      "Epoch 40/49\n",
      "70/70 [==============================] - 38s 549ms/step - loss: 1.6527 - accuracy: 0.3876 - val_loss: 1.6011 - val_accuracy: 0.4008\n",
      "Epoch 41/49\n",
      "70/70 [==============================] - 39s 552ms/step - loss: 1.6590 - accuracy: 0.3658 - val_loss: 1.5906 - val_accuracy: 0.4076\n",
      "Epoch 42/49\n",
      "70/70 [==============================] - 38s 544ms/step - loss: 1.6410 - accuracy: 0.3843 - val_loss: 1.6024 - val_accuracy: 0.4062\n",
      "Epoch 43/49\n",
      "70/70 [==============================] - 38s 544ms/step - loss: 1.6558 - accuracy: 0.3579 - val_loss: 1.6314 - val_accuracy: 0.3913\n",
      "Epoch 44/49\n",
      "70/70 [==============================] - 38s 544ms/step - loss: 1.6291 - accuracy: 0.3904 - val_loss: 1.6067 - val_accuracy: 0.3940\n",
      "Epoch 45/49\n",
      "70/70 [==============================] - 38s 543ms/step - loss: 1.6277 - accuracy: 0.3945 - val_loss: 1.5972 - val_accuracy: 0.3940\n",
      "Epoch 46/49\n",
      "70/70 [==============================] - 38s 549ms/step - loss: 1.6361 - accuracy: 0.3913 - val_loss: 1.6753 - val_accuracy: 0.3736\n",
      "Epoch 47/49\n",
      "70/70 [==============================] - 38s 544ms/step - loss: 1.6208 - accuracy: 0.3894 - val_loss: 1.6004 - val_accuracy: 0.3913\n",
      "Epoch 48/49\n",
      "70/70 [==============================] - 39s 551ms/step - loss: 1.5967 - accuracy: 0.4177 - val_loss: 1.5893 - val_accuracy: 0.4035\n",
      "Epoch 49/49\n",
      "70/70 [==============================] - 38s 544ms/step - loss: 1.6195 - accuracy: 0.3811 - val_loss: 1.6391 - val_accuracy: 0.4103\n"
     ]
    },
    {
     "data": {
      "text/html": [
       "<br/>Waiting for W&B process to finish, PID 148737<br/>Program ended successfully."
      ],
      "text/plain": [
       "<IPython.core.display.HTML object>"
      ]
     },
     "metadata": {},
     "output_type": "display_data"
    },
    {
     "data": {
      "text/html": [
       "Find user logs for this run at: <code>/home/charlie/Documents/courses/miniproject/notebooks/wandb/run-20210329_215007-oet6oxdq/logs/debug.log</code>"
      ],
      "text/plain": [
       "<IPython.core.display.HTML object>"
      ]
     },
     "metadata": {},
     "output_type": "display_data"
    },
    {
     "data": {
      "text/html": [
       "Find internal logs for this run at: <code>/home/charlie/Documents/courses/miniproject/notebooks/wandb/run-20210329_215007-oet6oxdq/logs/debug-internal.log</code>"
      ],
      "text/plain": [
       "<IPython.core.display.HTML object>"
      ]
     },
     "metadata": {},
     "output_type": "display_data"
    },
    {
     "data": {
      "text/html": [
       "<h3>Run summary:</h3><br/><style>\n",
       "    table.wandb td:nth-child(1) { padding: 0 10px; text-align: right }\n",
       "    </style><table class=\"wandb\">\n",
       "<tr><td>epoch</td><td>48</td></tr><tr><td>loss</td><td>1.61953</td></tr><tr><td>accuracy</td><td>0.38108</td></tr><tr><td>val_loss</td><td>1.63912</td></tr><tr><td>val_accuracy</td><td>0.41033</td></tr><tr><td>_runtime</td><td>1930</td></tr><tr><td>_timestamp</td><td>1617052937</td></tr><tr><td>_step</td><td>48</td></tr><tr><td>best_val_loss</td><td>1.58927</td></tr><tr><td>best_epoch</td><td>47</td></tr></table>"
      ],
      "text/plain": [
       "<IPython.core.display.HTML object>"
      ]
     },
     "metadata": {},
     "output_type": "display_data"
    },
    {
     "data": {
      "text/html": [
       "<h3>Run history:</h3><br/><style>\n",
       "    table.wandb td:nth-child(1) { padding: 0 10px; text-align: right }\n",
       "    </style><table class=\"wandb\">\n",
       "<tr><td>epoch</td><td>▁▁▁▁▂▂▂▂▂▃▃▃▃▃▃▄▄▄▄▄▅▅▅▅▅▅▆▆▆▆▆▇▇▇▇▇▇███</td></tr><tr><td>loss</td><td>█▅▅▅▄▄▄▄▃▃▃▃▃▃▃▃▃▃▂▂▂▂▂▂▂▂▂▂▂▂▁▂▁▁▁▁▁▁▁▁</td></tr><tr><td>accuracy</td><td>▁▁▃▂▃▄▄▄▄▅▆▅▅▆▆▆▆▆▇▇▇▆▇▇▇▇█▇▇▇▇▇█▇██████</td></tr><tr><td>val_loss</td><td>█▇▇▇▆▆▅▅▅▅▄▄▅▄▄▃▃▃▃▃▃▃▃▃▂▂▂▂▃▂▂▂▁▁▁▁▁▂▁▂</td></tr><tr><td>val_accuracy</td><td>▁▃▂▃▃▅▅▄▆▅▅▅▅▇▆▆▇▆▆▇▆▆▅▆▇▇▇▇▆█▆█▇██▇▇▇▇█</td></tr><tr><td>_runtime</td><td>▁▁▁▁▂▂▂▂▂▃▃▃▃▃▃▄▄▄▄▄▅▅▅▅▅▅▆▆▆▆▆▇▇▇▇▇▇███</td></tr><tr><td>_timestamp</td><td>▁▁▁▁▂▂▂▂▂▃▃▃▃▃▃▄▄▄▄▄▅▅▅▅▅▅▆▆▆▆▆▇▇▇▇▇▇███</td></tr><tr><td>_step</td><td>▁▁▁▁▂▂▂▂▂▃▃▃▃▃▃▄▄▄▄▄▅▅▅▅▅▅▆▆▆▆▆▇▇▇▇▇▇███</td></tr></table><br/>"
      ],
      "text/plain": [
       "<IPython.core.display.HTML object>"
      ]
     },
     "metadata": {},
     "output_type": "display_data"
    },
    {
     "data": {
      "text/html": [
       "Synced 5 W&B file(s), 1 media file(s), 0 artifact file(s) and 1 other file(s)"
      ],
      "text/plain": [
       "<IPython.core.display.HTML object>"
      ]
     },
     "metadata": {},
     "output_type": "display_data"
    },
    {
     "data": {
      "text/html": [
       "\n",
       "                    <br/>Synced <strong style=\"color:#cdcd00\">glad-sweep-44</strong>: <a href=\"https://wandb.ai/charlieisalright/sentiment/runs/oet6oxdq\" target=\"_blank\">https://wandb.ai/charlieisalright/sentiment/runs/oet6oxdq</a><br/>\n",
       "                "
      ],
      "text/plain": [
       "<IPython.core.display.HTML object>"
      ]
     },
     "metadata": {},
     "output_type": "display_data"
    },
    {
     "name": "stderr",
     "output_type": "stream",
     "text": [
      "\u001b[34m\u001b[1mwandb\u001b[0m: Agent Starting Run: zx66jwf3 with config:\n",
      "\u001b[34m\u001b[1mwandb\u001b[0m: \tbatch_size: 34\n",
      "\u001b[34m\u001b[1mwandb\u001b[0m: \tepochs: 50\n",
      "\u001b[34m\u001b[1mwandb\u001b[0m: \tlearning_rate: 0.0022576576901943038\n",
      "Failed to detect the name of this notebook, you can set it manually with the WANDB_NOTEBOOK_NAME environment variable to enable code saving.\n",
      "\u001b[34m\u001b[1mwandb\u001b[0m: \u001b[33mWARNING\u001b[0m Ignored wandb.init() arg project when running a sweep\n",
      "\u001b[34m\u001b[1mwandb\u001b[0m: \u001b[33mWARNING\u001b[0m Ignored wandb.init() arg entity when running a sweep\n"
     ]
    },
    {
     "data": {
      "text/html": [
       "\n",
       "                Tracking run with wandb version 0.10.23<br/>\n",
       "                Syncing run <strong style=\"color:#cdcd00\">efficient-sweep-45</strong> to <a href=\"https://wandb.ai\" target=\"_blank\">Weights & Biases</a> <a href=\"https://docs.wandb.com/integrations/jupyter.html\" target=\"_blank\">(Documentation)</a>.<br/>\n",
       "                Project page: <a href=\"https://wandb.ai/charlieisalright/sentiment\" target=\"_blank\">https://wandb.ai/charlieisalright/sentiment</a><br/>\n",
       "                Sweep page: <a href=\"https://wandb.ai/charlieisalright/sentiment/sweeps/fnf3wbru\" target=\"_blank\">https://wandb.ai/charlieisalright/sentiment/sweeps/fnf3wbru</a><br/>\n",
       "Run page: <a href=\"https://wandb.ai/charlieisalright/sentiment/runs/zx66jwf3\" target=\"_blank\">https://wandb.ai/charlieisalright/sentiment/runs/zx66jwf3</a><br/>\n",
       "                Run data is saved locally in <code>/home/charlie/Documents/courses/miniproject/notebooks/wandb/run-20210329_222223-zx66jwf3</code><br/><br/>\n",
       "            "
      ],
      "text/plain": [
       "<IPython.core.display.HTML object>"
      ]
     },
     "metadata": {},
     "output_type": "display_data"
    },
    {
     "name": "stdout",
     "output_type": "stream",
     "text": [
      "Epoch 1/50\n",
      "67/70 [===========================>..] - ETA: 1s - loss: 2.2460 - accuracy: 0.1573WARNING:tensorflow:Your input ran out of data; interrupting training. Make sure that your dataset or generator can generate at least `steps_per_epoch * epochs` batches (in this case, 3500 batches). You may need to use the repeat() function when building your dataset.\n",
      "67/70 [===========================>..] - 41s 605ms/step - loss: 2.2460 - accuracy: 0.1573 - val_loss: 1.9849 - val_accuracy: 0.2215\n"
     ]
    },
    {
     "data": {
      "text/html": [
       "<br/>Waiting for W&B process to finish, PID 164481<br/>Program ended successfully."
      ],
      "text/plain": [
       "<IPython.core.display.HTML object>"
      ]
     },
     "metadata": {},
     "output_type": "display_data"
    },
    {
     "data": {
      "text/html": [
       "Find user logs for this run at: <code>/home/charlie/Documents/courses/miniproject/notebooks/wandb/run-20210329_222223-zx66jwf3/logs/debug.log</code>"
      ],
      "text/plain": [
       "<IPython.core.display.HTML object>"
      ]
     },
     "metadata": {},
     "output_type": "display_data"
    },
    {
     "data": {
      "text/html": [
       "Find internal logs for this run at: <code>/home/charlie/Documents/courses/miniproject/notebooks/wandb/run-20210329_222223-zx66jwf3/logs/debug-internal.log</code>"
      ],
      "text/plain": [
       "<IPython.core.display.HTML object>"
      ]
     },
     "metadata": {},
     "output_type": "display_data"
    },
    {
     "data": {
      "text/html": [
       "<h3>Run summary:</h3><br/><style>\n",
       "    table.wandb td:nth-child(1) { padding: 0 10px; text-align: right }\n",
       "    </style><table class=\"wandb\">\n",
       "<tr><td>epoch</td><td>0</td></tr><tr><td>loss</td><td>2.24597</td></tr><tr><td>accuracy</td><td>0.15733</td></tr><tr><td>val_loss</td><td>1.9849</td></tr><tr><td>val_accuracy</td><td>0.22147</td></tr><tr><td>_runtime</td><td>49</td></tr><tr><td>_timestamp</td><td>1617052992</td></tr><tr><td>_step</td><td>0</td></tr><tr><td>best_val_loss</td><td>1.9849</td></tr><tr><td>best_epoch</td><td>0</td></tr></table>"
      ],
      "text/plain": [
       "<IPython.core.display.HTML object>"
      ]
     },
     "metadata": {},
     "output_type": "display_data"
    },
    {
     "data": {
      "text/html": [
       "<h3>Run history:</h3><br/><style>\n",
       "    table.wandb td:nth-child(1) { padding: 0 10px; text-align: right }\n",
       "    </style><table class=\"wandb\">\n",
       "<tr><td>epoch</td><td>▁</td></tr><tr><td>loss</td><td>▁</td></tr><tr><td>accuracy</td><td>▁</td></tr><tr><td>val_loss</td><td>▁</td></tr><tr><td>val_accuracy</td><td>▁</td></tr><tr><td>_runtime</td><td>▁</td></tr><tr><td>_timestamp</td><td>▁</td></tr><tr><td>_step</td><td>▁</td></tr></table><br/>"
      ],
      "text/plain": [
       "<IPython.core.display.HTML object>"
      ]
     },
     "metadata": {},
     "output_type": "display_data"
    },
    {
     "data": {
      "text/html": [
       "Synced 5 W&B file(s), 1 media file(s), 0 artifact file(s) and 1 other file(s)"
      ],
      "text/plain": [
       "<IPython.core.display.HTML object>"
      ]
     },
     "metadata": {},
     "output_type": "display_data"
    },
    {
     "data": {
      "text/html": [
       "\n",
       "                    <br/>Synced <strong style=\"color:#cdcd00\">efficient-sweep-45</strong>: <a href=\"https://wandb.ai/charlieisalright/sentiment/runs/zx66jwf3\" target=\"_blank\">https://wandb.ai/charlieisalright/sentiment/runs/zx66jwf3</a><br/>\n",
       "                "
      ],
      "text/plain": [
       "<IPython.core.display.HTML object>"
      ]
     },
     "metadata": {},
     "output_type": "display_data"
    },
    {
     "name": "stderr",
     "output_type": "stream",
     "text": [
      "\u001b[34m\u001b[1mwandb\u001b[0m: Agent Starting Run: 7ztmjpz7 with config:\n",
      "\u001b[34m\u001b[1mwandb\u001b[0m: \tbatch_size: 16\n",
      "\u001b[34m\u001b[1mwandb\u001b[0m: \tepochs: 35\n",
      "\u001b[34m\u001b[1mwandb\u001b[0m: \tlearning_rate: 0.00014666903171820994\n",
      "Failed to detect the name of this notebook, you can set it manually with the WANDB_NOTEBOOK_NAME environment variable to enable code saving.\n",
      "\u001b[34m\u001b[1mwandb\u001b[0m: \u001b[33mWARNING\u001b[0m Ignored wandb.init() arg project when running a sweep\n",
      "\u001b[34m\u001b[1mwandb\u001b[0m: \u001b[33mWARNING\u001b[0m Ignored wandb.init() arg entity when running a sweep\n"
     ]
    },
    {
     "data": {
      "text/html": [
       "\n",
       "                Tracking run with wandb version 0.10.23<br/>\n",
       "                Syncing run <strong style=\"color:#cdcd00\">feasible-sweep-46</strong> to <a href=\"https://wandb.ai\" target=\"_blank\">Weights & Biases</a> <a href=\"https://docs.wandb.com/integrations/jupyter.html\" target=\"_blank\">(Documentation)</a>.<br/>\n",
       "                Project page: <a href=\"https://wandb.ai/charlieisalright/sentiment\" target=\"_blank\">https://wandb.ai/charlieisalright/sentiment</a><br/>\n",
       "                Sweep page: <a href=\"https://wandb.ai/charlieisalright/sentiment/sweeps/fnf3wbru\" target=\"_blank\">https://wandb.ai/charlieisalright/sentiment/sweeps/fnf3wbru</a><br/>\n",
       "Run page: <a href=\"https://wandb.ai/charlieisalright/sentiment/runs/7ztmjpz7\" target=\"_blank\">https://wandb.ai/charlieisalright/sentiment/runs/7ztmjpz7</a><br/>\n",
       "                Run data is saved locally in <code>/home/charlie/Documents/courses/miniproject/notebooks/wandb/run-20210329_222342-7ztmjpz7</code><br/><br/>\n",
       "            "
      ],
      "text/plain": [
       "<IPython.core.display.HTML object>"
      ]
     },
     "metadata": {},
     "output_type": "display_data"
    },
    {
     "name": "stdout",
     "output_type": "stream",
     "text": [
      "Epoch 1/35\n",
      "70/70 [==============================] - 15s 215ms/step - loss: 2.4739 - accuracy: 0.1473 - val_loss: 2.0431 - val_accuracy: 0.1712\n",
      "Epoch 2/35\n",
      "70/70 [==============================] - 15s 211ms/step - loss: 2.2244 - accuracy: 0.1643 - val_loss: 2.0042 - val_accuracy: 0.1997\n",
      "Epoch 3/35\n",
      "70/70 [==============================] - 14s 203ms/step - loss: 2.1267 - accuracy: 0.1777 - val_loss: 2.0045 - val_accuracy: 0.1916\n",
      "Epoch 4/35\n",
      "70/70 [==============================] - 15s 209ms/step - loss: 2.0785 - accuracy: 0.1902 - val_loss: 1.9762 - val_accuracy: 0.2296\n",
      "Epoch 5/35\n",
      "70/70 [==============================] - 15s 211ms/step - loss: 2.0210 - accuracy: 0.2047 - val_loss: 1.9582 - val_accuracy: 0.2785\n",
      "Epoch 6/35\n",
      "70/70 [==============================] - 15s 210ms/step - loss: 2.0345 - accuracy: 0.1948 - val_loss: 1.9525 - val_accuracy: 0.2568\n",
      "Epoch 7/35\n",
      "70/70 [==============================] - 15s 209ms/step - loss: 1.9969 - accuracy: 0.2321 - val_loss: 1.9434 - val_accuracy: 0.2582\n",
      "Epoch 8/35\n",
      "70/70 [==============================] - 15s 209ms/step - loss: 2.0067 - accuracy: 0.2116 - val_loss: 1.9355 - val_accuracy: 0.2785\n",
      "Epoch 9/35\n",
      "70/70 [==============================] - 14s 203ms/step - loss: 1.9893 - accuracy: 0.2092 - val_loss: 1.9399 - val_accuracy: 0.2459\n",
      "Epoch 10/35\n",
      "70/70 [==============================] - 15s 209ms/step - loss: 1.9788 - accuracy: 0.2339 - val_loss: 1.9313 - val_accuracy: 0.2704\n",
      "Epoch 11/35\n",
      "70/70 [==============================] - 15s 210ms/step - loss: 1.9698 - accuracy: 0.2205 - val_loss: 1.9251 - val_accuracy: 0.2731\n",
      "Epoch 12/35\n",
      "70/70 [==============================] - 15s 210ms/step - loss: 1.9818 - accuracy: 0.2062 - val_loss: 1.9177 - val_accuracy: 0.3139\n",
      "Epoch 13/35\n",
      "70/70 [==============================] - 14s 202ms/step - loss: 1.9315 - accuracy: 0.2321 - val_loss: 1.9268 - val_accuracy: 0.2717\n",
      "Epoch 14/35\n",
      "70/70 [==============================] - 15s 212ms/step - loss: 1.9365 - accuracy: 0.2634 - val_loss: 1.9131 - val_accuracy: 0.2853\n",
      "Epoch 15/35\n",
      "70/70 [==============================] - 15s 208ms/step - loss: 1.9450 - accuracy: 0.2289 - val_loss: 1.9063 - val_accuracy: 0.3043\n",
      "Epoch 16/35\n",
      "70/70 [==============================] - 15s 210ms/step - loss: 1.9202 - accuracy: 0.2473 - val_loss: 1.9023 - val_accuracy: 0.3057\n",
      "Epoch 17/35\n",
      "70/70 [==============================] - 15s 210ms/step - loss: 1.9373 - accuracy: 0.2513 - val_loss: 1.8947 - val_accuracy: 0.2908\n",
      "Epoch 18/35\n",
      "70/70 [==============================] - 14s 203ms/step - loss: 1.9125 - accuracy: 0.2621 - val_loss: 1.8960 - val_accuracy: 0.2826\n",
      "Epoch 19/35\n",
      "70/70 [==============================] - 15s 210ms/step - loss: 1.9342 - accuracy: 0.2402 - val_loss: 1.8805 - val_accuracy: 0.3125\n",
      "Epoch 20/35\n",
      "70/70 [==============================] - 14s 203ms/step - loss: 1.9108 - accuracy: 0.2666 - val_loss: 1.8818 - val_accuracy: 0.2840\n",
      "Epoch 21/35\n",
      "70/70 [==============================] - 15s 210ms/step - loss: 1.8988 - accuracy: 0.2621 - val_loss: 1.8670 - val_accuracy: 0.3003\n",
      "Epoch 22/35\n",
      "70/70 [==============================] - 15s 211ms/step - loss: 1.9022 - accuracy: 0.2675 - val_loss: 1.8606 - val_accuracy: 0.3274\n",
      "Epoch 23/35\n",
      "70/70 [==============================] - 15s 211ms/step - loss: 1.8955 - accuracy: 0.2675 - val_loss: 1.8539 - val_accuracy: 0.3370\n",
      "Epoch 24/35\n",
      "70/70 [==============================] - 15s 211ms/step - loss: 1.8749 - accuracy: 0.2875 - val_loss: 1.8400 - val_accuracy: 0.3274\n",
      "Epoch 25/35\n",
      "70/70 [==============================] - 14s 202ms/step - loss: 1.8998 - accuracy: 0.2702 - val_loss: 1.8401 - val_accuracy: 0.3438\n",
      "Epoch 26/35\n",
      "70/70 [==============================] - 14s 202ms/step - loss: 1.8488 - accuracy: 0.3000 - val_loss: 1.8420 - val_accuracy: 0.3057\n",
      "Epoch 27/35\n",
      "70/70 [==============================] - 15s 209ms/step - loss: 1.8793 - accuracy: 0.2830 - val_loss: 1.8295 - val_accuracy: 0.3397\n",
      "Epoch 28/35\n",
      "70/70 [==============================] - 14s 202ms/step - loss: 1.8798 - accuracy: 0.2741 - val_loss: 1.8306 - val_accuracy: 0.3329\n",
      "Epoch 29/35\n",
      "70/70 [==============================] - 14s 203ms/step - loss: 1.8918 - accuracy: 0.2648 - val_loss: 1.8439 - val_accuracy: 0.2894\n",
      "Epoch 30/35\n",
      "70/70 [==============================] - 14s 203ms/step - loss: 1.8620 - accuracy: 0.2804 - val_loss: 1.8334 - val_accuracy: 0.3098\n",
      "Epoch 31/35\n",
      "70/70 [==============================] - 15s 212ms/step - loss: 1.8749 - accuracy: 0.2768 - val_loss: 1.8229 - val_accuracy: 0.3152\n",
      "Epoch 32/35\n",
      "70/70 [==============================] - 15s 212ms/step - loss: 1.8746 - accuracy: 0.2964 - val_loss: 1.8189 - val_accuracy: 0.3247\n",
      "Epoch 33/35\n",
      "70/70 [==============================] - 14s 203ms/step - loss: 1.8624 - accuracy: 0.2884 - val_loss: 1.8350 - val_accuracy: 0.3139\n",
      "Epoch 34/35\n",
      "70/70 [==============================] - 15s 210ms/step - loss: 1.8693 - accuracy: 0.2774 - val_loss: 1.8169 - val_accuracy: 0.3342\n",
      "Epoch 35/35\n",
      "70/70 [==============================] - 15s 209ms/step - loss: 1.8465 - accuracy: 0.3054 - val_loss: 1.7949 - val_accuracy: 0.3505\n"
     ]
    },
    {
     "data": {
      "text/html": [
       "<br/>Waiting for W&B process to finish, PID 164531<br/>Program ended successfully."
      ],
      "text/plain": [
       "<IPython.core.display.HTML object>"
      ]
     },
     "metadata": {},
     "output_type": "display_data"
    },
    {
     "data": {
      "text/html": [
       "Find user logs for this run at: <code>/home/charlie/Documents/courses/miniproject/notebooks/wandb/run-20210329_222342-7ztmjpz7/logs/debug.log</code>"
      ],
      "text/plain": [
       "<IPython.core.display.HTML object>"
      ]
     },
     "metadata": {},
     "output_type": "display_data"
    },
    {
     "data": {
      "text/html": [
       "Find internal logs for this run at: <code>/home/charlie/Documents/courses/miniproject/notebooks/wandb/run-20210329_222342-7ztmjpz7/logs/debug-internal.log</code>"
      ],
      "text/plain": [
       "<IPython.core.display.HTML object>"
      ]
     },
     "metadata": {},
     "output_type": "display_data"
    },
    {
     "data": {
      "text/html": [
       "<h3>Run summary:</h3><br/><style>\n",
       "    table.wandb td:nth-child(1) { padding: 0 10px; text-align: right }\n",
       "    </style><table class=\"wandb\">\n",
       "<tr><td>epoch</td><td>34</td></tr><tr><td>loss</td><td>1.84653</td></tr><tr><td>accuracy</td><td>0.30536</td></tr><tr><td>val_loss</td><td>1.79486</td></tr><tr><td>val_accuracy</td><td>0.35054</td></tr><tr><td>_runtime</td><td>537</td></tr><tr><td>_timestamp</td><td>1617053559</td></tr><tr><td>_step</td><td>34</td></tr><tr><td>best_val_loss</td><td>1.79486</td></tr><tr><td>best_epoch</td><td>34</td></tr></table>"
      ],
      "text/plain": [
       "<IPython.core.display.HTML object>"
      ]
     },
     "metadata": {},
     "output_type": "display_data"
    },
    {
     "data": {
      "text/html": [
       "<h3>Run history:</h3><br/><style>\n",
       "    table.wandb td:nth-child(1) { padding: 0 10px; text-align: right }\n",
       "    </style><table class=\"wandb\">\n",
       "<tr><td>epoch</td><td>▁▁▁▂▂▂▂▂▃▃▃▃▃▄▄▄▄▅▅▅▅▅▆▆▆▆▆▇▇▇▇▇███</td></tr><tr><td>loss</td><td>█▅▄▄▃▃▃▃▃▂▂▃▂▂▂▂▂▂▂▂▂▂▂▁▂▁▁▁▂▁▁▁▁▁▁</td></tr><tr><td>accuracy</td><td>▁▂▂▃▄▃▅▄▄▅▄▄▅▆▅▅▆▆▅▆▆▆▆▇▆█▇▇▆▇▇█▇▇█</td></tr><tr><td>val_loss</td><td>█▇▇▆▆▅▅▅▅▅▅▄▅▄▄▄▄▄▃▃▃▃▃▂▂▂▂▂▂▂▂▂▂▂▁</td></tr><tr><td>val_accuracy</td><td>▁▂▂▃▅▄▄▅▄▅▅▇▅▅▆▆▆▅▇▅▆▇▇▇█▆█▇▆▆▇▇▇▇█</td></tr><tr><td>_runtime</td><td>▁▁▁▂▂▂▂▂▃▃▃▃▃▄▄▄▄▅▅▅▅▅▆▆▆▆▆▇▇▇▇▇███</td></tr><tr><td>_timestamp</td><td>▁▁▁▂▂▂▂▂▃▃▃▃▃▄▄▄▄▅▅▅▅▅▆▆▆▆▆▇▇▇▇▇███</td></tr><tr><td>_step</td><td>▁▁▁▂▂▂▂▂▃▃▃▃▃▄▄▄▄▅▅▅▅▅▆▆▆▆▆▇▇▇▇▇███</td></tr></table><br/>"
      ],
      "text/plain": [
       "<IPython.core.display.HTML object>"
      ]
     },
     "metadata": {},
     "output_type": "display_data"
    },
    {
     "data": {
      "text/html": [
       "Synced 5 W&B file(s), 1 media file(s), 0 artifact file(s) and 1 other file(s)"
      ],
      "text/plain": [
       "<IPython.core.display.HTML object>"
      ]
     },
     "metadata": {},
     "output_type": "display_data"
    },
    {
     "data": {
      "text/html": [
       "\n",
       "                    <br/>Synced <strong style=\"color:#cdcd00\">feasible-sweep-46</strong>: <a href=\"https://wandb.ai/charlieisalright/sentiment/runs/7ztmjpz7\" target=\"_blank\">https://wandb.ai/charlieisalright/sentiment/runs/7ztmjpz7</a><br/>\n",
       "                "
      ],
      "text/plain": [
       "<IPython.core.display.HTML object>"
      ]
     },
     "metadata": {},
     "output_type": "display_data"
    },
    {
     "name": "stderr",
     "output_type": "stream",
     "text": [
      "\u001b[34m\u001b[1mwandb\u001b[0m: Agent Starting Run: b301mx6l with config:\n",
      "\u001b[34m\u001b[1mwandb\u001b[0m: \tbatch_size: 19\n",
      "\u001b[34m\u001b[1mwandb\u001b[0m: \tepochs: 41\n",
      "\u001b[34m\u001b[1mwandb\u001b[0m: \tlearning_rate: 0.00022974899047053924\n",
      "Failed to detect the name of this notebook, you can set it manually with the WANDB_NOTEBOOK_NAME environment variable to enable code saving.\n",
      "\u001b[34m\u001b[1mwandb\u001b[0m: \u001b[33mWARNING\u001b[0m Ignored wandb.init() arg project when running a sweep\n",
      "\u001b[34m\u001b[1mwandb\u001b[0m: \u001b[33mWARNING\u001b[0m Ignored wandb.init() arg entity when running a sweep\n"
     ]
    },
    {
     "data": {
      "text/html": [
       "\n",
       "                Tracking run with wandb version 0.10.23<br/>\n",
       "                Syncing run <strong style=\"color:#cdcd00\">lemon-sweep-47</strong> to <a href=\"https://wandb.ai\" target=\"_blank\">Weights & Biases</a> <a href=\"https://docs.wandb.com/integrations/jupyter.html\" target=\"_blank\">(Documentation)</a>.<br/>\n",
       "                Project page: <a href=\"https://wandb.ai/charlieisalright/sentiment\" target=\"_blank\">https://wandb.ai/charlieisalright/sentiment</a><br/>\n",
       "                Sweep page: <a href=\"https://wandb.ai/charlieisalright/sentiment/sweeps/fnf3wbru\" target=\"_blank\">https://wandb.ai/charlieisalright/sentiment/sweeps/fnf3wbru</a><br/>\n",
       "Run page: <a href=\"https://wandb.ai/charlieisalright/sentiment/runs/b301mx6l\" target=\"_blank\">https://wandb.ai/charlieisalright/sentiment/runs/b301mx6l</a><br/>\n",
       "                Run data is saved locally in <code>/home/charlie/Documents/courses/miniproject/notebooks/wandb/run-20210329_223849-b301mx6l</code><br/><br/>\n",
       "            "
      ],
      "text/plain": [
       "<IPython.core.display.HTML object>"
      ]
     },
     "metadata": {},
     "output_type": "display_data"
    },
    {
     "name": "stdout",
     "output_type": "stream",
     "text": [
      "Epoch 1/41\n",
      "70/70 [==============================] - 27s 381ms/step - loss: 2.6003 - accuracy: 0.1334 - val_loss: 2.0868 - val_accuracy: 0.1590\n",
      "Epoch 2/41\n",
      "70/70 [==============================] - 26s 377ms/step - loss: 2.1658 - accuracy: 0.1662 - val_loss: 2.0284 - val_accuracy: 0.1766\n",
      "Epoch 3/41\n",
      "70/70 [==============================] - 26s 376ms/step - loss: 2.0845 - accuracy: 0.1699 - val_loss: 1.9760 - val_accuracy: 0.2269\n",
      "Epoch 4/41\n",
      "70/70 [==============================] - 26s 372ms/step - loss: 2.0459 - accuracy: 0.1698 - val_loss: 1.9677 - val_accuracy: 0.2120\n",
      "Epoch 5/41\n",
      "70/70 [==============================] - 26s 374ms/step - loss: 2.0232 - accuracy: 0.1865 - val_loss: 1.9600 - val_accuracy: 0.2568\n",
      "Epoch 6/41\n",
      "70/70 [==============================] - 26s 373ms/step - loss: 2.0154 - accuracy: 0.2092 - val_loss: 1.9560 - val_accuracy: 0.2514\n",
      "Epoch 7/41\n",
      "70/70 [==============================] - 26s 374ms/step - loss: 1.9934 - accuracy: 0.2135 - val_loss: 1.9468 - val_accuracy: 0.2364\n",
      "Epoch 8/41\n",
      "70/70 [==============================] - 26s 376ms/step - loss: 1.9795 - accuracy: 0.2286 - val_loss: 1.9421 - val_accuracy: 0.2541\n",
      "Epoch 9/41\n",
      "70/70 [==============================] - 26s 376ms/step - loss: 1.9784 - accuracy: 0.2173 - val_loss: 1.9352 - val_accuracy: 0.2840\n",
      "Epoch 10/41\n",
      "70/70 [==============================] - 26s 374ms/step - loss: 1.9545 - accuracy: 0.2358 - val_loss: 1.9210 - val_accuracy: 0.2935\n",
      "Epoch 11/41\n",
      "70/70 [==============================] - 26s 374ms/step - loss: 1.9510 - accuracy: 0.2323 - val_loss: 1.9186 - val_accuracy: 0.2704\n",
      "Epoch 12/41\n",
      "70/70 [==============================] - 26s 374ms/step - loss: 1.9498 - accuracy: 0.2343 - val_loss: 1.9008 - val_accuracy: 0.3084\n",
      "Epoch 13/41\n",
      "70/70 [==============================] - 26s 371ms/step - loss: 1.9457 - accuracy: 0.2350 - val_loss: 1.9090 - val_accuracy: 0.2880\n",
      "Epoch 14/41\n",
      "70/70 [==============================] - 27s 381ms/step - loss: 1.9379 - accuracy: 0.2602 - val_loss: 1.8791 - val_accuracy: 0.3220\n",
      "Epoch 15/41\n",
      "70/70 [==============================] - 26s 367ms/step - loss: 1.9177 - accuracy: 0.2585 - val_loss: 1.8865 - val_accuracy: 0.2853\n",
      "Epoch 16/41\n",
      "70/70 [==============================] - 26s 376ms/step - loss: 1.9266 - accuracy: 0.2624 - val_loss: 1.8720 - val_accuracy: 0.3342\n",
      "Epoch 17/41\n",
      "70/70 [==============================] - 26s 366ms/step - loss: 1.9344 - accuracy: 0.2608 - val_loss: 1.8761 - val_accuracy: 0.3043\n",
      "Epoch 18/41\n",
      "70/70 [==============================] - 26s 371ms/step - loss: 1.9068 - accuracy: 0.2570 - val_loss: 1.8592 - val_accuracy: 0.3207\n",
      "Epoch 19/41\n",
      "70/70 [==============================] - 26s 367ms/step - loss: 1.8935 - accuracy: 0.2494 - val_loss: 1.8748 - val_accuracy: 0.2908\n",
      "Epoch 20/41\n",
      "70/70 [==============================] - 26s 373ms/step - loss: 1.8722 - accuracy: 0.2911 - val_loss: 1.8494 - val_accuracy: 0.3234\n",
      "Epoch 21/41\n",
      "70/70 [==============================] - 26s 374ms/step - loss: 1.8678 - accuracy: 0.2851 - val_loss: 1.8388 - val_accuracy: 0.3207\n",
      "Epoch 22/41\n",
      "70/70 [==============================] - 26s 377ms/step - loss: 1.8736 - accuracy: 0.2729 - val_loss: 1.8225 - val_accuracy: 0.3288\n",
      "Epoch 23/41\n",
      "70/70 [==============================] - 26s 367ms/step - loss: 1.8558 - accuracy: 0.2934 - val_loss: 1.8357 - val_accuracy: 0.3288\n",
      "Epoch 24/41\n",
      "70/70 [==============================] - 26s 368ms/step - loss: 1.8839 - accuracy: 0.2842 - val_loss: 1.8359 - val_accuracy: 0.2935\n",
      "Epoch 25/41\n",
      "70/70 [==============================] - 26s 373ms/step - loss: 1.8711 - accuracy: 0.2919 - val_loss: 1.8107 - val_accuracy: 0.3220\n",
      "Epoch 26/41\n",
      "70/70 [==============================] - 26s 368ms/step - loss: 1.8655 - accuracy: 0.2957 - val_loss: 1.8139 - val_accuracy: 0.3302\n",
      "Epoch 27/41\n",
      "70/70 [==============================] - 26s 375ms/step - loss: 1.8533 - accuracy: 0.2866 - val_loss: 1.7987 - val_accuracy: 0.3383\n",
      "Epoch 28/41\n",
      "70/70 [==============================] - 26s 373ms/step - loss: 1.8418 - accuracy: 0.2987 - val_loss: 1.7933 - val_accuracy: 0.3560\n",
      "Epoch 29/41\n",
      "70/70 [==============================] - 26s 366ms/step - loss: 1.8137 - accuracy: 0.3184 - val_loss: 1.7950 - val_accuracy: 0.3505\n",
      "Epoch 30/41\n",
      "70/70 [==============================] - 26s 375ms/step - loss: 1.8256 - accuracy: 0.3139 - val_loss: 1.7873 - val_accuracy: 0.3370\n",
      "Epoch 31/41\n",
      "70/70 [==============================] - 26s 367ms/step - loss: 1.8229 - accuracy: 0.3025 - val_loss: 1.7961 - val_accuracy: 0.3342\n",
      "Epoch 32/41\n",
      "70/70 [==============================] - 26s 370ms/step - loss: 1.8266 - accuracy: 0.3053 - val_loss: 1.7908 - val_accuracy: 0.3397\n",
      "Epoch 33/41\n",
      "70/70 [==============================] - 26s 374ms/step - loss: 1.8328 - accuracy: 0.3150 - val_loss: 1.7766 - val_accuracy: 0.3519\n",
      "Epoch 34/41\n",
      "70/70 [==============================] - 26s 374ms/step - loss: 1.8249 - accuracy: 0.2995 - val_loss: 1.7724 - val_accuracy: 0.3424\n",
      "Epoch 35/41\n",
      "70/70 [==============================] - 26s 375ms/step - loss: 1.8116 - accuracy: 0.3033 - val_loss: 1.7680 - val_accuracy: 0.3492\n",
      "Epoch 36/41\n",
      "70/70 [==============================] - 26s 371ms/step - loss: 1.8176 - accuracy: 0.3252 - val_loss: 1.7657 - val_accuracy: 0.3193\n",
      "Epoch 37/41\n",
      "70/70 [==============================] - 26s 374ms/step - loss: 1.8316 - accuracy: 0.3063 - val_loss: 1.7566 - val_accuracy: 0.3655\n",
      "Epoch 38/41\n",
      "70/70 [==============================] - 26s 367ms/step - loss: 1.8000 - accuracy: 0.3336 - val_loss: 1.7641 - val_accuracy: 0.3533\n",
      "Epoch 39/41\n",
      "70/70 [==============================] - 26s 367ms/step - loss: 1.8028 - accuracy: 0.3116 - val_loss: 1.7663 - val_accuracy: 0.3152\n",
      "Epoch 40/41\n",
      "70/70 [==============================] - 26s 371ms/step - loss: 1.7955 - accuracy: 0.3105 - val_loss: 1.7640 - val_accuracy: 0.3397\n",
      "Epoch 41/41\n",
      "70/70 [==============================] - 26s 377ms/step - loss: 1.7786 - accuracy: 0.3283 - val_loss: 1.7450 - val_accuracy: 0.3519\n"
     ]
    },
    {
     "data": {
      "text/html": [
       "<br/>Waiting for W&B process to finish, PID 165166<br/>Program ended successfully."
      ],
      "text/plain": [
       "<IPython.core.display.HTML object>"
      ]
     },
     "metadata": {},
     "output_type": "display_data"
    },
    {
     "data": {
      "text/html": [
       "Find user logs for this run at: <code>/home/charlie/Documents/courses/miniproject/notebooks/wandb/run-20210329_223849-b301mx6l/logs/debug.log</code>"
      ],
      "text/plain": [
       "<IPython.core.display.HTML object>"
      ]
     },
     "metadata": {},
     "output_type": "display_data"
    },
    {
     "data": {
      "text/html": [
       "Find internal logs for this run at: <code>/home/charlie/Documents/courses/miniproject/notebooks/wandb/run-20210329_223849-b301mx6l/logs/debug-internal.log</code>"
      ],
      "text/plain": [
       "<IPython.core.display.HTML object>"
      ]
     },
     "metadata": {},
     "output_type": "display_data"
    },
    {
     "data": {
      "text/html": [
       "<h3>Run summary:</h3><br/><style>\n",
       "    table.wandb td:nth-child(1) { padding: 0 10px; text-align: right }\n",
       "    </style><table class=\"wandb\">\n",
       "<tr><td>epoch</td><td>40</td></tr><tr><td>loss</td><td>1.77858</td></tr><tr><td>accuracy</td><td>0.32828</td></tr><tr><td>val_loss</td><td>1.74495</td></tr><tr><td>val_accuracy</td><td>0.3519</td></tr><tr><td>_runtime</td><td>1096</td></tr><tr><td>_timestamp</td><td>1617055025</td></tr><tr><td>_step</td><td>40</td></tr><tr><td>best_val_loss</td><td>1.74495</td></tr><tr><td>best_epoch</td><td>40</td></tr></table>"
      ],
      "text/plain": [
       "<IPython.core.display.HTML object>"
      ]
     },
     "metadata": {},
     "output_type": "display_data"
    },
    {
     "data": {
      "text/html": [
       "<h3>Run history:</h3><br/><style>\n",
       "    table.wandb td:nth-child(1) { padding: 0 10px; text-align: right }\n",
       "    </style><table class=\"wandb\">\n",
       "<tr><td>epoch</td><td>▁▁▁▂▂▂▂▂▂▃▃▃▃▃▃▄▄▄▄▄▅▅▅▅▅▅▆▆▆▆▆▆▇▇▇▇▇▇██</td></tr><tr><td>loss</td><td>█▄▄▃▃▃▃▃▃▂▂▂▂▂▂▂▂▂▂▂▂▂▂▂▂▂▂▂▁▁▁▁▁▁▁▁▁▁▁▁</td></tr><tr><td>accuracy</td><td>▁▂▂▂▃▄▄▄▄▅▄▅▅▅▅▆▅▅▅▇▆▆▇▆▇▇▆▇▇▇▇▇▇▇▇█▇█▇█</td></tr><tr><td>val_loss</td><td>█▇▆▆▅▅▅▅▅▅▅▄▄▄▄▄▄▃▄▃▃▃▃▃▂▂▂▂▂▂▂▂▂▂▁▁▁▁▁▁</td></tr><tr><td>val_accuracy</td><td>▁▂▃▃▄▄▄▄▅▆▅▆▅▇▅▇▆▆▅▇▆▇▇▆▇▇▇█▇▇▇▇█▇▇▆██▆█</td></tr><tr><td>_runtime</td><td>▁▁▁▂▂▂▂▂▂▃▃▃▃▃▃▄▄▄▄▄▅▅▅▅▅▅▆▆▆▆▆▆▇▇▇▇▇▇██</td></tr><tr><td>_timestamp</td><td>▁▁▁▂▂▂▂▂▂▃▃▃▃▃▃▄▄▄▄▄▅▅▅▅▅▅▆▆▆▆▆▆▇▇▇▇▇▇██</td></tr><tr><td>_step</td><td>▁▁▁▂▂▂▂▂▂▃▃▃▃▃▃▄▄▄▄▄▅▅▅▅▅▅▆▆▆▆▆▆▇▇▇▇▇▇██</td></tr></table><br/>"
      ],
      "text/plain": [
       "<IPython.core.display.HTML object>"
      ]
     },
     "metadata": {},
     "output_type": "display_data"
    },
    {
     "data": {
      "text/html": [
       "Synced 5 W&B file(s), 1 media file(s), 0 artifact file(s) and 1 other file(s)"
      ],
      "text/plain": [
       "<IPython.core.display.HTML object>"
      ]
     },
     "metadata": {},
     "output_type": "display_data"
    },
    {
     "data": {
      "text/html": [
       "\n",
       "                    <br/>Synced <strong style=\"color:#cdcd00\">lemon-sweep-47</strong>: <a href=\"https://wandb.ai/charlieisalright/sentiment/runs/b301mx6l\" target=\"_blank\">https://wandb.ai/charlieisalright/sentiment/runs/b301mx6l</a><br/>\n",
       "                "
      ],
      "text/plain": [
       "<IPython.core.display.HTML object>"
      ]
     },
     "metadata": {},
     "output_type": "display_data"
    },
    {
     "name": "stderr",
     "output_type": "stream",
     "text": [
      "\u001b[34m\u001b[1mwandb\u001b[0m: Agent Starting Run: bglzq2oo with config:\n",
      "\u001b[34m\u001b[1mwandb\u001b[0m: \tbatch_size: 18\n",
      "\u001b[34m\u001b[1mwandb\u001b[0m: \tepochs: 45\n",
      "\u001b[34m\u001b[1mwandb\u001b[0m: \tlearning_rate: 0.0007980573001179629\n",
      "Failed to detect the name of this notebook, you can set it manually with the WANDB_NOTEBOOK_NAME environment variable to enable code saving.\n",
      "\u001b[34m\u001b[1mwandb\u001b[0m: \u001b[33mWARNING\u001b[0m Ignored wandb.init() arg project when running a sweep\n",
      "\u001b[34m\u001b[1mwandb\u001b[0m: \u001b[33mWARNING\u001b[0m Ignored wandb.init() arg entity when running a sweep\n"
     ]
    },
    {
     "data": {
      "text/html": [
       "\n",
       "                Tracking run with wandb version 0.10.23<br/>\n",
       "                Syncing run <strong style=\"color:#cdcd00\">good-sweep-48</strong> to <a href=\"https://wandb.ai\" target=\"_blank\">Weights & Biases</a> <a href=\"https://docs.wandb.com/integrations/jupyter.html\" target=\"_blank\">(Documentation)</a>.<br/>\n",
       "                Project page: <a href=\"https://wandb.ai/charlieisalright/sentiment\" target=\"_blank\">https://wandb.ai/charlieisalright/sentiment</a><br/>\n",
       "                Sweep page: <a href=\"https://wandb.ai/charlieisalright/sentiment/sweeps/fnf3wbru\" target=\"_blank\">https://wandb.ai/charlieisalright/sentiment/sweeps/fnf3wbru</a><br/>\n",
       "Run page: <a href=\"https://wandb.ai/charlieisalright/sentiment/runs/bglzq2oo\" target=\"_blank\">https://wandb.ai/charlieisalright/sentiment/runs/bglzq2oo</a><br/>\n",
       "                Run data is saved locally in <code>/home/charlie/Documents/courses/miniproject/notebooks/wandb/run-20210329_225736-bglzq2oo</code><br/><br/>\n",
       "            "
      ],
      "text/plain": [
       "<IPython.core.display.HTML object>"
      ]
     },
     "metadata": {},
     "output_type": "display_data"
    },
    {
     "name": "stdout",
     "output_type": "stream",
     "text": [
      "Epoch 1/45\n",
      "70/70 [==============================] - 26s 367ms/step - loss: 2.3823 - accuracy: 0.1246 - val_loss: 2.0283 - val_accuracy: 0.1617\n",
      "Epoch 2/45\n",
      "70/70 [==============================] - 25s 362ms/step - loss: 2.0469 - accuracy: 0.1841 - val_loss: 1.9936 - val_accuracy: 0.2242\n",
      "Epoch 3/45\n",
      "70/70 [==============================] - 25s 360ms/step - loss: 2.0098 - accuracy: 0.1960 - val_loss: 1.9786 - val_accuracy: 0.2323\n",
      "Epoch 4/45\n",
      "70/70 [==============================] - 25s 362ms/step - loss: 2.0006 - accuracy: 0.1905 - val_loss: 1.9591 - val_accuracy: 0.2649\n",
      "Epoch 5/45\n",
      "70/70 [==============================] - 25s 362ms/step - loss: 1.9885 - accuracy: 0.2087 - val_loss: 1.9520 - val_accuracy: 0.2255\n",
      "Epoch 6/45\n",
      "70/70 [==============================] - 25s 362ms/step - loss: 1.9702 - accuracy: 0.2310 - val_loss: 1.9382 - val_accuracy: 0.2840\n",
      "Epoch 7/45\n",
      "70/70 [==============================] - 25s 358ms/step - loss: 1.9636 - accuracy: 0.2405 - val_loss: 1.9107 - val_accuracy: 0.2799\n",
      "Epoch 8/45\n",
      "70/70 [==============================] - 25s 361ms/step - loss: 1.9330 - accuracy: 0.2540 - val_loss: 1.9091 - val_accuracy: 0.2894\n",
      "Epoch 9/45\n",
      "70/70 [==============================] - 25s 362ms/step - loss: 1.9186 - accuracy: 0.2389 - val_loss: 1.8786 - val_accuracy: 0.2948\n",
      "Epoch 10/45\n",
      "70/70 [==============================] - 25s 362ms/step - loss: 1.9100 - accuracy: 0.2611 - val_loss: 1.8675 - val_accuracy: 0.2717\n",
      "Epoch 11/45\n",
      "70/70 [==============================] - 25s 354ms/step - loss: 1.9274 - accuracy: 0.2325 - val_loss: 1.8801 - val_accuracy: 0.2677\n",
      "Epoch 12/45\n",
      "70/70 [==============================] - 25s 361ms/step - loss: 1.9141 - accuracy: 0.2595 - val_loss: 1.8651 - val_accuracy: 0.2840\n",
      "Epoch 13/45\n",
      "70/70 [==============================] - 25s 361ms/step - loss: 1.9113 - accuracy: 0.2635 - val_loss: 1.8524 - val_accuracy: 0.3098\n",
      "Epoch 14/45\n",
      "70/70 [==============================] - 25s 359ms/step - loss: 1.8832 - accuracy: 0.2802 - val_loss: 1.8296 - val_accuracy: 0.3166\n",
      "Epoch 15/45\n",
      "70/70 [==============================] - 25s 354ms/step - loss: 1.8491 - accuracy: 0.2841 - val_loss: 1.8839 - val_accuracy: 0.2704\n",
      "Epoch 16/45\n",
      "70/70 [==============================] - 25s 361ms/step - loss: 1.8706 - accuracy: 0.2873 - val_loss: 1.8063 - val_accuracy: 0.3098\n",
      "Epoch 17/45\n",
      "70/70 [==============================] - 25s 358ms/step - loss: 1.8596 - accuracy: 0.3000 - val_loss: 1.8089 - val_accuracy: 0.3193\n",
      "Epoch 18/45\n",
      "70/70 [==============================] - 25s 353ms/step - loss: 1.8415 - accuracy: 0.2778 - val_loss: 1.8232 - val_accuracy: 0.2935\n",
      "Epoch 19/45\n",
      "70/70 [==============================] - 25s 362ms/step - loss: 1.8505 - accuracy: 0.2833 - val_loss: 1.7995 - val_accuracy: 0.3329\n",
      "Epoch 20/45\n",
      "70/70 [==============================] - 25s 354ms/step - loss: 1.8627 - accuracy: 0.2778 - val_loss: 1.7996 - val_accuracy: 0.3152\n",
      "Epoch 21/45\n",
      "70/70 [==============================] - 25s 361ms/step - loss: 1.8678 - accuracy: 0.2651 - val_loss: 1.7988 - val_accuracy: 0.3410\n",
      "Epoch 22/45\n",
      "70/70 [==============================] - 25s 354ms/step - loss: 1.8400 - accuracy: 0.3040 - val_loss: 1.8076 - val_accuracy: 0.3016\n",
      "Epoch 23/45\n",
      "70/70 [==============================] - 25s 361ms/step - loss: 1.8157 - accuracy: 0.2984 - val_loss: 1.7823 - val_accuracy: 0.3587\n",
      "Epoch 24/45\n",
      "70/70 [==============================] - 25s 362ms/step - loss: 1.8236 - accuracy: 0.3175 - val_loss: 1.7784 - val_accuracy: 0.3234\n",
      "Epoch 25/45\n",
      "70/70 [==============================] - 25s 354ms/step - loss: 1.8273 - accuracy: 0.2992 - val_loss: 1.7818 - val_accuracy: 0.2894\n",
      "Epoch 26/45\n",
      "70/70 [==============================] - 25s 362ms/step - loss: 1.7960 - accuracy: 0.3222 - val_loss: 1.7536 - val_accuracy: 0.3573\n",
      "Epoch 27/45\n",
      "70/70 [==============================] - 25s 359ms/step - loss: 1.8021 - accuracy: 0.3127 - val_loss: 1.7417 - val_accuracy: 0.3573\n",
      "Epoch 28/45\n",
      "70/70 [==============================] - 25s 355ms/step - loss: 1.8091 - accuracy: 0.2960 - val_loss: 1.7690 - val_accuracy: 0.3370\n",
      "Epoch 29/45\n",
      "70/70 [==============================] - 25s 354ms/step - loss: 1.7847 - accuracy: 0.3151 - val_loss: 1.7652 - val_accuracy: 0.3043\n",
      "Epoch 30/45\n",
      "70/70 [==============================] - 25s 354ms/step - loss: 1.7830 - accuracy: 0.3238 - val_loss: 1.7482 - val_accuracy: 0.3682\n",
      "Epoch 31/45\n",
      "70/70 [==============================] - 25s 361ms/step - loss: 1.7489 - accuracy: 0.3429 - val_loss: 1.7269 - val_accuracy: 0.3546\n",
      "Epoch 32/45\n",
      "70/70 [==============================] - 25s 354ms/step - loss: 1.7469 - accuracy: 0.3190 - val_loss: 1.7620 - val_accuracy: 0.3614\n",
      "Epoch 33/45\n",
      "70/70 [==============================] - 25s 353ms/step - loss: 1.7445 - accuracy: 0.3294 - val_loss: 1.7447 - val_accuracy: 0.3315\n",
      "Epoch 34/45\n",
      "70/70 [==============================] - 25s 361ms/step - loss: 1.7863 - accuracy: 0.3095 - val_loss: 1.7193 - val_accuracy: 0.3519\n",
      "Epoch 35/45\n",
      "70/70 [==============================] - 25s 354ms/step - loss: 1.7634 - accuracy: 0.3325 - val_loss: 1.7525 - val_accuracy: 0.3274\n",
      "Epoch 36/45\n",
      "70/70 [==============================] - 25s 362ms/step - loss: 1.7634 - accuracy: 0.3127 - val_loss: 1.7123 - val_accuracy: 0.3614\n",
      "Epoch 37/45\n",
      "70/70 [==============================] - 25s 361ms/step - loss: 1.7320 - accuracy: 0.3563 - val_loss: 1.7088 - val_accuracy: 0.3207\n",
      "Epoch 38/45\n",
      "70/70 [==============================] - 25s 355ms/step - loss: 1.7517 - accuracy: 0.3325 - val_loss: 1.7238 - val_accuracy: 0.3451\n",
      "Epoch 39/45\n",
      "70/70 [==============================] - 26s 366ms/step - loss: 1.7704 - accuracy: 0.3254 - val_loss: 1.6990 - val_accuracy: 0.3288\n",
      "Epoch 40/45\n",
      "70/70 [==============================] - 25s 353ms/step - loss: 1.7490 - accuracy: 0.3421 - val_loss: 1.7086 - val_accuracy: 0.3519\n",
      "Epoch 41/45\n",
      "70/70 [==============================] - 25s 360ms/step - loss: 1.7330 - accuracy: 0.3460 - val_loss: 1.6696 - val_accuracy: 0.3859\n",
      "Epoch 42/45\n",
      "70/70 [==============================] - 25s 354ms/step - loss: 1.7034 - accuracy: 0.3508 - val_loss: 1.7283 - val_accuracy: 0.3655\n",
      "Epoch 43/45\n",
      "70/70 [==============================] - 25s 353ms/step - loss: 1.7340 - accuracy: 0.3302 - val_loss: 1.6798 - val_accuracy: 0.3560\n",
      "Epoch 44/45\n",
      "70/70 [==============================] - 25s 353ms/step - loss: 1.7410 - accuracy: 0.3405 - val_loss: 1.6815 - val_accuracy: 0.3832\n",
      "Epoch 45/45\n",
      "70/70 [==============================] - 25s 357ms/step - loss: 1.7270 - accuracy: 0.3405 - val_loss: 1.6904 - val_accuracy: 0.3519\n"
     ]
    },
    {
     "data": {
      "text/html": [
       "<br/>Waiting for W&B process to finish, PID 165481<br/>Program ended successfully."
      ],
      "text/plain": [
       "<IPython.core.display.HTML object>"
      ]
     },
     "metadata": {},
     "output_type": "display_data"
    },
    {
     "data": {
      "text/html": [
       "Find user logs for this run at: <code>/home/charlie/Documents/courses/miniproject/notebooks/wandb/run-20210329_225736-bglzq2oo/logs/debug.log</code>"
      ],
      "text/plain": [
       "<IPython.core.display.HTML object>"
      ]
     },
     "metadata": {},
     "output_type": "display_data"
    },
    {
     "data": {
      "text/html": [
       "Find internal logs for this run at: <code>/home/charlie/Documents/courses/miniproject/notebooks/wandb/run-20210329_225736-bglzq2oo/logs/debug-internal.log</code>"
      ],
      "text/plain": [
       "<IPython.core.display.HTML object>"
      ]
     },
     "metadata": {},
     "output_type": "display_data"
    },
    {
     "data": {
      "text/html": [
       "<h3>Run summary:</h3><br/><style>\n",
       "    table.wandb td:nth-child(1) { padding: 0 10px; text-align: right }\n",
       "    </style><table class=\"wandb\">\n",
       "<tr><td>epoch</td><td>44</td></tr><tr><td>loss</td><td>1.72704</td></tr><tr><td>accuracy</td><td>0.34048</td></tr><tr><td>val_loss</td><td>1.69045</td></tr><tr><td>val_accuracy</td><td>0.3519</td></tr><tr><td>_runtime</td><td>1157</td></tr><tr><td>_timestamp</td><td>1617056213</td></tr><tr><td>_step</td><td>44</td></tr><tr><td>best_val_loss</td><td>1.66963</td></tr><tr><td>best_epoch</td><td>40</td></tr></table>"
      ],
      "text/plain": [
       "<IPython.core.display.HTML object>"
      ]
     },
     "metadata": {},
     "output_type": "display_data"
    },
    {
     "data": {
      "text/html": [
       "<h3>Run history:</h3><br/><style>\n",
       "    table.wandb td:nth-child(1) { padding: 0 10px; text-align: right }\n",
       "    </style><table class=\"wandb\">\n",
       "<tr><td>epoch</td><td>▁▁▁▁▂▂▂▂▂▃▃▃▃▃▃▄▄▄▄▄▅▅▅▅▅▅▆▆▆▆▆▆▇▇▇▇▇███</td></tr><tr><td>loss</td><td>█▅▄▄▄▄▄▃▃▃▃▃▃▃▃▃▃▃▃▂▂▂▂▂▂▂▂▁▁▁▂▂▁▁▂▁▁▁▁▁</td></tr><tr><td>accuracy</td><td>▁▃▃▃▄▄▅▅▅▄▅▅▆▆▆▆▆▆▅▆▆▇▆▇▆▇▇█▇▇▇▇█▇▇███▇█</td></tr><tr><td>val_loss</td><td>█▇▇▇▇▆▆▆▅▅▅▅▄▅▄▄▄▄▄▄▃▃▃▃▃▃▃▂▃▂▂▃▂▂▂▂▁▂▁▁</td></tr><tr><td>val_accuracy</td><td>▁▃▃▄▃▅▅▅▄▄▅▆▆▄▆▆▆▆▇▅▇▆▅▇▆▅▇▇▇▆▇▆▆▇▆▇█▇▇▇</td></tr><tr><td>_runtime</td><td>▁▁▁▁▂▂▂▂▂▃▃▃▃▃▃▄▄▄▄▄▅▅▅▅▅▅▆▆▆▆▆▆▇▇▇▇▇███</td></tr><tr><td>_timestamp</td><td>▁▁▁▁▂▂▂▂▂▃▃▃▃▃▃▄▄▄▄▄▅▅▅▅▅▅▆▆▆▆▆▆▇▇▇▇▇███</td></tr><tr><td>_step</td><td>▁▁▁▁▂▂▂▂▂▃▃▃▃▃▃▄▄▄▄▄▅▅▅▅▅▅▆▆▆▆▆▆▇▇▇▇▇███</td></tr></table><br/>"
      ],
      "text/plain": [
       "<IPython.core.display.HTML object>"
      ]
     },
     "metadata": {},
     "output_type": "display_data"
    },
    {
     "data": {
      "text/html": [
       "Synced 5 W&B file(s), 1 media file(s), 0 artifact file(s) and 1 other file(s)"
      ],
      "text/plain": [
       "<IPython.core.display.HTML object>"
      ]
     },
     "metadata": {},
     "output_type": "display_data"
    },
    {
     "data": {
      "text/html": [
       "\n",
       "                    <br/>Synced <strong style=\"color:#cdcd00\">good-sweep-48</strong>: <a href=\"https://wandb.ai/charlieisalright/sentiment/runs/bglzq2oo\" target=\"_blank\">https://wandb.ai/charlieisalright/sentiment/runs/bglzq2oo</a><br/>\n",
       "                "
      ],
      "text/plain": [
       "<IPython.core.display.HTML object>"
      ]
     },
     "metadata": {},
     "output_type": "display_data"
    },
    {
     "name": "stderr",
     "output_type": "stream",
     "text": [
      "\u001b[34m\u001b[1mwandb\u001b[0m: Agent Starting Run: hy2ym34o with config:\n",
      "\u001b[34m\u001b[1mwandb\u001b[0m: \tbatch_size: 13\n",
      "\u001b[34m\u001b[1mwandb\u001b[0m: \tepochs: 46\n",
      "\u001b[34m\u001b[1mwandb\u001b[0m: \tlearning_rate: 0.00045271754731728887\n",
      "Failed to detect the name of this notebook, you can set it manually with the WANDB_NOTEBOOK_NAME environment variable to enable code saving.\n",
      "\u001b[34m\u001b[1mwandb\u001b[0m: \u001b[33mWARNING\u001b[0m Ignored wandb.init() arg project when running a sweep\n",
      "\u001b[34m\u001b[1mwandb\u001b[0m: \u001b[33mWARNING\u001b[0m Ignored wandb.init() arg entity when running a sweep\n"
     ]
    },
    {
     "data": {
      "text/html": [
       "\n",
       "                Tracking run with wandb version 0.10.23<br/>\n",
       "                Syncing run <strong style=\"color:#cdcd00\">sparkling-sweep-49</strong> to <a href=\"https://wandb.ai\" target=\"_blank\">Weights & Biases</a> <a href=\"https://docs.wandb.com/integrations/jupyter.html\" target=\"_blank\">(Documentation)</a>.<br/>\n",
       "                Project page: <a href=\"https://wandb.ai/charlieisalright/sentiment\" target=\"_blank\">https://wandb.ai/charlieisalright/sentiment</a><br/>\n",
       "                Sweep page: <a href=\"https://wandb.ai/charlieisalright/sentiment/sweeps/fnf3wbru\" target=\"_blank\">https://wandb.ai/charlieisalright/sentiment/sweeps/fnf3wbru</a><br/>\n",
       "Run page: <a href=\"https://wandb.ai/charlieisalright/sentiment/runs/hy2ym34o\" target=\"_blank\">https://wandb.ai/charlieisalright/sentiment/runs/hy2ym34o</a><br/>\n",
       "                Run data is saved locally in <code>/home/charlie/Documents/courses/miniproject/notebooks/wandb/run-20210329_231658-hy2ym34o</code><br/><br/>\n",
       "            "
      ],
      "text/plain": [
       "<IPython.core.display.HTML object>"
      ]
     },
     "metadata": {},
     "output_type": "display_data"
    },
    {
     "name": "stdout",
     "output_type": "stream",
     "text": [
      "Epoch 1/46\n",
      "70/70 [==============================] - 48s 689ms/step - loss: 2.4789 - accuracy: 0.1325 - val_loss: 2.0657 - val_accuracy: 0.1467\n",
      "Epoch 2/46\n",
      "70/70 [==============================] - 20s 286ms/step - loss: 2.1390 - accuracy: 0.1403 - val_loss: 2.0233 - val_accuracy: 0.1834\n",
      "Epoch 3/46\n",
      "70/70 [==============================] - 20s 282ms/step - loss: 2.0794 - accuracy: 0.1693 - val_loss: 1.9946 - val_accuracy: 0.1997\n",
      "Epoch 4/46\n",
      "70/70 [==============================] - 20s 279ms/step - loss: 2.0506 - accuracy: 0.1857 - val_loss: 2.0044 - val_accuracy: 0.1848\n",
      "Epoch 5/46\n",
      "70/70 [==============================] - 20s 286ms/step - loss: 2.0127 - accuracy: 0.2105 - val_loss: 1.9917 - val_accuracy: 0.2079\n",
      "Epoch 6/46\n",
      "70/70 [==============================] - 20s 287ms/step - loss: 2.0160 - accuracy: 0.2044 - val_loss: 1.9629 - val_accuracy: 0.2038\n",
      "Epoch 7/46\n",
      "70/70 [==============================] - 20s 287ms/step - loss: 2.0018 - accuracy: 0.2066 - val_loss: 1.9570 - val_accuracy: 0.2649\n",
      "Epoch 8/46\n",
      "70/70 [==============================] - 20s 288ms/step - loss: 1.9639 - accuracy: 0.2176 - val_loss: 1.9499 - val_accuracy: 0.2772\n",
      "Epoch 9/46\n",
      "70/70 [==============================] - 20s 288ms/step - loss: 1.9654 - accuracy: 0.2549 - val_loss: 1.9278 - val_accuracy: 0.2554\n",
      "Epoch 10/46\n",
      "70/70 [==============================] - 20s 279ms/step - loss: 1.9872 - accuracy: 0.2165 - val_loss: 1.9488 - val_accuracy: 0.2935\n",
      "Epoch 11/46\n",
      "70/70 [==============================] - 20s 279ms/step - loss: 1.9738 - accuracy: 0.2305 - val_loss: 1.9292 - val_accuracy: 0.2690\n",
      "Epoch 12/46\n",
      "70/70 [==============================] - 20s 288ms/step - loss: 1.9487 - accuracy: 0.2264 - val_loss: 1.9088 - val_accuracy: 0.2772\n",
      "Epoch 13/46\n",
      "70/70 [==============================] - 20s 285ms/step - loss: 1.9344 - accuracy: 0.2461 - val_loss: 1.8942 - val_accuracy: 0.3125\n",
      "Epoch 14/46\n",
      "70/70 [==============================] - 19s 279ms/step - loss: 1.9171 - accuracy: 0.2606 - val_loss: 1.9277 - val_accuracy: 0.2405\n",
      "Epoch 15/46\n",
      "70/70 [==============================] - 20s 285ms/step - loss: 1.9045 - accuracy: 0.2374 - val_loss: 1.8888 - val_accuracy: 0.2378\n",
      "Epoch 16/46\n",
      "70/70 [==============================] - 20s 287ms/step - loss: 1.9275 - accuracy: 0.2429 - val_loss: 1.8583 - val_accuracy: 0.3152\n",
      "Epoch 17/46\n",
      "70/70 [==============================] - 20s 280ms/step - loss: 1.9020 - accuracy: 0.2516 - val_loss: 1.8638 - val_accuracy: 0.3057\n",
      "Epoch 18/46\n",
      "70/70 [==============================] - 19s 277ms/step - loss: 1.9059 - accuracy: 0.2450 - val_loss: 1.8591 - val_accuracy: 0.2908\n",
      "Epoch 19/46\n",
      "70/70 [==============================] - 20s 287ms/step - loss: 1.8797 - accuracy: 0.2835 - val_loss: 1.8348 - val_accuracy: 0.3220\n",
      "Epoch 20/46\n",
      "70/70 [==============================] - 20s 280ms/step - loss: 1.8641 - accuracy: 0.3000 - val_loss: 1.8678 - val_accuracy: 0.2609\n",
      "Epoch 21/46\n",
      "70/70 [==============================] - 19s 278ms/step - loss: 1.9008 - accuracy: 0.2650 - val_loss: 1.8441 - val_accuracy: 0.3302\n",
      "Epoch 22/46\n",
      "70/70 [==============================] - 20s 280ms/step - loss: 1.8552 - accuracy: 0.2934 - val_loss: 1.8434 - val_accuracy: 0.2948\n",
      "Epoch 23/46\n",
      "70/70 [==============================] - 20s 280ms/step - loss: 1.8301 - accuracy: 0.2912 - val_loss: 1.8395 - val_accuracy: 0.2853\n",
      "Epoch 24/46\n",
      "70/70 [==============================] - 20s 287ms/step - loss: 1.8521 - accuracy: 0.2945 - val_loss: 1.8162 - val_accuracy: 0.3057\n",
      "Epoch 25/46\n",
      "70/70 [==============================] - 20s 286ms/step - loss: 1.8667 - accuracy: 0.2934 - val_loss: 1.7981 - val_accuracy: 0.3410\n",
      "Epoch 26/46\n",
      "70/70 [==============================] - 20s 280ms/step - loss: 1.8418 - accuracy: 0.2978 - val_loss: 1.8045 - val_accuracy: 0.3247\n",
      "Epoch 27/46\n",
      "70/70 [==============================] - 20s 281ms/step - loss: 1.8491 - accuracy: 0.2824 - val_loss: 1.8190 - val_accuracy: 0.3071\n",
      "Epoch 28/46\n",
      "70/70 [==============================] - 19s 278ms/step - loss: 1.8398 - accuracy: 0.2873 - val_loss: 1.8001 - val_accuracy: 0.3370\n",
      "Epoch 29/46\n",
      "70/70 [==============================] - 20s 280ms/step - loss: 1.8457 - accuracy: 0.2857 - val_loss: 1.8227 - val_accuracy: 0.3098\n",
      "Epoch 30/46\n",
      "70/70 [==============================] - 20s 280ms/step - loss: 1.8416 - accuracy: 0.2945 - val_loss: 1.7981 - val_accuracy: 0.3084\n",
      "Epoch 31/46\n",
      "70/70 [==============================] - 20s 285ms/step - loss: 1.8315 - accuracy: 0.3085 - val_loss: 1.7813 - val_accuracy: 0.3125\n",
      "Epoch 32/46\n",
      "70/70 [==============================] - 20s 288ms/step - loss: 1.7991 - accuracy: 0.3055 - val_loss: 1.7765 - val_accuracy: 0.3546\n",
      "Epoch 33/46\n",
      "70/70 [==============================] - 20s 287ms/step - loss: 1.8200 - accuracy: 0.2879 - val_loss: 1.7537 - val_accuracy: 0.3587\n",
      "Epoch 34/46\n",
      "70/70 [==============================] - 20s 287ms/step - loss: 1.8061 - accuracy: 0.2967 - val_loss: 1.7467 - val_accuracy: 0.3804\n",
      "Epoch 35/46\n",
      "70/70 [==============================] - 20s 287ms/step - loss: 1.7607 - accuracy: 0.3319 - val_loss: 1.7426 - val_accuracy: 0.3723\n",
      "Epoch 36/46\n",
      "70/70 [==============================] - 19s 278ms/step - loss: 1.8214 - accuracy: 0.3151 - val_loss: 1.7660 - val_accuracy: 0.2976\n",
      "Epoch 37/46\n",
      "70/70 [==============================] - 20s 291ms/step - loss: 1.8210 - accuracy: 0.2835 - val_loss: 1.7358 - val_accuracy: 0.3709\n",
      "Epoch 38/46\n",
      "70/70 [==============================] - 20s 281ms/step - loss: 1.8206 - accuracy: 0.2967 - val_loss: 1.7519 - val_accuracy: 0.3424\n",
      "Epoch 39/46\n",
      "70/70 [==============================] - 19s 278ms/step - loss: 1.7900 - accuracy: 0.3318 - val_loss: 1.7675 - val_accuracy: 0.3071\n",
      "Epoch 40/46\n",
      "70/70 [==============================] - 20s 279ms/step - loss: 1.8282 - accuracy: 0.3040 - val_loss: 1.7756 - val_accuracy: 0.3505\n",
      "Epoch 41/46\n",
      "70/70 [==============================] - 19s 278ms/step - loss: 1.8383 - accuracy: 0.3029 - val_loss: 1.7884 - val_accuracy: 0.3084\n",
      "Epoch 42/46\n",
      "70/70 [==============================] - 19s 278ms/step - loss: 1.8030 - accuracy: 0.3274 - val_loss: 1.8227 - val_accuracy: 0.2948\n",
      "Epoch 43/46\n",
      "70/70 [==============================] - 20s 280ms/step - loss: 1.8069 - accuracy: 0.3220 - val_loss: 1.7503 - val_accuracy: 0.3139\n",
      "Epoch 44/46\n",
      "70/70 [==============================] - 20s 285ms/step - loss: 1.7956 - accuracy: 0.3207 - val_loss: 1.7286 - val_accuracy: 0.3478\n",
      "Epoch 45/46\n",
      "70/70 [==============================] - 20s 288ms/step - loss: 1.7284 - accuracy: 0.3396 - val_loss: 1.6970 - val_accuracy: 0.3764\n",
      "Epoch 46/46\n",
      "70/70 [==============================] - 20s 280ms/step - loss: 1.7943 - accuracy: 0.3110 - val_loss: 1.7418 - val_accuracy: 0.3274\n"
     ]
    },
    {
     "data": {
      "text/html": [
       "<br/>Waiting for W&B process to finish, PID 165826<br/>Program ended successfully."
      ],
      "text/plain": [
       "<IPython.core.display.HTML object>"
      ]
     },
     "metadata": {},
     "output_type": "display_data"
    },
    {
     "data": {
      "text/html": [
       "Find user logs for this run at: <code>/home/charlie/Documents/courses/miniproject/notebooks/wandb/run-20210329_231658-hy2ym34o/logs/debug.log</code>"
      ],
      "text/plain": [
       "<IPython.core.display.HTML object>"
      ]
     },
     "metadata": {},
     "output_type": "display_data"
    },
    {
     "data": {
      "text/html": [
       "Find internal logs for this run at: <code>/home/charlie/Documents/courses/miniproject/notebooks/wandb/run-20210329_231658-hy2ym34o/logs/debug-internal.log</code>"
      ],
      "text/plain": [
       "<IPython.core.display.HTML object>"
      ]
     },
     "metadata": {},
     "output_type": "display_data"
    },
    {
     "data": {
      "text/html": [
       "<h3>Run summary:</h3><br/><style>\n",
       "    table.wandb td:nth-child(1) { padding: 0 10px; text-align: right }\n",
       "    </style><table class=\"wandb\">\n",
       "<tr><td>epoch</td><td>45</td></tr><tr><td>loss</td><td>1.79435</td></tr><tr><td>accuracy</td><td>0.31099</td></tr><tr><td>val_loss</td><td>1.74175</td></tr><tr><td>val_accuracy</td><td>0.32745</td></tr><tr><td>_runtime</td><td>966</td></tr><tr><td>_timestamp</td><td>1617057184</td></tr><tr><td>_step</td><td>45</td></tr><tr><td>best_val_loss</td><td>1.697</td></tr><tr><td>best_epoch</td><td>44</td></tr></table>"
      ],
      "text/plain": [
       "<IPython.core.display.HTML object>"
      ]
     },
     "metadata": {},
     "output_type": "display_data"
    },
    {
     "data": {
      "text/html": [
       "<h3>Run history:</h3><br/><style>\n",
       "    table.wandb td:nth-child(1) { padding: 0 10px; text-align: right }\n",
       "    </style><table class=\"wandb\">\n",
       "<tr><td>epoch</td><td>▁▁▁▁▂▂▂▂▂▃▃▃▃▃▄▄▄▄▄▄▅▅▅▅▅▅▆▆▆▆▆▇▇▇▇▇████</td></tr><tr><td>loss</td><td>█▅▄▄▄▄▄▃▃▃▃▃▃▃▃▃▂▂▃▂▂▂▂▂▂▂▂▂▂▂▁▂▂▂▂▂▂▂▂▁</td></tr><tr><td>accuracy</td><td>▁▁▂▃▄▃▄▅▄▄▄▅▅▅▅▅▆▇▅▆▆▆▇▆▆▆▆▇▆▇█▇▆█▇▇█▇▇█</td></tr><tr><td>val_loss</td><td>█▇▇▇▇▆▆▅▆▅▅▅▅▅▄▄▄▄▄▄▃▃▃▃▃▃▃▃▂▂▂▂▂▂▂▃▃▂▂▁</td></tr><tr><td>val_accuracy</td><td>▁▂▃▂▃▃▅▄▅▅▅▆▄▄▆▅▆▄▆▅▆▇▆▆▇▆▆▇▇██▆█▆▇▆▅▆▇█</td></tr><tr><td>_runtime</td><td>▁▁▁▁▂▂▂▂▂▃▃▃▃▃▄▄▄▄▄▄▅▅▅▅▅▅▆▆▆▆▆▇▇▇▇▇████</td></tr><tr><td>_timestamp</td><td>▁▁▁▁▂▂▂▂▂▃▃▃▃▃▄▄▄▄▄▄▅▅▅▅▅▅▆▆▆▆▆▇▇▇▇▇████</td></tr><tr><td>_step</td><td>▁▁▁▁▂▂▂▂▂▃▃▃▃▃▄▄▄▄▄▄▅▅▅▅▅▅▆▆▆▆▆▇▇▇▇▇████</td></tr></table><br/>"
      ],
      "text/plain": [
       "<IPython.core.display.HTML object>"
      ]
     },
     "metadata": {},
     "output_type": "display_data"
    },
    {
     "data": {
      "text/html": [
       "Synced 5 W&B file(s), 1 media file(s), 0 artifact file(s) and 1 other file(s)"
      ],
      "text/plain": [
       "<IPython.core.display.HTML object>"
      ]
     },
     "metadata": {},
     "output_type": "display_data"
    },
    {
     "data": {
      "text/html": [
       "\n",
       "                    <br/>Synced <strong style=\"color:#cdcd00\">sparkling-sweep-49</strong>: <a href=\"https://wandb.ai/charlieisalright/sentiment/runs/hy2ym34o\" target=\"_blank\">https://wandb.ai/charlieisalright/sentiment/runs/hy2ym34o</a><br/>\n",
       "                "
      ],
      "text/plain": [
       "<IPython.core.display.HTML object>"
      ]
     },
     "metadata": {},
     "output_type": "display_data"
    },
    {
     "name": "stderr",
     "output_type": "stream",
     "text": [
      "\u001b[34m\u001b[1mwandb\u001b[0m: Agent Starting Run: uojn1ory with config:\n",
      "\u001b[34m\u001b[1mwandb\u001b[0m: \tbatch_size: 12\n",
      "\u001b[34m\u001b[1mwandb\u001b[0m: \tepochs: 41\n",
      "\u001b[34m\u001b[1mwandb\u001b[0m: \tlearning_rate: 7.244149575603722e-05\n",
      "Failed to detect the name of this notebook, you can set it manually with the WANDB_NOTEBOOK_NAME environment variable to enable code saving.\n",
      "\u001b[34m\u001b[1mwandb\u001b[0m: \u001b[33mWARNING\u001b[0m Ignored wandb.init() arg project when running a sweep\n",
      "\u001b[34m\u001b[1mwandb\u001b[0m: \u001b[33mWARNING\u001b[0m Ignored wandb.init() arg entity when running a sweep\n"
     ]
    },
    {
     "data": {
      "text/html": [
       "\n",
       "                Tracking run with wandb version 0.10.23<br/>\n",
       "                Syncing run <strong style=\"color:#cdcd00\">devout-sweep-50</strong> to <a href=\"https://wandb.ai\" target=\"_blank\">Weights & Biases</a> <a href=\"https://docs.wandb.com/integrations/jupyter.html\" target=\"_blank\">(Documentation)</a>.<br/>\n",
       "                Project page: <a href=\"https://wandb.ai/charlieisalright/sentiment\" target=\"_blank\">https://wandb.ai/charlieisalright/sentiment</a><br/>\n",
       "                Sweep page: <a href=\"https://wandb.ai/charlieisalright/sentiment/sweeps/fnf3wbru\" target=\"_blank\">https://wandb.ai/charlieisalright/sentiment/sweeps/fnf3wbru</a><br/>\n",
       "Run page: <a href=\"https://wandb.ai/charlieisalright/sentiment/runs/uojn1ory\" target=\"_blank\">https://wandb.ai/charlieisalright/sentiment/runs/uojn1ory</a><br/>\n",
       "                Run data is saved locally in <code>/home/charlie/Documents/courses/miniproject/notebooks/wandb/run-20210329_233317-uojn1ory</code><br/><br/>\n",
       "            "
      ],
      "text/plain": [
       "<IPython.core.display.HTML object>"
      ]
     },
     "metadata": {},
     "output_type": "display_data"
    },
    {
     "name": "stdout",
     "output_type": "stream",
     "text": [
      "Epoch 1/41\n",
      "70/70 [==============================] - 13s 180ms/step - loss: 2.5738 - accuracy: 0.1310 - val_loss: 2.0872 - val_accuracy: 0.1236\n",
      "Epoch 2/41\n",
      "70/70 [==============================] - 12s 174ms/step - loss: 2.3639 - accuracy: 0.1440 - val_loss: 2.0587 - val_accuracy: 0.1440\n",
      "Epoch 3/41\n",
      "70/70 [==============================] - 12s 171ms/step - loss: 2.2581 - accuracy: 0.1548 - val_loss: 2.0352 - val_accuracy: 0.1834\n",
      "Epoch 4/41\n",
      "70/70 [==============================] - 12s 175ms/step - loss: 2.1700 - accuracy: 0.1774 - val_loss: 2.0146 - val_accuracy: 0.1943\n",
      "Epoch 5/41\n",
      "70/70 [==============================] - 12s 173ms/step - loss: 2.1051 - accuracy: 0.1821 - val_loss: 1.9980 - val_accuracy: 0.1889\n",
      "Epoch 6/41\n",
      "70/70 [==============================] - 12s 171ms/step - loss: 2.1002 - accuracy: 0.1750 - val_loss: 1.9838 - val_accuracy: 0.2364\n",
      "Epoch 7/41\n",
      "70/70 [==============================] - 12s 173ms/step - loss: 2.0602 - accuracy: 0.1906 - val_loss: 1.9751 - val_accuracy: 0.2514\n",
      "Epoch 8/41\n",
      "70/70 [==============================] - 12s 177ms/step - loss: 2.0253 - accuracy: 0.1881 - val_loss: 1.9716 - val_accuracy: 0.2120\n",
      "Epoch 9/41\n",
      "70/70 [==============================] - 12s 177ms/step - loss: 2.0534 - accuracy: 0.1821 - val_loss: 1.9666 - val_accuracy: 0.2378\n",
      "Epoch 10/41\n",
      "70/70 [==============================] - 12s 173ms/step - loss: 2.0301 - accuracy: 0.2134 - val_loss: 1.9599 - val_accuracy: 0.2269\n",
      "Epoch 11/41\n",
      "70/70 [==============================] - 12s 174ms/step - loss: 2.0443 - accuracy: 0.1964 - val_loss: 1.9536 - val_accuracy: 0.2622\n",
      "Epoch 12/41\n",
      "70/70 [==============================] - 12s 176ms/step - loss: 1.9799 - accuracy: 0.2218 - val_loss: 1.9464 - val_accuracy: 0.2568\n",
      "Epoch 13/41\n",
      "70/70 [==============================] - 12s 173ms/step - loss: 2.0097 - accuracy: 0.2218 - val_loss: 1.9423 - val_accuracy: 0.2840\n",
      "Epoch 14/41\n",
      "70/70 [==============================] - 12s 166ms/step - loss: 1.9731 - accuracy: 0.2226 - val_loss: 1.9439 - val_accuracy: 0.2432\n",
      "Epoch 15/41\n",
      "70/70 [==============================] - 12s 177ms/step - loss: 1.9985 - accuracy: 0.2206 - val_loss: 1.9401 - val_accuracy: 0.2677\n",
      "Epoch 16/41\n",
      "70/70 [==============================] - 12s 171ms/step - loss: 1.9920 - accuracy: 0.2167 - val_loss: 1.9309 - val_accuracy: 0.2772\n",
      "Epoch 17/41\n",
      "70/70 [==============================] - 12s 166ms/step - loss: 1.9744 - accuracy: 0.2290 - val_loss: 1.9312 - val_accuracy: 0.2636\n",
      "Epoch 18/41\n",
      "70/70 [==============================] - 12s 173ms/step - loss: 1.9978 - accuracy: 0.1988 - val_loss: 1.9230 - val_accuracy: 0.2758\n",
      "Epoch 19/41\n",
      "70/70 [==============================] - 12s 174ms/step - loss: 1.9707 - accuracy: 0.1882 - val_loss: 1.9218 - val_accuracy: 0.2894\n",
      "Epoch 20/41\n",
      "70/70 [==============================] - 12s 171ms/step - loss: 1.9712 - accuracy: 0.2131 - val_loss: 1.9152 - val_accuracy: 0.2976\n",
      "Epoch 21/41\n",
      "70/70 [==============================] - 12s 166ms/step - loss: 1.9515 - accuracy: 0.2638 - val_loss: 1.9189 - val_accuracy: 0.2582\n",
      "Epoch 22/41\n",
      "70/70 [==============================] - 12s 165ms/step - loss: 1.9515 - accuracy: 0.2357 - val_loss: 1.9184 - val_accuracy: 0.2663\n",
      "Epoch 23/41\n",
      "70/70 [==============================] - 12s 173ms/step - loss: 1.9620 - accuracy: 0.2302 - val_loss: 1.9106 - val_accuracy: 0.2908\n",
      "Epoch 24/41\n",
      "70/70 [==============================] - 12s 174ms/step - loss: 1.9468 - accuracy: 0.2536 - val_loss: 1.9057 - val_accuracy: 0.2921\n",
      "Epoch 25/41\n",
      "70/70 [==============================] - 12s 166ms/step - loss: 1.9354 - accuracy: 0.2369 - val_loss: 1.9085 - val_accuracy: 0.2704\n",
      "Epoch 26/41\n",
      "70/70 [==============================] - 12s 173ms/step - loss: 1.9223 - accuracy: 0.2536 - val_loss: 1.9037 - val_accuracy: 0.2908\n",
      "Epoch 27/41\n",
      "70/70 [==============================] - 12s 174ms/step - loss: 1.9512 - accuracy: 0.2314 - val_loss: 1.8997 - val_accuracy: 0.2812\n",
      "Epoch 28/41\n",
      "70/70 [==============================] - 12s 174ms/step - loss: 1.9123 - accuracy: 0.2602 - val_loss: 1.8919 - val_accuracy: 0.2867\n",
      "Epoch 29/41\n",
      "70/70 [==============================] - 12s 174ms/step - loss: 1.9247 - accuracy: 0.2631 - val_loss: 1.8894 - val_accuracy: 0.2785\n",
      "Epoch 30/41\n",
      "70/70 [==============================] - 12s 166ms/step - loss: 1.9259 - accuracy: 0.2590 - val_loss: 1.8989 - val_accuracy: 0.2568\n",
      "Epoch 31/41\n",
      "70/70 [==============================] - 12s 166ms/step - loss: 1.9196 - accuracy: 0.2631 - val_loss: 1.8940 - val_accuracy: 0.2704\n",
      "Epoch 32/41\n",
      "70/70 [==============================] - 12s 175ms/step - loss: 1.8966 - accuracy: 0.2762 - val_loss: 1.8804 - val_accuracy: 0.2867\n",
      "Epoch 33/41\n",
      "70/70 [==============================] - 12s 166ms/step - loss: 1.9082 - accuracy: 0.2655 - val_loss: 1.8818 - val_accuracy: 0.2880\n",
      "Epoch 34/41\n",
      "70/70 [==============================] - 12s 174ms/step - loss: 1.9267 - accuracy: 0.2595 - val_loss: 1.8785 - val_accuracy: 0.2976\n",
      "Epoch 35/41\n",
      "70/70 [==============================] - 12s 173ms/step - loss: 1.9113 - accuracy: 0.2714 - val_loss: 1.8766 - val_accuracy: 0.2908\n",
      "Epoch 36/41\n",
      "70/70 [==============================] - 12s 176ms/step - loss: 1.9142 - accuracy: 0.2566 - val_loss: 1.8709 - val_accuracy: 0.3098\n",
      "Epoch 37/41\n",
      "70/70 [==============================] - 12s 166ms/step - loss: 1.9280 - accuracy: 0.2494 - val_loss: 1.8719 - val_accuracy: 0.3030\n",
      "Epoch 38/41\n",
      "70/70 [==============================] - 12s 166ms/step - loss: 1.8958 - accuracy: 0.2650 - val_loss: 1.8764 - val_accuracy: 0.2840\n",
      "Epoch 39/41\n",
      "70/70 [==============================] - 12s 174ms/step - loss: 1.8802 - accuracy: 0.2786 - val_loss: 1.8641 - val_accuracy: 0.3247\n",
      "Epoch 40/41\n",
      "70/70 [==============================] - 12s 173ms/step - loss: 1.8629 - accuracy: 0.2714 - val_loss: 1.8600 - val_accuracy: 0.3084\n",
      "Epoch 41/41\n",
      "70/70 [==============================] - 12s 172ms/step - loss: 1.8732 - accuracy: 0.2818 - val_loss: 1.8562 - val_accuracy: 0.2785\n"
     ]
    },
    {
     "data": {
      "text/html": [
       "<br/>Waiting for W&B process to finish, PID 166911<br/>Program ended successfully."
      ],
      "text/plain": [
       "<IPython.core.display.HTML object>"
      ]
     },
     "metadata": {},
     "output_type": "display_data"
    },
    {
     "data": {
      "text/html": [
       "Find user logs for this run at: <code>/home/charlie/Documents/courses/miniproject/notebooks/wandb/run-20210329_233317-uojn1ory/logs/debug.log</code>"
      ],
      "text/plain": [
       "<IPython.core.display.HTML object>"
      ]
     },
     "metadata": {},
     "output_type": "display_data"
    },
    {
     "data": {
      "text/html": [
       "Find internal logs for this run at: <code>/home/charlie/Documents/courses/miniproject/notebooks/wandb/run-20210329_233317-uojn1ory/logs/debug-internal.log</code>"
      ],
      "text/plain": [
       "<IPython.core.display.HTML object>"
      ]
     },
     "metadata": {},
     "output_type": "display_data"
    },
    {
     "data": {
      "text/html": [
       "<h3>Run summary:</h3><br/><style>\n",
       "    table.wandb td:nth-child(1) { padding: 0 10px; text-align: right }\n",
       "    </style><table class=\"wandb\">\n",
       "<tr><td>epoch</td><td>40</td></tr><tr><td>loss</td><td>1.87323</td></tr><tr><td>accuracy</td><td>0.28177</td></tr><tr><td>val_loss</td><td>1.85617</td></tr><tr><td>val_accuracy</td><td>0.27853</td></tr><tr><td>_runtime</td><td>510</td></tr><tr><td>_timestamp</td><td>1617057707</td></tr><tr><td>_step</td><td>40</td></tr><tr><td>best_val_loss</td><td>1.85617</td></tr><tr><td>best_epoch</td><td>40</td></tr></table>"
      ],
      "text/plain": [
       "<IPython.core.display.HTML object>"
      ]
     },
     "metadata": {},
     "output_type": "display_data"
    },
    {
     "data": {
      "text/html": [
       "<h3>Run history:</h3><br/><style>\n",
       "    table.wandb td:nth-child(1) { padding: 0 10px; text-align: right }\n",
       "    </style><table class=\"wandb\">\n",
       "<tr><td>epoch</td><td>▁▁▁▂▂▂▂▂▂▃▃▃▃▃▃▄▄▄▄▄▅▅▅▅▅▅▆▆▆▆▆▆▇▇▇▇▇▇██</td></tr><tr><td>loss</td><td>█▆▅▄▃▃▃▃▃▃▃▂▂▂▂▂▂▂▂▂▂▂▂▂▂▁▂▁▂▂▁▁▁▂▁▁▂▁▁▁</td></tr><tr><td>accuracy</td><td>▁▂▂▃▃▃▄▄▃▅▄▅▅▅▅▅▆▄▄▅▇▆▆▇▆▇▆▇▇▇▇█▇▇█▇▆▇██</td></tr><tr><td>val_loss</td><td>█▇▆▆▅▅▅▄▄▄▄▄▄▄▄▃▃▃▃▃▃▃▃▃▃▂▂▂▂▂▂▂▂▂▂▁▁▂▁▁</td></tr><tr><td>val_accuracy</td><td>▁▂▃▃▃▅▅▄▅▅▆▆▇▅▆▆▆▆▇▇▆▆▇▇▆▇▆▇▆▆▆▇▇▇▇▇▇▇█▆</td></tr><tr><td>_runtime</td><td>▁▁▁▂▂▂▂▂▂▃▃▃▃▃▃▄▄▄▄▄▅▅▅▅▅▅▆▆▆▆▆▆▇▇▇▇▇▇██</td></tr><tr><td>_timestamp</td><td>▁▁▁▂▂▂▂▂▂▃▃▃▃▃▃▄▄▄▄▄▅▅▅▅▅▅▆▆▆▆▆▆▇▇▇▇▇▇██</td></tr><tr><td>_step</td><td>▁▁▁▂▂▂▂▂▂▃▃▃▃▃▃▄▄▄▄▄▅▅▅▅▅▅▆▆▆▆▆▆▇▇▇▇▇▇██</td></tr></table><br/>"
      ],
      "text/plain": [
       "<IPython.core.display.HTML object>"
      ]
     },
     "metadata": {},
     "output_type": "display_data"
    },
    {
     "data": {
      "text/html": [
       "Synced 5 W&B file(s), 1 media file(s), 0 artifact file(s) and 1 other file(s)"
      ],
      "text/plain": [
       "<IPython.core.display.HTML object>"
      ]
     },
     "metadata": {},
     "output_type": "display_data"
    },
    {
     "data": {
      "text/html": [
       "\n",
       "                    <br/>Synced <strong style=\"color:#cdcd00\">devout-sweep-50</strong>: <a href=\"https://wandb.ai/charlieisalright/sentiment/runs/uojn1ory\" target=\"_blank\">https://wandb.ai/charlieisalright/sentiment/runs/uojn1ory</a><br/>\n",
       "                "
      ],
      "text/plain": [
       "<IPython.core.display.HTML object>"
      ]
     },
     "metadata": {},
     "output_type": "display_data"
    },
    {
     "name": "stderr",
     "output_type": "stream",
     "text": [
      "\u001b[34m\u001b[1mwandb\u001b[0m: Agent Starting Run: avwuluwj with config:\n",
      "\u001b[34m\u001b[1mwandb\u001b[0m: \tbatch_size: 24\n",
      "\u001b[34m\u001b[1mwandb\u001b[0m: \tepochs: 42\n",
      "\u001b[34m\u001b[1mwandb\u001b[0m: \tlearning_rate: 0.0011917611247473513\n",
      "Failed to detect the name of this notebook, you can set it manually with the WANDB_NOTEBOOK_NAME environment variable to enable code saving.\n",
      "\u001b[34m\u001b[1mwandb\u001b[0m: \u001b[33mWARNING\u001b[0m Ignored wandb.init() arg project when running a sweep\n",
      "\u001b[34m\u001b[1mwandb\u001b[0m: \u001b[33mWARNING\u001b[0m Ignored wandb.init() arg entity when running a sweep\n"
     ]
    },
    {
     "data": {
      "text/html": [
       "\n",
       "                Tracking run with wandb version 0.10.23<br/>\n",
       "                Syncing run <strong style=\"color:#cdcd00\">graceful-sweep-51</strong> to <a href=\"https://wandb.ai\" target=\"_blank\">Weights & Biases</a> <a href=\"https://docs.wandb.com/integrations/jupyter.html\" target=\"_blank\">(Documentation)</a>.<br/>\n",
       "                Project page: <a href=\"https://wandb.ai/charlieisalright/sentiment\" target=\"_blank\">https://wandb.ai/charlieisalright/sentiment</a><br/>\n",
       "                Sweep page: <a href=\"https://wandb.ai/charlieisalright/sentiment/sweeps/fnf3wbru\" target=\"_blank\">https://wandb.ai/charlieisalright/sentiment/sweeps/fnf3wbru</a><br/>\n",
       "Run page: <a href=\"https://wandb.ai/charlieisalright/sentiment/runs/avwuluwj\" target=\"_blank\">https://wandb.ai/charlieisalright/sentiment/runs/avwuluwj</a><br/>\n",
       "                Run data is saved locally in <code>/home/charlie/Documents/courses/miniproject/notebooks/wandb/run-20210329_234830-avwuluwj</code><br/><br/>\n",
       "            "
      ],
      "text/plain": [
       "<IPython.core.display.HTML object>"
      ]
     },
     "metadata": {},
     "output_type": "display_data"
    },
    {
     "name": "stdout",
     "output_type": "stream",
     "text": [
      "Epoch 1/42\n",
      "70/70 [==============================] - 32s 458ms/step - loss: 2.3832 - accuracy: 0.1487 - val_loss: 1.9987 - val_accuracy: 0.2351\n",
      "Epoch 2/42\n",
      "70/70 [==============================] - 32s 452ms/step - loss: 2.0231 - accuracy: 0.1989 - val_loss: 1.9725 - val_accuracy: 0.2446\n",
      "Epoch 3/42\n",
      "70/70 [==============================] - 32s 452ms/step - loss: 1.9884 - accuracy: 0.2238 - val_loss: 1.9521 - val_accuracy: 0.2636\n",
      "Epoch 4/42\n",
      "70/70 [==============================] - 31s 443ms/step - loss: 1.9854 - accuracy: 0.2139 - val_loss: 1.9572 - val_accuracy: 0.2405\n",
      "Epoch 5/42\n",
      "70/70 [==============================] - 31s 449ms/step - loss: 1.9556 - accuracy: 0.2395 - val_loss: 1.9518 - val_accuracy: 0.2527\n",
      "Epoch 6/42\n",
      "70/70 [==============================] - 31s 448ms/step - loss: 1.9497 - accuracy: 0.2348 - val_loss: 1.9098 - val_accuracy: 0.2772\n",
      "Epoch 7/42\n",
      "70/70 [==============================] - 31s 448ms/step - loss: 1.9212 - accuracy: 0.2670 - val_loss: 1.8673 - val_accuracy: 0.2948\n",
      "Epoch 8/42\n",
      "70/70 [==============================] - 31s 442ms/step - loss: 1.9107 - accuracy: 0.2455 - val_loss: 1.8704 - val_accuracy: 0.2745\n",
      "Epoch 9/42\n",
      "70/70 [==============================] - 31s 444ms/step - loss: 1.9085 - accuracy: 0.2458 - val_loss: 1.8721 - val_accuracy: 0.2826\n",
      "Epoch 10/42\n",
      "70/70 [==============================] - 32s 451ms/step - loss: 1.8948 - accuracy: 0.2646 - val_loss: 1.8438 - val_accuracy: 0.3030\n",
      "Epoch 11/42\n",
      "70/70 [==============================] - 31s 450ms/step - loss: 1.8943 - accuracy: 0.2849 - val_loss: 1.8376 - val_accuracy: 0.2935\n",
      "Epoch 12/42\n",
      "70/70 [==============================] - 32s 451ms/step - loss: 1.8654 - accuracy: 0.2802 - val_loss: 1.8148 - val_accuracy: 0.3057\n",
      "Epoch 13/42\n",
      "70/70 [==============================] - 32s 451ms/step - loss: 1.8489 - accuracy: 0.2826 - val_loss: 1.8002 - val_accuracy: 0.3193\n",
      "Epoch 14/42\n",
      "70/70 [==============================] - 31s 449ms/step - loss: 1.8235 - accuracy: 0.3023 - val_loss: 1.7875 - val_accuracy: 0.3274\n",
      "Epoch 15/42\n",
      "70/70 [==============================] - 31s 443ms/step - loss: 1.8270 - accuracy: 0.3059 - val_loss: 1.7895 - val_accuracy: 0.3383\n",
      "Epoch 16/42\n",
      "70/70 [==============================] - 32s 450ms/step - loss: 1.8179 - accuracy: 0.2987 - val_loss: 1.7572 - val_accuracy: 0.3573\n",
      "Epoch 17/42\n",
      "70/70 [==============================] - 31s 444ms/step - loss: 1.8191 - accuracy: 0.3048 - val_loss: 1.7693 - val_accuracy: 0.3397\n",
      "Epoch 18/42\n",
      "70/70 [==============================] - 32s 451ms/step - loss: 1.8038 - accuracy: 0.3035 - val_loss: 1.7813 - val_accuracy: 0.3234\n",
      "Epoch 19/42\n",
      "70/70 [==============================] - 31s 443ms/step - loss: 1.8068 - accuracy: 0.3053 - val_loss: 1.7943 - val_accuracy: 0.3043\n",
      "Epoch 20/42\n",
      "70/70 [==============================] - 32s 452ms/step - loss: 1.7874 - accuracy: 0.3071 - val_loss: 1.7420 - val_accuracy: 0.3397\n",
      "Epoch 21/42\n",
      "70/70 [==============================] - 31s 444ms/step - loss: 1.8112 - accuracy: 0.3125 - val_loss: 1.7434 - val_accuracy: 0.3601\n",
      "Epoch 22/42\n",
      "70/70 [==============================] - 31s 448ms/step - loss: 1.7823 - accuracy: 0.3286 - val_loss: 1.7323 - val_accuracy: 0.3410\n",
      "Epoch 23/42\n",
      "70/70 [==============================] - 31s 446ms/step - loss: 1.7875 - accuracy: 0.3202 - val_loss: 1.7488 - val_accuracy: 0.3315\n",
      "Epoch 24/42\n",
      "70/70 [==============================] - 31s 443ms/step - loss: 1.7833 - accuracy: 0.3250 - val_loss: 1.7805 - val_accuracy: 0.2948\n",
      "Epoch 25/42\n",
      "70/70 [==============================] - 32s 451ms/step - loss: 1.7581 - accuracy: 0.3196 - val_loss: 1.7132 - val_accuracy: 0.3465\n",
      "Epoch 26/42\n",
      "70/70 [==============================] - 31s 444ms/step - loss: 1.7697 - accuracy: 0.3185 - val_loss: 1.7145 - val_accuracy: 0.3560\n",
      "Epoch 27/42\n",
      "70/70 [==============================] - 31s 443ms/step - loss: 1.7687 - accuracy: 0.3309 - val_loss: 1.7156 - val_accuracy: 0.3533\n",
      "Epoch 28/42\n",
      "70/70 [==============================] - 31s 442ms/step - loss: 1.7721 - accuracy: 0.3303 - val_loss: 1.7225 - val_accuracy: 0.3560\n",
      "Epoch 29/42\n",
      "70/70 [==============================] - 31s 443ms/step - loss: 1.7355 - accuracy: 0.3471 - val_loss: 1.7154 - val_accuracy: 0.3465\n",
      "Epoch 30/42\n",
      "70/70 [==============================] - 32s 454ms/step - loss: 1.7264 - accuracy: 0.3507 - val_loss: 1.6954 - val_accuracy: 0.3628\n",
      "Epoch 31/42\n",
      "70/70 [==============================] - 32s 451ms/step - loss: 1.7375 - accuracy: 0.3369 - val_loss: 1.6850 - val_accuracy: 0.3478\n",
      "Epoch 32/42\n",
      "70/70 [==============================] - 31s 442ms/step - loss: 1.7425 - accuracy: 0.3369 - val_loss: 1.7207 - val_accuracy: 0.3329\n",
      "Epoch 33/42\n",
      "70/70 [==============================] - 32s 451ms/step - loss: 1.7311 - accuracy: 0.3375 - val_loss: 1.6824 - val_accuracy: 0.3804\n",
      "Epoch 34/42\n",
      "70/70 [==============================] - 32s 452ms/step - loss: 1.7143 - accuracy: 0.3560 - val_loss: 1.6499 - val_accuracy: 0.3750\n",
      "Epoch 35/42\n",
      "70/70 [==============================] - 31s 444ms/step - loss: 1.7186 - accuracy: 0.3590 - val_loss: 1.6985 - val_accuracy: 0.3641\n",
      "Epoch 36/42\n",
      "70/70 [==============================] - 32s 456ms/step - loss: 1.7342 - accuracy: 0.3446 - val_loss: 1.6426 - val_accuracy: 0.3832\n",
      "Epoch 37/42\n",
      "70/70 [==============================] - 31s 442ms/step - loss: 1.7010 - accuracy: 0.3674 - val_loss: 1.6604 - val_accuracy: 0.3750\n",
      "Epoch 38/42\n",
      "70/70 [==============================] - 32s 450ms/step - loss: 1.7086 - accuracy: 0.3477 - val_loss: 1.6302 - val_accuracy: 0.3954\n",
      "Epoch 39/42\n",
      "70/70 [==============================] - 31s 444ms/step - loss: 1.6847 - accuracy: 0.3714 - val_loss: 1.6507 - val_accuracy: 0.3533\n",
      "Epoch 40/42\n",
      "70/70 [==============================] - 32s 450ms/step - loss: 1.6672 - accuracy: 0.3853 - val_loss: 1.6185 - val_accuracy: 0.4253\n",
      "Epoch 41/42\n",
      "70/70 [==============================] - 31s 442ms/step - loss: 1.7095 - accuracy: 0.3524 - val_loss: 1.6378 - val_accuracy: 0.4171\n",
      "Epoch 42/42\n",
      "70/70 [==============================] - 31s 442ms/step - loss: 1.7033 - accuracy: 0.3513 - val_loss: 1.6378 - val_accuracy: 0.3682\n"
     ]
    },
    {
     "data": {
      "text/html": [
       "<br/>Waiting for W&B process to finish, PID 167189<br/>Program ended successfully."
      ],
      "text/plain": [
       "<IPython.core.display.HTML object>"
      ]
     },
     "metadata": {},
     "output_type": "display_data"
    },
    {
     "data": {
      "text/html": [
       "Find user logs for this run at: <code>/home/charlie/Documents/courses/miniproject/notebooks/wandb/run-20210329_234830-avwuluwj/logs/debug.log</code>"
      ],
      "text/plain": [
       "<IPython.core.display.HTML object>"
      ]
     },
     "metadata": {},
     "output_type": "display_data"
    },
    {
     "data": {
      "text/html": [
       "Find internal logs for this run at: <code>/home/charlie/Documents/courses/miniproject/notebooks/wandb/run-20210329_234830-avwuluwj/logs/debug-internal.log</code>"
      ],
      "text/plain": [
       "<IPython.core.display.HTML object>"
      ]
     },
     "metadata": {},
     "output_type": "display_data"
    },
    {
     "data": {
      "text/html": [
       "<h3>Run summary:</h3><br/><style>\n",
       "    table.wandb td:nth-child(1) { padding: 0 10px; text-align: right }\n",
       "    </style><table class=\"wandb\">\n",
       "<tr><td>epoch</td><td>41</td></tr><tr><td>loss</td><td>1.70329</td></tr><tr><td>accuracy</td><td>0.35125</td></tr><tr><td>val_loss</td><td>1.63782</td></tr><tr><td>val_accuracy</td><td>0.36821</td></tr><tr><td>_runtime</td><td>1348</td></tr><tr><td>_timestamp</td><td>1617059458</td></tr><tr><td>_step</td><td>41</td></tr><tr><td>best_val_loss</td><td>1.61852</td></tr><tr><td>best_epoch</td><td>39</td></tr></table>"
      ],
      "text/plain": [
       "<IPython.core.display.HTML object>"
      ]
     },
     "metadata": {},
     "output_type": "display_data"
    },
    {
     "data": {
      "text/html": [
       "<h3>Run history:</h3><br/><style>\n",
       "    table.wandb td:nth-child(1) { padding: 0 10px; text-align: right }\n",
       "    </style><table class=\"wandb\">\n",
       "<tr><td>epoch</td><td>▁▁▁▂▂▂▂▂▂▃▃▃▃▃▃▄▄▄▄▄▅▅▅▅▅▅▆▆▆▆▆▆▇▇▇▇▇▇██</td></tr><tr><td>loss</td><td>█▄▄▄▄▄▃▃▃▃▃▃▃▃▃▂▂▂▂▂▂▂▂▂▂▂▂▂▂▂▂▂▁▂▂▁▁▁▁▁</td></tr><tr><td>accuracy</td><td>▁▂▃▃▄▄▄▄▄▄▅▅▅▆▆▅▆▆▆▆▆▆▆▆▆▆▆▇▇▇▇▇▇▇▇▇▇██▇</td></tr><tr><td>val_loss</td><td>██▇▇▇▆▆▆▆▅▅▅▄▄▄▄▄▄▄▃▃▃▄▃▃▃▃▃▂▂▃▂▂▂▁▂▁▂▁▁</td></tr><tr><td>val_accuracy</td><td>▁▁▂▁▂▃▃▂▃▃▃▄▄▄▅▆▅▄▄▅▅▅▃▅▅▅▅▅▆▅▅▆▆▆▆▆▇▅█▆</td></tr><tr><td>_runtime</td><td>▁▁▁▂▂▂▂▂▂▃▃▃▃▃▃▄▄▄▄▄▅▅▅▅▅▅▆▆▆▆▆▆▇▇▇▇▇▇██</td></tr><tr><td>_timestamp</td><td>▁▁▁▂▂▂▂▂▂▃▃▃▃▃▃▄▄▄▄▄▅▅▅▅▅▅▆▆▆▆▆▆▇▇▇▇▇▇██</td></tr><tr><td>_step</td><td>▁▁▁▂▂▂▂▂▂▃▃▃▃▃▃▄▄▄▄▄▅▅▅▅▅▅▆▆▆▆▆▆▇▇▇▇▇▇██</td></tr></table><br/>"
      ],
      "text/plain": [
       "<IPython.core.display.HTML object>"
      ]
     },
     "metadata": {},
     "output_type": "display_data"
    },
    {
     "data": {
      "text/html": [
       "Synced 5 W&B file(s), 1 media file(s), 0 artifact file(s) and 1 other file(s)"
      ],
      "text/plain": [
       "<IPython.core.display.HTML object>"
      ]
     },
     "metadata": {},
     "output_type": "display_data"
    },
    {
     "data": {
      "text/html": [
       "\n",
       "                    <br/>Synced <strong style=\"color:#cdcd00\">graceful-sweep-51</strong>: <a href=\"https://wandb.ai/charlieisalright/sentiment/runs/avwuluwj\" target=\"_blank\">https://wandb.ai/charlieisalright/sentiment/runs/avwuluwj</a><br/>\n",
       "                "
      ],
      "text/plain": [
       "<IPython.core.display.HTML object>"
      ]
     },
     "metadata": {},
     "output_type": "display_data"
    },
    {
     "name": "stderr",
     "output_type": "stream",
     "text": [
      "\u001b[34m\u001b[1mwandb\u001b[0m: Agent Starting Run: pdvsiad1 with config:\n",
      "\u001b[34m\u001b[1mwandb\u001b[0m: \tbatch_size: 23\n",
      "\u001b[34m\u001b[1mwandb\u001b[0m: \tepochs: 43\n",
      "\u001b[34m\u001b[1mwandb\u001b[0m: \tlearning_rate: 0.0008662625987559529\n",
      "Failed to detect the name of this notebook, you can set it manually with the WANDB_NOTEBOOK_NAME environment variable to enable code saving.\n",
      "\u001b[34m\u001b[1mwandb\u001b[0m: \u001b[33mWARNING\u001b[0m Ignored wandb.init() arg project when running a sweep\n",
      "\u001b[34m\u001b[1mwandb\u001b[0m: \u001b[33mWARNING\u001b[0m Ignored wandb.init() arg entity when running a sweep\n"
     ]
    },
    {
     "data": {
      "text/html": [
       "\n",
       "                Tracking run with wandb version 0.10.23<br/>\n",
       "                Syncing run <strong style=\"color:#cdcd00\">stellar-sweep-52</strong> to <a href=\"https://wandb.ai\" target=\"_blank\">Weights & Biases</a> <a href=\"https://docs.wandb.com/integrations/jupyter.html\" target=\"_blank\">(Documentation)</a>.<br/>\n",
       "                Project page: <a href=\"https://wandb.ai/charlieisalright/sentiment\" target=\"_blank\">https://wandb.ai/charlieisalright/sentiment</a><br/>\n",
       "                Sweep page: <a href=\"https://wandb.ai/charlieisalright/sentiment/sweeps/fnf3wbru\" target=\"_blank\">https://wandb.ai/charlieisalright/sentiment/sweeps/fnf3wbru</a><br/>\n",
       "Run page: <a href=\"https://wandb.ai/charlieisalright/sentiment/runs/pdvsiad1\" target=\"_blank\">https://wandb.ai/charlieisalright/sentiment/runs/pdvsiad1</a><br/>\n",
       "                Run data is saved locally in <code>/home/charlie/Documents/courses/miniproject/notebooks/wandb/run-20210330_001104-pdvsiad1</code><br/><br/>\n",
       "            "
      ],
      "text/plain": [
       "<IPython.core.display.HTML object>"
      ]
     },
     "metadata": {},
     "output_type": "display_data"
    },
    {
     "name": "stdout",
     "output_type": "stream",
     "text": [
      "Epoch 1/43\n",
      "70/70 [==============================] - 31s 444ms/step - loss: 2.3787 - accuracy: 0.1407 - val_loss: 2.0032 - val_accuracy: 0.2106\n",
      "Epoch 2/43\n",
      "70/70 [==============================] - 30s 430ms/step - loss: 2.0315 - accuracy: 0.1993 - val_loss: 2.0035 - val_accuracy: 0.2065\n",
      "Epoch 3/43\n",
      "70/70 [==============================] - 31s 437ms/step - loss: 2.0144 - accuracy: 0.2106 - val_loss: 1.9664 - val_accuracy: 0.2622\n",
      "Epoch 4/43\n",
      "70/70 [==============================] - 31s 436ms/step - loss: 1.9983 - accuracy: 0.2067 - val_loss: 1.9494 - val_accuracy: 0.2500\n",
      "Epoch 5/43\n",
      "70/70 [==============================] - 30s 435ms/step - loss: 1.9795 - accuracy: 0.2316 - val_loss: 1.9432 - val_accuracy: 0.2609\n",
      "Epoch 6/43\n",
      "70/70 [==============================] - 30s 434ms/step - loss: 1.9618 - accuracy: 0.2416 - val_loss: 1.9128 - val_accuracy: 0.3084\n",
      "Epoch 7/43\n",
      "70/70 [==============================] - 30s 435ms/step - loss: 1.9397 - accuracy: 0.2441 - val_loss: 1.8908 - val_accuracy: 0.3030\n",
      "Epoch 8/43\n",
      "70/70 [==============================] - 30s 429ms/step - loss: 1.9335 - accuracy: 0.2534 - val_loss: 1.8934 - val_accuracy: 0.2908\n",
      "Epoch 9/43\n",
      "70/70 [==============================] - 31s 436ms/step - loss: 1.9200 - accuracy: 0.2646 - val_loss: 1.8768 - val_accuracy: 0.3030\n",
      "Epoch 10/43\n",
      "70/70 [==============================] - 30s 429ms/step - loss: 1.9160 - accuracy: 0.2640 - val_loss: 1.8770 - val_accuracy: 0.2867\n",
      "Epoch 11/43\n",
      "70/70 [==============================] - 30s 436ms/step - loss: 1.8893 - accuracy: 0.2746 - val_loss: 1.8603 - val_accuracy: 0.2609\n",
      "Epoch 12/43\n",
      "70/70 [==============================] - 31s 437ms/step - loss: 1.8915 - accuracy: 0.2702 - val_loss: 1.8230 - val_accuracy: 0.3166\n",
      "Epoch 13/43\n",
      "70/70 [==============================] - 30s 428ms/step - loss: 1.8739 - accuracy: 0.2721 - val_loss: 1.8392 - val_accuracy: 0.2908\n",
      "Epoch 14/43\n",
      "70/70 [==============================] - 30s 429ms/step - loss: 1.8670 - accuracy: 0.2764 - val_loss: 1.8349 - val_accuracy: 0.3111\n",
      "Epoch 15/43\n",
      "70/70 [==============================] - 31s 436ms/step - loss: 1.8477 - accuracy: 0.2864 - val_loss: 1.7997 - val_accuracy: 0.3451\n",
      "Epoch 16/43\n",
      "70/70 [==============================] - 30s 435ms/step - loss: 1.8387 - accuracy: 0.2983 - val_loss: 1.7877 - val_accuracy: 0.3315\n",
      "Epoch 17/43\n",
      "70/70 [==============================] - 31s 436ms/step - loss: 1.8185 - accuracy: 0.3070 - val_loss: 1.7792 - val_accuracy: 0.3519\n",
      "Epoch 18/43\n",
      "70/70 [==============================] - 30s 429ms/step - loss: 1.7813 - accuracy: 0.3281 - val_loss: 1.8008 - val_accuracy: 0.3152\n",
      "Epoch 19/43\n",
      "70/70 [==============================] - 31s 438ms/step - loss: 1.8311 - accuracy: 0.2994 - val_loss: 1.7557 - val_accuracy: 0.3451\n",
      "Epoch 20/43\n",
      "70/70 [==============================] - 30s 430ms/step - loss: 1.8089 - accuracy: 0.3180 - val_loss: 1.8109 - val_accuracy: 0.2636\n",
      "Epoch 21/43\n",
      "70/70 [==============================] - 31s 437ms/step - loss: 1.8094 - accuracy: 0.3163 - val_loss: 1.7507 - val_accuracy: 0.3533\n",
      "Epoch 22/43\n",
      "70/70 [==============================] - 30s 429ms/step - loss: 1.8121 - accuracy: 0.3039 - val_loss: 1.7663 - val_accuracy: 0.3274\n",
      "Epoch 23/43\n",
      "70/70 [==============================] - 30s 429ms/step - loss: 1.7642 - accuracy: 0.3194 - val_loss: 1.7634 - val_accuracy: 0.3274\n",
      "Epoch 24/43\n",
      "70/70 [==============================] - 30s 435ms/step - loss: 1.7823 - accuracy: 0.3325 - val_loss: 1.7274 - val_accuracy: 0.3587\n",
      "Epoch 25/43\n",
      "70/70 [==============================] - 30s 435ms/step - loss: 1.7735 - accuracy: 0.3273 - val_loss: 1.7129 - val_accuracy: 0.3641\n",
      "Epoch 26/43\n",
      "70/70 [==============================] - 30s 434ms/step - loss: 1.7528 - accuracy: 0.3412 - val_loss: 1.7074 - val_accuracy: 0.3519\n",
      "Epoch 27/43\n",
      "70/70 [==============================] - 30s 430ms/step - loss: 1.7527 - accuracy: 0.3412 - val_loss: 1.7214 - val_accuracy: 0.3465\n",
      "Epoch 28/43\n",
      "70/70 [==============================] - 31s 437ms/step - loss: 1.7375 - accuracy: 0.3437 - val_loss: 1.7017 - val_accuracy: 0.3560\n",
      "Epoch 29/43\n",
      "70/70 [==============================] - 30s 430ms/step - loss: 1.7176 - accuracy: 0.3689 - val_loss: 1.7126 - val_accuracy: 0.3438\n",
      "Epoch 30/43\n",
      "70/70 [==============================] - 31s 437ms/step - loss: 1.7289 - accuracy: 0.3497 - val_loss: 1.6768 - val_accuracy: 0.4076\n",
      "Epoch 31/43\n",
      "70/70 [==============================] - 30s 430ms/step - loss: 1.7407 - accuracy: 0.3398 - val_loss: 1.6915 - val_accuracy: 0.3736\n",
      "Epoch 32/43\n",
      "70/70 [==============================] - 30s 432ms/step - loss: 1.7063 - accuracy: 0.3636 - val_loss: 1.6854 - val_accuracy: 0.3682\n",
      "Epoch 33/43\n",
      "70/70 [==============================] - 31s 439ms/step - loss: 1.7154 - accuracy: 0.3493 - val_loss: 1.6719 - val_accuracy: 0.3927\n",
      "Epoch 34/43\n",
      "70/70 [==============================] - 30s 428ms/step - loss: 1.7343 - accuracy: 0.3412 - val_loss: 1.7628 - val_accuracy: 0.3139\n",
      "Epoch 35/43\n",
      "70/70 [==============================] - 30s 428ms/step - loss: 1.7088 - accuracy: 0.3568 - val_loss: 1.7284 - val_accuracy: 0.3723\n",
      "Epoch 36/43\n",
      "70/70 [==============================] - 31s 439ms/step - loss: 1.7274 - accuracy: 0.3400 - val_loss: 1.6684 - val_accuracy: 0.3940\n",
      "Epoch 37/43\n",
      "70/70 [==============================] - 31s 436ms/step - loss: 1.6671 - accuracy: 0.3717 - val_loss: 1.6510 - val_accuracy: 0.3954\n",
      "Epoch 38/43\n",
      "70/70 [==============================] - 30s 428ms/step - loss: 1.7121 - accuracy: 0.3549 - val_loss: 1.6920 - val_accuracy: 0.3655\n",
      "Epoch 39/43\n",
      "70/70 [==============================] - 31s 436ms/step - loss: 1.7044 - accuracy: 0.3472 - val_loss: 1.6406 - val_accuracy: 0.3981\n",
      "Epoch 40/43\n",
      "70/70 [==============================] - 30s 430ms/step - loss: 1.6894 - accuracy: 0.3618 - val_loss: 1.6458 - val_accuracy: 0.4049\n",
      "Epoch 41/43\n",
      "70/70 [==============================] - 30s 430ms/step - loss: 1.6972 - accuracy: 0.3761 - val_loss: 1.7165 - val_accuracy: 0.3641\n",
      "Epoch 42/43\n",
      "70/70 [==============================] - 30s 431ms/step - loss: 1.7030 - accuracy: 0.3534 - val_loss: 1.6796 - val_accuracy: 0.3682\n",
      "Epoch 43/43\n",
      "70/70 [==============================] - 30s 430ms/step - loss: 1.6802 - accuracy: 0.3714 - val_loss: 1.6517 - val_accuracy: 0.3899\n"
     ]
    },
    {
     "data": {
      "text/html": [
       "<br/>Waiting for W&B process to finish, PID 167594<br/>Program ended successfully."
      ],
      "text/plain": [
       "<IPython.core.display.HTML object>"
      ]
     },
     "metadata": {},
     "output_type": "display_data"
    },
    {
     "data": {
      "text/html": [
       "Find user logs for this run at: <code>/home/charlie/Documents/courses/miniproject/notebooks/wandb/run-20210330_001104-pdvsiad1/logs/debug.log</code>"
      ],
      "text/plain": [
       "<IPython.core.display.HTML object>"
      ]
     },
     "metadata": {},
     "output_type": "display_data"
    },
    {
     "data": {
      "text/html": [
       "Find internal logs for this run at: <code>/home/charlie/Documents/courses/miniproject/notebooks/wandb/run-20210330_001104-pdvsiad1/logs/debug-internal.log</code>"
      ],
      "text/plain": [
       "<IPython.core.display.HTML object>"
      ]
     },
     "metadata": {},
     "output_type": "display_data"
    },
    {
     "data": {
      "text/html": [
       "<h3>Run summary:</h3><br/><style>\n",
       "    table.wandb td:nth-child(1) { padding: 0 10px; text-align: right }\n",
       "    </style><table class=\"wandb\">\n",
       "<tr><td>epoch</td><td>42</td></tr><tr><td>loss</td><td>1.68024</td></tr><tr><td>accuracy</td><td>0.37143</td></tr><tr><td>val_loss</td><td>1.65166</td></tr><tr><td>val_accuracy</td><td>0.38995</td></tr><tr><td>_runtime</td><td>1335</td></tr><tr><td>_timestamp</td><td>1617060799</td></tr><tr><td>_step</td><td>42</td></tr><tr><td>best_val_loss</td><td>1.64063</td></tr><tr><td>best_epoch</td><td>38</td></tr></table>"
      ],
      "text/plain": [
       "<IPython.core.display.HTML object>"
      ]
     },
     "metadata": {},
     "output_type": "display_data"
    },
    {
     "data": {
      "text/html": [
       "<h3>Run history:</h3><br/><style>\n",
       "    table.wandb td:nth-child(1) { padding: 0 10px; text-align: right }\n",
       "    </style><table class=\"wandb\">\n",
       "<tr><td>epoch</td><td>▁▁▁▁▂▂▂▂▂▃▃▃▃▃▃▄▄▄▄▄▅▅▅▅▅▅▆▆▆▆▆▇▇▇▇▇▇▇██</td></tr><tr><td>loss</td><td>█▅▄▄▄▄▄▄▃▃▃▃▃▃▃▂▂▃▂▂▂▂▂▂▂▂▁▂▂▁▁▂▁▂▁▁▁▁▁▁</td></tr><tr><td>accuracy</td><td>▁▃▃▃▄▄▄▄▅▅▅▅▅▅▆▆▇▆▆▆▆▆▇▇▇▇█▇▇█▇▇▇▇█▇▇███</td></tr><tr><td>val_loss</td><td>██▇▇▇▆▆▆▆▆▅▅▅▄▄▄▄▃▄▃▃▃▃▂▂▃▂▂▂▂▂▃▃▂▁▂▁▁▂▁</td></tr><tr><td>val_accuracy</td><td>▁▁▃▃▃▅▄▄▄▄▃▅▄▆▅▆▅▆▃▆▅▅▆▆▆▆▆█▇▇▇▅▇██▇██▆▇</td></tr><tr><td>_runtime</td><td>▁▁▁▂▂▂▂▂▂▃▃▃▃▃▄▄▄▄▄▄▅▅▅▅▅▅▆▆▆▆▆▇▇▇▇▇▇███</td></tr><tr><td>_timestamp</td><td>▁▁▁▂▂▂▂▂▂▃▃▃▃▃▄▄▄▄▄▄▅▅▅▅▅▅▆▆▆▆▆▇▇▇▇▇▇███</td></tr><tr><td>_step</td><td>▁▁▁▁▂▂▂▂▂▃▃▃▃▃▃▄▄▄▄▄▅▅▅▅▅▅▆▆▆▆▆▇▇▇▇▇▇▇██</td></tr></table><br/>"
      ],
      "text/plain": [
       "<IPython.core.display.HTML object>"
      ]
     },
     "metadata": {},
     "output_type": "display_data"
    },
    {
     "data": {
      "text/html": [
       "Synced 5 W&B file(s), 1 media file(s), 0 artifact file(s) and 1 other file(s)"
      ],
      "text/plain": [
       "<IPython.core.display.HTML object>"
      ]
     },
     "metadata": {},
     "output_type": "display_data"
    },
    {
     "data": {
      "text/html": [
       "\n",
       "                    <br/>Synced <strong style=\"color:#cdcd00\">stellar-sweep-52</strong>: <a href=\"https://wandb.ai/charlieisalright/sentiment/runs/pdvsiad1\" target=\"_blank\">https://wandb.ai/charlieisalright/sentiment/runs/pdvsiad1</a><br/>\n",
       "                "
      ],
      "text/plain": [
       "<IPython.core.display.HTML object>"
      ]
     },
     "metadata": {},
     "output_type": "display_data"
    },
    {
     "name": "stderr",
     "output_type": "stream",
     "text": [
      "\u001b[34m\u001b[1mwandb\u001b[0m: Agent Starting Run: b7sr2ki7 with config:\n",
      "\u001b[34m\u001b[1mwandb\u001b[0m: \tbatch_size: 21\n",
      "\u001b[34m\u001b[1mwandb\u001b[0m: \tepochs: 41\n",
      "\u001b[34m\u001b[1mwandb\u001b[0m: \tlearning_rate: 0.0017352728541343032\n",
      "Failed to detect the name of this notebook, you can set it manually with the WANDB_NOTEBOOK_NAME environment variable to enable code saving.\n",
      "\u001b[34m\u001b[1mwandb\u001b[0m: \u001b[33mWARNING\u001b[0m Ignored wandb.init() arg project when running a sweep\n",
      "\u001b[34m\u001b[1mwandb\u001b[0m: \u001b[33mWARNING\u001b[0m Ignored wandb.init() arg entity when running a sweep\n"
     ]
    },
    {
     "data": {
      "text/html": [
       "\n",
       "                Tracking run with wandb version 0.10.23<br/>\n",
       "                Syncing run <strong style=\"color:#cdcd00\">northern-sweep-53</strong> to <a href=\"https://wandb.ai\" target=\"_blank\">Weights & Biases</a> <a href=\"https://docs.wandb.com/integrations/jupyter.html\" target=\"_blank\">(Documentation)</a>.<br/>\n",
       "                Project page: <a href=\"https://wandb.ai/charlieisalright/sentiment\" target=\"_blank\">https://wandb.ai/charlieisalright/sentiment</a><br/>\n",
       "                Sweep page: <a href=\"https://wandb.ai/charlieisalright/sentiment/sweeps/fnf3wbru\" target=\"_blank\">https://wandb.ai/charlieisalright/sentiment/sweeps/fnf3wbru</a><br/>\n",
       "Run page: <a href=\"https://wandb.ai/charlieisalright/sentiment/runs/b7sr2ki7\" target=\"_blank\">https://wandb.ai/charlieisalright/sentiment/runs/b7sr2ki7</a><br/>\n",
       "                Run data is saved locally in <code>/home/charlie/Documents/courses/miniproject/notebooks/wandb/run-20210330_003325-b7sr2ki7</code><br/><br/>\n",
       "            "
      ],
      "text/plain": [
       "<IPython.core.display.HTML object>"
      ]
     },
     "metadata": {},
     "output_type": "display_data"
    },
    {
     "name": "stdout",
     "output_type": "stream",
     "text": [
      "Epoch 1/41\n",
      "70/70 [==============================] - 29s 415ms/step - loss: 2.3436 - accuracy: 0.1563 - val_loss: 2.0178 - val_accuracy: 0.1698\n",
      "Epoch 2/41\n",
      "70/70 [==============================] - 28s 406ms/step - loss: 2.0421 - accuracy: 0.1837 - val_loss: 2.0077 - val_accuracy: 0.1902\n",
      "Epoch 3/41\n",
      "70/70 [==============================] - 28s 405ms/step - loss: 2.0269 - accuracy: 0.1804 - val_loss: 1.9832 - val_accuracy: 0.1970\n",
      "Epoch 4/41\n",
      "70/70 [==============================] - 28s 404ms/step - loss: 2.0056 - accuracy: 0.1811 - val_loss: 1.9449 - val_accuracy: 0.2418\n",
      "Epoch 5/41\n",
      "70/70 [==============================] - 28s 406ms/step - loss: 1.9933 - accuracy: 0.2027 - val_loss: 1.9414 - val_accuracy: 0.2568\n",
      "Epoch 6/41\n",
      "70/70 [==============================] - 28s 404ms/step - loss: 1.9711 - accuracy: 0.2287 - val_loss: 1.9146 - val_accuracy: 0.2731\n",
      "Epoch 7/41\n",
      "70/70 [==============================] - 28s 401ms/step - loss: 1.9539 - accuracy: 0.2410 - val_loss: 1.9569 - val_accuracy: 0.2065\n",
      "Epoch 8/41\n",
      "70/70 [==============================] - 28s 404ms/step - loss: 1.9658 - accuracy: 0.2087 - val_loss: 1.8926 - val_accuracy: 0.2717\n",
      "Epoch 9/41\n",
      "70/70 [==============================] - 28s 396ms/step - loss: 1.9614 - accuracy: 0.2183 - val_loss: 1.9056 - val_accuracy: 0.2677\n",
      "Epoch 10/41\n",
      "70/70 [==============================] - 28s 404ms/step - loss: 1.9405 - accuracy: 0.2218 - val_loss: 1.8888 - val_accuracy: 0.2758\n",
      "Epoch 11/41\n",
      "70/70 [==============================] - 28s 396ms/step - loss: 1.9289 - accuracy: 0.2355 - val_loss: 1.8896 - val_accuracy: 0.3098\n",
      "Epoch 12/41\n",
      "70/70 [==============================] - 28s 396ms/step - loss: 1.9300 - accuracy: 0.2300 - val_loss: 1.9175 - val_accuracy: 0.2255\n",
      "Epoch 13/41\n",
      "70/70 [==============================] - 28s 397ms/step - loss: 1.9484 - accuracy: 0.2231 - val_loss: 1.9136 - val_accuracy: 0.2582\n",
      "Epoch 14/41\n",
      "70/70 [==============================] - 28s 403ms/step - loss: 1.9152 - accuracy: 0.2472 - val_loss: 1.8860 - val_accuracy: 0.2989\n",
      "Epoch 15/41\n",
      "70/70 [==============================] - 28s 404ms/step - loss: 1.8937 - accuracy: 0.2521 - val_loss: 1.8589 - val_accuracy: 0.2826\n",
      "Epoch 16/41\n",
      "70/70 [==============================] - 28s 406ms/step - loss: 1.8945 - accuracy: 0.2605 - val_loss: 1.8515 - val_accuracy: 0.2867\n",
      "Epoch 17/41\n",
      "70/70 [==============================] - 28s 407ms/step - loss: 1.9030 - accuracy: 0.2503 - val_loss: 1.8138 - val_accuracy: 0.3383\n",
      "Epoch 18/41\n",
      "70/70 [==============================] - 28s 399ms/step - loss: 1.9023 - accuracy: 0.2619 - val_loss: 1.8603 - val_accuracy: 0.3043\n",
      "Epoch 19/41\n",
      "70/70 [==============================] - 28s 399ms/step - loss: 1.9014 - accuracy: 0.2673 - val_loss: 1.8575 - val_accuracy: 0.2908\n",
      "Epoch 20/41\n",
      "70/70 [==============================] - 28s 398ms/step - loss: 1.9201 - accuracy: 0.2534 - val_loss: 1.8531 - val_accuracy: 0.2867\n",
      "Epoch 21/41\n",
      "70/70 [==============================] - 28s 397ms/step - loss: 1.8712 - accuracy: 0.2638 - val_loss: 1.8433 - val_accuracy: 0.2935\n",
      "Epoch 22/41\n",
      "70/70 [==============================] - 28s 404ms/step - loss: 1.8880 - accuracy: 0.2653 - val_loss: 1.8276 - val_accuracy: 0.3179\n",
      "Epoch 23/41\n",
      "70/70 [==============================] - 28s 407ms/step - loss: 1.8677 - accuracy: 0.2531 - val_loss: 1.8071 - val_accuracy: 0.3166\n",
      "Epoch 24/41\n",
      "70/70 [==============================] - 28s 397ms/step - loss: 1.8557 - accuracy: 0.2603 - val_loss: 1.8340 - val_accuracy: 0.2935\n",
      "Epoch 25/41\n",
      "70/70 [==============================] - 28s 400ms/step - loss: 1.8768 - accuracy: 0.2714 - val_loss: 1.8168 - val_accuracy: 0.3179\n",
      "Epoch 26/41\n",
      "70/70 [==============================] - 28s 396ms/step - loss: 1.8719 - accuracy: 0.2665 - val_loss: 1.8470 - val_accuracy: 0.2758\n",
      "Epoch 27/41\n",
      "70/70 [==============================] - 28s 397ms/step - loss: 1.8450 - accuracy: 0.2948 - val_loss: 1.8392 - val_accuracy: 0.2649\n",
      "Epoch 28/41\n",
      "70/70 [==============================] - 28s 404ms/step - loss: 1.8319 - accuracy: 0.2982 - val_loss: 1.7921 - val_accuracy: 0.3465\n",
      "Epoch 29/41\n",
      "70/70 [==============================] - 28s 404ms/step - loss: 1.8322 - accuracy: 0.3010 - val_loss: 1.7433 - val_accuracy: 0.3546\n",
      "Epoch 30/41\n",
      "70/70 [==============================] - 28s 396ms/step - loss: 1.8563 - accuracy: 0.2851 - val_loss: 1.8051 - val_accuracy: 0.3152\n",
      "Epoch 31/41\n",
      "70/70 [==============================] - 28s 397ms/step - loss: 1.8136 - accuracy: 0.2886 - val_loss: 1.8220 - val_accuracy: 0.2772\n",
      "Epoch 32/41\n",
      "70/70 [==============================] - 28s 399ms/step - loss: 1.8064 - accuracy: 0.2952 - val_loss: 1.7777 - val_accuracy: 0.3139\n",
      "Epoch 33/41\n",
      "70/70 [==============================] - 28s 396ms/step - loss: 1.8291 - accuracy: 0.3017 - val_loss: 1.7544 - val_accuracy: 0.3438\n",
      "Epoch 34/41\n",
      "70/70 [==============================] - 28s 399ms/step - loss: 1.8106 - accuracy: 0.3068 - val_loss: 1.7850 - val_accuracy: 0.3302\n",
      "Epoch 35/41\n",
      "70/70 [==============================] - 28s 399ms/step - loss: 1.8225 - accuracy: 0.2844 - val_loss: 1.7782 - val_accuracy: 0.3288\n",
      "Epoch 36/41\n",
      "70/70 [==============================] - 28s 396ms/step - loss: 1.8344 - accuracy: 0.2955 - val_loss: 1.7621 - val_accuracy: 0.3315\n",
      "Epoch 37/41\n",
      "70/70 [==============================] - 28s 403ms/step - loss: 1.8099 - accuracy: 0.2961 - val_loss: 1.7277 - val_accuracy: 0.3234\n",
      "Epoch 38/41\n",
      "70/70 [==============================] - 28s 396ms/step - loss: 1.7942 - accuracy: 0.3237 - val_loss: 1.7380 - val_accuracy: 0.3451\n",
      "Epoch 39/41\n",
      "70/70 [==============================] - 28s 396ms/step - loss: 1.8217 - accuracy: 0.3051 - val_loss: 1.7734 - val_accuracy: 0.3125\n",
      "Epoch 40/41\n",
      "70/70 [==============================] - 28s 396ms/step - loss: 1.8303 - accuracy: 0.2886 - val_loss: 1.7575 - val_accuracy: 0.3302\n",
      "Epoch 41/41\n",
      "70/70 [==============================] - 28s 400ms/step - loss: 1.8194 - accuracy: 0.3007 - val_loss: 1.7529 - val_accuracy: 0.3207\n"
     ]
    },
    {
     "data": {
      "text/html": [
       "<br/>Waiting for W&B process to finish, PID 167968<br/>Program ended successfully."
      ],
      "text/plain": [
       "<IPython.core.display.HTML object>"
      ]
     },
     "metadata": {},
     "output_type": "display_data"
    },
    {
     "data": {
      "text/html": [
       "Find user logs for this run at: <code>/home/charlie/Documents/courses/miniproject/notebooks/wandb/run-20210330_003325-b7sr2ki7/logs/debug.log</code>"
      ],
      "text/plain": [
       "<IPython.core.display.HTML object>"
      ]
     },
     "metadata": {},
     "output_type": "display_data"
    },
    {
     "data": {
      "text/html": [
       "Find internal logs for this run at: <code>/home/charlie/Documents/courses/miniproject/notebooks/wandb/run-20210330_003325-b7sr2ki7/logs/debug-internal.log</code>"
      ],
      "text/plain": [
       "<IPython.core.display.HTML object>"
      ]
     },
     "metadata": {},
     "output_type": "display_data"
    },
    {
     "data": {
      "text/html": [
       "<h3>Run summary:</h3><br/><style>\n",
       "    table.wandb td:nth-child(1) { padding: 0 10px; text-align: right }\n",
       "    </style><table class=\"wandb\">\n",
       "<tr><td>epoch</td><td>40</td></tr><tr><td>loss</td><td>1.81936</td></tr><tr><td>accuracy</td><td>0.30068</td></tr><tr><td>val_loss</td><td>1.75292</td></tr><tr><td>val_accuracy</td><td>0.32065</td></tr><tr><td>_runtime</td><td>1191</td></tr><tr><td>_timestamp</td><td>1617061996</td></tr><tr><td>_step</td><td>40</td></tr><tr><td>best_val_loss</td><td>1.72769</td></tr><tr><td>best_epoch</td><td>36</td></tr></table>"
      ],
      "text/plain": [
       "<IPython.core.display.HTML object>"
      ]
     },
     "metadata": {},
     "output_type": "display_data"
    },
    {
     "data": {
      "text/html": [
       "<h3>Run history:</h3><br/><style>\n",
       "    table.wandb td:nth-child(1) { padding: 0 10px; text-align: right }\n",
       "    </style><table class=\"wandb\">\n",
       "<tr><td>epoch</td><td>▁▁▁▂▂▂▂▂▂▃▃▃▃▃▃▄▄▄▄▄▅▅▅▅▅▅▆▆▆▆▆▆▇▇▇▇▇▇██</td></tr><tr><td>loss</td><td>█▄▄▄▄▃▃▃▃▃▃▃▃▃▂▂▂▂▂▃▂▂▂▂▂▂▂▁▁▂▁▁▁▁▁▂▁▁▁▁</td></tr><tr><td>accuracy</td><td>▁▂▂▂▃▄▅▃▄▄▄▄▄▅▅▅▅▅▆▅▅▆▅▅▆▆▇▇▇▆▇▇▇▇▆▇▇█▇▇</td></tr><tr><td>val_loss</td><td>██▇▆▆▆▇▅▅▅▅▆▅▅▄▄▃▄▄▄▄▃▃▄▃▄▄▃▁▃▃▂▂▂▂▂▁▁▂▂</td></tr><tr><td>val_accuracy</td><td>▁▂▂▄▄▅▂▅▅▅▆▃▄▆▅▅▇▆▆▅▆▇▇▆▇▅▅██▇▅▆█▇▇▇▇█▆▇</td></tr><tr><td>_runtime</td><td>▁▁▁▂▂▂▂▂▂▃▃▃▃▃▃▄▄▄▄▄▅▅▅▅▅▅▆▆▆▆▆▆▇▇▇▇▇▇██</td></tr><tr><td>_timestamp</td><td>▁▁▁▂▂▂▂▂▂▃▃▃▃▃▃▄▄▄▄▄▅▅▅▅▅▅▆▆▆▆▆▆▇▇▇▇▇▇██</td></tr><tr><td>_step</td><td>▁▁▁▂▂▂▂▂▂▃▃▃▃▃▃▄▄▄▄▄▅▅▅▅▅▅▆▆▆▆▆▆▇▇▇▇▇▇██</td></tr></table><br/>"
      ],
      "text/plain": [
       "<IPython.core.display.HTML object>"
      ]
     },
     "metadata": {},
     "output_type": "display_data"
    },
    {
     "data": {
      "text/html": [
       "Synced 5 W&B file(s), 1 media file(s), 0 artifact file(s) and 1 other file(s)"
      ],
      "text/plain": [
       "<IPython.core.display.HTML object>"
      ]
     },
     "metadata": {},
     "output_type": "display_data"
    },
    {
     "data": {
      "text/html": [
       "\n",
       "                    <br/>Synced <strong style=\"color:#cdcd00\">northern-sweep-53</strong>: <a href=\"https://wandb.ai/charlieisalright/sentiment/runs/b7sr2ki7\" target=\"_blank\">https://wandb.ai/charlieisalright/sentiment/runs/b7sr2ki7</a><br/>\n",
       "                "
      ],
      "text/plain": [
       "<IPython.core.display.HTML object>"
      ]
     },
     "metadata": {},
     "output_type": "display_data"
    },
    {
     "name": "stderr",
     "output_type": "stream",
     "text": [
      "\u001b[34m\u001b[1mwandb\u001b[0m: Agent Starting Run: kqn912r8 with config:\n",
      "\u001b[34m\u001b[1mwandb\u001b[0m: \tbatch_size: 23\n",
      "\u001b[34m\u001b[1mwandb\u001b[0m: \tepochs: 46\n",
      "\u001b[34m\u001b[1mwandb\u001b[0m: \tlearning_rate: 0.0013833805378685885\n",
      "Failed to detect the name of this notebook, you can set it manually with the WANDB_NOTEBOOK_NAME environment variable to enable code saving.\n",
      "\u001b[34m\u001b[1mwandb\u001b[0m: \u001b[33mWARNING\u001b[0m Ignored wandb.init() arg project when running a sweep\n",
      "\u001b[34m\u001b[1mwandb\u001b[0m: \u001b[33mWARNING\u001b[0m Ignored wandb.init() arg entity when running a sweep\n"
     ]
    },
    {
     "data": {
      "text/html": [
       "\n",
       "                Tracking run with wandb version 0.10.23<br/>\n",
       "                Syncing run <strong style=\"color:#cdcd00\">confused-sweep-54</strong> to <a href=\"https://wandb.ai\" target=\"_blank\">Weights & Biases</a> <a href=\"https://docs.wandb.com/integrations/jupyter.html\" target=\"_blank\">(Documentation)</a>.<br/>\n",
       "                Project page: <a href=\"https://wandb.ai/charlieisalright/sentiment\" target=\"_blank\">https://wandb.ai/charlieisalright/sentiment</a><br/>\n",
       "                Sweep page: <a href=\"https://wandb.ai/charlieisalright/sentiment/sweeps/fnf3wbru\" target=\"_blank\">https://wandb.ai/charlieisalright/sentiment/sweeps/fnf3wbru</a><br/>\n",
       "Run page: <a href=\"https://wandb.ai/charlieisalright/sentiment/runs/kqn912r8\" target=\"_blank\">https://wandb.ai/charlieisalright/sentiment/runs/kqn912r8</a><br/>\n",
       "                Run data is saved locally in <code>/home/charlie/Documents/courses/miniproject/notebooks/wandb/run-20210330_005322-kqn912r8</code><br/><br/>\n",
       "            "
      ],
      "text/plain": [
       "<IPython.core.display.HTML object>"
      ]
     },
     "metadata": {},
     "output_type": "display_data"
    },
    {
     "name": "stdout",
     "output_type": "stream",
     "text": [
      "Epoch 1/46\n",
      "70/70 [==============================] - 31s 443ms/step - loss: 2.3500 - accuracy: 0.1460 - val_loss: 2.0165 - val_accuracy: 0.1712\n",
      "Epoch 2/46\n",
      "70/70 [==============================] - 31s 436ms/step - loss: 2.0316 - accuracy: 0.1856 - val_loss: 2.0009 - val_accuracy: 0.2364\n",
      "Epoch 3/46\n",
      "70/70 [==============================] - 30s 435ms/step - loss: 2.0194 - accuracy: 0.1974 - val_loss: 1.9847 - val_accuracy: 0.2894\n",
      "Epoch 4/46\n",
      "70/70 [==============================] - 30s 435ms/step - loss: 1.9886 - accuracy: 0.2161 - val_loss: 1.9503 - val_accuracy: 0.2296\n",
      "Epoch 5/46\n",
      "70/70 [==============================] - 30s 435ms/step - loss: 1.9773 - accuracy: 0.2204 - val_loss: 1.9482 - val_accuracy: 0.2201\n",
      "Epoch 6/46\n",
      "70/70 [==============================] - 30s 435ms/step - loss: 1.9574 - accuracy: 0.2372 - val_loss: 1.9316 - val_accuracy: 0.2582\n",
      "Epoch 7/46\n",
      "70/70 [==============================] - 30s 434ms/step - loss: 1.9372 - accuracy: 0.2416 - val_loss: 1.9181 - val_accuracy: 0.2255\n",
      "Epoch 8/46\n",
      "70/70 [==============================] - 30s 435ms/step - loss: 1.9213 - accuracy: 0.2491 - val_loss: 1.8647 - val_accuracy: 0.2948\n",
      "Epoch 9/46\n",
      "70/70 [==============================] - 30s 429ms/step - loss: 1.9375 - accuracy: 0.2286 - val_loss: 1.8823 - val_accuracy: 0.3302\n",
      "Epoch 10/46\n",
      "70/70 [==============================] - 30s 434ms/step - loss: 1.8959 - accuracy: 0.2553 - val_loss: 1.8464 - val_accuracy: 0.2976\n",
      "Epoch 11/46\n",
      "70/70 [==============================] - 30s 434ms/step - loss: 1.8713 - accuracy: 0.2826 - val_loss: 1.8216 - val_accuracy: 0.3193\n",
      "Epoch 12/46\n",
      "70/70 [==============================] - 30s 428ms/step - loss: 1.8810 - accuracy: 0.2752 - val_loss: 1.8363 - val_accuracy: 0.3152\n",
      "Epoch 13/46\n",
      "70/70 [==============================] - 30s 427ms/step - loss: 1.8523 - accuracy: 0.2771 - val_loss: 1.8585 - val_accuracy: 0.2663\n",
      "Epoch 14/46\n",
      "70/70 [==============================] - 30s 435ms/step - loss: 1.8450 - accuracy: 0.2907 - val_loss: 1.7920 - val_accuracy: 0.3302\n",
      "Epoch 15/46\n",
      "70/70 [==============================] - 30s 427ms/step - loss: 1.8423 - accuracy: 0.2889 - val_loss: 1.7956 - val_accuracy: 0.2935\n",
      "Epoch 16/46\n",
      "70/70 [==============================] - 30s 433ms/step - loss: 1.8349 - accuracy: 0.3043 - val_loss: 1.7843 - val_accuracy: 0.3274\n",
      "Epoch 17/46\n",
      "70/70 [==============================] - 30s 427ms/step - loss: 1.8212 - accuracy: 0.2970 - val_loss: 1.8271 - val_accuracy: 0.3084\n",
      "Epoch 18/46\n",
      "70/70 [==============================] - 30s 429ms/step - loss: 1.8510 - accuracy: 0.2877 - val_loss: 1.7978 - val_accuracy: 0.3220\n",
      "Epoch 19/46\n",
      "70/70 [==============================] - 30s 435ms/step - loss: 1.8255 - accuracy: 0.3025 - val_loss: 1.7635 - val_accuracy: 0.3356\n",
      "Epoch 20/46\n",
      "70/70 [==============================] - 30s 434ms/step - loss: 1.8254 - accuracy: 0.3006 - val_loss: 1.7332 - val_accuracy: 0.3424\n",
      "Epoch 21/46\n",
      "70/70 [==============================] - 30s 427ms/step - loss: 1.8070 - accuracy: 0.3188 - val_loss: 1.7478 - val_accuracy: 0.3342\n",
      "Epoch 22/46\n",
      "70/70 [==============================] - 30s 428ms/step - loss: 1.7825 - accuracy: 0.3199 - val_loss: 1.7633 - val_accuracy: 0.3274\n",
      "Epoch 23/46\n",
      "70/70 [==============================] - 30s 427ms/step - loss: 1.7759 - accuracy: 0.3225 - val_loss: 1.7614 - val_accuracy: 0.3193\n",
      "Epoch 24/46\n",
      "70/70 [==============================] - 30s 429ms/step - loss: 1.8110 - accuracy: 0.3087 - val_loss: 1.7555 - val_accuracy: 0.3207\n",
      "Epoch 25/46\n",
      "70/70 [==============================] - 30s 428ms/step - loss: 1.8091 - accuracy: 0.3031 - val_loss: 1.7374 - val_accuracy: 0.3261\n",
      "Epoch 26/46\n",
      "70/70 [==============================] - 30s 427ms/step - loss: 1.7835 - accuracy: 0.3163 - val_loss: 1.7560 - val_accuracy: 0.3057\n",
      "Epoch 27/46\n",
      "70/70 [==============================] - 30s 433ms/step - loss: 1.8239 - accuracy: 0.2995 - val_loss: 1.7278 - val_accuracy: 0.3601\n",
      "Epoch 28/46\n",
      "70/70 [==============================] - 30s 435ms/step - loss: 1.8106 - accuracy: 0.3088 - val_loss: 1.7083 - val_accuracy: 0.3614\n",
      "Epoch 29/46\n",
      "70/70 [==============================] - 30s 428ms/step - loss: 1.7737 - accuracy: 0.3275 - val_loss: 1.7826 - val_accuracy: 0.3084\n",
      "Epoch 30/46\n",
      "70/70 [==============================] - 30s 433ms/step - loss: 1.7489 - accuracy: 0.3298 - val_loss: 1.7240 - val_accuracy: 0.3573\n",
      "Epoch 31/46\n",
      "70/70 [==============================] - 30s 427ms/step - loss: 1.7491 - accuracy: 0.3182 - val_loss: 1.7374 - val_accuracy: 0.3383\n",
      "Epoch 32/46\n",
      "70/70 [==============================] - 30s 428ms/step - loss: 1.7461 - accuracy: 0.3387 - val_loss: 1.7246 - val_accuracy: 0.3383\n",
      "Epoch 33/46\n",
      "70/70 [==============================] - 30s 428ms/step - loss: 1.7571 - accuracy: 0.3248 - val_loss: 1.7343 - val_accuracy: 0.3601\n",
      "Epoch 34/46\n",
      "70/70 [==============================] - 30s 435ms/step - loss: 1.7401 - accuracy: 0.3288 - val_loss: 1.6840 - val_accuracy: 0.3505\n",
      "Epoch 35/46\n",
      "70/70 [==============================] - 30s 427ms/step - loss: 1.7662 - accuracy: 0.3257 - val_loss: 1.7165 - val_accuracy: 0.3546\n",
      "Epoch 36/46\n",
      "70/70 [==============================] - 30s 434ms/step - loss: 1.7350 - accuracy: 0.3429 - val_loss: 1.6895 - val_accuracy: 0.3696\n",
      "Epoch 37/46\n",
      "70/70 [==============================] - 30s 427ms/step - loss: 1.7280 - accuracy: 0.3412 - val_loss: 1.7066 - val_accuracy: 0.3628\n",
      "Epoch 38/46\n",
      "70/70 [==============================] - 30s 435ms/step - loss: 1.7147 - accuracy: 0.3559 - val_loss: 1.6717 - val_accuracy: 0.3533\n",
      "Epoch 39/46\n",
      "70/70 [==============================] - 30s 428ms/step - loss: 1.7927 - accuracy: 0.3000 - val_loss: 1.7075 - val_accuracy: 0.3872\n",
      "Epoch 40/46\n",
      "70/70 [==============================] - 30s 428ms/step - loss: 1.7473 - accuracy: 0.3350 - val_loss: 1.6732 - val_accuracy: 0.3519\n",
      "Epoch 41/46\n",
      "70/70 [==============================] - 30s 428ms/step - loss: 1.7207 - accuracy: 0.3537 - val_loss: 1.7217 - val_accuracy: 0.3152\n",
      "Epoch 42/46\n",
      "70/70 [==============================] - 30s 433ms/step - loss: 1.7133 - accuracy: 0.3584 - val_loss: 1.7043 - val_accuracy: 0.3370\n",
      "Epoch 43/46\n",
      "70/70 [==============================] - 30s 427ms/step - loss: 1.7238 - accuracy: 0.3506 - val_loss: 1.6871 - val_accuracy: 0.3505\n",
      "Epoch 44/46\n",
      "70/70 [==============================] - 30s 435ms/step - loss: 1.7241 - accuracy: 0.3497 - val_loss: 1.6185 - val_accuracy: 0.3736\n",
      "Epoch 45/46\n",
      "70/70 [==============================] - 30s 428ms/step - loss: 1.6866 - accuracy: 0.3509 - val_loss: 1.6691 - val_accuracy: 0.3573\n",
      "Epoch 46/46\n",
      "70/70 [==============================] - 30s 428ms/step - loss: 1.7374 - accuracy: 0.3273 - val_loss: 1.6772 - val_accuracy: 0.3777\n"
     ]
    },
    {
     "data": {
      "text/html": [
       "<br/>Waiting for W&B process to finish, PID 168495<br/>Program ended successfully."
      ],
      "text/plain": [
       "<IPython.core.display.HTML object>"
      ]
     },
     "metadata": {},
     "output_type": "display_data"
    },
    {
     "data": {
      "text/html": [
       "Find user logs for this run at: <code>/home/charlie/Documents/courses/miniproject/notebooks/wandb/run-20210330_005322-kqn912r8/logs/debug.log</code>"
      ],
      "text/plain": [
       "<IPython.core.display.HTML object>"
      ]
     },
     "metadata": {},
     "output_type": "display_data"
    },
    {
     "data": {
      "text/html": [
       "Find internal logs for this run at: <code>/home/charlie/Documents/courses/miniproject/notebooks/wandb/run-20210330_005322-kqn912r8/logs/debug-internal.log</code>"
      ],
      "text/plain": [
       "<IPython.core.display.HTML object>"
      ]
     },
     "metadata": {},
     "output_type": "display_data"
    },
    {
     "data": {
      "text/html": [
       "<h3>Run summary:</h3><br/><style>\n",
       "    table.wandb td:nth-child(1) { padding: 0 10px; text-align: right }\n",
       "    </style><table class=\"wandb\">\n",
       "<tr><td>epoch</td><td>45</td></tr><tr><td>loss</td><td>1.73745</td></tr><tr><td>accuracy</td><td>0.32733</td></tr><tr><td>val_loss</td><td>1.67722</td></tr><tr><td>val_accuracy</td><td>0.37772</td></tr><tr><td>_runtime</td><td>1425</td></tr><tr><td>_timestamp</td><td>1617063427</td></tr><tr><td>_step</td><td>45</td></tr><tr><td>best_val_loss</td><td>1.61854</td></tr><tr><td>best_epoch</td><td>43</td></tr></table>"
      ],
      "text/plain": [
       "<IPython.core.display.HTML object>"
      ]
     },
     "metadata": {},
     "output_type": "display_data"
    },
    {
     "data": {
      "text/html": [
       "<h3>Run history:</h3><br/><style>\n",
       "    table.wandb td:nth-child(1) { padding: 0 10px; text-align: right }\n",
       "    </style><table class=\"wandb\">\n",
       "<tr><td>epoch</td><td>▁▁▁▁▂▂▂▂▂▃▃▃▃▃▄▄▄▄▄▄▅▅▅▅▅▅▆▆▆▆▆▇▇▇▇▇████</td></tr><tr><td>loss</td><td>█▅▅▄▄▄▄▄▃▃▃▃▃▃▂▃▂▂▂▂▂▂▂▂▂▂▂▂▂▂▂▂▁▂▂▁▁▁▁▁</td></tr><tr><td>accuracy</td><td>▁▂▃▃▃▄▄▄▅▆▅▅▆▆▆▆▆▆▇▇▆▆▇▆▆▇▇▇▇▇▇▇▇▆▇█████</td></tr><tr><td>val_loss</td><td>██▇▇▇▇▆▆▅▅▅▅▄▄▅▄▄▃▃▄▃▃▃▃▃▄▃▃▃▂▃▂▃▃▂▃▃▂▁▂</td></tr><tr><td>val_accuracy</td><td>▁▃▅▃▃▄▃▆▅▆▆▄▆▅▅▆▆▇▆▆▆▆▅▇▇▅▇▆▇▇▇▇▇█▇▆▆▇█▇</td></tr><tr><td>_runtime</td><td>▁▁▁▁▂▂▂▂▂▃▃▃▃▃▄▄▄▄▄▄▅▅▅▅▅▅▆▆▆▆▆▇▇▇▇▇████</td></tr><tr><td>_timestamp</td><td>▁▁▁▁▂▂▂▂▂▃▃▃▃▃▄▄▄▄▄▄▅▅▅▅▅▅▆▆▆▆▆▇▇▇▇▇████</td></tr><tr><td>_step</td><td>▁▁▁▁▂▂▂▂▂▃▃▃▃▃▄▄▄▄▄▄▅▅▅▅▅▅▆▆▆▆▆▇▇▇▇▇████</td></tr></table><br/>"
      ],
      "text/plain": [
       "<IPython.core.display.HTML object>"
      ]
     },
     "metadata": {},
     "output_type": "display_data"
    },
    {
     "data": {
      "text/html": [
       "Synced 5 W&B file(s), 1 media file(s), 0 artifact file(s) and 1 other file(s)"
      ],
      "text/plain": [
       "<IPython.core.display.HTML object>"
      ]
     },
     "metadata": {},
     "output_type": "display_data"
    },
    {
     "data": {
      "text/html": [
       "\n",
       "                    <br/>Synced <strong style=\"color:#cdcd00\">confused-sweep-54</strong>: <a href=\"https://wandb.ai/charlieisalright/sentiment/runs/kqn912r8\" target=\"_blank\">https://wandb.ai/charlieisalright/sentiment/runs/kqn912r8</a><br/>\n",
       "                "
      ],
      "text/plain": [
       "<IPython.core.display.HTML object>"
      ]
     },
     "metadata": {},
     "output_type": "display_data"
    },
    {
     "name": "stderr",
     "output_type": "stream",
     "text": [
      "\u001b[34m\u001b[1mwandb\u001b[0m: Agent Starting Run: pu760hae with config:\n",
      "\u001b[34m\u001b[1mwandb\u001b[0m: \tbatch_size: 24\n",
      "\u001b[34m\u001b[1mwandb\u001b[0m: \tepochs: 39\n",
      "\u001b[34m\u001b[1mwandb\u001b[0m: \tlearning_rate: 0.0009736338475941379\n",
      "Failed to detect the name of this notebook, you can set it manually with the WANDB_NOTEBOOK_NAME environment variable to enable code saving.\n",
      "\u001b[34m\u001b[1mwandb\u001b[0m: \u001b[33mWARNING\u001b[0m Ignored wandb.init() arg project when running a sweep\n",
      "\u001b[34m\u001b[1mwandb\u001b[0m: \u001b[33mWARNING\u001b[0m Ignored wandb.init() arg entity when running a sweep\n"
     ]
    },
    {
     "data": {
      "text/html": [
       "\n",
       "                Tracking run with wandb version 0.10.23<br/>\n",
       "                Syncing run <strong style=\"color:#cdcd00\">worthy-sweep-55</strong> to <a href=\"https://wandb.ai\" target=\"_blank\">Weights & Biases</a> <a href=\"https://docs.wandb.com/integrations/jupyter.html\" target=\"_blank\">(Documentation)</a>.<br/>\n",
       "                Project page: <a href=\"https://wandb.ai/charlieisalright/sentiment\" target=\"_blank\">https://wandb.ai/charlieisalright/sentiment</a><br/>\n",
       "                Sweep page: <a href=\"https://wandb.ai/charlieisalright/sentiment/sweeps/fnf3wbru\" target=\"_blank\">https://wandb.ai/charlieisalright/sentiment/sweeps/fnf3wbru</a><br/>\n",
       "Run page: <a href=\"https://wandb.ai/charlieisalright/sentiment/runs/pu760hae\" target=\"_blank\">https://wandb.ai/charlieisalright/sentiment/runs/pu760hae</a><br/>\n",
       "                Run data is saved locally in <code>/home/charlie/Documents/courses/miniproject/notebooks/wandb/run-20210330_011712-pu760hae</code><br/><br/>\n",
       "            "
      ],
      "text/plain": [
       "<IPython.core.display.HTML object>"
      ]
     },
     "metadata": {},
     "output_type": "display_data"
    },
    {
     "name": "stdout",
     "output_type": "stream",
     "text": [
      "Epoch 1/39\n",
      "70/70 [==============================] - 32s 458ms/step - loss: 2.2990 - accuracy: 0.1446 - val_loss: 2.0252 - val_accuracy: 0.2079\n",
      "Epoch 2/39\n",
      "70/70 [==============================] - 32s 452ms/step - loss: 2.0521 - accuracy: 0.1924 - val_loss: 2.0115 - val_accuracy: 0.1916\n",
      "Epoch 3/39\n",
      "70/70 [==============================] - 32s 454ms/step - loss: 2.0131 - accuracy: 0.2067 - val_loss: 1.9759 - val_accuracy: 0.2269\n",
      "Epoch 4/39\n",
      "70/70 [==============================] - 32s 455ms/step - loss: 1.9999 - accuracy: 0.2095 - val_loss: 1.9730 - val_accuracy: 0.2011\n",
      "Epoch 5/39\n",
      "70/70 [==============================] - 32s 452ms/step - loss: 1.9831 - accuracy: 0.2228 - val_loss: 1.9465 - val_accuracy: 0.2432\n",
      "Epoch 6/39\n",
      "70/70 [==============================] - 32s 451ms/step - loss: 1.9740 - accuracy: 0.2270 - val_loss: 1.9217 - val_accuracy: 0.2677\n",
      "Epoch 7/39\n",
      "70/70 [==============================] - 32s 450ms/step - loss: 1.9478 - accuracy: 0.2407 - val_loss: 1.9188 - val_accuracy: 0.2622\n",
      "Epoch 8/39\n",
      "70/70 [==============================] - 31s 447ms/step - loss: 1.9297 - accuracy: 0.2354 - val_loss: 1.9061 - val_accuracy: 0.2636\n",
      "Epoch 9/39\n",
      "70/70 [==============================] - 31s 447ms/step - loss: 1.9279 - accuracy: 0.2551 - val_loss: 1.8820 - val_accuracy: 0.3057\n",
      "Epoch 10/39\n",
      "70/70 [==============================] - 31s 448ms/step - loss: 1.8968 - accuracy: 0.2670 - val_loss: 1.8617 - val_accuracy: 0.3111\n",
      "Epoch 11/39\n",
      "70/70 [==============================] - 32s 457ms/step - loss: 1.8913 - accuracy: 0.2565 - val_loss: 1.8496 - val_accuracy: 0.3220\n",
      "Epoch 12/39\n",
      "70/70 [==============================] - 31s 443ms/step - loss: 1.8843 - accuracy: 0.2760 - val_loss: 1.8643 - val_accuracy: 0.2745\n",
      "Epoch 13/39\n",
      "70/70 [==============================] - 32s 450ms/step - loss: 1.8643 - accuracy: 0.2694 - val_loss: 1.8242 - val_accuracy: 0.3071\n",
      "Epoch 14/39\n",
      "70/70 [==============================] - 32s 450ms/step - loss: 1.8597 - accuracy: 0.2820 - val_loss: 1.8150 - val_accuracy: 0.3003\n",
      "Epoch 15/39\n",
      "70/70 [==============================] - 31s 443ms/step - loss: 1.8387 - accuracy: 0.2975 - val_loss: 1.8268 - val_accuracy: 0.3043\n",
      "Epoch 16/39\n",
      "70/70 [==============================] - 31s 443ms/step - loss: 1.8305 - accuracy: 0.3124 - val_loss: 1.8250 - val_accuracy: 0.2948\n",
      "Epoch 17/39\n",
      "70/70 [==============================] - 32s 451ms/step - loss: 1.8258 - accuracy: 0.3076 - val_loss: 1.7883 - val_accuracy: 0.3261\n",
      "Epoch 18/39\n",
      "70/70 [==============================] - 32s 450ms/step - loss: 1.7986 - accuracy: 0.3118 - val_loss: 1.7615 - val_accuracy: 0.3424\n",
      "Epoch 19/39\n",
      "70/70 [==============================] - 31s 443ms/step - loss: 1.8104 - accuracy: 0.2975 - val_loss: 1.7775 - val_accuracy: 0.3261\n",
      "Epoch 20/39\n",
      "70/70 [==============================] - 31s 445ms/step - loss: 1.7996 - accuracy: 0.3071 - val_loss: 1.7893 - val_accuracy: 0.3071\n",
      "Epoch 21/39\n",
      "70/70 [==============================] - 31s 442ms/step - loss: 1.8009 - accuracy: 0.3112 - val_loss: 1.7679 - val_accuracy: 0.3370\n",
      "Epoch 22/39\n",
      "70/70 [==============================] - 32s 450ms/step - loss: 1.7767 - accuracy: 0.3125 - val_loss: 1.7513 - val_accuracy: 0.3315\n",
      "Epoch 23/39\n",
      "70/70 [==============================] - 31s 448ms/step - loss: 1.8018 - accuracy: 0.3118 - val_loss: 1.7296 - val_accuracy: 0.3519\n",
      "Epoch 24/39\n",
      "70/70 [==============================] - 31s 444ms/step - loss: 1.7705 - accuracy: 0.3315 - val_loss: 1.8052 - val_accuracy: 0.3247\n",
      "Epoch 25/39\n",
      "70/70 [==============================] - 31s 442ms/step - loss: 1.7632 - accuracy: 0.3333 - val_loss: 1.7656 - val_accuracy: 0.3410\n",
      "Epoch 26/39\n",
      "70/70 [==============================] - 31s 443ms/step - loss: 1.7593 - accuracy: 0.3232 - val_loss: 1.7833 - val_accuracy: 0.3016\n",
      "Epoch 27/39\n",
      "70/70 [==============================] - 31s 444ms/step - loss: 1.7628 - accuracy: 0.3381 - val_loss: 1.7354 - val_accuracy: 0.3573\n",
      "Epoch 28/39\n",
      "70/70 [==============================] - 31s 444ms/step - loss: 1.7541 - accuracy: 0.3202 - val_loss: 1.7613 - val_accuracy: 0.3274\n",
      "Epoch 29/39\n",
      "70/70 [==============================] - 31s 443ms/step - loss: 1.7249 - accuracy: 0.3447 - val_loss: 1.7317 - val_accuracy: 0.3709\n",
      "Epoch 30/39\n",
      "70/70 [==============================] - 31s 443ms/step - loss: 1.7213 - accuracy: 0.3501 - val_loss: 1.7409 - val_accuracy: 0.3573\n",
      "Epoch 31/39\n",
      "70/70 [==============================] - 31s 450ms/step - loss: 1.7517 - accuracy: 0.3202 - val_loss: 1.6970 - val_accuracy: 0.3750\n",
      "Epoch 32/39\n",
      "70/70 [==============================] - 31s 443ms/step - loss: 1.7399 - accuracy: 0.3292 - val_loss: 1.7079 - val_accuracy: 0.3533\n",
      "Epoch 33/39\n",
      "70/70 [==============================] - 31s 448ms/step - loss: 1.7442 - accuracy: 0.3351 - val_loss: 1.6883 - val_accuracy: 0.3967\n",
      "Epoch 34/39\n",
      "70/70 [==============================] - 31s 443ms/step - loss: 1.7064 - accuracy: 0.3554 - val_loss: 1.6945 - val_accuracy: 0.3614\n",
      "Epoch 35/39\n",
      "70/70 [==============================] - 31s 450ms/step - loss: 1.7035 - accuracy: 0.3536 - val_loss: 1.6593 - val_accuracy: 0.3641\n",
      "Epoch 36/39\n",
      "70/70 [==============================] - 31s 443ms/step - loss: 1.7000 - accuracy: 0.3411 - val_loss: 1.7371 - val_accuracy: 0.3152\n",
      "Epoch 37/39\n",
      "70/70 [==============================] - 31s 442ms/step - loss: 1.7262 - accuracy: 0.3495 - val_loss: 1.7130 - val_accuracy: 0.3723\n",
      "Epoch 38/39\n",
      "70/70 [==============================] - 31s 442ms/step - loss: 1.7026 - accuracy: 0.3519 - val_loss: 1.6890 - val_accuracy: 0.3383\n",
      "Epoch 39/39\n",
      "70/70 [==============================] - 31s 445ms/step - loss: 1.6652 - accuracy: 0.3661 - val_loss: 1.7036 - val_accuracy: 0.3601\n"
     ]
    },
    {
     "data": {
      "text/html": [
       "<br/>Waiting for W&B process to finish, PID 168895<br/>Program ended successfully."
      ],
      "text/plain": [
       "<IPython.core.display.HTML object>"
      ]
     },
     "metadata": {},
     "output_type": "display_data"
    },
    {
     "data": {
      "text/html": [
       "Find user logs for this run at: <code>/home/charlie/Documents/courses/miniproject/notebooks/wandb/run-20210330_011712-pu760hae/logs/debug.log</code>"
      ],
      "text/plain": [
       "<IPython.core.display.HTML object>"
      ]
     },
     "metadata": {},
     "output_type": "display_data"
    },
    {
     "data": {
      "text/html": [
       "Find internal logs for this run at: <code>/home/charlie/Documents/courses/miniproject/notebooks/wandb/run-20210330_011712-pu760hae/logs/debug-internal.log</code>"
      ],
      "text/plain": [
       "<IPython.core.display.HTML object>"
      ]
     },
     "metadata": {},
     "output_type": "display_data"
    },
    {
     "data": {
      "text/html": [
       "<h3>Run summary:</h3><br/><style>\n",
       "    table.wandb td:nth-child(1) { padding: 0 10px; text-align: right }\n",
       "    </style><table class=\"wandb\">\n",
       "<tr><td>epoch</td><td>38</td></tr><tr><td>loss</td><td>1.66523</td></tr><tr><td>accuracy</td><td>0.36607</td></tr><tr><td>val_loss</td><td>1.7036</td></tr><tr><td>val_accuracy</td><td>0.36005</td></tr><tr><td>_runtime</td><td>1252</td></tr><tr><td>_timestamp</td><td>1617064684</td></tr><tr><td>_step</td><td>38</td></tr><tr><td>best_val_loss</td><td>1.65931</td></tr><tr><td>best_epoch</td><td>34</td></tr></table>"
      ],
      "text/plain": [
       "<IPython.core.display.HTML object>"
      ]
     },
     "metadata": {},
     "output_type": "display_data"
    },
    {
     "data": {
      "text/html": [
       "<h3>Run history:</h3><br/><style>\n",
       "    table.wandb td:nth-child(1) { padding: 0 10px; text-align: right }\n",
       "    </style><table class=\"wandb\">\n",
       "<tr><td>epoch</td><td>▁▁▁▂▂▂▂▂▂▃▃▃▃▃▄▄▄▄▄▅▅▅▅▅▅▆▆▆▆▆▇▇▇▇▇▇███</td></tr><tr><td>loss</td><td>█▅▅▅▅▄▄▄▄▄▃▃▃▃▃▃▃▂▃▂▂▂▃▂▂▂▂▂▂▂▂▂▂▁▁▁▂▁▁</td></tr><tr><td>accuracy</td><td>▁▃▃▃▃▄▄▄▄▅▅▅▅▅▆▆▆▆▆▆▆▆▆▇▇▇▇▇▇▇▇▇▇██▇▇██</td></tr><tr><td>val_loss</td><td>██▇▇▆▆▆▆▅▅▅▅▄▄▄▄▃▃▃▃▃▃▂▄▃▃▂▃▂▃▂▂▂▂▁▂▂▂▂</td></tr><tr><td>val_accuracy</td><td>▂▁▂▁▃▄▃▃▅▅▅▄▅▅▅▅▆▆▆▅▆▆▆▆▆▅▇▆▇▇▇▇█▇▇▅▇▆▇</td></tr><tr><td>_runtime</td><td>▁▁▁▂▂▂▂▂▂▃▃▃▃▃▄▄▄▄▄▅▅▅▅▅▅▆▆▆▆▆▇▇▇▇▇▇███</td></tr><tr><td>_timestamp</td><td>▁▁▁▂▂▂▂▂▂▃▃▃▃▃▄▄▄▄▄▅▅▅▅▅▅▆▆▆▆▆▇▇▇▇▇▇███</td></tr><tr><td>_step</td><td>▁▁▁▂▂▂▂▂▂▃▃▃▃▃▄▄▄▄▄▅▅▅▅▅▅▆▆▆▆▆▇▇▇▇▇▇███</td></tr></table><br/>"
      ],
      "text/plain": [
       "<IPython.core.display.HTML object>"
      ]
     },
     "metadata": {},
     "output_type": "display_data"
    },
    {
     "data": {
      "text/html": [
       "Synced 5 W&B file(s), 1 media file(s), 0 artifact file(s) and 1 other file(s)"
      ],
      "text/plain": [
       "<IPython.core.display.HTML object>"
      ]
     },
     "metadata": {},
     "output_type": "display_data"
    },
    {
     "data": {
      "text/html": [
       "\n",
       "                    <br/>Synced <strong style=\"color:#cdcd00\">worthy-sweep-55</strong>: <a href=\"https://wandb.ai/charlieisalright/sentiment/runs/pu760hae\" target=\"_blank\">https://wandb.ai/charlieisalright/sentiment/runs/pu760hae</a><br/>\n",
       "                "
      ],
      "text/plain": [
       "<IPython.core.display.HTML object>"
      ]
     },
     "metadata": {},
     "output_type": "display_data"
    },
    {
     "name": "stderr",
     "output_type": "stream",
     "text": [
      "\u001b[34m\u001b[1mwandb\u001b[0m: Agent Starting Run: j5exd7b0 with config:\n",
      "\u001b[34m\u001b[1mwandb\u001b[0m: \tbatch_size: 20\n",
      "\u001b[34m\u001b[1mwandb\u001b[0m: \tepochs: 50\n",
      "\u001b[34m\u001b[1mwandb\u001b[0m: \tlearning_rate: 0.0003927998225215543\n",
      "Failed to detect the name of this notebook, you can set it manually with the WANDB_NOTEBOOK_NAME environment variable to enable code saving.\n",
      "\u001b[34m\u001b[1mwandb\u001b[0m: \u001b[33mWARNING\u001b[0m Ignored wandb.init() arg project when running a sweep\n",
      "\u001b[34m\u001b[1mwandb\u001b[0m: \u001b[33mWARNING\u001b[0m Ignored wandb.init() arg entity when running a sweep\n"
     ]
    },
    {
     "data": {
      "text/html": [
       "\n",
       "                Tracking run with wandb version 0.10.23<br/>\n",
       "                Syncing run <strong style=\"color:#cdcd00\">unique-sweep-56</strong> to <a href=\"https://wandb.ai\" target=\"_blank\">Weights & Biases</a> <a href=\"https://docs.wandb.com/integrations/jupyter.html\" target=\"_blank\">(Documentation)</a>.<br/>\n",
       "                Project page: <a href=\"https://wandb.ai/charlieisalright/sentiment\" target=\"_blank\">https://wandb.ai/charlieisalright/sentiment</a><br/>\n",
       "                Sweep page: <a href=\"https://wandb.ai/charlieisalright/sentiment/sweeps/fnf3wbru\" target=\"_blank\">https://wandb.ai/charlieisalright/sentiment/sweeps/fnf3wbru</a><br/>\n",
       "Run page: <a href=\"https://wandb.ai/charlieisalright/sentiment/runs/j5exd7b0\" target=\"_blank\">https://wandb.ai/charlieisalright/sentiment/runs/j5exd7b0</a><br/>\n",
       "                Run data is saved locally in <code>/home/charlie/Documents/courses/miniproject/notebooks/wandb/run-20210330_013809-j5exd7b0</code><br/><br/>\n",
       "            "
      ],
      "text/plain": [
       "<IPython.core.display.HTML object>"
      ]
     },
     "metadata": {},
     "output_type": "display_data"
    },
    {
     "name": "stdout",
     "output_type": "stream",
     "text": [
      "Epoch 1/50\n",
      "70/70 [==============================] - 28s 398ms/step - loss: 2.4543 - accuracy: 0.1453 - val_loss: 2.0445 - val_accuracy: 0.1671\n",
      "Epoch 2/50\n",
      "70/70 [==============================] - 27s 390ms/step - loss: 2.1039 - accuracy: 0.1727 - val_loss: 1.9778 - val_accuracy: 0.2418\n",
      "Epoch 3/50\n",
      "70/70 [==============================] - 27s 390ms/step - loss: 2.0216 - accuracy: 0.2022 - val_loss: 1.9751 - val_accuracy: 0.2269\n",
      "Epoch 4/50\n",
      "70/70 [==============================] - 27s 388ms/step - loss: 2.0002 - accuracy: 0.2302 - val_loss: 1.9566 - val_accuracy: 0.2228\n",
      "Epoch 5/50\n",
      "70/70 [==============================] - 27s 392ms/step - loss: 1.9795 - accuracy: 0.2300 - val_loss: 1.9287 - val_accuracy: 0.2649\n",
      "Epoch 6/50\n",
      "70/70 [==============================] - 27s 390ms/step - loss: 1.9746 - accuracy: 0.2302 - val_loss: 1.9238 - val_accuracy: 0.2568\n",
      "Epoch 7/50\n",
      "70/70 [==============================] - 27s 390ms/step - loss: 1.9552 - accuracy: 0.2331 - val_loss: 1.9183 - val_accuracy: 0.2636\n",
      "Epoch 8/50\n",
      "70/70 [==============================] - 27s 391ms/step - loss: 1.9615 - accuracy: 0.2302 - val_loss: 1.9084 - val_accuracy: 0.3152\n",
      "Epoch 9/50\n",
      "70/70 [==============================] - 28s 396ms/step - loss: 1.9153 - accuracy: 0.2786 - val_loss: 1.8870 - val_accuracy: 0.2745\n",
      "Epoch 10/50\n",
      "70/70 [==============================] - 27s 390ms/step - loss: 1.9093 - accuracy: 0.2683 - val_loss: 1.8707 - val_accuracy: 0.3084\n",
      "Epoch 11/50\n",
      "70/70 [==============================] - 27s 391ms/step - loss: 1.9096 - accuracy: 0.2607 - val_loss: 1.8665 - val_accuracy: 0.2894\n",
      "Epoch 12/50\n",
      "70/70 [==============================] - 27s 390ms/step - loss: 1.8933 - accuracy: 0.2842 - val_loss: 1.8560 - val_accuracy: 0.3315\n",
      "Epoch 13/50\n",
      "70/70 [==============================] - 27s 383ms/step - loss: 1.8862 - accuracy: 0.2727 - val_loss: 1.8658 - val_accuracy: 0.2935\n",
      "Epoch 14/50\n",
      "70/70 [==============================] - 27s 389ms/step - loss: 1.8768 - accuracy: 0.2748 - val_loss: 1.8557 - val_accuracy: 0.3043\n",
      "Epoch 15/50\n",
      "70/70 [==============================] - 27s 389ms/step - loss: 1.8741 - accuracy: 0.2791 - val_loss: 1.8345 - val_accuracy: 0.3125\n",
      "Epoch 16/50\n",
      "70/70 [==============================] - 27s 383ms/step - loss: 1.8582 - accuracy: 0.2878 - val_loss: 1.8485 - val_accuracy: 0.2880\n",
      "Epoch 17/50\n",
      "70/70 [==============================] - 27s 382ms/step - loss: 1.8502 - accuracy: 0.3007 - val_loss: 1.8349 - val_accuracy: 0.2745\n",
      "Epoch 18/50\n",
      "70/70 [==============================] - 27s 391ms/step - loss: 1.8658 - accuracy: 0.3000 - val_loss: 1.8258 - val_accuracy: 0.2976\n",
      "Epoch 19/50\n",
      "70/70 [==============================] - 27s 389ms/step - loss: 1.8457 - accuracy: 0.2935 - val_loss: 1.8150 - val_accuracy: 0.3152\n",
      "Epoch 20/50\n",
      "70/70 [==============================] - 27s 382ms/step - loss: 1.8440 - accuracy: 0.2978 - val_loss: 1.8169 - val_accuracy: 0.2948\n",
      "Epoch 21/50\n",
      "70/70 [==============================] - 27s 382ms/step - loss: 1.8638 - accuracy: 0.3043 - val_loss: 1.8192 - val_accuracy: 0.2935\n",
      "Epoch 22/50\n",
      "70/70 [==============================] - 27s 391ms/step - loss: 1.8285 - accuracy: 0.3029 - val_loss: 1.7900 - val_accuracy: 0.3342\n",
      "Epoch 23/50\n",
      "70/70 [==============================] - 27s 384ms/step - loss: 1.8040 - accuracy: 0.3264 - val_loss: 1.7964 - val_accuracy: 0.3315\n",
      "Epoch 24/50\n",
      "70/70 [==============================] - 27s 385ms/step - loss: 1.8175 - accuracy: 0.3164 - val_loss: 1.7909 - val_accuracy: 0.3207\n",
      "Epoch 25/50\n",
      "70/70 [==============================] - 27s 390ms/step - loss: 1.7734 - accuracy: 0.3252 - val_loss: 1.7754 - val_accuracy: 0.3098\n",
      "Epoch 26/50\n",
      "70/70 [==============================] - 27s 384ms/step - loss: 1.7959 - accuracy: 0.3271 - val_loss: 1.8061 - val_accuracy: 0.2989\n",
      "Epoch 27/50\n",
      "70/70 [==============================] - 27s 382ms/step - loss: 1.7928 - accuracy: 0.3338 - val_loss: 1.7762 - val_accuracy: 0.3342\n",
      "Epoch 28/50\n",
      "70/70 [==============================] - 27s 390ms/step - loss: 1.8046 - accuracy: 0.2914 - val_loss: 1.7639 - val_accuracy: 0.3166\n",
      "Epoch 29/50\n",
      "70/70 [==============================] - 27s 392ms/step - loss: 1.7772 - accuracy: 0.3321 - val_loss: 1.7528 - val_accuracy: 0.3261\n",
      "Epoch 30/50\n",
      "70/70 [==============================] - 27s 390ms/step - loss: 1.7736 - accuracy: 0.3345 - val_loss: 1.7439 - val_accuracy: 0.3533\n",
      "Epoch 31/50\n",
      "70/70 [==============================] - 27s 382ms/step - loss: 1.7625 - accuracy: 0.3273 - val_loss: 1.7567 - val_accuracy: 0.3193\n",
      "Epoch 32/50\n",
      "70/70 [==============================] - 27s 383ms/step - loss: 1.7748 - accuracy: 0.3367 - val_loss: 1.7461 - val_accuracy: 0.3465\n",
      "Epoch 33/50\n",
      "70/70 [==============================] - 27s 384ms/step - loss: 1.7842 - accuracy: 0.3243 - val_loss: 1.7804 - val_accuracy: 0.3315\n",
      "Epoch 34/50\n",
      "70/70 [==============================] - 27s 392ms/step - loss: 1.7637 - accuracy: 0.3371 - val_loss: 1.7417 - val_accuracy: 0.3587\n",
      "Epoch 35/50\n",
      "70/70 [==============================] - 27s 392ms/step - loss: 1.7648 - accuracy: 0.3350 - val_loss: 1.7281 - val_accuracy: 0.3438\n",
      "Epoch 36/50\n",
      "70/70 [==============================] - 27s 382ms/step - loss: 1.7639 - accuracy: 0.3561 - val_loss: 1.7322 - val_accuracy: 0.3519\n",
      "Epoch 37/50\n",
      "70/70 [==============================] - 27s 384ms/step - loss: 1.7239 - accuracy: 0.3557 - val_loss: 1.7648 - val_accuracy: 0.3438\n",
      "Epoch 38/50\n",
      "70/70 [==============================] - 27s 386ms/step - loss: 1.7448 - accuracy: 0.3302 - val_loss: 1.7388 - val_accuracy: 0.3519\n",
      "Epoch 39/50\n",
      "70/70 [==============================] - 27s 393ms/step - loss: 1.7280 - accuracy: 0.3460 - val_loss: 1.7125 - val_accuracy: 0.3723\n",
      "Epoch 40/50\n",
      "70/70 [==============================] - 27s 391ms/step - loss: 1.7311 - accuracy: 0.3507 - val_loss: 1.7088 - val_accuracy: 0.3424\n",
      "Epoch 41/50\n",
      "70/70 [==============================] - 27s 389ms/step - loss: 1.7400 - accuracy: 0.3504 - val_loss: 1.6870 - val_accuracy: 0.3628\n",
      "Epoch 42/50\n",
      "70/70 [==============================] - 27s 385ms/step - loss: 1.7305 - accuracy: 0.3500 - val_loss: 1.7093 - val_accuracy: 0.3342\n",
      "Epoch 43/50\n",
      "70/70 [==============================] - 27s 383ms/step - loss: 1.7339 - accuracy: 0.3446 - val_loss: 1.7024 - val_accuracy: 0.3533\n",
      "Epoch 44/50\n",
      "70/70 [==============================] - 27s 383ms/step - loss: 1.7109 - accuracy: 0.3525 - val_loss: 1.7047 - val_accuracy: 0.3410\n",
      "Epoch 45/50\n",
      "70/70 [==============================] - 27s 389ms/step - loss: 1.6837 - accuracy: 0.3784 - val_loss: 1.6803 - val_accuracy: 0.3587\n",
      "Epoch 46/50\n",
      "70/70 [==============================] - 27s 384ms/step - loss: 1.7313 - accuracy: 0.3279 - val_loss: 1.6821 - val_accuracy: 0.3519\n",
      "Epoch 47/50\n",
      "70/70 [==============================] - 27s 392ms/step - loss: 1.6703 - accuracy: 0.3829 - val_loss: 1.6654 - val_accuracy: 0.4008\n",
      "Epoch 48/50\n",
      "70/70 [==============================] - 27s 383ms/step - loss: 1.6975 - accuracy: 0.3662 - val_loss: 1.6939 - val_accuracy: 0.3818\n",
      "Epoch 49/50\n",
      "70/70 [==============================] - 27s 384ms/step - loss: 1.6882 - accuracy: 0.3879 - val_loss: 1.6792 - val_accuracy: 0.3682\n",
      "Epoch 50/50\n",
      "70/70 [==============================] - 27s 382ms/step - loss: 1.6706 - accuracy: 0.3662 - val_loss: 1.6828 - val_accuracy: 0.3668\n"
     ]
    },
    {
     "data": {
      "text/html": [
       "<br/>Waiting for W&B process to finish, PID 169202<br/>Program ended successfully."
      ],
      "text/plain": [
       "<IPython.core.display.HTML object>"
      ]
     },
     "metadata": {},
     "output_type": "display_data"
    },
    {
     "data": {
      "text/html": [
       "Find user logs for this run at: <code>/home/charlie/Documents/courses/miniproject/notebooks/wandb/run-20210330_013809-j5exd7b0/logs/debug.log</code>"
      ],
      "text/plain": [
       "<IPython.core.display.HTML object>"
      ]
     },
     "metadata": {},
     "output_type": "display_data"
    },
    {
     "data": {
      "text/html": [
       "Find internal logs for this run at: <code>/home/charlie/Documents/courses/miniproject/notebooks/wandb/run-20210330_013809-j5exd7b0/logs/debug-internal.log</code>"
      ],
      "text/plain": [
       "<IPython.core.display.HTML object>"
      ]
     },
     "metadata": {},
     "output_type": "display_data"
    },
    {
     "data": {
      "text/html": [
       "<h3>Run summary:</h3><br/><style>\n",
       "    table.wandb td:nth-child(1) { padding: 0 10px; text-align: right }\n",
       "    </style><table class=\"wandb\">\n",
       "<tr><td>epoch</td><td>49</td></tr><tr><td>loss</td><td>1.67056</td></tr><tr><td>accuracy</td><td>0.36619</td></tr><tr><td>val_loss</td><td>1.68283</td></tr><tr><td>val_accuracy</td><td>0.36685</td></tr><tr><td>_runtime</td><td>1393</td></tr><tr><td>_timestamp</td><td>1617066082</td></tr><tr><td>_step</td><td>49</td></tr><tr><td>best_val_loss</td><td>1.66538</td></tr><tr><td>best_epoch</td><td>46</td></tr></table>"
      ],
      "text/plain": [
       "<IPython.core.display.HTML object>"
      ]
     },
     "metadata": {},
     "output_type": "display_data"
    },
    {
     "data": {
      "text/html": [
       "<h3>Run history:</h3><br/><style>\n",
       "    table.wandb td:nth-child(1) { padding: 0 10px; text-align: right }\n",
       "    </style><table class=\"wandb\">\n",
       "<tr><td>epoch</td><td>▁▁▁▁▂▂▂▂▂▃▃▃▃▃▃▄▄▄▄▄▅▅▅▅▅▅▆▆▆▆▆▆▇▇▇▇▇███</td></tr><tr><td>loss</td><td>█▅▄▄▄▄▄▃▃▃▃▃▃▃▃▃▃▂▂▂▂▂▂▂▂▂▂▂▂▁▂▂▂▂▂▁▂▁▁▁</td></tr><tr><td>accuracy</td><td>▁▂▃▄▄▄▄▅▄▅▅▅▅▆▆▅▆▆▆▆▆▇▅▇▆▇▆▇▇▇▆▇▇▇▇▇▆███</td></tr><tr><td>val_loss</td><td>█▇▇▆▆▆▅▅▅▅▅▅▄▄▄▄▄▃▃▃▄▃▃▃▃▂▃▂▂▃▂▂▁▂▂▂▁▁▂▁</td></tr><tr><td>val_accuracy</td><td>▁▃▃▃▄▄▅▄▅▆▅▅▅▄▅▅▅▆▆▆▅▆▅▆▆▆▆▇▇▆▇▇▇▆▇▆▇█▇▇</td></tr><tr><td>_runtime</td><td>▁▁▁▁▂▂▂▂▂▃▃▃▃▃▃▄▄▄▄▄▅▅▅▅▅▅▆▆▆▆▆▆▇▇▇▇▇███</td></tr><tr><td>_timestamp</td><td>▁▁▁▁▂▂▂▂▂▃▃▃▃▃▃▄▄▄▄▄▅▅▅▅▅▅▆▆▆▆▆▆▇▇▇▇▇███</td></tr><tr><td>_step</td><td>▁▁▁▁▂▂▂▂▂▃▃▃▃▃▃▄▄▄▄▄▅▅▅▅▅▅▆▆▆▆▆▆▇▇▇▇▇███</td></tr></table><br/>"
      ],
      "text/plain": [
       "<IPython.core.display.HTML object>"
      ]
     },
     "metadata": {},
     "output_type": "display_data"
    },
    {
     "data": {
      "text/html": [
       "Synced 5 W&B file(s), 1 media file(s), 0 artifact file(s) and 1 other file(s)"
      ],
      "text/plain": [
       "<IPython.core.display.HTML object>"
      ]
     },
     "metadata": {},
     "output_type": "display_data"
    },
    {
     "data": {
      "text/html": [
       "\n",
       "                    <br/>Synced <strong style=\"color:#cdcd00\">unique-sweep-56</strong>: <a href=\"https://wandb.ai/charlieisalright/sentiment/runs/j5exd7b0\" target=\"_blank\">https://wandb.ai/charlieisalright/sentiment/runs/j5exd7b0</a><br/>\n",
       "                "
      ],
      "text/plain": [
       "<IPython.core.display.HTML object>"
      ]
     },
     "metadata": {},
     "output_type": "display_data"
    },
    {
     "name": "stderr",
     "output_type": "stream",
     "text": [
      "\u001b[34m\u001b[1mwandb\u001b[0m: Agent Starting Run: p4j314j5 with config:\n",
      "\u001b[34m\u001b[1mwandb\u001b[0m: \tbatch_size: 20\n",
      "\u001b[34m\u001b[1mwandb\u001b[0m: \tepochs: 50\n",
      "\u001b[34m\u001b[1mwandb\u001b[0m: \tlearning_rate: 0.0014187526218957685\n",
      "Failed to detect the name of this notebook, you can set it manually with the WANDB_NOTEBOOK_NAME environment variable to enable code saving.\n",
      "\u001b[34m\u001b[1mwandb\u001b[0m: \u001b[33mWARNING\u001b[0m Ignored wandb.init() arg project when running a sweep\n",
      "\u001b[34m\u001b[1mwandb\u001b[0m: \u001b[33mWARNING\u001b[0m Ignored wandb.init() arg entity when running a sweep\n"
     ]
    },
    {
     "data": {
      "text/html": [
       "\n",
       "                Tracking run with wandb version 0.10.23<br/>\n",
       "                Syncing run <strong style=\"color:#cdcd00\">fiery-sweep-57</strong> to <a href=\"https://wandb.ai\" target=\"_blank\">Weights & Biases</a> <a href=\"https://docs.wandb.com/integrations/jupyter.html\" target=\"_blank\">(Documentation)</a>.<br/>\n",
       "                Project page: <a href=\"https://wandb.ai/charlieisalright/sentiment\" target=\"_blank\">https://wandb.ai/charlieisalright/sentiment</a><br/>\n",
       "                Sweep page: <a href=\"https://wandb.ai/charlieisalright/sentiment/sweeps/fnf3wbru\" target=\"_blank\">https://wandb.ai/charlieisalright/sentiment/sweeps/fnf3wbru</a><br/>\n",
       "Run page: <a href=\"https://wandb.ai/charlieisalright/sentiment/runs/p4j314j5\" target=\"_blank\">https://wandb.ai/charlieisalright/sentiment/runs/p4j314j5</a><br/>\n",
       "                Run data is saved locally in <code>/home/charlie/Documents/courses/miniproject/notebooks/wandb/run-20210330_020128-p4j314j5</code><br/><br/>\n",
       "            "
      ],
      "text/plain": [
       "<IPython.core.display.HTML object>"
      ]
     },
     "metadata": {},
     "output_type": "display_data"
    },
    {
     "name": "stdout",
     "output_type": "stream",
     "text": [
      "Epoch 1/50\n",
      "70/70 [==============================] - 28s 395ms/step - loss: 2.3112 - accuracy: 0.1482 - val_loss: 2.0463 - val_accuracy: 0.1549\n",
      "Epoch 2/50\n",
      "70/70 [==============================] - 27s 389ms/step - loss: 2.0542 - accuracy: 0.1669 - val_loss: 1.9945 - val_accuracy: 0.2147\n",
      "Epoch 3/50\n",
      "70/70 [==============================] - 27s 391ms/step - loss: 2.0165 - accuracy: 0.1943 - val_loss: 1.9655 - val_accuracy: 0.2351\n",
      "Epoch 4/50\n",
      "70/70 [==============================] - 27s 388ms/step - loss: 2.0061 - accuracy: 0.2014 - val_loss: 1.9519 - val_accuracy: 0.2595\n",
      "Epoch 5/50\n",
      "70/70 [==============================] - 27s 384ms/step - loss: 1.9886 - accuracy: 0.2257 - val_loss: 1.9530 - val_accuracy: 0.2500\n",
      "Epoch 6/50\n",
      "70/70 [==============================] - 27s 391ms/step - loss: 1.9704 - accuracy: 0.2129 - val_loss: 1.9348 - val_accuracy: 0.2636\n",
      "Epoch 7/50\n",
      "70/70 [==============================] - 28s 394ms/step - loss: 1.9466 - accuracy: 0.2421 - val_loss: 1.9011 - val_accuracy: 0.2541\n",
      "Epoch 8/50\n",
      "70/70 [==============================] - 27s 390ms/step - loss: 1.9424 - accuracy: 0.2353 - val_loss: 1.9003 - val_accuracy: 0.2514\n",
      "Epoch 9/50\n",
      "70/70 [==============================] - 27s 381ms/step - loss: 1.9557 - accuracy: 0.2252 - val_loss: 1.9159 - val_accuracy: 0.2446\n",
      "Epoch 10/50\n",
      "70/70 [==============================] - 27s 391ms/step - loss: 1.9337 - accuracy: 0.2571 - val_loss: 1.8834 - val_accuracy: 0.3030\n",
      "Epoch 11/50\n",
      "70/70 [==============================] - 27s 384ms/step - loss: 1.9160 - accuracy: 0.2621 - val_loss: 1.8982 - val_accuracy: 0.3247\n",
      "Epoch 12/50\n",
      "70/70 [==============================] - 27s 388ms/step - loss: 1.9347 - accuracy: 0.2561 - val_loss: 1.8816 - val_accuracy: 0.2772\n",
      "Epoch 13/50\n",
      "70/70 [==============================] - 27s 389ms/step - loss: 1.9003 - accuracy: 0.2561 - val_loss: 1.8757 - val_accuracy: 0.2609\n",
      "Epoch 14/50\n",
      "70/70 [==============================] - 27s 388ms/step - loss: 1.8938 - accuracy: 0.2727 - val_loss: 1.8467 - val_accuracy: 0.3207\n",
      "Epoch 15/50\n",
      "70/70 [==============================] - 27s 382ms/step - loss: 1.9045 - accuracy: 0.2640 - val_loss: 1.8761 - val_accuracy: 0.2582\n",
      "Epoch 16/50\n",
      "70/70 [==============================] - 27s 381ms/step - loss: 1.8831 - accuracy: 0.2626 - val_loss: 1.8662 - val_accuracy: 0.2527\n",
      "Epoch 17/50\n",
      "70/70 [==============================] - 27s 382ms/step - loss: 1.8857 - accuracy: 0.2554 - val_loss: 1.8548 - val_accuracy: 0.3016\n",
      "Epoch 18/50\n",
      "70/70 [==============================] - 27s 390ms/step - loss: 1.8558 - accuracy: 0.2707 - val_loss: 1.8195 - val_accuracy: 0.2704\n",
      "Epoch 19/50\n",
      "70/70 [==============================] - 27s 381ms/step - loss: 1.8613 - accuracy: 0.2935 - val_loss: 1.8236 - val_accuracy: 0.2826\n",
      "Epoch 20/50\n",
      "70/70 [==============================] - 27s 388ms/step - loss: 1.8731 - accuracy: 0.2856 - val_loss: 1.7996 - val_accuracy: 0.3111\n",
      "Epoch 21/50\n",
      "70/70 [==============================] - 27s 384ms/step - loss: 1.8309 - accuracy: 0.2921 - val_loss: 1.8210 - val_accuracy: 0.2745\n",
      "Epoch 22/50\n",
      "70/70 [==============================] - 27s 382ms/step - loss: 1.8440 - accuracy: 0.2863 - val_loss: 1.8193 - val_accuracy: 0.2908\n",
      "Epoch 23/50\n",
      "70/70 [==============================] - 27s 381ms/step - loss: 1.8358 - accuracy: 0.2906 - val_loss: 1.8081 - val_accuracy: 0.2799\n",
      "Epoch 24/50\n",
      "70/70 [==============================] - 27s 389ms/step - loss: 1.8279 - accuracy: 0.2964 - val_loss: 1.7842 - val_accuracy: 0.2976\n",
      "Epoch 25/50\n",
      "70/70 [==============================] - 27s 381ms/step - loss: 1.8294 - accuracy: 0.2863 - val_loss: 1.8776 - val_accuracy: 0.2337\n",
      "Epoch 26/50\n",
      "70/70 [==============================] - 27s 390ms/step - loss: 1.8261 - accuracy: 0.2964 - val_loss: 1.7710 - val_accuracy: 0.3152\n",
      "Epoch 27/50\n",
      "70/70 [==============================] - 27s 384ms/step - loss: 1.8327 - accuracy: 0.2771 - val_loss: 1.7769 - val_accuracy: 0.3166\n",
      "Epoch 28/50\n",
      "70/70 [==============================] - 27s 388ms/step - loss: 1.7845 - accuracy: 0.3115 - val_loss: 1.7657 - val_accuracy: 0.3356\n",
      "Epoch 29/50\n",
      "70/70 [==============================] - 27s 389ms/step - loss: 1.7864 - accuracy: 0.3157 - val_loss: 1.7452 - val_accuracy: 0.3723\n",
      "Epoch 30/50\n",
      "70/70 [==============================] - 27s 382ms/step - loss: 1.8187 - accuracy: 0.2885 - val_loss: 1.7635 - val_accuracy: 0.2935\n",
      "Epoch 31/50\n",
      "70/70 [==============================] - 27s 381ms/step - loss: 1.7953 - accuracy: 0.3122 - val_loss: 1.7692 - val_accuracy: 0.3139\n",
      "Epoch 32/50\n",
      "70/70 [==============================] - 27s 382ms/step - loss: 1.7947 - accuracy: 0.3065 - val_loss: 1.7538 - val_accuracy: 0.3438\n",
      "Epoch 33/50\n",
      "70/70 [==============================] - 27s 383ms/step - loss: 1.8036 - accuracy: 0.3093 - val_loss: 1.7583 - val_accuracy: 0.3356\n",
      "Epoch 34/50\n",
      "70/70 [==============================] - 27s 381ms/step - loss: 1.7779 - accuracy: 0.3108 - val_loss: 1.7534 - val_accuracy: 0.3370\n",
      "Epoch 35/50\n",
      "70/70 [==============================] - 27s 382ms/step - loss: 1.7778 - accuracy: 0.3353 - val_loss: 1.7765 - val_accuracy: 0.3139\n",
      "Epoch 36/50\n",
      "70/70 [==============================] - 27s 387ms/step - loss: 1.7916 - accuracy: 0.3137 - val_loss: 1.7138 - val_accuracy: 0.3410\n",
      "Epoch 37/50\n",
      "70/70 [==============================] - 27s 386ms/step - loss: 1.7868 - accuracy: 0.3022 - val_loss: 1.7330 - val_accuracy: 0.3696\n",
      "Epoch 38/50\n",
      "70/70 [==============================] - 27s 387ms/step - loss: 1.7434 - accuracy: 0.3194 - val_loss: 1.7240 - val_accuracy: 0.3329\n",
      "Epoch 39/50\n",
      "70/70 [==============================] - 27s 386ms/step - loss: 1.7579 - accuracy: 0.3230 - val_loss: 1.7369 - val_accuracy: 0.3478\n",
      "Epoch 40/50\n",
      "70/70 [==============================] - 27s 388ms/step - loss: 1.7648 - accuracy: 0.3317 - val_loss: 1.7075 - val_accuracy: 0.3356\n",
      "Epoch 41/50\n",
      "70/70 [==============================] - 27s 383ms/step - loss: 1.7885 - accuracy: 0.3136 - val_loss: 1.7181 - val_accuracy: 0.3899\n",
      "Epoch 42/50\n",
      "70/70 [==============================] - 27s 387ms/step - loss: 1.7685 - accuracy: 0.3273 - val_loss: 1.7060 - val_accuracy: 0.3573\n",
      "Epoch 43/50\n",
      "70/70 [==============================] - 28s 400ms/step - loss: 1.7527 - accuracy: 0.3353 - val_loss: 1.7014 - val_accuracy: 0.3465\n",
      "Epoch 44/50\n",
      "70/70 [==============================] - 27s 384ms/step - loss: 1.7467 - accuracy: 0.3221 - val_loss: 1.7305 - val_accuracy: 0.3519\n",
      "Epoch 45/50\n",
      "70/70 [==============================] - 27s 381ms/step - loss: 1.7314 - accuracy: 0.3331 - val_loss: 1.7132 - val_accuracy: 0.3383\n",
      "Epoch 46/50\n",
      "70/70 [==============================] - 27s 381ms/step - loss: 1.7422 - accuracy: 0.3245 - val_loss: 1.7168 - val_accuracy: 0.3505\n",
      "Epoch 47/50\n",
      "70/70 [==============================] - 27s 384ms/step - loss: 1.7394 - accuracy: 0.3314 - val_loss: 1.7098 - val_accuracy: 0.3370\n",
      "Epoch 48/50\n",
      "70/70 [==============================] - 27s 381ms/step - loss: 1.7726 - accuracy: 0.3122 - val_loss: 1.7090 - val_accuracy: 0.3832\n",
      "Epoch 49/50\n",
      "70/70 [==============================] - 27s 388ms/step - loss: 1.7268 - accuracy: 0.3388 - val_loss: 1.6824 - val_accuracy: 0.3601\n",
      "Epoch 50/50\n",
      "70/70 [==============================] - 27s 381ms/step - loss: 1.7514 - accuracy: 0.3223 - val_loss: 1.6899 - val_accuracy: 0.3723\n"
     ]
    },
    {
     "data": {
      "text/html": [
       "<br/>Waiting for W&B process to finish, PID 169799<br/>Program ended successfully."
      ],
      "text/plain": [
       "<IPython.core.display.HTML object>"
      ]
     },
     "metadata": {},
     "output_type": "display_data"
    },
    {
     "data": {
      "text/html": [
       "Find user logs for this run at: <code>/home/charlie/Documents/courses/miniproject/notebooks/wandb/run-20210330_020128-p4j314j5/logs/debug.log</code>"
      ],
      "text/plain": [
       "<IPython.core.display.HTML object>"
      ]
     },
     "metadata": {},
     "output_type": "display_data"
    },
    {
     "data": {
      "text/html": [
       "Find internal logs for this run at: <code>/home/charlie/Documents/courses/miniproject/notebooks/wandb/run-20210330_020128-p4j314j5/logs/debug-internal.log</code>"
      ],
      "text/plain": [
       "<IPython.core.display.HTML object>"
      ]
     },
     "metadata": {},
     "output_type": "display_data"
    },
    {
     "data": {
      "text/html": [
       "<h3>Run summary:</h3><br/><style>\n",
       "    table.wandb td:nth-child(1) { padding: 0 10px; text-align: right }\n",
       "    </style><table class=\"wandb\">\n",
       "<tr><td>epoch</td><td>49</td></tr><tr><td>loss</td><td>1.7514</td></tr><tr><td>accuracy</td><td>0.3223</td></tr><tr><td>val_loss</td><td>1.68985</td></tr><tr><td>val_accuracy</td><td>0.37228</td></tr><tr><td>_runtime</td><td>1383</td></tr><tr><td>_timestamp</td><td>1617067471</td></tr><tr><td>_step</td><td>49</td></tr><tr><td>best_val_loss</td><td>1.68237</td></tr><tr><td>best_epoch</td><td>48</td></tr></table>"
      ],
      "text/plain": [
       "<IPython.core.display.HTML object>"
      ]
     },
     "metadata": {},
     "output_type": "display_data"
    },
    {
     "data": {
      "text/html": [
       "<h3>Run history:</h3><br/><style>\n",
       "    table.wandb td:nth-child(1) { padding: 0 10px; text-align: right }\n",
       "    </style><table class=\"wandb\">\n",
       "<tr><td>epoch</td><td>▁▁▁▁▂▂▂▂▂▃▃▃▃▃▃▄▄▄▄▄▅▅▅▅▅▅▆▆▆▆▆▆▇▇▇▇▇███</td></tr><tr><td>loss</td><td>█▅▄▄▄▄▃▄▃▃▃▃▃▃▂▂▂▂▂▂▂▂▂▂▂▂▂▁▂▂▁▁▂▁▁▁▁▁▁▁</td></tr><tr><td>accuracy</td><td>▁▂▃▃▃▅▄▄▅▅▅▆▅▅▆▆▆▆▆▇▇▆▇▇▇▇▇▇▇▇▇█▇█████▇█</td></tr><tr><td>val_loss</td><td>█▇▆▆▆▅▅▅▅▅▅▄▄▄▄▄▄▄▃▃▃▃▂▂▃▂▂▂▁▂▂▂▂▁▁▂▂▁▁▁</td></tr><tr><td>val_accuracy</td><td>▁▃▃▄▄▄▄▄▆▅▄▆▄▅▄▅▅▅▅▅▆▆▆▇▆▇▆▆▇▇▆▇█▇▇▇▇▆█▇</td></tr><tr><td>_runtime</td><td>▁▁▁▁▂▂▂▂▂▃▃▃▃▃▃▄▄▄▄▄▅▅▅▅▅▅▆▆▆▆▆▆▇▇▇▇▇███</td></tr><tr><td>_timestamp</td><td>▁▁▁▁▂▂▂▂▂▃▃▃▃▃▃▄▄▄▄▄▅▅▅▅▅▅▆▆▆▆▆▆▇▇▇▇▇███</td></tr><tr><td>_step</td><td>▁▁▁▁▂▂▂▂▂▃▃▃▃▃▃▄▄▄▄▄▅▅▅▅▅▅▆▆▆▆▆▆▇▇▇▇▇███</td></tr></table><br/>"
      ],
      "text/plain": [
       "<IPython.core.display.HTML object>"
      ]
     },
     "metadata": {},
     "output_type": "display_data"
    },
    {
     "data": {
      "text/html": [
       "Synced 5 W&B file(s), 1 media file(s), 0 artifact file(s) and 1 other file(s)"
      ],
      "text/plain": [
       "<IPython.core.display.HTML object>"
      ]
     },
     "metadata": {},
     "output_type": "display_data"
    },
    {
     "data": {
      "text/html": [
       "\n",
       "                    <br/>Synced <strong style=\"color:#cdcd00\">fiery-sweep-57</strong>: <a href=\"https://wandb.ai/charlieisalright/sentiment/runs/p4j314j5\" target=\"_blank\">https://wandb.ai/charlieisalright/sentiment/runs/p4j314j5</a><br/>\n",
       "                "
      ],
      "text/plain": [
       "<IPython.core.display.HTML object>"
      ]
     },
     "metadata": {},
     "output_type": "display_data"
    },
    {
     "name": "stderr",
     "output_type": "stream",
     "text": [
      "\u001b[34m\u001b[1mwandb\u001b[0m: Agent Starting Run: e1bw428m with config:\n",
      "\u001b[34m\u001b[1mwandb\u001b[0m: \tbatch_size: 32\n",
      "\u001b[34m\u001b[1mwandb\u001b[0m: \tepochs: 50\n",
      "\u001b[34m\u001b[1mwandb\u001b[0m: \tlearning_rate: 0.0006000058299493579\n",
      "Failed to detect the name of this notebook, you can set it manually with the WANDB_NOTEBOOK_NAME environment variable to enable code saving.\n",
      "\u001b[34m\u001b[1mwandb\u001b[0m: \u001b[33mWARNING\u001b[0m Ignored wandb.init() arg project when running a sweep\n",
      "\u001b[34m\u001b[1mwandb\u001b[0m: \u001b[33mWARNING\u001b[0m Ignored wandb.init() arg entity when running a sweep\n"
     ]
    },
    {
     "data": {
      "text/html": [
       "\n",
       "                Tracking run with wandb version 0.10.23<br/>\n",
       "                Syncing run <strong style=\"color:#cdcd00\">wobbly-sweep-58</strong> to <a href=\"https://wandb.ai\" target=\"_blank\">Weights & Biases</a> <a href=\"https://docs.wandb.com/integrations/jupyter.html\" target=\"_blank\">(Documentation)</a>.<br/>\n",
       "                Project page: <a href=\"https://wandb.ai/charlieisalright/sentiment\" target=\"_blank\">https://wandb.ai/charlieisalright/sentiment</a><br/>\n",
       "                Sweep page: <a href=\"https://wandb.ai/charlieisalright/sentiment/sweeps/fnf3wbru\" target=\"_blank\">https://wandb.ai/charlieisalright/sentiment/sweeps/fnf3wbru</a><br/>\n",
       "Run page: <a href=\"https://wandb.ai/charlieisalright/sentiment/runs/e1bw428m\" target=\"_blank\">https://wandb.ai/charlieisalright/sentiment/runs/e1bw428m</a><br/>\n",
       "                Run data is saved locally in <code>/home/charlie/Documents/courses/miniproject/notebooks/wandb/run-20210330_022437-e1bw428m</code><br/><br/>\n",
       "            "
      ],
      "text/plain": [
       "<IPython.core.display.HTML object>"
      ]
     },
     "metadata": {},
     "output_type": "display_data"
    },
    {
     "name": "stdout",
     "output_type": "stream",
     "text": [
      "Epoch 1/50\n",
      "70/70 [==============================] - 21s 303ms/step - loss: 2.3837 - accuracy: 0.1416 - val_loss: 2.0080 - val_accuracy: 0.1712\n",
      "Epoch 2/50\n",
      "70/70 [==============================] - 21s 299ms/step - loss: 2.0538 - accuracy: 0.1880 - val_loss: 1.9809 - val_accuracy: 0.2283\n",
      "Epoch 3/50\n",
      "70/70 [==============================] - 21s 299ms/step - loss: 1.9979 - accuracy: 0.2205 - val_loss: 1.9500 - val_accuracy: 0.2418\n",
      "Epoch 4/50\n",
      "70/70 [==============================] - 21s 300ms/step - loss: 1.9655 - accuracy: 0.2385 - val_loss: 1.9254 - val_accuracy: 0.2595\n",
      "Epoch 5/50\n",
      "70/70 [==============================] - 21s 300ms/step - loss: 1.9562 - accuracy: 0.2272 - val_loss: 1.9036 - val_accuracy: 0.2772\n",
      "Epoch 6/50\n",
      "70/70 [==============================] - 21s 301ms/step - loss: 1.9314 - accuracy: 0.2588 - val_loss: 1.9032 - val_accuracy: 0.2989\n",
      "Epoch 7/50\n",
      "70/70 [==============================] - 21s 299ms/step - loss: 1.9307 - accuracy: 0.2367 - val_loss: 1.8865 - val_accuracy: 0.3139\n",
      "Epoch 8/50\n",
      "70/70 [==============================] - 21s 301ms/step - loss: 1.8942 - accuracy: 0.2800 - val_loss: 1.8605 - val_accuracy: 0.2853\n",
      "Epoch 9/50\n",
      "70/70 [==============================] - 21s 299ms/step - loss: 1.8940 - accuracy: 0.2701 - val_loss: 1.8471 - val_accuracy: 0.2826\n",
      "Epoch 10/50\n",
      "70/70 [==============================] - 21s 299ms/step - loss: 1.8820 - accuracy: 0.2705 - val_loss: 1.8410 - val_accuracy: 0.3016\n",
      "Epoch 11/50\n",
      "70/70 [==============================] - 21s 301ms/step - loss: 1.8705 - accuracy: 0.2913 - val_loss: 1.8193 - val_accuracy: 0.3397\n",
      "Epoch 12/50\n",
      "70/70 [==============================] - 21s 301ms/step - loss: 1.8517 - accuracy: 0.2876 - val_loss: 1.8169 - val_accuracy: 0.3057\n",
      "Epoch 13/50\n",
      "70/70 [==============================] - 21s 293ms/step - loss: 1.8646 - accuracy: 0.2746 - val_loss: 1.8170 - val_accuracy: 0.3084\n",
      "Epoch 14/50\n",
      "70/70 [==============================] - 21s 301ms/step - loss: 1.8415 - accuracy: 0.2971 - val_loss: 1.8001 - val_accuracy: 0.3125\n",
      "Epoch 15/50\n",
      "70/70 [==============================] - 21s 293ms/step - loss: 1.8335 - accuracy: 0.3093 - val_loss: 1.8046 - val_accuracy: 0.3125\n",
      "Epoch 16/50\n",
      "70/70 [==============================] - 21s 299ms/step - loss: 1.8245 - accuracy: 0.3228 - val_loss: 1.7811 - val_accuracy: 0.3193\n",
      "Epoch 17/50\n",
      "70/70 [==============================] - 21s 293ms/step - loss: 1.8118 - accuracy: 0.3179 - val_loss: 1.7926 - val_accuracy: 0.2935\n",
      "Epoch 18/50\n",
      "70/70 [==============================] - 21s 302ms/step - loss: 1.8098 - accuracy: 0.3057 - val_loss: 1.7589 - val_accuracy: 0.3438\n",
      "Epoch 19/50\n",
      "70/70 [==============================] - 21s 301ms/step - loss: 1.8041 - accuracy: 0.3215 - val_loss: 1.7426 - val_accuracy: 0.3587\n",
      "Epoch 20/50\n",
      "70/70 [==============================] - 21s 296ms/step - loss: 1.7928 - accuracy: 0.3237 - val_loss: 1.7504 - val_accuracy: 0.3193\n",
      "Epoch 21/50\n",
      "70/70 [==============================] - 21s 299ms/step - loss: 1.7780 - accuracy: 0.3377 - val_loss: 1.7272 - val_accuracy: 0.3736\n",
      "Epoch 22/50\n",
      "70/70 [==============================] - 21s 294ms/step - loss: 1.7903 - accuracy: 0.3287 - val_loss: 1.7441 - val_accuracy: 0.3478\n",
      "Epoch 23/50\n",
      "70/70 [==============================] - 21s 294ms/step - loss: 1.7663 - accuracy: 0.3377 - val_loss: 1.7279 - val_accuracy: 0.3886\n",
      "Epoch 24/50\n",
      "70/70 [==============================] - 21s 300ms/step - loss: 1.7477 - accuracy: 0.3318 - val_loss: 1.7171 - val_accuracy: 0.3587\n",
      "Epoch 25/50\n",
      "70/70 [==============================] - 21s 295ms/step - loss: 1.7491 - accuracy: 0.3278 - val_loss: 1.7409 - val_accuracy: 0.3383\n",
      "Epoch 26/50\n",
      "70/70 [==============================] - 21s 293ms/step - loss: 1.7535 - accuracy: 0.3445 - val_loss: 1.7604 - val_accuracy: 0.3057\n",
      "Epoch 27/50\n",
      "70/70 [==============================] - 21s 297ms/step - loss: 1.7303 - accuracy: 0.3481 - val_loss: 1.6950 - val_accuracy: 0.3696\n",
      "Epoch 28/50\n",
      "70/70 [==============================] - 21s 300ms/step - loss: 1.7496 - accuracy: 0.3350 - val_loss: 1.6915 - val_accuracy: 0.3750\n",
      "Epoch 29/50\n",
      "70/70 [==============================] - 21s 301ms/step - loss: 1.7465 - accuracy: 0.3404 - val_loss: 1.6914 - val_accuracy: 0.3981\n",
      "Epoch 30/50\n",
      "70/70 [==============================] - 20s 292ms/step - loss: 1.7239 - accuracy: 0.3526 - val_loss: 1.7173 - val_accuracy: 0.3342\n",
      "Epoch 31/50\n",
      "70/70 [==============================] - 21s 298ms/step - loss: 1.6883 - accuracy: 0.3665 - val_loss: 1.6785 - val_accuracy: 0.3777\n",
      "Epoch 32/50\n",
      "70/70 [==============================] - 21s 302ms/step - loss: 1.6991 - accuracy: 0.3557 - val_loss: 1.6709 - val_accuracy: 0.3723\n",
      "Epoch 33/50\n",
      "70/70 [==============================] - 21s 293ms/step - loss: 1.6964 - accuracy: 0.3598 - val_loss: 1.6797 - val_accuracy: 0.3682\n",
      "Epoch 34/50\n",
      "70/70 [==============================] - 21s 298ms/step - loss: 1.6869 - accuracy: 0.3558 - val_loss: 1.6672 - val_accuracy: 0.3750\n",
      "Epoch 35/50\n",
      "70/70 [==============================] - 21s 300ms/step - loss: 1.7033 - accuracy: 0.3647 - val_loss: 1.6436 - val_accuracy: 0.3764\n",
      "Epoch 36/50\n",
      "70/70 [==============================] - 20s 293ms/step - loss: 1.6987 - accuracy: 0.3535 - val_loss: 1.6831 - val_accuracy: 0.3709\n",
      "Epoch 37/50\n",
      "70/70 [==============================] - 21s 294ms/step - loss: 1.7007 - accuracy: 0.3706 - val_loss: 1.6446 - val_accuracy: 0.4049\n",
      "Epoch 38/50\n",
      "70/70 [==============================] - 20s 290ms/step - loss: 1.6763 - accuracy: 0.3751 - val_loss: 1.6572 - val_accuracy: 0.3832\n",
      "Epoch 39/50\n",
      "70/70 [==============================] - 20s 292ms/step - loss: 1.6569 - accuracy: 0.3906 - val_loss: 1.6804 - val_accuracy: 0.3451\n",
      "Epoch 40/50\n",
      "70/70 [==============================] - 21s 294ms/step - loss: 1.6747 - accuracy: 0.3571 - val_loss: 1.6286 - val_accuracy: 0.3927\n",
      "Epoch 41/50\n",
      "70/70 [==============================] - 20s 292ms/step - loss: 1.6678 - accuracy: 0.3796 - val_loss: 1.6501 - val_accuracy: 0.3832\n",
      "Epoch 42/50\n",
      "70/70 [==============================] - 20s 292ms/step - loss: 1.6821 - accuracy: 0.3544 - val_loss: 1.6344 - val_accuracy: 0.3954\n",
      "Epoch 43/50\n",
      "70/70 [==============================] - 20s 290ms/step - loss: 1.6501 - accuracy: 0.3841 - val_loss: 1.6494 - val_accuracy: 0.3791\n",
      "Epoch 44/50\n",
      "70/70 [==============================] - 20s 291ms/step - loss: 1.6608 - accuracy: 0.3665 - val_loss: 1.6368 - val_accuracy: 0.4022\n",
      "Epoch 45/50\n",
      "70/70 [==============================] - 21s 298ms/step - loss: 1.6550 - accuracy: 0.3729 - val_loss: 1.6267 - val_accuracy: 0.4035\n",
      "Epoch 46/50\n",
      "70/70 [==============================] - 21s 298ms/step - loss: 1.6466 - accuracy: 0.3855 - val_loss: 1.6260 - val_accuracy: 0.3872\n",
      "Epoch 47/50\n",
      "70/70 [==============================] - 21s 303ms/step - loss: 1.6565 - accuracy: 0.3774 - val_loss: 1.6258 - val_accuracy: 0.4035\n",
      "Epoch 48/50\n",
      "70/70 [==============================] - 21s 301ms/step - loss: 1.6236 - accuracy: 0.4004 - val_loss: 1.6045 - val_accuracy: 0.3954\n",
      "Epoch 49/50\n",
      "70/70 [==============================] - 21s 294ms/step - loss: 1.6356 - accuracy: 0.3805 - val_loss: 1.6085 - val_accuracy: 0.4226\n",
      "Epoch 50/50\n",
      "70/70 [==============================] - 21s 306ms/step - loss: 1.6223 - accuracy: 0.3972 - val_loss: 1.6270 - val_accuracy: 0.3981\n"
     ]
    },
    {
     "data": {
      "text/html": [
       "<br/>Waiting for W&B process to finish, PID 170172<br/>Program ended successfully."
      ],
      "text/plain": [
       "<IPython.core.display.HTML object>"
      ]
     },
     "metadata": {},
     "output_type": "display_data"
    },
    {
     "data": {
      "text/html": [
       "Find user logs for this run at: <code>/home/charlie/Documents/courses/miniproject/notebooks/wandb/run-20210330_022437-e1bw428m/logs/debug.log</code>"
      ],
      "text/plain": [
       "<IPython.core.display.HTML object>"
      ]
     },
     "metadata": {},
     "output_type": "display_data"
    },
    {
     "data": {
      "text/html": [
       "Find internal logs for this run at: <code>/home/charlie/Documents/courses/miniproject/notebooks/wandb/run-20210330_022437-e1bw428m/logs/debug-internal.log</code>"
      ],
      "text/plain": [
       "<IPython.core.display.HTML object>"
      ]
     },
     "metadata": {},
     "output_type": "display_data"
    },
    {
     "data": {
      "text/html": [
       "<h3>Run summary:</h3><br/><style>\n",
       "    table.wandb td:nth-child(1) { padding: 0 10px; text-align: right }\n",
       "    </style><table class=\"wandb\">\n",
       "<tr><td>epoch</td><td>49</td></tr><tr><td>loss</td><td>1.62231</td></tr><tr><td>accuracy</td><td>0.3972</td></tr><tr><td>val_loss</td><td>1.62704</td></tr><tr><td>val_accuracy</td><td>0.3981</td></tr><tr><td>_runtime</td><td>1070</td></tr><tr><td>_timestamp</td><td>1617068547</td></tr><tr><td>_step</td><td>49</td></tr><tr><td>best_val_loss</td><td>1.60446</td></tr><tr><td>best_epoch</td><td>47</td></tr></table>"
      ],
      "text/plain": [
       "<IPython.core.display.HTML object>"
      ]
     },
     "metadata": {},
     "output_type": "display_data"
    },
    {
     "data": {
      "text/html": [
       "<h3>Run history:</h3><br/><style>\n",
       "    table.wandb td:nth-child(1) { padding: 0 10px; text-align: right }\n",
       "    </style><table class=\"wandb\">\n",
       "<tr><td>epoch</td><td>▁▁▁▁▂▂▂▂▂▃▃▃▃▃▃▄▄▄▄▄▅▅▅▅▅▅▆▆▆▆▆▆▇▇▇▇▇███</td></tr><tr><td>loss</td><td>█▅▄▄▄▄▃▃▃▃▃▃▃▃▃▃▂▃▂▂▂▂▂▂▂▂▂▂▂▂▁▁▁▂▁▁▁▁▁▁</td></tr><tr><td>accuracy</td><td>▁▂▃▄▄▄▅▄▅▅▅▅▆▆▅▆▆▆▆▆▆▇▆▆▇▇▇▇▇▇▇█▇▇█▇█▇██</td></tr><tr><td>val_loss</td><td>██▇▇▆▆▅▅▅▅▅▄▄▄▄▃▃▃▃▃▄▃▃▃▂▂▂▂▂▂▂▂▂▂▂▂▁▁▁▁</td></tr><tr><td>val_accuracy</td><td>▁▃▃▄▅▅▄▄▆▅▅▅▅▅▆▇▇▆█▇▅▇▇█▇▇▇▇▇█▇▆▇█▇█▇███</td></tr><tr><td>_runtime</td><td>▁▁▁▁▂▂▂▂▂▃▃▃▃▃▃▄▄▄▄▄▅▅▅▅▅▅▆▆▆▆▆▆▇▇▇▇▇███</td></tr><tr><td>_timestamp</td><td>▁▁▁▁▂▂▂▂▂▃▃▃▃▃▃▄▄▄▄▄▅▅▅▅▅▅▆▆▆▆▆▆▇▇▇▇▇███</td></tr><tr><td>_step</td><td>▁▁▁▁▂▂▂▂▂▃▃▃▃▃▃▄▄▄▄▄▅▅▅▅▅▅▆▆▆▆▆▆▇▇▇▇▇███</td></tr></table><br/>"
      ],
      "text/plain": [
       "<IPython.core.display.HTML object>"
      ]
     },
     "metadata": {},
     "output_type": "display_data"
    },
    {
     "data": {
      "text/html": [
       "Synced 5 W&B file(s), 1 media file(s), 0 artifact file(s) and 1 other file(s)"
      ],
      "text/plain": [
       "<IPython.core.display.HTML object>"
      ]
     },
     "metadata": {},
     "output_type": "display_data"
    },
    {
     "data": {
      "text/html": [
       "\n",
       "                    <br/>Synced <strong style=\"color:#cdcd00\">wobbly-sweep-58</strong>: <a href=\"https://wandb.ai/charlieisalright/sentiment/runs/e1bw428m\" target=\"_blank\">https://wandb.ai/charlieisalright/sentiment/runs/e1bw428m</a><br/>\n",
       "                "
      ],
      "text/plain": [
       "<IPython.core.display.HTML object>"
      ]
     },
     "metadata": {},
     "output_type": "display_data"
    },
    {
     "name": "stderr",
     "output_type": "stream",
     "text": [
      "\u001b[34m\u001b[1mwandb\u001b[0m: Agent Starting Run: iy8j0szo with config:\n",
      "\u001b[34m\u001b[1mwandb\u001b[0m: \tbatch_size: 24\n",
      "\u001b[34m\u001b[1mwandb\u001b[0m: \tepochs: 49\n",
      "\u001b[34m\u001b[1mwandb\u001b[0m: \tlearning_rate: 0.0006505096587850083\n",
      "Failed to detect the name of this notebook, you can set it manually with the WANDB_NOTEBOOK_NAME environment variable to enable code saving.\n",
      "\u001b[34m\u001b[1mwandb\u001b[0m: \u001b[33mWARNING\u001b[0m Ignored wandb.init() arg project when running a sweep\n",
      "\u001b[34m\u001b[1mwandb\u001b[0m: \u001b[33mWARNING\u001b[0m Ignored wandb.init() arg entity when running a sweep\n"
     ]
    },
    {
     "data": {
      "text/html": [
       "\n",
       "                Tracking run with wandb version 0.10.23<br/>\n",
       "                Syncing run <strong style=\"color:#cdcd00\">floral-sweep-59</strong> to <a href=\"https://wandb.ai\" target=\"_blank\">Weights & Biases</a> <a href=\"https://docs.wandb.com/integrations/jupyter.html\" target=\"_blank\">(Documentation)</a>.<br/>\n",
       "                Project page: <a href=\"https://wandb.ai/charlieisalright/sentiment\" target=\"_blank\">https://wandb.ai/charlieisalright/sentiment</a><br/>\n",
       "                Sweep page: <a href=\"https://wandb.ai/charlieisalright/sentiment/sweeps/fnf3wbru\" target=\"_blank\">https://wandb.ai/charlieisalright/sentiment/sweeps/fnf3wbru</a><br/>\n",
       "Run page: <a href=\"https://wandb.ai/charlieisalright/sentiment/runs/iy8j0szo\" target=\"_blank\">https://wandb.ai/charlieisalright/sentiment/runs/iy8j0szo</a><br/>\n",
       "                Run data is saved locally in <code>/home/charlie/Documents/courses/miniproject/notebooks/wandb/run-20210330_024233-iy8j0szo</code><br/><br/>\n",
       "            "
      ],
      "text/plain": [
       "<IPython.core.display.HTML object>"
      ]
     },
     "metadata": {},
     "output_type": "display_data"
    },
    {
     "name": "stdout",
     "output_type": "stream",
     "text": [
      "Epoch 1/49\n",
      "70/70 [==============================] - 32s 457ms/step - loss: 2.3184 - accuracy: 0.1410 - val_loss: 2.0191 - val_accuracy: 0.2242\n",
      "Epoch 2/49\n",
      "70/70 [==============================] - 32s 451ms/step - loss: 2.0676 - accuracy: 0.1923 - val_loss: 1.9744 - val_accuracy: 0.2215\n",
      "Epoch 3/49\n",
      "70/70 [==============================] - 32s 450ms/step - loss: 1.9944 - accuracy: 0.2298 - val_loss: 1.9474 - val_accuracy: 0.2174\n",
      "Epoch 4/49\n",
      "70/70 [==============================] - 31s 442ms/step - loss: 1.9853 - accuracy: 0.2192 - val_loss: 1.9520 - val_accuracy: 0.2514\n",
      "Epoch 5/49\n",
      "70/70 [==============================] - 31s 449ms/step - loss: 1.9801 - accuracy: 0.2336 - val_loss: 1.9255 - val_accuracy: 0.2649\n",
      "Epoch 6/49\n",
      "70/70 [==============================] - 31s 449ms/step - loss: 1.9529 - accuracy: 0.2378 - val_loss: 1.8950 - val_accuracy: 0.2935\n",
      "Epoch 7/49\n",
      "70/70 [==============================] - 32s 450ms/step - loss: 1.9367 - accuracy: 0.2435 - val_loss: 1.8740 - val_accuracy: 0.3084\n",
      "Epoch 8/49\n",
      "70/70 [==============================] - 31s 450ms/step - loss: 1.9245 - accuracy: 0.2554 - val_loss: 1.8621 - val_accuracy: 0.3193\n",
      "Epoch 9/49\n",
      "70/70 [==============================] - 32s 451ms/step - loss: 1.9195 - accuracy: 0.2536 - val_loss: 1.8491 - val_accuracy: 0.3247\n",
      "Epoch 10/49\n",
      "70/70 [==============================] - 31s 442ms/step - loss: 1.9217 - accuracy: 0.2646 - val_loss: 1.8634 - val_accuracy: 0.3111\n",
      "Epoch 11/49\n",
      "70/70 [==============================] - 31s 442ms/step - loss: 1.8722 - accuracy: 0.2748 - val_loss: 1.8533 - val_accuracy: 0.3098\n",
      "Epoch 12/49\n",
      "70/70 [==============================] - 32s 451ms/step - loss: 1.8574 - accuracy: 0.2975 - val_loss: 1.8163 - val_accuracy: 0.3370\n",
      "Epoch 13/49\n",
      "70/70 [==============================] - 31s 444ms/step - loss: 1.8582 - accuracy: 0.2957 - val_loss: 1.8165 - val_accuracy: 0.3125\n",
      "Epoch 14/49\n",
      "70/70 [==============================] - 31s 443ms/step - loss: 1.8748 - accuracy: 0.2946 - val_loss: 1.8183 - val_accuracy: 0.3166\n",
      "Epoch 15/49\n",
      "70/70 [==============================] - 31s 446ms/step - loss: 1.8332 - accuracy: 0.3065 - val_loss: 1.7969 - val_accuracy: 0.2989\n",
      "Epoch 16/49\n",
      "70/70 [==============================] - 31s 447ms/step - loss: 1.8409 - accuracy: 0.2867 - val_loss: 1.7885 - val_accuracy: 0.3043\n",
      "Epoch 17/49\n",
      "70/70 [==============================] - 31s 448ms/step - loss: 1.8184 - accuracy: 0.2945 - val_loss: 1.7574 - val_accuracy: 0.3383\n",
      "Epoch 18/49\n",
      "70/70 [==============================] - 31s 443ms/step - loss: 1.8181 - accuracy: 0.3095 - val_loss: 1.7664 - val_accuracy: 0.3492\n",
      "Epoch 19/49\n",
      "70/70 [==============================] - 31s 441ms/step - loss: 1.8059 - accuracy: 0.3106 - val_loss: 1.7721 - val_accuracy: 0.3438\n",
      "Epoch 20/49\n",
      "70/70 [==============================] - 31s 445ms/step - loss: 1.8072 - accuracy: 0.3196 - val_loss: 1.7670 - val_accuracy: 0.3465\n",
      "Epoch 21/49\n",
      "70/70 [==============================] - 32s 453ms/step - loss: 1.8017 - accuracy: 0.2999 - val_loss: 1.7565 - val_accuracy: 0.3628\n",
      "Epoch 22/49\n",
      "70/70 [==============================] - 31s 447ms/step - loss: 1.7802 - accuracy: 0.3268 - val_loss: 1.7418 - val_accuracy: 0.3356\n",
      "Epoch 23/49\n",
      "70/70 [==============================] - 31s 442ms/step - loss: 1.7682 - accuracy: 0.3256 - val_loss: 1.7467 - val_accuracy: 0.3329\n",
      "Epoch 24/49\n",
      "70/70 [==============================] - 31s 443ms/step - loss: 1.7792 - accuracy: 0.3280 - val_loss: 1.7602 - val_accuracy: 0.3084\n",
      "Epoch 25/49\n",
      "70/70 [==============================] - 31s 449ms/step - loss: 1.7638 - accuracy: 0.3244 - val_loss: 1.7351 - val_accuracy: 0.3505\n",
      "Epoch 26/49\n",
      "70/70 [==============================] - 31s 447ms/step - loss: 1.7279 - accuracy: 0.3429 - val_loss: 1.7044 - val_accuracy: 0.3478\n",
      "Epoch 27/49\n",
      "70/70 [==============================] - 31s 442ms/step - loss: 1.7572 - accuracy: 0.3357 - val_loss: 1.7549 - val_accuracy: 0.3342\n",
      "Epoch 28/49\n",
      "70/70 [==============================] - 31s 442ms/step - loss: 1.7399 - accuracy: 0.3381 - val_loss: 1.7176 - val_accuracy: 0.3682\n",
      "Epoch 29/49\n",
      "70/70 [==============================] - 31s 443ms/step - loss: 1.7429 - accuracy: 0.3440 - val_loss: 1.7094 - val_accuracy: 0.3641\n",
      "Epoch 30/49\n",
      "70/70 [==============================] - 31s 449ms/step - loss: 1.7164 - accuracy: 0.3387 - val_loss: 1.6983 - val_accuracy: 0.3709\n",
      "Epoch 31/49\n",
      "70/70 [==============================] - 31s 443ms/step - loss: 1.7311 - accuracy: 0.3542 - val_loss: 1.7020 - val_accuracy: 0.3641\n",
      "Epoch 32/49\n",
      "70/70 [==============================] - 31s 449ms/step - loss: 1.7544 - accuracy: 0.3423 - val_loss: 1.6784 - val_accuracy: 0.3927\n",
      "Epoch 33/49\n",
      "70/70 [==============================] - 31s 443ms/step - loss: 1.7024 - accuracy: 0.3542 - val_loss: 1.6873 - val_accuracy: 0.3818\n",
      "Epoch 34/49\n",
      "70/70 [==============================] - 31s 448ms/step - loss: 1.6993 - accuracy: 0.3613 - val_loss: 1.6722 - val_accuracy: 0.3736\n",
      "Epoch 35/49\n",
      "70/70 [==============================] - 31s 447ms/step - loss: 1.7172 - accuracy: 0.3710 - val_loss: 1.6640 - val_accuracy: 0.3682\n",
      "Epoch 36/49\n",
      "70/70 [==============================] - 31s 444ms/step - loss: 1.7019 - accuracy: 0.3625 - val_loss: 1.6797 - val_accuracy: 0.3723\n",
      "Epoch 37/49\n",
      "70/70 [==============================] - 31s 449ms/step - loss: 1.6899 - accuracy: 0.3620 - val_loss: 1.6640 - val_accuracy: 0.3899\n",
      "Epoch 38/49\n",
      "70/70 [==============================] - 31s 443ms/step - loss: 1.6972 - accuracy: 0.3668 - val_loss: 1.6804 - val_accuracy: 0.3709\n",
      "Epoch 39/49\n",
      "70/70 [==============================] - 31s 450ms/step - loss: 1.6996 - accuracy: 0.3829 - val_loss: 1.6310 - val_accuracy: 0.3832\n",
      "Epoch 40/49\n",
      "70/70 [==============================] - 31s 443ms/step - loss: 1.6891 - accuracy: 0.3495 - val_loss: 1.6744 - val_accuracy: 0.4062\n",
      "Epoch 41/49\n",
      "70/70 [==============================] - 31s 443ms/step - loss: 1.6872 - accuracy: 0.3625 - val_loss: 1.6498 - val_accuracy: 0.3791\n",
      "Epoch 42/49\n",
      "70/70 [==============================] - 31s 442ms/step - loss: 1.6993 - accuracy: 0.3596 - val_loss: 1.6404 - val_accuracy: 0.3927\n",
      "Epoch 43/49\n",
      "70/70 [==============================] - 31s 443ms/step - loss: 1.6862 - accuracy: 0.3728 - val_loss: 1.6640 - val_accuracy: 0.4090\n",
      "Epoch 44/49\n",
      "70/70 [==============================] - 31s 442ms/step - loss: 1.6902 - accuracy: 0.3668 - val_loss: 1.6332 - val_accuracy: 0.4158\n",
      "Epoch 45/49\n",
      "70/70 [==============================] - 31s 445ms/step - loss: 1.6632 - accuracy: 0.3883 - val_loss: 1.6728 - val_accuracy: 0.4062\n",
      "Epoch 46/49\n",
      "70/70 [==============================] - 32s 452ms/step - loss: 1.6736 - accuracy: 0.3690 - val_loss: 1.6221 - val_accuracy: 0.3845\n",
      "Epoch 47/49\n",
      "70/70 [==============================] - 31s 447ms/step - loss: 1.6487 - accuracy: 0.3740 - val_loss: 1.6213 - val_accuracy: 0.4212\n",
      "Epoch 48/49\n",
      "70/70 [==============================] - 31s 448ms/step - loss: 1.6725 - accuracy: 0.3769 - val_loss: 1.6159 - val_accuracy: 0.4035\n",
      "Epoch 49/49\n",
      "70/70 [==============================] - 31s 443ms/step - loss: 1.6400 - accuracy: 0.3881 - val_loss: 1.6206 - val_accuracy: 0.4117\n"
     ]
    },
    {
     "data": {
      "text/html": [
       "<br/>Waiting for W&B process to finish, PID 170534<br/>Program ended successfully."
      ],
      "text/plain": [
       "<IPython.core.display.HTML object>"
      ]
     },
     "metadata": {},
     "output_type": "display_data"
    },
    {
     "data": {
      "text/html": [
       "Find user logs for this run at: <code>/home/charlie/Documents/courses/miniproject/notebooks/wandb/run-20210330_024233-iy8j0szo/logs/debug.log</code>"
      ],
      "text/plain": [
       "<IPython.core.display.HTML object>"
      ]
     },
     "metadata": {},
     "output_type": "display_data"
    },
    {
     "data": {
      "text/html": [
       "Find internal logs for this run at: <code>/home/charlie/Documents/courses/miniproject/notebooks/wandb/run-20210330_024233-iy8j0szo/logs/debug-internal.log</code>"
      ],
      "text/plain": [
       "<IPython.core.display.HTML object>"
      ]
     },
     "metadata": {},
     "output_type": "display_data"
    },
    {
     "data": {
      "text/html": [
       "<h3>Run summary:</h3><br/><style>\n",
       "    table.wandb td:nth-child(1) { padding: 0 10px; text-align: right }\n",
       "    </style><table class=\"wandb\">\n",
       "<tr><td>epoch</td><td>48</td></tr><tr><td>loss</td><td>1.63997</td></tr><tr><td>accuracy</td><td>0.3881</td></tr><tr><td>val_loss</td><td>1.62055</td></tr><tr><td>val_accuracy</td><td>0.41168</td></tr><tr><td>_runtime</td><td>1567</td></tr><tr><td>_timestamp</td><td>1617070120</td></tr><tr><td>_step</td><td>48</td></tr><tr><td>best_val_loss</td><td>1.61593</td></tr><tr><td>best_epoch</td><td>47</td></tr></table>"
      ],
      "text/plain": [
       "<IPython.core.display.HTML object>"
      ]
     },
     "metadata": {},
     "output_type": "display_data"
    },
    {
     "data": {
      "text/html": [
       "<h3>Run history:</h3><br/><style>\n",
       "    table.wandb td:nth-child(1) { padding: 0 10px; text-align: right }\n",
       "    </style><table class=\"wandb\">\n",
       "<tr><td>epoch</td><td>▁▁▁▁▂▂▂▂▂▃▃▃▃▃▃▄▄▄▄▄▅▅▅▅▅▅▆▆▆▆▆▇▇▇▇▇▇███</td></tr><tr><td>loss</td><td>█▅▅▅▅▄▄▄▄▃▃▃▃▃▃▃▃▃▂▂▂▂▂▂▂▂▂▂▂▂▂▂▂▁▂▂▁▁▁▁</td></tr><tr><td>accuracy</td><td>▁▂▄▃▄▄▄▄▄▅▅▅▆▅▆▆▆▅▆▆▆▇▇▇▇▇▇▇█▇▇█▇▇▇▇█▇██</td></tr><tr><td>val_loss</td><td>█▇▇▇▆▅▅▅▅▄▄▄▄▃▄▄▄▃▃▃▃▂▃▃▂▂▂▂▂▂▂▁▂▂▁▁▂▁▁▁</td></tr><tr><td>val_accuracy</td><td>▁▁▁▂▃▄▄▅▄▅▄▄▄▅▆▅▅▆▅▄▆▅▆▆▆▆▇▆▆▆▇▇▇▇▇█▇▇██</td></tr><tr><td>_runtime</td><td>▁▁▁▁▂▂▂▂▂▃▃▃▃▃▃▄▄▄▄▄▅▅▅▅▅▅▆▆▆▆▆▇▇▇▇▇▇███</td></tr><tr><td>_timestamp</td><td>▁▁▁▁▂▂▂▂▂▃▃▃▃▃▃▄▄▄▄▄▅▅▅▅▅▅▆▆▆▆▆▇▇▇▇▇▇███</td></tr><tr><td>_step</td><td>▁▁▁▁▂▂▂▂▂▃▃▃▃▃▃▄▄▄▄▄▅▅▅▅▅▅▆▆▆▆▆▇▇▇▇▇▇███</td></tr></table><br/>"
      ],
      "text/plain": [
       "<IPython.core.display.HTML object>"
      ]
     },
     "metadata": {},
     "output_type": "display_data"
    },
    {
     "data": {
      "text/html": [
       "Synced 5 W&B file(s), 1 media file(s), 0 artifact file(s) and 1 other file(s)"
      ],
      "text/plain": [
       "<IPython.core.display.HTML object>"
      ]
     },
     "metadata": {},
     "output_type": "display_data"
    },
    {
     "data": {
      "text/html": [
       "\n",
       "                    <br/>Synced <strong style=\"color:#cdcd00\">floral-sweep-59</strong>: <a href=\"https://wandb.ai/charlieisalright/sentiment/runs/iy8j0szo\" target=\"_blank\">https://wandb.ai/charlieisalright/sentiment/runs/iy8j0szo</a><br/>\n",
       "                "
      ],
      "text/plain": [
       "<IPython.core.display.HTML object>"
      ]
     },
     "metadata": {},
     "output_type": "display_data"
    },
    {
     "name": "stderr",
     "output_type": "stream",
     "text": [
      "\u001b[34m\u001b[1mwandb\u001b[0m: Agent Starting Run: x55waj7i with config:\n",
      "\u001b[34m\u001b[1mwandb\u001b[0m: \tbatch_size: 26\n",
      "\u001b[34m\u001b[1mwandb\u001b[0m: \tepochs: 50\n",
      "\u001b[34m\u001b[1mwandb\u001b[0m: \tlearning_rate: 0.0011239152800086119\n",
      "Failed to detect the name of this notebook, you can set it manually with the WANDB_NOTEBOOK_NAME environment variable to enable code saving.\n",
      "\u001b[34m\u001b[1mwandb\u001b[0m: \u001b[33mWARNING\u001b[0m Ignored wandb.init() arg project when running a sweep\n",
      "\u001b[34m\u001b[1mwandb\u001b[0m: \u001b[33mWARNING\u001b[0m Ignored wandb.init() arg entity when running a sweep\n"
     ]
    },
    {
     "data": {
      "text/html": [
       "\n",
       "                Tracking run with wandb version 0.10.23<br/>\n",
       "                Syncing run <strong style=\"color:#cdcd00\">confused-sweep-60</strong> to <a href=\"https://wandb.ai\" target=\"_blank\">Weights & Biases</a> <a href=\"https://docs.wandb.com/integrations/jupyter.html\" target=\"_blank\">(Documentation)</a>.<br/>\n",
       "                Project page: <a href=\"https://wandb.ai/charlieisalright/sentiment\" target=\"_blank\">https://wandb.ai/charlieisalright/sentiment</a><br/>\n",
       "                Sweep page: <a href=\"https://wandb.ai/charlieisalright/sentiment/sweeps/fnf3wbru\" target=\"_blank\">https://wandb.ai/charlieisalright/sentiment/sweeps/fnf3wbru</a><br/>\n",
       "Run page: <a href=\"https://wandb.ai/charlieisalright/sentiment/runs/x55waj7i\" target=\"_blank\">https://wandb.ai/charlieisalright/sentiment/runs/x55waj7i</a><br/>\n",
       "                Run data is saved locally in <code>/home/charlie/Documents/courses/miniproject/notebooks/wandb/run-20210330_030857-x55waj7i</code><br/><br/>\n",
       "            "
      ],
      "text/plain": [
       "<IPython.core.display.HTML object>"
      ]
     },
     "metadata": {},
     "output_type": "display_data"
    },
    {
     "name": "stdout",
     "output_type": "stream",
     "text": [
      "Epoch 1/50\n",
      "70/70 [==============================] - 35s 502ms/step - loss: 2.3444 - accuracy: 0.1576 - val_loss: 2.0576 - val_accuracy: 0.1780\n",
      "Epoch 2/50\n",
      "70/70 [==============================] - 34s 481ms/step - loss: 2.0473 - accuracy: 0.1973 - val_loss: 1.9818 - val_accuracy: 0.2201\n",
      "Epoch 3/50\n",
      "70/70 [==============================] - 33s 471ms/step - loss: 2.0110 - accuracy: 0.1969 - val_loss: 1.9856 - val_accuracy: 0.2296\n",
      "Epoch 4/50\n",
      "70/70 [==============================] - 33s 476ms/step - loss: 1.9936 - accuracy: 0.2279 - val_loss: 1.9541 - val_accuracy: 0.2785\n",
      "Epoch 5/50\n",
      "70/70 [==============================] - 33s 476ms/step - loss: 1.9708 - accuracy: 0.2268 - val_loss: 1.9333 - val_accuracy: 0.2622\n",
      "Epoch 6/50\n",
      "70/70 [==============================] - 33s 476ms/step - loss: 1.9552 - accuracy: 0.2378 - val_loss: 1.9252 - val_accuracy: 0.2799\n",
      "Epoch 7/50\n",
      "70/70 [==============================] - 33s 476ms/step - loss: 1.9473 - accuracy: 0.2257 - val_loss: 1.8882 - val_accuracy: 0.3003\n",
      "Epoch 8/50\n",
      "70/70 [==============================] - 33s 477ms/step - loss: 1.9046 - accuracy: 0.2583 - val_loss: 1.8527 - val_accuracy: 0.3193\n",
      "Epoch 9/50\n",
      "70/70 [==============================] - 33s 475ms/step - loss: 1.8921 - accuracy: 0.2577 - val_loss: 1.8489 - val_accuracy: 0.3274\n",
      "Epoch 10/50\n",
      "70/70 [==============================] - 33s 476ms/step - loss: 1.8956 - accuracy: 0.2622 - val_loss: 1.8483 - val_accuracy: 0.2908\n",
      "Epoch 11/50\n",
      "70/70 [==============================] - 34s 479ms/step - loss: 1.8834 - accuracy: 0.2643 - val_loss: 1.8296 - val_accuracy: 0.3016\n",
      "Epoch 12/50\n",
      "70/70 [==============================] - 33s 476ms/step - loss: 1.8759 - accuracy: 0.2793 - val_loss: 1.8188 - val_accuracy: 0.3179\n",
      "Epoch 13/50\n",
      "70/70 [==============================] - 33s 470ms/step - loss: 1.8607 - accuracy: 0.2760 - val_loss: 1.8235 - val_accuracy: 0.3057\n",
      "Epoch 14/50\n",
      "70/70 [==============================] - 33s 476ms/step - loss: 1.8352 - accuracy: 0.2954 - val_loss: 1.7891 - val_accuracy: 0.2962\n",
      "Epoch 15/50\n",
      "70/70 [==============================] - 34s 479ms/step - loss: 1.8410 - accuracy: 0.2951 - val_loss: 1.7826 - val_accuracy: 0.3424\n",
      "Epoch 16/50\n",
      "70/70 [==============================] - 33s 477ms/step - loss: 1.8146 - accuracy: 0.3097 - val_loss: 1.7818 - val_accuracy: 0.3492\n",
      "Epoch 17/50\n",
      "70/70 [==============================] - 34s 479ms/step - loss: 1.8286 - accuracy: 0.3000 - val_loss: 1.7753 - val_accuracy: 0.3383\n",
      "Epoch 18/50\n",
      "70/70 [==============================] - 33s 477ms/step - loss: 1.7876 - accuracy: 0.3147 - val_loss: 1.7691 - val_accuracy: 0.3152\n",
      "Epoch 19/50\n",
      "70/70 [==============================] - 33s 471ms/step - loss: 1.8130 - accuracy: 0.2992 - val_loss: 1.7780 - val_accuracy: 0.3234\n",
      "Epoch 20/50\n",
      "70/70 [==============================] - 33s 475ms/step - loss: 1.7792 - accuracy: 0.3346 - val_loss: 1.7152 - val_accuracy: 0.3859\n",
      "Epoch 21/50\n",
      "70/70 [==============================] - 33s 471ms/step - loss: 1.7851 - accuracy: 0.3081 - val_loss: 1.7254 - val_accuracy: 0.3397\n",
      "Epoch 22/50\n",
      "70/70 [==============================] - 33s 471ms/step - loss: 1.8073 - accuracy: 0.3070 - val_loss: 1.7620 - val_accuracy: 0.3193\n",
      "Epoch 23/50\n",
      "70/70 [==============================] - 33s 471ms/step - loss: 1.7593 - accuracy: 0.3274 - val_loss: 1.7420 - val_accuracy: 0.3668\n",
      "Epoch 24/50\n",
      "70/70 [==============================] - 33s 471ms/step - loss: 1.7807 - accuracy: 0.3142 - val_loss: 1.7260 - val_accuracy: 0.3750\n",
      "Epoch 25/50\n",
      "70/70 [==============================] - 33s 470ms/step - loss: 1.7690 - accuracy: 0.3402 - val_loss: 1.7572 - val_accuracy: 0.3207\n",
      "Epoch 26/50\n",
      "70/70 [==============================] - 33s 471ms/step - loss: 1.7609 - accuracy: 0.3313 - val_loss: 1.7262 - val_accuracy: 0.3845\n",
      "Epoch 27/50\n",
      "70/70 [==============================] - 33s 471ms/step - loss: 1.7605 - accuracy: 0.3335 - val_loss: 1.7237 - val_accuracy: 0.3424\n",
      "Epoch 28/50\n",
      "70/70 [==============================] - 33s 471ms/step - loss: 1.7493 - accuracy: 0.3236 - val_loss: 1.7862 - val_accuracy: 0.2840\n",
      "Epoch 29/50\n",
      "70/70 [==============================] - 33s 476ms/step - loss: 1.7382 - accuracy: 0.3424 - val_loss: 1.6922 - val_accuracy: 0.3791\n",
      "Epoch 30/50\n",
      "70/70 [==============================] - 33s 477ms/step - loss: 1.7447 - accuracy: 0.3352 - val_loss: 1.6791 - val_accuracy: 0.3913\n",
      "Epoch 31/50\n",
      "70/70 [==============================] - 33s 476ms/step - loss: 1.7376 - accuracy: 0.3319 - val_loss: 1.6648 - val_accuracy: 0.3845\n",
      "Epoch 32/50\n",
      "70/70 [==============================] - 33s 471ms/step - loss: 1.7138 - accuracy: 0.3512 - val_loss: 1.6818 - val_accuracy: 0.3818\n",
      "Epoch 33/50\n",
      "70/70 [==============================] - 33s 477ms/step - loss: 1.7134 - accuracy: 0.3567 - val_loss: 1.6533 - val_accuracy: 0.3818\n",
      "Epoch 34/50\n",
      "70/70 [==============================] - 33s 471ms/step - loss: 1.7244 - accuracy: 0.3363 - val_loss: 1.6983 - val_accuracy: 0.3736\n",
      "Epoch 35/50\n",
      "70/70 [==============================] - 33s 471ms/step - loss: 1.6947 - accuracy: 0.3573 - val_loss: 1.6610 - val_accuracy: 0.3736\n",
      "Epoch 36/50\n",
      "70/70 [==============================] - 33s 476ms/step - loss: 1.6870 - accuracy: 0.3523 - val_loss: 1.6360 - val_accuracy: 0.4022\n",
      "Epoch 37/50\n",
      "70/70 [==============================] - 33s 470ms/step - loss: 1.6841 - accuracy: 0.3667 - val_loss: 1.6530 - val_accuracy: 0.3791\n",
      "Epoch 38/50\n",
      "70/70 [==============================] - 33s 473ms/step - loss: 1.7327 - accuracy: 0.3495 - val_loss: 1.6651 - val_accuracy: 0.3995\n",
      "Epoch 39/50\n",
      "70/70 [==============================] - 33s 471ms/step - loss: 1.7194 - accuracy: 0.3468 - val_loss: 1.6892 - val_accuracy: 0.3655\n",
      "Epoch 40/50\n",
      "70/70 [==============================] - 33s 472ms/step - loss: 1.6951 - accuracy: 0.3617 - val_loss: 1.6445 - val_accuracy: 0.3628\n",
      "Epoch 41/50\n",
      "70/70 [==============================] - 33s 472ms/step - loss: 1.6935 - accuracy: 0.3567 - val_loss: 1.6747 - val_accuracy: 0.3628\n",
      "Epoch 42/50\n",
      "70/70 [==============================] - 33s 470ms/step - loss: 1.6693 - accuracy: 0.3606 - val_loss: 1.6950 - val_accuracy: 0.3478\n",
      "Epoch 43/50\n",
      "70/70 [==============================] - 33s 470ms/step - loss: 1.6577 - accuracy: 0.3761 - val_loss: 1.6713 - val_accuracy: 0.3981\n",
      "Epoch 44/50\n",
      "70/70 [==============================] - 33s 470ms/step - loss: 1.6812 - accuracy: 0.3573 - val_loss: 1.6412 - val_accuracy: 0.3872\n",
      "Epoch 45/50\n",
      "70/70 [==============================] - 33s 471ms/step - loss: 1.6898 - accuracy: 0.3645 - val_loss: 1.6378 - val_accuracy: 0.3750\n",
      "Epoch 46/50\n",
      "70/70 [==============================] - 33s 471ms/step - loss: 1.6722 - accuracy: 0.3750 - val_loss: 1.6571 - val_accuracy: 0.3940\n",
      "Epoch 47/50\n",
      "70/70 [==============================] - 33s 473ms/step - loss: 1.6785 - accuracy: 0.3775 - val_loss: 1.6383 - val_accuracy: 0.3859\n",
      "Epoch 48/50\n",
      "70/70 [==============================] - 33s 477ms/step - loss: 1.6731 - accuracy: 0.3662 - val_loss: 1.6177 - val_accuracy: 0.3859\n",
      "Epoch 49/50\n",
      "70/70 [==============================] - 33s 477ms/step - loss: 1.6578 - accuracy: 0.3794 - val_loss: 1.6107 - val_accuracy: 0.3995\n",
      "Epoch 50/50\n",
      "70/70 [==============================] - 33s 477ms/step - loss: 1.6610 - accuracy: 0.3612 - val_loss: 1.6082 - val_accuracy: 0.3913\n"
     ]
    },
    {
     "data": {
      "text/html": [
       "<br/>Waiting for W&B process to finish, PID 171497<br/>Program ended successfully."
      ],
      "text/plain": [
       "<IPython.core.display.HTML object>"
      ]
     },
     "metadata": {},
     "output_type": "display_data"
    },
    {
     "data": {
      "text/html": [
       "Find user logs for this run at: <code>/home/charlie/Documents/courses/miniproject/notebooks/wandb/run-20210330_030857-x55waj7i/logs/debug.log</code>"
      ],
      "text/plain": [
       "<IPython.core.display.HTML object>"
      ]
     },
     "metadata": {},
     "output_type": "display_data"
    },
    {
     "data": {
      "text/html": [
       "Find internal logs for this run at: <code>/home/charlie/Documents/courses/miniproject/notebooks/wandb/run-20210330_030857-x55waj7i/logs/debug-internal.log</code>"
      ],
      "text/plain": [
       "<IPython.core.display.HTML object>"
      ]
     },
     "metadata": {},
     "output_type": "display_data"
    },
    {
     "data": {
      "text/html": [
       "<h3>Run summary:</h3><br/><style>\n",
       "    table.wandb td:nth-child(1) { padding: 0 10px; text-align: right }\n",
       "    </style><table class=\"wandb\">\n",
       "<tr><td>epoch</td><td>49</td></tr><tr><td>loss</td><td>1.66102</td></tr><tr><td>accuracy</td><td>0.36117</td></tr><tr><td>val_loss</td><td>1.60817</td></tr><tr><td>val_accuracy</td><td>0.3913</td></tr><tr><td>_runtime</td><td>1706</td></tr><tr><td>_timestamp</td><td>1617071843</td></tr><tr><td>_step</td><td>49</td></tr><tr><td>best_val_loss</td><td>1.60817</td></tr><tr><td>best_epoch</td><td>49</td></tr></table>"
      ],
      "text/plain": [
       "<IPython.core.display.HTML object>"
      ]
     },
     "metadata": {},
     "output_type": "display_data"
    },
    {
     "data": {
      "text/html": [
       "<h3>Run history:</h3><br/><style>\n",
       "    table.wandb td:nth-child(1) { padding: 0 10px; text-align: right }\n",
       "    </style><table class=\"wandb\">\n",
       "<tr><td>epoch</td><td>▁▁▁▁▂▂▂▂▂▃▃▃▃▃▃▄▄▄▄▄▅▅▅▅▅▅▆▆▆▆▆▆▇▇▇▇▇███</td></tr><tr><td>loss</td><td>█▅▅▄▄▄▄▃▃▃▃▃▃▃▂▃▂▃▂▂▂▂▂▂▂▂▂▂▁▁▂▂▁▁▁▁▁▁▁▁</td></tr><tr><td>accuracy</td><td>▁▂▂▃▄▃▄▄▄▅▅▅▆▆▆▆▆▆▆▆▇▇▆▇▇▇▇▇▇█▇▇▇▇█▇███▇</td></tr><tr><td>val_loss</td><td>█▇▇▆▆▅▅▅▄▄▄▄▄▄▄▄▃▃▃▃▃▃▄▂▂▂▂▂▁▂▂▂▂▂▂▂▂▁▁▁</td></tr><tr><td>val_accuracy</td><td>▁▂▃▄▄▅▅▆▅▅▅▅▆▆▅▆▆▅▇▇▇▆▄▇▇▇▇▇█▇█▇▇▆███▇▇█</td></tr><tr><td>_runtime</td><td>▁▁▁▁▂▂▂▂▂▃▃▃▃▃▃▄▄▄▄▄▅▅▅▅▅▅▆▆▆▆▆▆▇▇▇▇▇███</td></tr><tr><td>_timestamp</td><td>▁▁▁▁▂▂▂▂▂▃▃▃▃▃▃▄▄▄▄▄▅▅▅▅▅▅▆▆▆▆▆▆▇▇▇▇▇███</td></tr><tr><td>_step</td><td>▁▁▁▁▂▂▂▂▂▃▃▃▃▃▃▄▄▄▄▄▅▅▅▅▅▅▆▆▆▆▆▆▇▇▇▇▇███</td></tr></table><br/>"
      ],
      "text/plain": [
       "<IPython.core.display.HTML object>"
      ]
     },
     "metadata": {},
     "output_type": "display_data"
    },
    {
     "data": {
      "text/html": [
       "Synced 5 W&B file(s), 1 media file(s), 0 artifact file(s) and 1 other file(s)"
      ],
      "text/plain": [
       "<IPython.core.display.HTML object>"
      ]
     },
     "metadata": {},
     "output_type": "display_data"
    },
    {
     "data": {
      "text/html": [
       "\n",
       "                    <br/>Synced <strong style=\"color:#cdcd00\">confused-sweep-60</strong>: <a href=\"https://wandb.ai/charlieisalright/sentiment/runs/x55waj7i\" target=\"_blank\">https://wandb.ai/charlieisalright/sentiment/runs/x55waj7i</a><br/>\n",
       "                "
      ],
      "text/plain": [
       "<IPython.core.display.HTML object>"
      ]
     },
     "metadata": {},
     "output_type": "display_data"
    },
    {
     "name": "stderr",
     "output_type": "stream",
     "text": [
      "\u001b[34m\u001b[1mwandb\u001b[0m: Agent Starting Run: acw1slvv with config:\n",
      "\u001b[34m\u001b[1mwandb\u001b[0m: \tbatch_size: 28\n",
      "\u001b[34m\u001b[1mwandb\u001b[0m: \tepochs: 48\n",
      "\u001b[34m\u001b[1mwandb\u001b[0m: \tlearning_rate: 0.0007338876462287877\n",
      "Failed to detect the name of this notebook, you can set it manually with the WANDB_NOTEBOOK_NAME environment variable to enable code saving.\n",
      "\u001b[34m\u001b[1mwandb\u001b[0m: \u001b[33mWARNING\u001b[0m Ignored wandb.init() arg project when running a sweep\n",
      "\u001b[34m\u001b[1mwandb\u001b[0m: \u001b[33mWARNING\u001b[0m Ignored wandb.init() arg entity when running a sweep\n"
     ]
    },
    {
     "data": {
      "text/html": [
       "\n",
       "                Tracking run with wandb version 0.10.23<br/>\n",
       "                Syncing run <strong style=\"color:#cdcd00\">golden-sweep-61</strong> to <a href=\"https://wandb.ai\" target=\"_blank\">Weights & Biases</a> <a href=\"https://docs.wandb.com/integrations/jupyter.html\" target=\"_blank\">(Documentation)</a>.<br/>\n",
       "                Project page: <a href=\"https://wandb.ai/charlieisalright/sentiment\" target=\"_blank\">https://wandb.ai/charlieisalright/sentiment</a><br/>\n",
       "                Sweep page: <a href=\"https://wandb.ai/charlieisalright/sentiment/sweeps/fnf3wbru\" target=\"_blank\">https://wandb.ai/charlieisalright/sentiment/sweeps/fnf3wbru</a><br/>\n",
       "Run page: <a href=\"https://wandb.ai/charlieisalright/sentiment/runs/acw1slvv\" target=\"_blank\">https://wandb.ai/charlieisalright/sentiment/runs/acw1slvv</a><br/>\n",
       "                Run data is saved locally in <code>/home/charlie/Documents/courses/miniproject/notebooks/wandb/run-20210330_033754-acw1slvv</code><br/><br/>\n",
       "            "
      ],
      "text/plain": [
       "<IPython.core.display.HTML object>"
      ]
     },
     "metadata": {},
     "output_type": "display_data"
    },
    {
     "name": "stdout",
     "output_type": "stream",
     "text": [
      "Epoch 1/48\n",
      "70/70 [==============================] - 36s 515ms/step - loss: 2.3149 - accuracy: 0.1725 - val_loss: 2.0035 - val_accuracy: 0.2731\n",
      "Epoch 2/48\n",
      "70/70 [==============================] - 36s 508ms/step - loss: 2.0476 - accuracy: 0.1931 - val_loss: 1.9739 - val_accuracy: 0.2745\n",
      "Epoch 3/48\n",
      "70/70 [==============================] - 36s 510ms/step - loss: 2.0040 - accuracy: 0.2225 - val_loss: 1.9645 - val_accuracy: 0.2514\n",
      "Epoch 4/48\n",
      "70/70 [==============================] - 36s 512ms/step - loss: 1.9986 - accuracy: 0.2265 - val_loss: 1.9439 - val_accuracy: 0.2772\n",
      "Epoch 5/48\n",
      "70/70 [==============================] - 35s 501ms/step - loss: 1.9558 - accuracy: 0.2353 - val_loss: 1.9477 - val_accuracy: 0.2160\n",
      "Epoch 6/48\n",
      "70/70 [==============================] - 36s 508ms/step - loss: 1.9368 - accuracy: 0.2400 - val_loss: 1.8968 - val_accuracy: 0.2812\n",
      "Epoch 7/48\n",
      "70/70 [==============================] - 36s 507ms/step - loss: 1.9315 - accuracy: 0.2683 - val_loss: 1.8789 - val_accuracy: 0.3302\n",
      "Epoch 8/48\n",
      "70/70 [==============================] - 35s 500ms/step - loss: 1.9181 - accuracy: 0.2662 - val_loss: 1.8814 - val_accuracy: 0.2840\n",
      "Epoch 9/48\n",
      "70/70 [==============================] - 35s 507ms/step - loss: 1.8842 - accuracy: 0.2806 - val_loss: 1.8714 - val_accuracy: 0.2663\n",
      "Epoch 10/48\n",
      "70/70 [==============================] - 36s 508ms/step - loss: 1.8808 - accuracy: 0.2770 - val_loss: 1.8202 - val_accuracy: 0.3492\n",
      "Epoch 11/48\n",
      "70/70 [==============================] - 35s 500ms/step - loss: 1.8775 - accuracy: 0.2673 - val_loss: 1.8416 - val_accuracy: 0.2948\n",
      "Epoch 12/48\n",
      "70/70 [==============================] - 35s 500ms/step - loss: 1.8619 - accuracy: 0.2915 - val_loss: 1.8352 - val_accuracy: 0.3016\n",
      "Epoch 13/48\n",
      "70/70 [==============================] - 36s 510ms/step - loss: 1.8396 - accuracy: 0.3033 - val_loss: 1.8015 - val_accuracy: 0.3478\n",
      "Epoch 14/48\n",
      "70/70 [==============================] - 36s 516ms/step - loss: 1.8299 - accuracy: 0.2971 - val_loss: 1.7721 - val_accuracy: 0.3465\n",
      "Epoch 15/48\n",
      "70/70 [==============================] - 35s 500ms/step - loss: 1.8027 - accuracy: 0.3260 - val_loss: 1.7838 - val_accuracy: 0.3152\n",
      "Epoch 16/48\n",
      "70/70 [==============================] - 36s 509ms/step - loss: 1.8128 - accuracy: 0.3036 - val_loss: 1.7589 - val_accuracy: 0.3492\n",
      "Epoch 17/48\n",
      "70/70 [==============================] - 35s 501ms/step - loss: 1.7966 - accuracy: 0.3141 - val_loss: 1.7692 - val_accuracy: 0.3329\n",
      "Epoch 18/48\n",
      "70/70 [==============================] - 35s 507ms/step - loss: 1.8102 - accuracy: 0.2961 - val_loss: 1.7426 - val_accuracy: 0.3601\n",
      "Epoch 19/48\n",
      "70/70 [==============================] - 35s 501ms/step - loss: 1.7810 - accuracy: 0.3393 - val_loss: 1.7465 - val_accuracy: 0.3465\n",
      "Epoch 20/48\n",
      "70/70 [==============================] - 36s 509ms/step - loss: 1.7701 - accuracy: 0.3234 - val_loss: 1.7280 - val_accuracy: 0.3696\n",
      "Epoch 21/48\n",
      "70/70 [==============================] - 36s 509ms/step - loss: 1.7694 - accuracy: 0.3260 - val_loss: 1.7203 - val_accuracy: 0.3410\n",
      "Epoch 22/48\n",
      "70/70 [==============================] - 35s 500ms/step - loss: 1.7590 - accuracy: 0.3393 - val_loss: 1.7219 - val_accuracy: 0.3492\n",
      "Epoch 23/48\n",
      "70/70 [==============================] - 36s 512ms/step - loss: 1.7486 - accuracy: 0.3281 - val_loss: 1.7148 - val_accuracy: 0.3370\n",
      "Epoch 24/48\n",
      "70/70 [==============================] - 36s 508ms/step - loss: 1.7518 - accuracy: 0.3378 - val_loss: 1.7005 - val_accuracy: 0.3533\n",
      "Epoch 25/48\n",
      "70/70 [==============================] - 35s 500ms/step - loss: 1.7334 - accuracy: 0.3532 - val_loss: 1.7178 - val_accuracy: 0.3614\n",
      "Epoch 26/48\n",
      "70/70 [==============================] - 35s 507ms/step - loss: 1.7300 - accuracy: 0.3502 - val_loss: 1.6857 - val_accuracy: 0.3614\n",
      "Epoch 27/48\n",
      "70/70 [==============================] - 35s 500ms/step - loss: 1.7361 - accuracy: 0.3368 - val_loss: 1.6964 - val_accuracy: 0.3410\n",
      "Epoch 28/48\n",
      "70/70 [==============================] - 35s 503ms/step - loss: 1.7415 - accuracy: 0.3403 - val_loss: 1.6921 - val_accuracy: 0.3668\n",
      "Epoch 29/48\n",
      "70/70 [==============================] - 36s 508ms/step - loss: 1.7261 - accuracy: 0.3507 - val_loss: 1.6661 - val_accuracy: 0.3777\n",
      "Epoch 30/48\n",
      "70/70 [==============================] - 36s 508ms/step - loss: 1.7314 - accuracy: 0.3625 - val_loss: 1.6588 - val_accuracy: 0.3832\n",
      "Epoch 31/48\n",
      "70/70 [==============================] - 35s 500ms/step - loss: 1.7247 - accuracy: 0.3502 - val_loss: 1.6734 - val_accuracy: 0.3764\n",
      "Epoch 32/48\n",
      "70/70 [==============================] - 36s 508ms/step - loss: 1.7231 - accuracy: 0.3378 - val_loss: 1.6558 - val_accuracy: 0.3832\n",
      "Epoch 33/48\n",
      "70/70 [==============================] - 35s 501ms/step - loss: 1.7134 - accuracy: 0.3563 - val_loss: 1.6983 - val_accuracy: 0.3614\n",
      "Epoch 34/48\n",
      "70/70 [==============================] - 35s 499ms/step - loss: 1.7124 - accuracy: 0.3553 - val_loss: 1.6666 - val_accuracy: 0.3872\n",
      "Epoch 35/48\n",
      "70/70 [==============================] - 35s 500ms/step - loss: 1.7088 - accuracy: 0.3543 - val_loss: 1.6659 - val_accuracy: 0.3872\n",
      "Epoch 36/48\n",
      "70/70 [==============================] - 36s 508ms/step - loss: 1.7008 - accuracy: 0.3481 - val_loss: 1.6469 - val_accuracy: 0.3641\n",
      "Epoch 37/48\n",
      "70/70 [==============================] - 35s 506ms/step - loss: 1.6769 - accuracy: 0.3687 - val_loss: 1.6431 - val_accuracy: 0.3709\n",
      "Epoch 38/48\n",
      "70/70 [==============================] - 35s 500ms/step - loss: 1.6752 - accuracy: 0.3589 - val_loss: 1.6484 - val_accuracy: 0.3777\n",
      "Epoch 39/48\n",
      "70/70 [==============================] - 35s 500ms/step - loss: 1.6869 - accuracy: 0.3687 - val_loss: 1.6525 - val_accuracy: 0.3628\n",
      "Epoch 40/48\n",
      "70/70 [==============================] - 35s 500ms/step - loss: 1.6759 - accuracy: 0.3682 - val_loss: 1.6600 - val_accuracy: 0.3682\n",
      "Epoch 41/48\n",
      "70/70 [==============================] - 35s 505ms/step - loss: 1.6623 - accuracy: 0.3754 - val_loss: 1.6250 - val_accuracy: 0.3791\n",
      "Epoch 42/48\n",
      "70/70 [==============================] - 35s 504ms/step - loss: 1.6517 - accuracy: 0.3827 - val_loss: 1.6606 - val_accuracy: 0.3832\n",
      "Epoch 43/48\n",
      "70/70 [==============================] - 35s 500ms/step - loss: 1.6987 - accuracy: 0.3738 - val_loss: 1.6402 - val_accuracy: 0.3872\n",
      "Epoch 44/48\n",
      "70/70 [==============================] - 36s 507ms/step - loss: 1.6395 - accuracy: 0.3754 - val_loss: 1.6129 - val_accuracy: 0.4090\n",
      "Epoch 45/48\n",
      "70/70 [==============================] - 35s 505ms/step - loss: 1.6571 - accuracy: 0.3780 - val_loss: 1.5990 - val_accuracy: 0.3804\n",
      "Epoch 46/48\n",
      "70/70 [==============================] - 35s 500ms/step - loss: 1.6477 - accuracy: 0.3769 - val_loss: 1.6177 - val_accuracy: 0.3750\n",
      "Epoch 47/48\n",
      "70/70 [==============================] - 36s 510ms/step - loss: 1.6452 - accuracy: 0.3689 - val_loss: 1.5798 - val_accuracy: 0.3981\n",
      "Epoch 48/48\n",
      "70/70 [==============================] - 35s 500ms/step - loss: 1.6198 - accuracy: 0.3862 - val_loss: 1.6072 - val_accuracy: 0.3981\n"
     ]
    },
    {
     "data": {
      "text/html": [
       "<br/>Waiting for W&B process to finish, PID 171888<br/>Program ended successfully."
      ],
      "text/plain": [
       "<IPython.core.display.HTML object>"
      ]
     },
     "metadata": {},
     "output_type": "display_data"
    },
    {
     "data": {
      "text/html": [
       "Find user logs for this run at: <code>/home/charlie/Documents/courses/miniproject/notebooks/wandb/run-20210330_033754-acw1slvv/logs/debug.log</code>"
      ],
      "text/plain": [
       "<IPython.core.display.HTML object>"
      ]
     },
     "metadata": {},
     "output_type": "display_data"
    },
    {
     "data": {
      "text/html": [
       "Find internal logs for this run at: <code>/home/charlie/Documents/courses/miniproject/notebooks/wandb/run-20210330_033754-acw1slvv/logs/debug-internal.log</code>"
      ],
      "text/plain": [
       "<IPython.core.display.HTML object>"
      ]
     },
     "metadata": {},
     "output_type": "display_data"
    },
    {
     "data": {
      "text/html": [
       "<h3>Run summary:</h3><br/><style>\n",
       "    table.wandb td:nth-child(1) { padding: 0 10px; text-align: right }\n",
       "    </style><table class=\"wandb\">\n",
       "<tr><td>epoch</td><td>47</td></tr><tr><td>loss</td><td>1.61984</td></tr><tr><td>accuracy</td><td>0.3862</td></tr><tr><td>val_loss</td><td>1.60721</td></tr><tr><td>val_accuracy</td><td>0.3981</td></tr><tr><td>_runtime</td><td>1745</td></tr><tr><td>_timestamp</td><td>1617073619</td></tr><tr><td>_step</td><td>47</td></tr><tr><td>best_val_loss</td><td>1.5798</td></tr><tr><td>best_epoch</td><td>46</td></tr></table>"
      ],
      "text/plain": [
       "<IPython.core.display.HTML object>"
      ]
     },
     "metadata": {},
     "output_type": "display_data"
    },
    {
     "data": {
      "text/html": [
       "<h3>Run history:</h3><br/><style>\n",
       "    table.wandb td:nth-child(1) { padding: 0 10px; text-align: right }\n",
       "    </style><table class=\"wandb\">\n",
       "<tr><td>epoch</td><td>▁▁▁▁▂▂▂▂▂▂▃▃▃▃▃▄▄▄▄▄▅▅▅▅▅▅▆▆▆▆▆▇▇▇▇▇▇███</td></tr><tr><td>loss</td><td>█▅▅▅▄▄▄▄▄▄▃▃▃▃▃▃▃▃▂▂▂▂▂▂▂▂▂▂▂▂▂▂▂▂▁▂▁▁▁▁</td></tr><tr><td>accuracy</td><td>▁▂▃▃▃▄▄▅▄▄▅▅▆▅▆▆▆▆▆▆▇▇▆▆▇▇▆▇▇▇▇▇▇▇██████</td></tr><tr><td>val_loss</td><td>█▇▇▇▇▆▆▆▅▅▅▄▄▄▄▄▃▃▃▃▃▃▃▃▂▂▂▃▂▂▂▂▂▂▁▂▁▁▁▁</td></tr><tr><td>val_accuracy</td><td>▃▃▂▃▁▅▃▃▆▄▆▆▅▆▅▆▇▆▆▅▆▆▆▆▇▇▇▆▇▇▇▇▆▇▇▇█▇▇█</td></tr><tr><td>_runtime</td><td>▁▁▁▁▂▂▂▂▂▂▃▃▃▃▃▄▄▄▄▄▅▅▅▅▅▅▆▆▆▆▆▇▇▇▇▇▇███</td></tr><tr><td>_timestamp</td><td>▁▁▁▁▂▂▂▂▂▂▃▃▃▃▃▄▄▄▄▄▅▅▅▅▅▅▆▆▆▆▆▇▇▇▇▇▇███</td></tr><tr><td>_step</td><td>▁▁▁▁▂▂▂▂▂▂▃▃▃▃▃▄▄▄▄▄▅▅▅▅▅▅▆▆▆▆▆▇▇▇▇▇▇███</td></tr></table><br/>"
      ],
      "text/plain": [
       "<IPython.core.display.HTML object>"
      ]
     },
     "metadata": {},
     "output_type": "display_data"
    },
    {
     "data": {
      "text/html": [
       "Synced 5 W&B file(s), 1 media file(s), 0 artifact file(s) and 1 other file(s)"
      ],
      "text/plain": [
       "<IPython.core.display.HTML object>"
      ]
     },
     "metadata": {},
     "output_type": "display_data"
    },
    {
     "data": {
      "text/html": [
       "\n",
       "                    <br/>Synced <strong style=\"color:#cdcd00\">golden-sweep-61</strong>: <a href=\"https://wandb.ai/charlieisalright/sentiment/runs/acw1slvv\" target=\"_blank\">https://wandb.ai/charlieisalright/sentiment/runs/acw1slvv</a><br/>\n",
       "                "
      ],
      "text/plain": [
       "<IPython.core.display.HTML object>"
      ]
     },
     "metadata": {},
     "output_type": "display_data"
    },
    {
     "name": "stderr",
     "output_type": "stream",
     "text": [
      "\u001b[34m\u001b[1mwandb\u001b[0m: Agent Starting Run: s6xd8z6s with config:\n",
      "\u001b[34m\u001b[1mwandb\u001b[0m: \tbatch_size: 24\n",
      "\u001b[34m\u001b[1mwandb\u001b[0m: \tepochs: 49\n",
      "\u001b[34m\u001b[1mwandb\u001b[0m: \tlearning_rate: 0.0010414606218719664\n",
      "Failed to detect the name of this notebook, you can set it manually with the WANDB_NOTEBOOK_NAME environment variable to enable code saving.\n",
      "\u001b[34m\u001b[1mwandb\u001b[0m: \u001b[33mWARNING\u001b[0m Ignored wandb.init() arg project when running a sweep\n",
      "\u001b[34m\u001b[1mwandb\u001b[0m: \u001b[33mWARNING\u001b[0m Ignored wandb.init() arg entity when running a sweep\n"
     ]
    },
    {
     "data": {
      "text/html": [
       "\n",
       "                Tracking run with wandb version 0.10.23<br/>\n",
       "                Syncing run <strong style=\"color:#cdcd00\">sweepy-sweep-62</strong> to <a href=\"https://wandb.ai\" target=\"_blank\">Weights & Biases</a> <a href=\"https://docs.wandb.com/integrations/jupyter.html\" target=\"_blank\">(Documentation)</a>.<br/>\n",
       "                Project page: <a href=\"https://wandb.ai/charlieisalright/sentiment\" target=\"_blank\">https://wandb.ai/charlieisalright/sentiment</a><br/>\n",
       "                Sweep page: <a href=\"https://wandb.ai/charlieisalright/sentiment/sweeps/fnf3wbru\" target=\"_blank\">https://wandb.ai/charlieisalright/sentiment/sweeps/fnf3wbru</a><br/>\n",
       "Run page: <a href=\"https://wandb.ai/charlieisalright/sentiment/runs/s6xd8z6s\" target=\"_blank\">https://wandb.ai/charlieisalright/sentiment/runs/s6xd8z6s</a><br/>\n",
       "                Run data is saved locally in <code>/home/charlie/Documents/courses/miniproject/notebooks/wandb/run-20210330_040708-s6xd8z6s</code><br/><br/>\n",
       "            "
      ],
      "text/plain": [
       "<IPython.core.display.HTML object>"
      ]
     },
     "metadata": {},
     "output_type": "display_data"
    },
    {
     "name": "stdout",
     "output_type": "stream",
     "text": [
      "Epoch 1/49\n",
      "70/70 [==============================] - 32s 457ms/step - loss: 2.2964 - accuracy: 0.1499 - val_loss: 2.0229 - val_accuracy: 0.2337\n",
      "Epoch 2/49\n",
      "70/70 [==============================] - 32s 451ms/step - loss: 2.0426 - accuracy: 0.1774 - val_loss: 1.9883 - val_accuracy: 0.2160\n",
      "Epoch 3/49\n",
      "70/70 [==============================] - 32s 451ms/step - loss: 2.0059 - accuracy: 0.1953 - val_loss: 1.9830 - val_accuracy: 0.2283\n",
      "Epoch 4/49\n",
      "70/70 [==============================] - 31s 449ms/step - loss: 1.9927 - accuracy: 0.2125 - val_loss: 1.9652 - val_accuracy: 0.2663\n",
      "Epoch 5/49\n",
      "70/70 [==============================] - 31s 448ms/step - loss: 1.9676 - accuracy: 0.2306 - val_loss: 1.9341 - val_accuracy: 0.2541\n",
      "Epoch 6/49\n",
      "70/70 [==============================] - 32s 452ms/step - loss: 1.9604 - accuracy: 0.2375 - val_loss: 1.9174 - val_accuracy: 0.2799\n",
      "Epoch 7/49\n",
      "70/70 [==============================] - 32s 452ms/step - loss: 1.9167 - accuracy: 0.2607 - val_loss: 1.9036 - val_accuracy: 0.2758\n",
      "Epoch 8/49\n",
      "70/70 [==============================] - 32s 450ms/step - loss: 1.9229 - accuracy: 0.2419 - val_loss: 1.8870 - val_accuracy: 0.2812\n",
      "Epoch 9/49\n",
      "70/70 [==============================] - 32s 450ms/step - loss: 1.9248 - accuracy: 0.2497 - val_loss: 1.8800 - val_accuracy: 0.3125\n",
      "Epoch 10/49\n",
      "70/70 [==============================] - 32s 450ms/step - loss: 1.9131 - accuracy: 0.2571 - val_loss: 1.8515 - val_accuracy: 0.3315\n",
      "Epoch 11/49\n",
      "70/70 [==============================] - 31s 450ms/step - loss: 1.8890 - accuracy: 0.2772 - val_loss: 1.8465 - val_accuracy: 0.3220\n",
      "Epoch 12/49\n",
      "70/70 [==============================] - 31s 448ms/step - loss: 1.8603 - accuracy: 0.2987 - val_loss: 1.8385 - val_accuracy: 0.3098\n",
      "Epoch 13/49\n",
      "70/70 [==============================] - 31s 443ms/step - loss: 1.8903 - accuracy: 0.2796 - val_loss: 1.8502 - val_accuracy: 0.2731\n",
      "Epoch 14/49\n",
      "70/70 [==============================] - 32s 450ms/step - loss: 1.8545 - accuracy: 0.2891 - val_loss: 1.7910 - val_accuracy: 0.3546\n",
      "Epoch 15/49\n",
      "70/70 [==============================] - 31s 444ms/step - loss: 1.8452 - accuracy: 0.2915 - val_loss: 1.7977 - val_accuracy: 0.3329\n",
      "Epoch 16/49\n",
      "70/70 [==============================] - 31s 443ms/step - loss: 1.8333 - accuracy: 0.2981 - val_loss: 1.8117 - val_accuracy: 0.3111\n",
      "Epoch 17/49\n",
      "70/70 [==============================] - 31s 443ms/step - loss: 1.8443 - accuracy: 0.3059 - val_loss: 1.7990 - val_accuracy: 0.3179\n",
      "Epoch 18/49\n",
      "70/70 [==============================] - 31s 443ms/step - loss: 1.8152 - accuracy: 0.3172 - val_loss: 1.7927 - val_accuracy: 0.3166\n",
      "Epoch 19/49\n",
      "70/70 [==============================] - 32s 450ms/step - loss: 1.8177 - accuracy: 0.3142 - val_loss: 1.7710 - val_accuracy: 0.3098\n",
      "Epoch 20/49\n",
      "70/70 [==============================] - 32s 453ms/step - loss: 1.8068 - accuracy: 0.3071 - val_loss: 1.7467 - val_accuracy: 0.3682\n",
      "Epoch 21/49\n",
      "70/70 [==============================] - 31s 444ms/step - loss: 1.7941 - accuracy: 0.3297 - val_loss: 1.7690 - val_accuracy: 0.3207\n",
      "Epoch 22/49\n",
      "70/70 [==============================] - 31s 443ms/step - loss: 1.7913 - accuracy: 0.3226 - val_loss: 1.7545 - val_accuracy: 0.3220\n",
      "Epoch 23/49\n",
      "70/70 [==============================] - 31s 449ms/step - loss: 1.7928 - accuracy: 0.3161 - val_loss: 1.7932 - val_accuracy: 0.3342\n",
      "Epoch 24/49\n",
      "70/70 [==============================] - 31s 450ms/step - loss: 1.7728 - accuracy: 0.3214 - val_loss: 1.7369 - val_accuracy: 0.3546\n",
      "Epoch 25/49\n",
      "70/70 [==============================] - 31s 449ms/step - loss: 1.7724 - accuracy: 0.3244 - val_loss: 1.7211 - val_accuracy: 0.3410\n",
      "Epoch 26/49\n",
      "70/70 [==============================] - 32s 451ms/step - loss: 1.7578 - accuracy: 0.3268 - val_loss: 1.7142 - val_accuracy: 0.3465\n",
      "Epoch 27/49\n",
      "70/70 [==============================] - 32s 452ms/step - loss: 1.7575 - accuracy: 0.3309 - val_loss: 1.6944 - val_accuracy: 0.3641\n",
      "Epoch 28/49\n",
      "70/70 [==============================] - 31s 444ms/step - loss: 1.7303 - accuracy: 0.3483 - val_loss: 1.7416 - val_accuracy: 0.3342\n",
      "Epoch 29/49\n",
      "70/70 [==============================] - 31s 444ms/step - loss: 1.7363 - accuracy: 0.3458 - val_loss: 1.7820 - val_accuracy: 0.3342\n",
      "Epoch 30/49\n",
      "70/70 [==============================] - 31s 448ms/step - loss: 1.7529 - accuracy: 0.3286 - val_loss: 1.6770 - val_accuracy: 0.3872\n",
      "Epoch 31/49\n",
      "70/70 [==============================] - 31s 445ms/step - loss: 1.7202 - accuracy: 0.3680 - val_loss: 1.6987 - val_accuracy: 0.3478\n",
      "Epoch 32/49\n",
      "70/70 [==============================] - 31s 447ms/step - loss: 1.7205 - accuracy: 0.3453 - val_loss: 1.6888 - val_accuracy: 0.3736\n",
      "Epoch 33/49\n",
      "70/70 [==============================] - 32s 451ms/step - loss: 1.7021 - accuracy: 0.3566 - val_loss: 1.6724 - val_accuracy: 0.3777\n",
      "Epoch 34/49\n",
      "70/70 [==============================] - 31s 444ms/step - loss: 1.7153 - accuracy: 0.3548 - val_loss: 1.6965 - val_accuracy: 0.3791\n",
      "Epoch 35/49\n",
      "70/70 [==============================] - 31s 443ms/step - loss: 1.7295 - accuracy: 0.3477 - val_loss: 1.7169 - val_accuracy: 0.3166\n",
      "Epoch 36/49\n",
      "70/70 [==============================] - 31s 448ms/step - loss: 1.7067 - accuracy: 0.3608 - val_loss: 1.6696 - val_accuracy: 0.3587\n",
      "Epoch 37/49\n",
      "70/70 [==============================] - 31s 444ms/step - loss: 1.7142 - accuracy: 0.3501 - val_loss: 1.6964 - val_accuracy: 0.3587\n",
      "Epoch 38/49\n",
      "70/70 [==============================] - 32s 451ms/step - loss: 1.7050 - accuracy: 0.3560 - val_loss: 1.6632 - val_accuracy: 0.4076\n",
      "Epoch 39/49\n",
      "70/70 [==============================] - 32s 451ms/step - loss: 1.6980 - accuracy: 0.3589 - val_loss: 1.6473 - val_accuracy: 0.3832\n",
      "Epoch 40/49\n",
      "70/70 [==============================] - 31s 443ms/step - loss: 1.6887 - accuracy: 0.3620 - val_loss: 1.6627 - val_accuracy: 0.3628\n",
      "Epoch 41/49\n",
      "70/70 [==============================] - 31s 449ms/step - loss: 1.7094 - accuracy: 0.3668 - val_loss: 1.6968 - val_accuracy: 0.3682\n",
      "Epoch 42/49\n",
      "70/70 [==============================] - 31s 444ms/step - loss: 1.6948 - accuracy: 0.3542 - val_loss: 1.6801 - val_accuracy: 0.3682\n",
      "Epoch 43/49\n",
      "70/70 [==============================] - 31s 443ms/step - loss: 1.6746 - accuracy: 0.3710 - val_loss: 1.6733 - val_accuracy: 0.3682\n",
      "Epoch 44/49\n",
      "70/70 [==============================] - 31s 450ms/step - loss: 1.6993 - accuracy: 0.3477 - val_loss: 1.6308 - val_accuracy: 0.3954\n",
      "Epoch 45/49\n",
      "70/70 [==============================] - 31s 443ms/step - loss: 1.6710 - accuracy: 0.3626 - val_loss: 1.6344 - val_accuracy: 0.4008\n",
      "Epoch 46/49\n",
      "70/70 [==============================] - 32s 451ms/step - loss: 1.6994 - accuracy: 0.3584 - val_loss: 1.6307 - val_accuracy: 0.3967\n",
      "Epoch 47/49\n",
      "70/70 [==============================] - 31s 445ms/step - loss: 1.6820 - accuracy: 0.3524 - val_loss: 1.6556 - val_accuracy: 0.3641\n",
      "Epoch 48/49\n",
      "70/70 [==============================] - 31s 443ms/step - loss: 1.6370 - accuracy: 0.3775 - val_loss: 1.6376 - val_accuracy: 0.3587\n",
      "Epoch 49/49\n",
      "70/70 [==============================] - 31s 444ms/step - loss: 1.6619 - accuracy: 0.3704 - val_loss: 1.6923 - val_accuracy: 0.3546\n"
     ]
    },
    {
     "data": {
      "text/html": [
       "<br/>Waiting for W&B process to finish, PID 172271<br/>Program ended successfully."
      ],
      "text/plain": [
       "<IPython.core.display.HTML object>"
      ]
     },
     "metadata": {},
     "output_type": "display_data"
    },
    {
     "data": {
      "text/html": [
       "Find user logs for this run at: <code>/home/charlie/Documents/courses/miniproject/notebooks/wandb/run-20210330_040708-s6xd8z6s/logs/debug.log</code>"
      ],
      "text/plain": [
       "<IPython.core.display.HTML object>"
      ]
     },
     "metadata": {},
     "output_type": "display_data"
    },
    {
     "data": {
      "text/html": [
       "Find internal logs for this run at: <code>/home/charlie/Documents/courses/miniproject/notebooks/wandb/run-20210330_040708-s6xd8z6s/logs/debug-internal.log</code>"
      ],
      "text/plain": [
       "<IPython.core.display.HTML object>"
      ]
     },
     "metadata": {},
     "output_type": "display_data"
    },
    {
     "data": {
      "text/html": [
       "<h3>Run summary:</h3><br/><style>\n",
       "    table.wandb td:nth-child(1) { padding: 0 10px; text-align: right }\n",
       "    </style><table class=\"wandb\">\n",
       "<tr><td>epoch</td><td>48</td></tr><tr><td>loss</td><td>1.66187</td></tr><tr><td>accuracy</td><td>0.37037</td></tr><tr><td>val_loss</td><td>1.69234</td></tr><tr><td>val_accuracy</td><td>0.35462</td></tr><tr><td>_runtime</td><td>1573</td></tr><tr><td>_timestamp</td><td>1617075201</td></tr><tr><td>_step</td><td>48</td></tr><tr><td>best_val_loss</td><td>1.6307</td></tr><tr><td>best_epoch</td><td>45</td></tr></table>"
      ],
      "text/plain": [
       "<IPython.core.display.HTML object>"
      ]
     },
     "metadata": {},
     "output_type": "display_data"
    },
    {
     "data": {
      "text/html": [
       "<h3>Run history:</h3><br/><style>\n",
       "    table.wandb td:nth-child(1) { padding: 0 10px; text-align: right }\n",
       "    </style><table class=\"wandb\">\n",
       "<tr><td>epoch</td><td>▁▁▁▁▂▂▂▂▂▃▃▃▃▃▃▄▄▄▄▄▅▅▅▅▅▅▆▆▆▆▆▇▇▇▇▇▇███</td></tr><tr><td>loss</td><td>█▅▅▅▄▄▄▄▄▃▄▃▃▃▃▃▃▂▂▂▂▂▂▂▂▂▁▂▂▁▂▁▁▂▁▁▁▁▁▁</td></tr><tr><td>accuracy</td><td>▁▂▂▃▄▅▄▄▄▆▅▅▅▆▆▆▆▇▆▆▇▇▇▇▇███▇█▇███▇▇██▇█</td></tr><tr><td>val_loss</td><td>█▇▇▇▆▆▆▅▅▅▅▄▄▄▄▄▃▃▄▃▃▂▃▄▂▂▂▂▃▂▂▁▂▂▂▁▁▁▁▂</td></tr><tr><td>val_accuracy</td><td>▂▁▁▃▂▃▃▅▅▅▃▆▅▅▅▅▇▅▅▆▆▆▅▅▇▆▇▇▅▆▆▇▇▇▇███▇▆</td></tr><tr><td>_runtime</td><td>▁▁▁▁▂▂▂▂▂▃▃▃▃▃▃▄▄▄▄▄▅▅▅▅▅▅▆▆▆▆▆▇▇▇▇▇▇███</td></tr><tr><td>_timestamp</td><td>▁▁▁▁▂▂▂▂▂▃▃▃▃▃▃▄▄▄▄▄▅▅▅▅▅▅▆▆▆▆▆▇▇▇▇▇▇███</td></tr><tr><td>_step</td><td>▁▁▁▁▂▂▂▂▂▃▃▃▃▃▃▄▄▄▄▄▅▅▅▅▅▅▆▆▆▆▆▇▇▇▇▇▇███</td></tr></table><br/>"
      ],
      "text/plain": [
       "<IPython.core.display.HTML object>"
      ]
     },
     "metadata": {},
     "output_type": "display_data"
    },
    {
     "data": {
      "text/html": [
       "Synced 5 W&B file(s), 1 media file(s), 0 artifact file(s) and 1 other file(s)"
      ],
      "text/plain": [
       "<IPython.core.display.HTML object>"
      ]
     },
     "metadata": {},
     "output_type": "display_data"
    },
    {
     "data": {
      "text/html": [
       "\n",
       "                    <br/>Synced <strong style=\"color:#cdcd00\">sweepy-sweep-62</strong>: <a href=\"https://wandb.ai/charlieisalright/sentiment/runs/s6xd8z6s\" target=\"_blank\">https://wandb.ai/charlieisalright/sentiment/runs/s6xd8z6s</a><br/>\n",
       "                "
      ],
      "text/plain": [
       "<IPython.core.display.HTML object>"
      ]
     },
     "metadata": {},
     "output_type": "display_data"
    },
    {
     "name": "stderr",
     "output_type": "stream",
     "text": [
      "\u001b[34m\u001b[1mwandb\u001b[0m: Agent Starting Run: piyoyjy8 with config:\n",
      "\u001b[34m\u001b[1mwandb\u001b[0m: \tbatch_size: 29\n",
      "\u001b[34m\u001b[1mwandb\u001b[0m: \tepochs: 45\n",
      "\u001b[34m\u001b[1mwandb\u001b[0m: \tlearning_rate: 0.0011513181940604766\n",
      "Failed to detect the name of this notebook, you can set it manually with the WANDB_NOTEBOOK_NAME environment variable to enable code saving.\n",
      "\u001b[34m\u001b[1mwandb\u001b[0m: \u001b[33mWARNING\u001b[0m Ignored wandb.init() arg project when running a sweep\n",
      "\u001b[34m\u001b[1mwandb\u001b[0m: \u001b[33mWARNING\u001b[0m Ignored wandb.init() arg entity when running a sweep\n"
     ]
    },
    {
     "data": {
      "text/html": [
       "\n",
       "                Tracking run with wandb version 0.10.23<br/>\n",
       "                Syncing run <strong style=\"color:#cdcd00\">major-sweep-63</strong> to <a href=\"https://wandb.ai\" target=\"_blank\">Weights & Biases</a> <a href=\"https://docs.wandb.com/integrations/jupyter.html\" target=\"_blank\">(Documentation)</a>.<br/>\n",
       "                Project page: <a href=\"https://wandb.ai/charlieisalright/sentiment\" target=\"_blank\">https://wandb.ai/charlieisalright/sentiment</a><br/>\n",
       "                Sweep page: <a href=\"https://wandb.ai/charlieisalright/sentiment/sweeps/fnf3wbru\" target=\"_blank\">https://wandb.ai/charlieisalright/sentiment/sweeps/fnf3wbru</a><br/>\n",
       "Run page: <a href=\"https://wandb.ai/charlieisalright/sentiment/runs/piyoyjy8\" target=\"_blank\">https://wandb.ai/charlieisalright/sentiment/runs/piyoyjy8</a><br/>\n",
       "                Run data is saved locally in <code>/home/charlie/Documents/courses/miniproject/notebooks/wandb/run-20210330_043327-piyoyjy8</code><br/><br/>\n",
       "            "
      ],
      "text/plain": [
       "<IPython.core.display.HTML object>"
      ]
     },
     "metadata": {},
     "output_type": "display_data"
    },
    {
     "name": "stdout",
     "output_type": "stream",
     "text": [
      "Epoch 1/45\n",
      "70/70 [==============================] - 37s 533ms/step - loss: 2.2677 - accuracy: 0.1566 - val_loss: 2.0174 - val_accuracy: 0.1726\n",
      "Epoch 2/45\n",
      "70/70 [==============================] - 37s 523ms/step - loss: 2.0323 - accuracy: 0.1967 - val_loss: 1.9819 - val_accuracy: 0.2405\n",
      "Epoch 3/45\n",
      "70/70 [==============================] - 37s 523ms/step - loss: 1.9908 - accuracy: 0.2116 - val_loss: 1.9510 - val_accuracy: 0.2690\n",
      "Epoch 4/45\n",
      "70/70 [==============================] - 36s 521ms/step - loss: 1.9796 - accuracy: 0.2255 - val_loss: 1.9291 - val_accuracy: 0.2459\n",
      "Epoch 5/45\n",
      "70/70 [==============================] - 37s 531ms/step - loss: 1.9455 - accuracy: 0.2329 - val_loss: 1.9243 - val_accuracy: 0.2527\n",
      "Epoch 6/45\n",
      "70/70 [==============================] - 36s 519ms/step - loss: 1.9311 - accuracy: 0.2562 - val_loss: 1.9259 - val_accuracy: 0.2554\n",
      "Epoch 7/45\n",
      "70/70 [==============================] - 37s 522ms/step - loss: 1.9351 - accuracy: 0.2270 - val_loss: 1.9011 - val_accuracy: 0.2636\n",
      "Epoch 8/45\n",
      "70/70 [==============================] - 37s 524ms/step - loss: 1.9129 - accuracy: 0.2587 - val_loss: 1.8640 - val_accuracy: 0.3125\n",
      "Epoch 9/45\n",
      "70/70 [==============================] - 36s 517ms/step - loss: 1.8909 - accuracy: 0.2730 - val_loss: 1.8885 - val_accuracy: 0.2323\n",
      "Epoch 10/45\n",
      "70/70 [==============================] - 37s 529ms/step - loss: 1.8873 - accuracy: 0.2532 - val_loss: 1.8587 - val_accuracy: 0.2976\n",
      "Epoch 11/45\n",
      "70/70 [==============================] - 36s 516ms/step - loss: 1.8664 - accuracy: 0.2785 - val_loss: 1.8615 - val_accuracy: 0.2582\n",
      "Epoch 12/45\n",
      "70/70 [==============================] - 37s 523ms/step - loss: 1.8454 - accuracy: 0.2854 - val_loss: 1.8365 - val_accuracy: 0.3016\n",
      "Epoch 13/45\n",
      "70/70 [==============================] - 37s 525ms/step - loss: 1.8539 - accuracy: 0.2887 - val_loss: 1.8272 - val_accuracy: 0.2908\n",
      "Epoch 14/45\n",
      "70/70 [==============================] - 37s 523ms/step - loss: 1.8339 - accuracy: 0.3013 - val_loss: 1.7922 - val_accuracy: 0.3247\n",
      "Epoch 15/45\n",
      "70/70 [==============================] - 37s 523ms/step - loss: 1.8173 - accuracy: 0.2894 - val_loss: 1.7665 - val_accuracy: 0.3315\n",
      "Epoch 16/45\n",
      "70/70 [==============================] - 36s 518ms/step - loss: 1.7929 - accuracy: 0.3138 - val_loss: 1.7868 - val_accuracy: 0.3043\n",
      "Epoch 17/45\n",
      "70/70 [==============================] - 36s 515ms/step - loss: 1.8166 - accuracy: 0.2973 - val_loss: 1.7824 - val_accuracy: 0.3315\n",
      "Epoch 18/45\n",
      "70/70 [==============================] - 37s 522ms/step - loss: 1.8000 - accuracy: 0.3186 - val_loss: 1.7637 - val_accuracy: 0.3139\n",
      "Epoch 19/45\n",
      "70/70 [==============================] - 36s 515ms/step - loss: 1.7876 - accuracy: 0.3206 - val_loss: 1.7884 - val_accuracy: 0.3084\n",
      "Epoch 20/45\n",
      "70/70 [==============================] - 37s 523ms/step - loss: 1.7632 - accuracy: 0.3290 - val_loss: 1.7385 - val_accuracy: 0.3247\n",
      "Epoch 21/45\n",
      "70/70 [==============================] - 37s 523ms/step - loss: 1.7707 - accuracy: 0.3251 - val_loss: 1.7261 - val_accuracy: 0.3370\n",
      "Epoch 22/45\n",
      "70/70 [==============================] - 36s 515ms/step - loss: 1.7942 - accuracy: 0.3043 - val_loss: 1.7279 - val_accuracy: 0.3696\n",
      "Epoch 23/45\n",
      "70/70 [==============================] - 36s 515ms/step - loss: 1.7855 - accuracy: 0.3162 - val_loss: 1.7444 - val_accuracy: 0.3397\n",
      "Epoch 24/45\n",
      "70/70 [==============================] - 37s 522ms/step - loss: 1.7728 - accuracy: 0.3231 - val_loss: 1.7073 - val_accuracy: 0.3601\n",
      "Epoch 25/45\n",
      "70/70 [==============================] - 36s 515ms/step - loss: 1.7463 - accuracy: 0.3409 - val_loss: 1.7189 - val_accuracy: 0.3832\n",
      "Epoch 26/45\n",
      "70/70 [==============================] - 37s 523ms/step - loss: 1.7470 - accuracy: 0.3479 - val_loss: 1.6974 - val_accuracy: 0.3505\n",
      "Epoch 27/45\n",
      "70/70 [==============================] - 36s 520ms/step - loss: 1.7453 - accuracy: 0.3345 - val_loss: 1.6922 - val_accuracy: 0.3886\n",
      "Epoch 28/45\n",
      "70/70 [==============================] - 36s 515ms/step - loss: 1.7409 - accuracy: 0.3414 - val_loss: 1.6993 - val_accuracy: 0.3641\n",
      "Epoch 29/45\n",
      "70/70 [==============================] - 36s 515ms/step - loss: 1.7358 - accuracy: 0.3459 - val_loss: 1.7834 - val_accuracy: 0.3247\n",
      "Epoch 30/45\n",
      "70/70 [==============================] - 37s 523ms/step - loss: 1.7426 - accuracy: 0.3157 - val_loss: 1.6738 - val_accuracy: 0.3655\n",
      "Epoch 31/45\n",
      "70/70 [==============================] - 36s 516ms/step - loss: 1.7259 - accuracy: 0.3409 - val_loss: 1.7084 - val_accuracy: 0.3234\n",
      "Epoch 32/45\n",
      "70/70 [==============================] - 36s 516ms/step - loss: 1.7202 - accuracy: 0.3533 - val_loss: 1.6916 - val_accuracy: 0.3641\n",
      "Epoch 33/45\n",
      "70/70 [==============================] - 37s 522ms/step - loss: 1.7103 - accuracy: 0.3583 - val_loss: 1.6616 - val_accuracy: 0.3709\n",
      "Epoch 34/45\n",
      "70/70 [==============================] - 36s 521ms/step - loss: 1.6827 - accuracy: 0.3657 - val_loss: 1.6567 - val_accuracy: 0.3804\n",
      "Epoch 35/45\n",
      "70/70 [==============================] - 37s 523ms/step - loss: 1.6814 - accuracy: 0.3578 - val_loss: 1.6420 - val_accuracy: 0.3696\n",
      "Epoch 36/45\n",
      "70/70 [==============================] - 36s 515ms/step - loss: 1.6944 - accuracy: 0.3563 - val_loss: 1.6857 - val_accuracy: 0.3614\n",
      "Epoch 37/45\n",
      "70/70 [==============================] - 36s 515ms/step - loss: 1.7006 - accuracy: 0.3558 - val_loss: 1.6674 - val_accuracy: 0.3723\n",
      "Epoch 38/45\n",
      "70/70 [==============================] - 36s 521ms/step - loss: 1.6781 - accuracy: 0.3583 - val_loss: 1.6357 - val_accuracy: 0.4117\n",
      "Epoch 39/45\n",
      "70/70 [==============================] - 36s 515ms/step - loss: 1.6741 - accuracy: 0.3692 - val_loss: 1.6384 - val_accuracy: 0.3954\n",
      "Epoch 40/45\n",
      "70/70 [==============================] - 36s 515ms/step - loss: 1.6684 - accuracy: 0.3811 - val_loss: 1.6703 - val_accuracy: 0.3614\n",
      "Epoch 41/45\n",
      "70/70 [==============================] - 36s 515ms/step - loss: 1.7055 - accuracy: 0.3523 - val_loss: 1.7002 - val_accuracy: 0.3628\n",
      "Epoch 42/45\n",
      "70/70 [==============================] - 37s 523ms/step - loss: 1.6799 - accuracy: 0.3697 - val_loss: 1.6220 - val_accuracy: 0.4293\n",
      "Epoch 43/45\n",
      "70/70 [==============================] - 36s 516ms/step - loss: 1.6479 - accuracy: 0.3702 - val_loss: 1.6655 - val_accuracy: 0.3682\n",
      "Epoch 44/45\n",
      "70/70 [==============================] - 37s 523ms/step - loss: 1.6634 - accuracy: 0.3712 - val_loss: 1.6037 - val_accuracy: 0.4049\n",
      "Epoch 45/45\n",
      "70/70 [==============================] - 36s 516ms/step - loss: 1.6221 - accuracy: 0.3954 - val_loss: 1.6483 - val_accuracy: 0.3791\n"
     ]
    },
    {
     "data": {
      "text/html": [
       "<br/>Waiting for W&B process to finish, PID 172688<br/>Program ended successfully."
      ],
      "text/plain": [
       "<IPython.core.display.HTML object>"
      ]
     },
     "metadata": {},
     "output_type": "display_data"
    },
    {
     "data": {
      "text/html": [
       "Find user logs for this run at: <code>/home/charlie/Documents/courses/miniproject/notebooks/wandb/run-20210330_043327-piyoyjy8/logs/debug.log</code>"
      ],
      "text/plain": [
       "<IPython.core.display.HTML object>"
      ]
     },
     "metadata": {},
     "output_type": "display_data"
    },
    {
     "data": {
      "text/html": [
       "Find internal logs for this run at: <code>/home/charlie/Documents/courses/miniproject/notebooks/wandb/run-20210330_043327-piyoyjy8/logs/debug-internal.log</code>"
      ],
      "text/plain": [
       "<IPython.core.display.HTML object>"
      ]
     },
     "metadata": {},
     "output_type": "display_data"
    },
    {
     "data": {
      "text/html": [
       "<h3>Run summary:</h3><br/><style>\n",
       "    table.wandb td:nth-child(1) { padding: 0 10px; text-align: right }\n",
       "    </style><table class=\"wandb\">\n",
       "<tr><td>epoch</td><td>44</td></tr><tr><td>loss</td><td>1.62208</td></tr><tr><td>accuracy</td><td>0.39544</td></tr><tr><td>val_loss</td><td>1.64828</td></tr><tr><td>val_accuracy</td><td>0.37908</td></tr><tr><td>_runtime</td><td>1691</td></tr><tr><td>_timestamp</td><td>1617076898</td></tr><tr><td>_step</td><td>44</td></tr><tr><td>best_val_loss</td><td>1.6037</td></tr><tr><td>best_epoch</td><td>43</td></tr></table>"
      ],
      "text/plain": [
       "<IPython.core.display.HTML object>"
      ]
     },
     "metadata": {},
     "output_type": "display_data"
    },
    {
     "data": {
      "text/html": [
       "<h3>Run history:</h3><br/><style>\n",
       "    table.wandb td:nth-child(1) { padding: 0 10px; text-align: right }\n",
       "    </style><table class=\"wandb\">\n",
       "<tr><td>epoch</td><td>▁▁▁▁▂▂▂▂▂▃▃▃▃▃▃▄▄▄▄▄▅▅▅▅▅▅▆▆▆▆▆▆▇▇▇▇▇███</td></tr><tr><td>loss</td><td>█▅▅▅▅▄▄▄▄▄▃▄▃▃▃▃▃▃▃▃▃▃▂▂▂▂▂▂▂▂▂▂▂▂▂▂▂▂▁▁</td></tr><tr><td>accuracy</td><td>▁▂▃▃▃▄▃▄▄▅▅▅▅▅▆▅▆▆▆▅▆▆▆▇▆▇▆▆▇▇▇▇▇▇▇█▇▇▇█</td></tr><tr><td>val_loss</td><td>█▇▇▆▆▆▆▅▅▅▅▅▄▄▄▄▄▃▃▃▃▃▃▂▂▄▂▃▂▂▂▁▂▁▁▂▂▁▂▁</td></tr><tr><td>val_accuracy</td><td>▁▃▄▃▃▃▃▅▄▃▅▄▅▅▅▅▅▅▅▆▆▆▇▆▆▅▆▅▆▆▇▆▆█▇▆▆█▆▇</td></tr><tr><td>_runtime</td><td>▁▁▁▁▂▂▂▂▂▃▃▃▃▃▃▄▄▄▄▄▅▅▅▅▅▅▆▆▆▆▆▆▇▇▇▇▇███</td></tr><tr><td>_timestamp</td><td>▁▁▁▁▂▂▂▂▂▃▃▃▃▃▃▄▄▄▄▄▅▅▅▅▅▅▆▆▆▆▆▆▇▇▇▇▇███</td></tr><tr><td>_step</td><td>▁▁▁▁▂▂▂▂▂▃▃▃▃▃▃▄▄▄▄▄▅▅▅▅▅▅▆▆▆▆▆▆▇▇▇▇▇███</td></tr></table><br/>"
      ],
      "text/plain": [
       "<IPython.core.display.HTML object>"
      ]
     },
     "metadata": {},
     "output_type": "display_data"
    },
    {
     "data": {
      "text/html": [
       "Synced 5 W&B file(s), 1 media file(s), 0 artifact file(s) and 1 other file(s)"
      ],
      "text/plain": [
       "<IPython.core.display.HTML object>"
      ]
     },
     "metadata": {},
     "output_type": "display_data"
    },
    {
     "data": {
      "text/html": [
       "\n",
       "                    <br/>Synced <strong style=\"color:#cdcd00\">major-sweep-63</strong>: <a href=\"https://wandb.ai/charlieisalright/sentiment/runs/piyoyjy8\" target=\"_blank\">https://wandb.ai/charlieisalright/sentiment/runs/piyoyjy8</a><br/>\n",
       "                "
      ],
      "text/plain": [
       "<IPython.core.display.HTML object>"
      ]
     },
     "metadata": {},
     "output_type": "display_data"
    },
    {
     "name": "stderr",
     "output_type": "stream",
     "text": [
      "\u001b[34m\u001b[1mwandb\u001b[0m: Agent Starting Run: heo3jfb5 with config:\n",
      "\u001b[34m\u001b[1mwandb\u001b[0m: \tbatch_size: 27\n",
      "\u001b[34m\u001b[1mwandb\u001b[0m: \tepochs: 47\n",
      "\u001b[34m\u001b[1mwandb\u001b[0m: \tlearning_rate: 0.0009109474456045346\n",
      "Failed to detect the name of this notebook, you can set it manually with the WANDB_NOTEBOOK_NAME environment variable to enable code saving.\n",
      "\u001b[34m\u001b[1mwandb\u001b[0m: \u001b[33mWARNING\u001b[0m Ignored wandb.init() arg project when running a sweep\n",
      "\u001b[34m\u001b[1mwandb\u001b[0m: \u001b[33mWARNING\u001b[0m Ignored wandb.init() arg entity when running a sweep\n"
     ]
    },
    {
     "data": {
      "text/html": [
       "\n",
       "                Tracking run with wandb version 0.10.23<br/>\n",
       "                Syncing run <strong style=\"color:#cdcd00\">peachy-sweep-64</strong> to <a href=\"https://wandb.ai\" target=\"_blank\">Weights & Biases</a> <a href=\"https://docs.wandb.com/integrations/jupyter.html\" target=\"_blank\">(Documentation)</a>.<br/>\n",
       "                Project page: <a href=\"https://wandb.ai/charlieisalright/sentiment\" target=\"_blank\">https://wandb.ai/charlieisalright/sentiment</a><br/>\n",
       "                Sweep page: <a href=\"https://wandb.ai/charlieisalright/sentiment/sweeps/fnf3wbru\" target=\"_blank\">https://wandb.ai/charlieisalright/sentiment/sweeps/fnf3wbru</a><br/>\n",
       "Run page: <a href=\"https://wandb.ai/charlieisalright/sentiment/runs/heo3jfb5\" target=\"_blank\">https://wandb.ai/charlieisalright/sentiment/runs/heo3jfb5</a><br/>\n",
       "                Run data is saved locally in <code>/home/charlie/Documents/courses/miniproject/notebooks/wandb/run-20210330_050144-heo3jfb5</code><br/><br/>\n",
       "            "
      ],
      "text/plain": [
       "<IPython.core.display.HTML object>"
      ]
     },
     "metadata": {},
     "output_type": "display_data"
    },
    {
     "name": "stdout",
     "output_type": "stream",
     "text": [
      "Epoch 1/47\n",
      "70/70 [==============================] - 35s 498ms/step - loss: 2.3429 - accuracy: 0.1432 - val_loss: 2.0564 - val_accuracy: 0.1848\n",
      "Epoch 2/47\n",
      "70/70 [==============================] - 34s 489ms/step - loss: 2.0655 - accuracy: 0.1854 - val_loss: 1.9864 - val_accuracy: 0.2514\n",
      "Epoch 3/47\n",
      "70/70 [==============================] - 34s 493ms/step - loss: 2.0107 - accuracy: 0.1907 - val_loss: 1.9690 - val_accuracy: 0.2405\n",
      "Epoch 4/47\n",
      "70/70 [==============================] - 35s 494ms/step - loss: 1.9919 - accuracy: 0.2073 - val_loss: 1.9620 - val_accuracy: 0.2106\n",
      "Epoch 5/47\n",
      "70/70 [==============================] - 34s 491ms/step - loss: 1.9658 - accuracy: 0.2356 - val_loss: 1.9239 - val_accuracy: 0.2690\n",
      "Epoch 6/47\n",
      "70/70 [==============================] - 35s 495ms/step - loss: 1.9605 - accuracy: 0.2115 - val_loss: 1.9011 - val_accuracy: 0.2962\n",
      "Epoch 7/47\n",
      "70/70 [==============================] - 34s 491ms/step - loss: 1.9509 - accuracy: 0.2361 - val_loss: 1.8979 - val_accuracy: 0.2785\n",
      "Epoch 8/47\n",
      "70/70 [==============================] - 34s 490ms/step - loss: 1.9038 - accuracy: 0.2810 - val_loss: 1.8921 - val_accuracy: 0.2595\n",
      "Epoch 9/47\n",
      "70/70 [==============================] - 34s 490ms/step - loss: 1.9034 - accuracy: 0.2762 - val_loss: 1.8763 - val_accuracy: 0.2717\n",
      "Epoch 10/47\n",
      "70/70 [==============================] - 35s 503ms/step - loss: 1.9216 - accuracy: 0.2582 - val_loss: 1.8554 - val_accuracy: 0.3261\n",
      "Epoch 11/47\n",
      "70/70 [==============================] - 35s 493ms/step - loss: 1.8800 - accuracy: 0.2635 - val_loss: 1.8418 - val_accuracy: 0.2935\n",
      "Epoch 12/47\n",
      "70/70 [==============================] - 34s 489ms/step - loss: 1.8550 - accuracy: 0.2756 - val_loss: 1.8333 - val_accuracy: 0.2649\n",
      "Epoch 13/47\n",
      "70/70 [==============================] - 34s 490ms/step - loss: 1.8668 - accuracy: 0.2724 - val_loss: 1.8124 - val_accuracy: 0.3492\n",
      "Epoch 14/47\n",
      "70/70 [==============================] - 34s 485ms/step - loss: 1.8608 - accuracy: 0.2911 - val_loss: 1.8578 - val_accuracy: 0.2894\n",
      "Epoch 15/47\n",
      "70/70 [==============================] - 34s 483ms/step - loss: 1.8394 - accuracy: 0.3013 - val_loss: 1.8277 - val_accuracy: 0.2948\n",
      "Epoch 16/47\n",
      "70/70 [==============================] - 34s 488ms/step - loss: 1.8304 - accuracy: 0.2991 - val_loss: 1.7923 - val_accuracy: 0.3302\n",
      "Epoch 17/47\n",
      "70/70 [==============================] - 34s 491ms/step - loss: 1.8033 - accuracy: 0.3088 - val_loss: 1.7783 - val_accuracy: 0.3397\n",
      "Epoch 18/47\n",
      "70/70 [==============================] - 35s 495ms/step - loss: 1.8024 - accuracy: 0.3228 - val_loss: 1.7718 - val_accuracy: 0.3288\n",
      "Epoch 19/47\n",
      "70/70 [==============================] - 34s 486ms/step - loss: 1.7963 - accuracy: 0.3164 - val_loss: 1.7942 - val_accuracy: 0.3043\n",
      "Epoch 20/47\n",
      "70/70 [==============================] - 34s 489ms/step - loss: 1.7986 - accuracy: 0.3029 - val_loss: 1.7542 - val_accuracy: 0.3288\n",
      "Epoch 21/47\n",
      "70/70 [==============================] - 34s 490ms/step - loss: 1.7846 - accuracy: 0.3243 - val_loss: 1.7384 - val_accuracy: 0.3424\n",
      "Epoch 22/47\n",
      "70/70 [==============================] - 34s 487ms/step - loss: 1.7858 - accuracy: 0.3104 - val_loss: 1.7603 - val_accuracy: 0.3139\n",
      "Epoch 23/47\n",
      "70/70 [==============================] - 34s 484ms/step - loss: 1.7605 - accuracy: 0.3333 - val_loss: 1.7590 - val_accuracy: 0.3288\n",
      "Epoch 24/47\n",
      "70/70 [==============================] - 34s 483ms/step - loss: 1.7675 - accuracy: 0.3152 - val_loss: 1.7427 - val_accuracy: 0.3573\n",
      "Epoch 25/47\n",
      "70/70 [==============================] - 34s 483ms/step - loss: 1.7522 - accuracy: 0.3446 - val_loss: 1.7445 - val_accuracy: 0.3370\n",
      "Epoch 26/47\n",
      "70/70 [==============================] - 34s 489ms/step - loss: 1.7541 - accuracy: 0.3323 - val_loss: 1.7194 - val_accuracy: 0.3478\n",
      "Epoch 27/47\n",
      "70/70 [==============================] - 34s 489ms/step - loss: 1.7278 - accuracy: 0.3339 - val_loss: 1.7021 - val_accuracy: 0.3818\n",
      "Epoch 28/47\n",
      "70/70 [==============================] - 34s 483ms/step - loss: 1.7620 - accuracy: 0.3339 - val_loss: 1.7262 - val_accuracy: 0.3397\n",
      "Epoch 29/47\n",
      "70/70 [==============================] - 34s 483ms/step - loss: 1.7330 - accuracy: 0.3526 - val_loss: 1.7452 - val_accuracy: 0.3071\n",
      "Epoch 30/47\n",
      "70/70 [==============================] - 34s 490ms/step - loss: 1.7151 - accuracy: 0.3515 - val_loss: 1.7004 - val_accuracy: 0.3546\n",
      "Epoch 31/47\n",
      "70/70 [==============================] - 34s 491ms/step - loss: 1.7351 - accuracy: 0.3483 - val_loss: 1.6728 - val_accuracy: 0.3764\n",
      "Epoch 32/47\n",
      "70/70 [==============================] - 34s 484ms/step - loss: 1.7430 - accuracy: 0.3360 - val_loss: 1.7139 - val_accuracy: 0.3641\n",
      "Epoch 33/47\n",
      "70/70 [==============================] - 34s 484ms/step - loss: 1.7033 - accuracy: 0.3568 - val_loss: 1.6822 - val_accuracy: 0.3519\n",
      "Epoch 34/47\n",
      "70/70 [==============================] - 34s 482ms/step - loss: 1.7059 - accuracy: 0.3365 - val_loss: 1.7045 - val_accuracy: 0.3560\n",
      "Epoch 35/47\n",
      "70/70 [==============================] - 34s 483ms/step - loss: 1.6891 - accuracy: 0.3584 - val_loss: 1.7085 - val_accuracy: 0.3750\n",
      "Epoch 36/47\n",
      "70/70 [==============================] - 34s 490ms/step - loss: 1.6970 - accuracy: 0.3563 - val_loss: 1.6706 - val_accuracy: 0.3791\n",
      "Epoch 37/47\n",
      "70/70 [==============================] - 34s 490ms/step - loss: 1.7022 - accuracy: 0.3750 - val_loss: 1.6668 - val_accuracy: 0.3682\n",
      "Epoch 38/47\n",
      "70/70 [==============================] - 34s 483ms/step - loss: 1.6808 - accuracy: 0.3595 - val_loss: 1.7183 - val_accuracy: 0.3505\n",
      "Epoch 39/47\n",
      "70/70 [==============================] - 34s 482ms/step - loss: 1.6734 - accuracy: 0.3616 - val_loss: 1.6684 - val_accuracy: 0.3723\n",
      "Epoch 40/47\n",
      "70/70 [==============================] - 34s 483ms/step - loss: 1.6788 - accuracy: 0.3675 - val_loss: 1.6963 - val_accuracy: 0.3505\n",
      "Epoch 41/47\n",
      "70/70 [==============================] - 34s 490ms/step - loss: 1.6864 - accuracy: 0.3761 - val_loss: 1.6575 - val_accuracy: 0.3791\n",
      "Epoch 42/47\n",
      "70/70 [==============================] - 34s 484ms/step - loss: 1.6569 - accuracy: 0.3787 - val_loss: 1.6947 - val_accuracy: 0.3709\n",
      "Epoch 43/47\n",
      "70/70 [==============================] - 34s 483ms/step - loss: 1.6803 - accuracy: 0.3632 - val_loss: 1.6749 - val_accuracy: 0.3533\n",
      "Epoch 44/47\n",
      "70/70 [==============================] - 34s 483ms/step - loss: 1.6699 - accuracy: 0.3675 - val_loss: 1.6736 - val_accuracy: 0.3560\n",
      "Epoch 45/47\n",
      "70/70 [==============================] - 34s 484ms/step - loss: 1.6673 - accuracy: 0.3841 - val_loss: 1.6856 - val_accuracy: 0.3736\n",
      "Epoch 46/47\n",
      "70/70 [==============================] - 34s 483ms/step - loss: 1.6681 - accuracy: 0.3659 - val_loss: 1.7156 - val_accuracy: 0.3533\n",
      "Epoch 47/47\n",
      "70/70 [==============================] - 34s 482ms/step - loss: 1.6610 - accuracy: 0.3723 - val_loss: 1.6640 - val_accuracy: 0.3505\n"
     ]
    },
    {
     "data": {
      "text/html": [
       "<br/>Waiting for W&B process to finish, PID 173006<br/>Program ended successfully."
      ],
      "text/plain": [
       "<IPython.core.display.HTML object>"
      ]
     },
     "metadata": {},
     "output_type": "display_data"
    },
    {
     "data": {
      "text/html": [
       "Find user logs for this run at: <code>/home/charlie/Documents/courses/miniproject/notebooks/wandb/run-20210330_050144-heo3jfb5/logs/debug.log</code>"
      ],
      "text/plain": [
       "<IPython.core.display.HTML object>"
      ]
     },
     "metadata": {},
     "output_type": "display_data"
    },
    {
     "data": {
      "text/html": [
       "Find internal logs for this run at: <code>/home/charlie/Documents/courses/miniproject/notebooks/wandb/run-20210330_050144-heo3jfb5/logs/debug-internal.log</code>"
      ],
      "text/plain": [
       "<IPython.core.display.HTML object>"
      ]
     },
     "metadata": {},
     "output_type": "display_data"
    },
    {
     "data": {
      "text/html": [
       "<h3>Run summary:</h3><br/><style>\n",
       "    table.wandb td:nth-child(1) { padding: 0 10px; text-align: right }\n",
       "    </style><table class=\"wandb\">\n",
       "<tr><td>epoch</td><td>46</td></tr><tr><td>loss</td><td>1.66099</td></tr><tr><td>accuracy</td><td>0.37233</td></tr><tr><td>val_loss</td><td>1.66405</td></tr><tr><td>val_accuracy</td><td>0.35054</td></tr><tr><td>_runtime</td><td>1647</td></tr><tr><td>_timestamp</td><td>1617078551</td></tr><tr><td>_step</td><td>46</td></tr><tr><td>best_val_loss</td><td>1.65754</td></tr><tr><td>best_epoch</td><td>40</td></tr></table>"
      ],
      "text/plain": [
       "<IPython.core.display.HTML object>"
      ]
     },
     "metadata": {},
     "output_type": "display_data"
    },
    {
     "data": {
      "text/html": [
       "<h3>Run history:</h3><br/><style>\n",
       "    table.wandb td:nth-child(1) { padding: 0 10px; text-align: right }\n",
       "    </style><table class=\"wandb\">\n",
       "<tr><td>epoch</td><td>▁▁▁▁▂▂▂▂▂▃▃▃▃▃▃▄▄▄▄▄▅▅▅▅▅▅▆▆▆▆▆▆▇▇▇▇▇███</td></tr><tr><td>loss</td><td>█▅▅▄▄▄▄▄▄▃▃▃▃▃▂▂▂▂▂▂▂▂▂▂▂▂▂▂▁▁▁▁▁▁▁▁▁▁▁▁</td></tr><tr><td>accuracy</td><td>▁▂▂▃▄▃▅▅▄▄▅▅▆▆▆▆▆▆▆▇▆▇▆▇▇▇▇▇▇▇▇█▇▇██▇███</td></tr><tr><td>val_loss</td><td>█▇▆▆▆▅▅▅▄▄▄▄▄▃▃▃▃▂▃▃▂▃▂▂▃▂▁▂▂▂▁▁▂▁▁▂▁▁▁▁</td></tr><tr><td>val_accuracy</td><td>▁▃▃▂▄▅▄▄▆▅▄▇▅▆▇▆▅▇▆▆▇▆▇▇▅▇█▇▇███▇███▇▇█▇</td></tr><tr><td>_runtime</td><td>▁▁▁▁▂▂▂▂▂▃▃▃▃▃▃▄▄▄▄▄▅▅▅▅▅▅▆▆▆▆▆▆▇▇▇▇▇███</td></tr><tr><td>_timestamp</td><td>▁▁▁▁▂▂▂▂▂▃▃▃▃▃▃▄▄▄▄▄▅▅▅▅▅▅▆▆▆▆▆▆▇▇▇▇▇███</td></tr><tr><td>_step</td><td>▁▁▁▁▂▂▂▂▂▃▃▃▃▃▃▄▄▄▄▄▅▅▅▅▅▅▆▆▆▆▆▆▇▇▇▇▇███</td></tr></table><br/>"
      ],
      "text/plain": [
       "<IPython.core.display.HTML object>"
      ]
     },
     "metadata": {},
     "output_type": "display_data"
    },
    {
     "data": {
      "text/html": [
       "Synced 5 W&B file(s), 1 media file(s), 0 artifact file(s) and 1 other file(s)"
      ],
      "text/plain": [
       "<IPython.core.display.HTML object>"
      ]
     },
     "metadata": {},
     "output_type": "display_data"
    },
    {
     "data": {
      "text/html": [
       "\n",
       "                    <br/>Synced <strong style=\"color:#cdcd00\">peachy-sweep-64</strong>: <a href=\"https://wandb.ai/charlieisalright/sentiment/runs/heo3jfb5\" target=\"_blank\">https://wandb.ai/charlieisalright/sentiment/runs/heo3jfb5</a><br/>\n",
       "                "
      ],
      "text/plain": [
       "<IPython.core.display.HTML object>"
      ]
     },
     "metadata": {},
     "output_type": "display_data"
    },
    {
     "name": "stderr",
     "output_type": "stream",
     "text": [
      "\u001b[34m\u001b[1mwandb\u001b[0m: Agent Starting Run: 6z8pywch with config:\n",
      "\u001b[34m\u001b[1mwandb\u001b[0m: \tbatch_size: 30\n",
      "\u001b[34m\u001b[1mwandb\u001b[0m: \tepochs: 42\n",
      "\u001b[34m\u001b[1mwandb\u001b[0m: \tlearning_rate: 0.001373417645652922\n",
      "Failed to detect the name of this notebook, you can set it manually with the WANDB_NOTEBOOK_NAME environment variable to enable code saving.\n",
      "\u001b[34m\u001b[1mwandb\u001b[0m: \u001b[33mWARNING\u001b[0m Ignored wandb.init() arg project when running a sweep\n",
      "\u001b[34m\u001b[1mwandb\u001b[0m: \u001b[33mWARNING\u001b[0m Ignored wandb.init() arg entity when running a sweep\n"
     ]
    },
    {
     "data": {
      "text/html": [
       "\n",
       "                Tracking run with wandb version 0.10.23<br/>\n",
       "                Syncing run <strong style=\"color:#cdcd00\">legendary-sweep-65</strong> to <a href=\"https://wandb.ai\" target=\"_blank\">Weights & Biases</a> <a href=\"https://docs.wandb.com/integrations/jupyter.html\" target=\"_blank\">(Documentation)</a>.<br/>\n",
       "                Project page: <a href=\"https://wandb.ai/charlieisalright/sentiment\" target=\"_blank\">https://wandb.ai/charlieisalright/sentiment</a><br/>\n",
       "                Sweep page: <a href=\"https://wandb.ai/charlieisalright/sentiment/sweeps/fnf3wbru\" target=\"_blank\">https://wandb.ai/charlieisalright/sentiment/sweeps/fnf3wbru</a><br/>\n",
       "Run page: <a href=\"https://wandb.ai/charlieisalright/sentiment/runs/6z8pywch\" target=\"_blank\">https://wandb.ai/charlieisalright/sentiment/runs/6z8pywch</a><br/>\n",
       "                Run data is saved locally in <code>/home/charlie/Documents/courses/miniproject/notebooks/wandb/run-20210330_052917-6z8pywch</code><br/><br/>\n",
       "            "
      ],
      "text/plain": [
       "<IPython.core.display.HTML object>"
      ]
     },
     "metadata": {},
     "output_type": "display_data"
    },
    {
     "name": "stdout",
     "output_type": "stream",
     "text": [
      "Epoch 1/42\n",
      "70/70 [==============================] - 39s 557ms/step - loss: 2.2760 - accuracy: 0.1676 - val_loss: 1.9908 - val_accuracy: 0.2459\n",
      "Epoch 2/42\n",
      "70/70 [==============================] - 38s 545ms/step - loss: 2.0216 - accuracy: 0.1971 - val_loss: 1.9783 - val_accuracy: 0.2215\n",
      "Epoch 3/42\n",
      "70/70 [==============================] - 38s 539ms/step - loss: 1.9929 - accuracy: 0.2048 - val_loss: 1.9566 - val_accuracy: 0.1957\n",
      "Epoch 4/42\n",
      "70/70 [==============================] - 38s 539ms/step - loss: 1.9679 - accuracy: 0.2286 - val_loss: 1.9305 - val_accuracy: 0.2337\n",
      "Epoch 5/42\n",
      "70/70 [==============================] - 37s 533ms/step - loss: 1.9506 - accuracy: 0.2414 - val_loss: 1.9337 - val_accuracy: 0.2269\n",
      "Epoch 6/42\n",
      "70/70 [==============================] - 38s 541ms/step - loss: 1.9298 - accuracy: 0.2462 - val_loss: 1.8953 - val_accuracy: 0.2622\n",
      "Epoch 7/42\n",
      "70/70 [==============================] - 38s 549ms/step - loss: 1.9271 - accuracy: 0.2424 - val_loss: 1.8951 - val_accuracy: 0.2391\n",
      "Epoch 8/42\n",
      "70/70 [==============================] - 38s 539ms/step - loss: 1.8949 - accuracy: 0.2690 - val_loss: 1.8262 - val_accuracy: 0.3152\n",
      "Epoch 9/42\n",
      "70/70 [==============================] - 38s 539ms/step - loss: 1.8761 - accuracy: 0.2724 - val_loss: 1.8262 - val_accuracy: 0.2976\n",
      "Epoch 10/42\n",
      "70/70 [==============================] - 37s 532ms/step - loss: 1.8524 - accuracy: 0.2890 - val_loss: 1.8343 - val_accuracy: 0.2840\n",
      "Epoch 11/42\n",
      "70/70 [==============================] - 37s 534ms/step - loss: 1.8692 - accuracy: 0.2743 - val_loss: 1.8453 - val_accuracy: 0.2948\n",
      "Epoch 12/42\n",
      "70/70 [==============================] - 38s 538ms/step - loss: 1.8666 - accuracy: 0.2781 - val_loss: 1.8142 - val_accuracy: 0.3057\n",
      "Epoch 13/42\n",
      "70/70 [==============================] - 37s 533ms/step - loss: 1.8643 - accuracy: 0.2929 - val_loss: 1.8181 - val_accuracy: 0.2908\n",
      "Epoch 14/42\n",
      "70/70 [==============================] - 38s 540ms/step - loss: 1.8526 - accuracy: 0.2800 - val_loss: 1.7950 - val_accuracy: 0.3166\n",
      "Epoch 15/42\n",
      "70/70 [==============================] - 37s 533ms/step - loss: 1.8158 - accuracy: 0.3105 - val_loss: 1.7982 - val_accuracy: 0.3003\n",
      "Epoch 16/42\n",
      "70/70 [==============================] - 37s 533ms/step - loss: 1.8237 - accuracy: 0.2986 - val_loss: 1.8032 - val_accuracy: 0.3016\n",
      "Epoch 17/42\n",
      "70/70 [==============================] - 38s 537ms/step - loss: 1.7940 - accuracy: 0.3024 - val_loss: 1.7779 - val_accuracy: 0.3098\n",
      "Epoch 18/42\n",
      "70/70 [==============================] - 37s 533ms/step - loss: 1.7886 - accuracy: 0.3148 - val_loss: 1.7817 - val_accuracy: 0.3098\n",
      "Epoch 19/42\n",
      "70/70 [==============================] - 38s 539ms/step - loss: 1.7758 - accuracy: 0.3276 - val_loss: 1.7176 - val_accuracy: 0.3220\n",
      "Epoch 20/42\n",
      "70/70 [==============================] - 37s 533ms/step - loss: 1.8011 - accuracy: 0.2948 - val_loss: 1.7410 - val_accuracy: 0.3424\n",
      "Epoch 21/42\n",
      "70/70 [==============================] - 38s 538ms/step - loss: 1.7724 - accuracy: 0.3190 - val_loss: 1.7121 - val_accuracy: 0.3641\n",
      "Epoch 22/42\n",
      "70/70 [==============================] - 37s 533ms/step - loss: 1.7802 - accuracy: 0.3243 - val_loss: 1.7193 - val_accuracy: 0.3601\n",
      "Epoch 23/42\n",
      "70/70 [==============================] - 38s 539ms/step - loss: 1.7740 - accuracy: 0.3190 - val_loss: 1.7111 - val_accuracy: 0.3274\n",
      "Epoch 24/42\n",
      "70/70 [==============================] - 37s 533ms/step - loss: 1.7747 - accuracy: 0.3214 - val_loss: 1.7568 - val_accuracy: 0.3329\n",
      "Epoch 25/42\n",
      "70/70 [==============================] - 37s 533ms/step - loss: 1.7491 - accuracy: 0.3281 - val_loss: 1.7184 - val_accuracy: 0.3397\n",
      "Epoch 26/42\n",
      "70/70 [==============================] - 38s 539ms/step - loss: 1.7345 - accuracy: 0.3390 - val_loss: 1.7031 - val_accuracy: 0.3533\n",
      "Epoch 27/42\n",
      "70/70 [==============================] - 37s 533ms/step - loss: 1.7246 - accuracy: 0.3576 - val_loss: 1.7125 - val_accuracy: 0.3397\n",
      "Epoch 28/42\n",
      "70/70 [==============================] - 38s 539ms/step - loss: 1.7513 - accuracy: 0.3390 - val_loss: 1.6813 - val_accuracy: 0.3587\n",
      "Epoch 29/42\n",
      "70/70 [==============================] - 37s 533ms/step - loss: 1.7261 - accuracy: 0.3371 - val_loss: 1.6990 - val_accuracy: 0.3465\n",
      "Epoch 30/42\n",
      "70/70 [==============================] - 37s 533ms/step - loss: 1.7369 - accuracy: 0.3324 - val_loss: 1.6851 - val_accuracy: 0.3641\n",
      "Epoch 31/42\n",
      "70/70 [==============================] - 37s 533ms/step - loss: 1.7679 - accuracy: 0.3248 - val_loss: 1.7872 - val_accuracy: 0.2745\n",
      "Epoch 32/42\n",
      "70/70 [==============================] - 38s 541ms/step - loss: 1.7149 - accuracy: 0.3424 - val_loss: 1.6953 - val_accuracy: 0.3655\n",
      "Epoch 33/42\n",
      "70/70 [==============================] - 38s 546ms/step - loss: 1.7256 - accuracy: 0.3529 - val_loss: 1.6585 - val_accuracy: 0.3424\n",
      "Epoch 34/42\n",
      "70/70 [==============================] - 37s 534ms/step - loss: 1.7438 - accuracy: 0.3519 - val_loss: 1.6946 - val_accuracy: 0.3492\n",
      "Epoch 35/42\n",
      "70/70 [==============================] - 37s 533ms/step - loss: 1.7039 - accuracy: 0.3481 - val_loss: 1.6604 - val_accuracy: 0.3614\n",
      "Epoch 36/42\n",
      "70/70 [==============================] - 37s 533ms/step - loss: 1.7039 - accuracy: 0.3490 - val_loss: 1.6968 - val_accuracy: 0.3560\n",
      "Epoch 37/42\n",
      "70/70 [==============================] - 38s 539ms/step - loss: 1.6789 - accuracy: 0.3610 - val_loss: 1.6568 - val_accuracy: 0.3641\n",
      "Epoch 38/42\n",
      "70/70 [==============================] - 37s 532ms/step - loss: 1.6986 - accuracy: 0.3600 - val_loss: 1.6608 - val_accuracy: 0.3587\n",
      "Epoch 39/42\n",
      "70/70 [==============================] - 38s 540ms/step - loss: 1.6833 - accuracy: 0.3595 - val_loss: 1.6524 - val_accuracy: 0.3804\n",
      "Epoch 40/42\n",
      "70/70 [==============================] - 38s 539ms/step - loss: 1.6713 - accuracy: 0.3557 - val_loss: 1.6141 - val_accuracy: 0.4049\n",
      "Epoch 41/42\n",
      "70/70 [==============================] - 37s 532ms/step - loss: 1.6608 - accuracy: 0.3643 - val_loss: 1.6238 - val_accuracy: 0.3696\n",
      "Epoch 42/42\n",
      "70/70 [==============================] - 38s 539ms/step - loss: 1.6674 - accuracy: 0.3681 - val_loss: 1.6132 - val_accuracy: 0.3967\n"
     ]
    },
    {
     "data": {
      "text/html": [
       "<br/>Waiting for W&B process to finish, PID 173466<br/>Program ended successfully."
      ],
      "text/plain": [
       "<IPython.core.display.HTML object>"
      ]
     },
     "metadata": {},
     "output_type": "display_data"
    },
    {
     "data": {
      "text/html": [
       "Find user logs for this run at: <code>/home/charlie/Documents/courses/miniproject/notebooks/wandb/run-20210330_052917-6z8pywch/logs/debug.log</code>"
      ],
      "text/plain": [
       "<IPython.core.display.HTML object>"
      ]
     },
     "metadata": {},
     "output_type": "display_data"
    },
    {
     "data": {
      "text/html": [
       "Find internal logs for this run at: <code>/home/charlie/Documents/courses/miniproject/notebooks/wandb/run-20210330_052917-6z8pywch/logs/debug-internal.log</code>"
      ],
      "text/plain": [
       "<IPython.core.display.HTML object>"
      ]
     },
     "metadata": {},
     "output_type": "display_data"
    },
    {
     "data": {
      "text/html": [
       "<h3>Run summary:</h3><br/><style>\n",
       "    table.wandb td:nth-child(1) { padding: 0 10px; text-align: right }\n",
       "    </style><table class=\"wandb\">\n",
       "<tr><td>epoch</td><td>41</td></tr><tr><td>loss</td><td>1.66738</td></tr><tr><td>accuracy</td><td>0.3681</td></tr><tr><td>val_loss</td><td>1.61319</td></tr><tr><td>val_accuracy</td><td>0.39674</td></tr><tr><td>_runtime</td><td>1623</td></tr><tr><td>_timestamp</td><td>1617080181</td></tr><tr><td>_step</td><td>41</td></tr><tr><td>best_val_loss</td><td>1.61319</td></tr><tr><td>best_epoch</td><td>41</td></tr></table>"
      ],
      "text/plain": [
       "<IPython.core.display.HTML object>"
      ]
     },
     "metadata": {},
     "output_type": "display_data"
    },
    {
     "data": {
      "text/html": [
       "<h3>Run history:</h3><br/><style>\n",
       "    table.wandb td:nth-child(1) { padding: 0 10px; text-align: right }\n",
       "    </style><table class=\"wandb\">\n",
       "<tr><td>epoch</td><td>▁▁▁▂▂▂▂▂▂▃▃▃▃▃▃▄▄▄▄▄▅▅▅▅▅▅▆▆▆▆▆▆▇▇▇▇▇▇██</td></tr><tr><td>loss</td><td>█▅▅▄▄▄▄▄▃▃▃▃▃▃▃▃▂▂▂▃▂▂▂▂▂▂▂▂▂▂▂▂▂▁▁▁▁▁▁▁</td></tr><tr><td>accuracy</td><td>▁▂▂▃▄▄▄▅▅▅▅▅▅▅▆▆▆▆▇▅▆▆▆▇▇█▇▇▇▆▇▇▇▇▇█████</td></tr><tr><td>val_loss</td><td>██▇▇▇▆▆▅▅▅▅▅▅▄▄▅▄▄▃▃▃▃▄▃▃▃▂▃▂▄▃▂▃▂▃▂▂▂▁▁</td></tr><tr><td>val_accuracy</td><td>▃▂▁▂▂▃▂▅▄▄▄▅▄▅▅▅▅▅▅▆▆▅▆▆▆▆▆▆▇▄▇▆▆▇▆▇▆▇██</td></tr><tr><td>_runtime</td><td>▁▁▁▂▂▂▂▂▂▃▃▃▃▃▃▄▄▄▄▄▅▅▅▅▅▅▆▆▆▆▆▆▇▇▇▇▇▇██</td></tr><tr><td>_timestamp</td><td>▁▁▁▂▂▂▂▂▂▃▃▃▃▃▃▄▄▄▄▄▅▅▅▅▅▅▆▆▆▆▆▆▇▇▇▇▇▇██</td></tr><tr><td>_step</td><td>▁▁▁▂▂▂▂▂▂▃▃▃▃▃▃▄▄▄▄▄▅▅▅▅▅▅▆▆▆▆▆▆▇▇▇▇▇▇██</td></tr></table><br/>"
      ],
      "text/plain": [
       "<IPython.core.display.HTML object>"
      ]
     },
     "metadata": {},
     "output_type": "display_data"
    },
    {
     "data": {
      "text/html": [
       "Synced 5 W&B file(s), 1 media file(s), 0 artifact file(s) and 1 other file(s)"
      ],
      "text/plain": [
       "<IPython.core.display.HTML object>"
      ]
     },
     "metadata": {},
     "output_type": "display_data"
    },
    {
     "data": {
      "text/html": [
       "\n",
       "                    <br/>Synced <strong style=\"color:#cdcd00\">legendary-sweep-65</strong>: <a href=\"https://wandb.ai/charlieisalright/sentiment/runs/6z8pywch\" target=\"_blank\">https://wandb.ai/charlieisalright/sentiment/runs/6z8pywch</a><br/>\n",
       "                "
      ],
      "text/plain": [
       "<IPython.core.display.HTML object>"
      ]
     },
     "metadata": {},
     "output_type": "display_data"
    },
    {
     "name": "stderr",
     "output_type": "stream",
     "text": [
      "\u001b[34m\u001b[1mwandb\u001b[0m: Agent Starting Run: l9q79y0r with config:\n",
      "\u001b[34m\u001b[1mwandb\u001b[0m: \tbatch_size: 27\n",
      "\u001b[34m\u001b[1mwandb\u001b[0m: \tepochs: 45\n",
      "\u001b[34m\u001b[1mwandb\u001b[0m: \tlearning_rate: 0.0019295103813742446\n",
      "Failed to detect the name of this notebook, you can set it manually with the WANDB_NOTEBOOK_NAME environment variable to enable code saving.\n",
      "\u001b[34m\u001b[1mwandb\u001b[0m: \u001b[33mWARNING\u001b[0m Ignored wandb.init() arg project when running a sweep\n",
      "\u001b[34m\u001b[1mwandb\u001b[0m: \u001b[33mWARNING\u001b[0m Ignored wandb.init() arg entity when running a sweep\n"
     ]
    },
    {
     "data": {
      "text/html": [
       "\n",
       "                Tracking run with wandb version 0.10.23<br/>\n",
       "                Syncing run <strong style=\"color:#cdcd00\">spring-sweep-66</strong> to <a href=\"https://wandb.ai\" target=\"_blank\">Weights & Biases</a> <a href=\"https://docs.wandb.com/integrations/jupyter.html\" target=\"_blank\">(Documentation)</a>.<br/>\n",
       "                Project page: <a href=\"https://wandb.ai/charlieisalright/sentiment\" target=\"_blank\">https://wandb.ai/charlieisalright/sentiment</a><br/>\n",
       "                Sweep page: <a href=\"https://wandb.ai/charlieisalright/sentiment/sweeps/fnf3wbru\" target=\"_blank\">https://wandb.ai/charlieisalright/sentiment/sweeps/fnf3wbru</a><br/>\n",
       "Run page: <a href=\"https://wandb.ai/charlieisalright/sentiment/runs/l9q79y0r\" target=\"_blank\">https://wandb.ai/charlieisalright/sentiment/runs/l9q79y0r</a><br/>\n",
       "                Run data is saved locally in <code>/home/charlie/Documents/courses/miniproject/notebooks/wandb/run-20210330_055652-l9q79y0r</code><br/><br/>\n",
       "            "
      ],
      "text/plain": [
       "<IPython.core.display.HTML object>"
      ]
     },
     "metadata": {},
     "output_type": "display_data"
    },
    {
     "name": "stdout",
     "output_type": "stream",
     "text": [
      "Epoch 1/45\n",
      "70/70 [==============================] - 35s 502ms/step - loss: 2.2355 - accuracy: 0.1496 - val_loss: 2.0224 - val_accuracy: 0.1467\n",
      "Epoch 2/45\n",
      "70/70 [==============================] - 34s 491ms/step - loss: 2.0391 - accuracy: 0.1976 - val_loss: 1.9950 - val_accuracy: 0.2405\n",
      "Epoch 3/45\n",
      "70/70 [==============================] - 34s 491ms/step - loss: 2.0145 - accuracy: 0.1998 - val_loss: 1.9746 - val_accuracy: 0.2541\n",
      "Epoch 4/45\n",
      "70/70 [==============================] - 35s 494ms/step - loss: 2.0066 - accuracy: 0.1950 - val_loss: 1.9679 - val_accuracy: 0.2500\n",
      "Epoch 5/45\n",
      "70/70 [==============================] - 35s 493ms/step - loss: 1.9779 - accuracy: 0.2206 - val_loss: 1.9436 - val_accuracy: 0.2378\n",
      "Epoch 6/45\n",
      "70/70 [==============================] - 35s 493ms/step - loss: 1.9648 - accuracy: 0.2270 - val_loss: 1.9316 - val_accuracy: 0.2622\n",
      "Epoch 7/45\n",
      "70/70 [==============================] - 35s 493ms/step - loss: 1.9516 - accuracy: 0.2388 - val_loss: 1.9120 - val_accuracy: 0.2514\n",
      "Epoch 8/45\n",
      "70/70 [==============================] - 34s 485ms/step - loss: 1.9462 - accuracy: 0.2318 - val_loss: 1.9241 - val_accuracy: 0.2351\n",
      "Epoch 9/45\n",
      "70/70 [==============================] - 35s 496ms/step - loss: 1.9208 - accuracy: 0.2566 - val_loss: 1.8653 - val_accuracy: 0.2989\n",
      "Epoch 10/45\n",
      "70/70 [==============================] - 35s 494ms/step - loss: 1.9190 - accuracy: 0.2532 - val_loss: 1.8564 - val_accuracy: 0.2908\n",
      "Epoch 11/45\n",
      "70/70 [==============================] - 34s 491ms/step - loss: 1.9223 - accuracy: 0.2550 - val_loss: 1.8778 - val_accuracy: 0.2717\n",
      "Epoch 12/45\n",
      "70/70 [==============================] - 34s 493ms/step - loss: 1.8937 - accuracy: 0.2644 - val_loss: 1.8468 - val_accuracy: 0.2935\n",
      "Epoch 13/45\n",
      "70/70 [==============================] - 35s 493ms/step - loss: 1.8928 - accuracy: 0.2511 - val_loss: 1.8123 - val_accuracy: 0.3084\n",
      "Epoch 14/45\n",
      "70/70 [==============================] - 34s 486ms/step - loss: 1.8534 - accuracy: 0.2767 - val_loss: 1.8148 - val_accuracy: 0.3043\n",
      "Epoch 15/45\n",
      "70/70 [==============================] - 34s 486ms/step - loss: 1.8527 - accuracy: 0.2863 - val_loss: 1.8419 - val_accuracy: 0.2880\n",
      "Epoch 16/45\n",
      "70/70 [==============================] - 34s 485ms/step - loss: 1.8811 - accuracy: 0.2607 - val_loss: 1.8334 - val_accuracy: 0.2812\n",
      "Epoch 17/45\n",
      "70/70 [==============================] - 34s 484ms/step - loss: 1.8332 - accuracy: 0.2970 - val_loss: 1.8147 - val_accuracy: 0.2799\n",
      "Epoch 18/45\n",
      "70/70 [==============================] - 34s 493ms/step - loss: 1.8535 - accuracy: 0.2783 - val_loss: 1.7801 - val_accuracy: 0.3261\n",
      "Epoch 19/45\n",
      "70/70 [==============================] - 34s 486ms/step - loss: 1.8419 - accuracy: 0.2949 - val_loss: 1.7907 - val_accuracy: 0.3247\n",
      "Epoch 20/45\n",
      "70/70 [==============================] - 34s 491ms/step - loss: 1.8322 - accuracy: 0.3045 - val_loss: 1.7455 - val_accuracy: 0.3329\n",
      "Epoch 21/45\n",
      "70/70 [==============================] - 34s 490ms/step - loss: 1.8382 - accuracy: 0.2778 - val_loss: 1.7936 - val_accuracy: 0.3397\n",
      "Epoch 22/45\n",
      "70/70 [==============================] - 34s 489ms/step - loss: 1.8354 - accuracy: 0.2810 - val_loss: 1.7833 - val_accuracy: 0.2840\n",
      "Epoch 23/45\n",
      "70/70 [==============================] - 34s 485ms/step - loss: 1.8206 - accuracy: 0.2911 - val_loss: 1.7818 - val_accuracy: 0.3234\n",
      "Epoch 24/45\n",
      "70/70 [==============================] - 35s 493ms/step - loss: 1.7926 - accuracy: 0.3146 - val_loss: 1.7395 - val_accuracy: 0.3397\n",
      "Epoch 25/45\n",
      "70/70 [==============================] - 34s 486ms/step - loss: 1.8021 - accuracy: 0.3045 - val_loss: 1.7446 - val_accuracy: 0.3560\n",
      "Epoch 26/45\n",
      "70/70 [==============================] - 34s 485ms/step - loss: 1.8031 - accuracy: 0.2965 - val_loss: 1.8376 - val_accuracy: 0.2704\n",
      "Epoch 27/45\n",
      "70/70 [==============================] - 34s 486ms/step - loss: 1.8042 - accuracy: 0.3130 - val_loss: 1.8033 - val_accuracy: 0.2745\n",
      "Epoch 28/45\n",
      "70/70 [==============================] - 34s 490ms/step - loss: 1.8128 - accuracy: 0.3050 - val_loss: 1.7512 - val_accuracy: 0.3247\n",
      "Epoch 29/45\n",
      "70/70 [==============================] - 34s 486ms/step - loss: 1.8046 - accuracy: 0.3120 - val_loss: 1.7402 - val_accuracy: 0.3247\n",
      "Epoch 30/45\n",
      "70/70 [==============================] - 35s 494ms/step - loss: 1.7833 - accuracy: 0.2965 - val_loss: 1.7211 - val_accuracy: 0.3614\n",
      "Epoch 31/45\n",
      "70/70 [==============================] - 34s 485ms/step - loss: 1.8001 - accuracy: 0.3077 - val_loss: 1.7779 - val_accuracy: 0.3207\n",
      "Epoch 32/45\n",
      "70/70 [==============================] - 34s 485ms/step - loss: 1.7823 - accuracy: 0.3248 - val_loss: 1.7780 - val_accuracy: 0.3220\n",
      "Epoch 33/45\n",
      "70/70 [==============================] - 34s 493ms/step - loss: 1.7822 - accuracy: 0.3173 - val_loss: 1.7046 - val_accuracy: 0.3587\n",
      "Epoch 34/45\n",
      "70/70 [==============================] - 34s 492ms/step - loss: 1.7616 - accuracy: 0.3205 - val_loss: 1.6873 - val_accuracy: 0.3601\n",
      "Epoch 35/45\n",
      "70/70 [==============================] - 34s 488ms/step - loss: 1.7634 - accuracy: 0.3275 - val_loss: 1.6917 - val_accuracy: 0.3995\n",
      "Epoch 36/45\n",
      "70/70 [==============================] - 34s 485ms/step - loss: 1.7549 - accuracy: 0.3307 - val_loss: 1.6900 - val_accuracy: 0.3736\n",
      "Epoch 37/45\n",
      "70/70 [==============================] - 34s 488ms/step - loss: 1.7689 - accuracy: 0.3148 - val_loss: 1.7085 - val_accuracy: 0.3696\n",
      "Epoch 38/45\n",
      "70/70 [==============================] - 34s 486ms/step - loss: 1.7768 - accuracy: 0.3291 - val_loss: 1.7213 - val_accuracy: 0.3573\n",
      "Epoch 39/45\n",
      "70/70 [==============================] - 34s 485ms/step - loss: 1.7533 - accuracy: 0.3360 - val_loss: 1.7067 - val_accuracy: 0.3804\n",
      "Epoch 40/45\n",
      "70/70 [==============================] - 34s 485ms/step - loss: 1.7671 - accuracy: 0.3323 - val_loss: 1.7152 - val_accuracy: 0.3641\n",
      "Epoch 41/45\n",
      "70/70 [==============================] - 34s 485ms/step - loss: 1.7710 - accuracy: 0.3093 - val_loss: 1.6901 - val_accuracy: 0.3179\n",
      "Epoch 42/45\n",
      "70/70 [==============================] - 35s 493ms/step - loss: 1.7747 - accuracy: 0.3175 - val_loss: 1.6848 - val_accuracy: 0.3804\n",
      "Epoch 43/45\n",
      "70/70 [==============================] - 34s 486ms/step - loss: 1.7662 - accuracy: 0.3184 - val_loss: 1.7121 - val_accuracy: 0.3410\n",
      "Epoch 44/45\n",
      "70/70 [==============================] - 34s 485ms/step - loss: 1.7591 - accuracy: 0.3371 - val_loss: 1.7209 - val_accuracy: 0.3451\n",
      "Epoch 45/45\n",
      "70/70 [==============================] - 34s 492ms/step - loss: 1.7407 - accuracy: 0.3419 - val_loss: 1.6652 - val_accuracy: 0.3709\n"
     ]
    },
    {
     "data": {
      "text/html": [
       "<br/>Waiting for W&B process to finish, PID 173761<br/>Program ended successfully."
      ],
      "text/plain": [
       "<IPython.core.display.HTML object>"
      ]
     },
     "metadata": {},
     "output_type": "display_data"
    },
    {
     "data": {
      "text/html": [
       "Find user logs for this run at: <code>/home/charlie/Documents/courses/miniproject/notebooks/wandb/run-20210330_055652-l9q79y0r/logs/debug.log</code>"
      ],
      "text/plain": [
       "<IPython.core.display.HTML object>"
      ]
     },
     "metadata": {},
     "output_type": "display_data"
    },
    {
     "data": {
      "text/html": [
       "Find internal logs for this run at: <code>/home/charlie/Documents/courses/miniproject/notebooks/wandb/run-20210330_055652-l9q79y0r/logs/debug-internal.log</code>"
      ],
      "text/plain": [
       "<IPython.core.display.HTML object>"
      ]
     },
     "metadata": {},
     "output_type": "display_data"
    },
    {
     "data": {
      "text/html": [
       "<h3>Run summary:</h3><br/><style>\n",
       "    table.wandb td:nth-child(1) { padding: 0 10px; text-align: right }\n",
       "    </style><table class=\"wandb\">\n",
       "<tr><td>epoch</td><td>44</td></tr><tr><td>loss</td><td>1.74071</td></tr><tr><td>accuracy</td><td>0.34188</td></tr><tr><td>val_loss</td><td>1.66521</td></tr><tr><td>val_accuracy</td><td>0.37092</td></tr><tr><td>_runtime</td><td>1589</td></tr><tr><td>_timestamp</td><td>1617081801</td></tr><tr><td>_step</td><td>44</td></tr><tr><td>best_val_loss</td><td>1.66521</td></tr><tr><td>best_epoch</td><td>44</td></tr></table>"
      ],
      "text/plain": [
       "<IPython.core.display.HTML object>"
      ]
     },
     "metadata": {},
     "output_type": "display_data"
    },
    {
     "data": {
      "text/html": [
       "<h3>Run history:</h3><br/><style>\n",
       "    table.wandb td:nth-child(1) { padding: 0 10px; text-align: right }\n",
       "    </style><table class=\"wandb\">\n",
       "<tr><td>epoch</td><td>▁▁▁▁▂▂▂▂▂▃▃▃▃▃▃▄▄▄▄▄▅▅▅▅▅▅▆▆▆▆▆▆▇▇▇▇▇███</td></tr><tr><td>loss</td><td>█▅▅▅▄▄▄▄▄▄▃▃▃▃▃▂▂▂▂▂▂▂▂▂▂▂▂▂▂▂▁▁▁▂▁▁▁▁▁▁</td></tr><tr><td>accuracy</td><td>▁▃▃▃▄▄▄▄▅▅▅▅▆▆▅▆▆▇▆▆▆▇▇▆▇▇▆▇▇▇▇▇▇███▇▇▇█</td></tr><tr><td>val_loss</td><td>█▇▇▇▆▆▆▆▅▅▅▄▄▄▄▄▃▃▄▃▃▂▃▄▃▂▂▃▃▂▁▂▂▂▂▂▁▁▂▁</td></tr><tr><td>val_accuracy</td><td>▁▄▄▄▄▄▄▃▅▄▅▅▅▅▅▅▆▆▆▅▆▆▇▄▆▆▇▆▆▇▇█▇▇▇▇▆▇▆▇</td></tr><tr><td>_runtime</td><td>▁▁▁▁▂▂▂▂▂▃▃▃▃▃▃▄▄▄▄▄▅▅▅▅▅▅▆▆▆▆▆▆▇▇▇▇▇███</td></tr><tr><td>_timestamp</td><td>▁▁▁▁▂▂▂▂▂▃▃▃▃▃▃▄▄▄▄▄▅▅▅▅▅▅▆▆▆▆▆▆▇▇▇▇▇███</td></tr><tr><td>_step</td><td>▁▁▁▁▂▂▂▂▂▃▃▃▃▃▃▄▄▄▄▄▅▅▅▅▅▅▆▆▆▆▆▆▇▇▇▇▇███</td></tr></table><br/>"
      ],
      "text/plain": [
       "<IPython.core.display.HTML object>"
      ]
     },
     "metadata": {},
     "output_type": "display_data"
    },
    {
     "data": {
      "text/html": [
       "Synced 5 W&B file(s), 1 media file(s), 0 artifact file(s) and 1 other file(s)"
      ],
      "text/plain": [
       "<IPython.core.display.HTML object>"
      ]
     },
     "metadata": {},
     "output_type": "display_data"
    },
    {
     "data": {
      "text/html": [
       "\n",
       "                    <br/>Synced <strong style=\"color:#cdcd00\">spring-sweep-66</strong>: <a href=\"https://wandb.ai/charlieisalright/sentiment/runs/l9q79y0r\" target=\"_blank\">https://wandb.ai/charlieisalright/sentiment/runs/l9q79y0r</a><br/>\n",
       "                "
      ],
      "text/plain": [
       "<IPython.core.display.HTML object>"
      ]
     },
     "metadata": {},
     "output_type": "display_data"
    },
    {
     "name": "stderr",
     "output_type": "stream",
     "text": [
      "\u001b[34m\u001b[1mwandb\u001b[0m: Agent Starting Run: ymyhzdaw with config:\n",
      "\u001b[34m\u001b[1mwandb\u001b[0m: \tbatch_size: 28\n",
      "\u001b[34m\u001b[1mwandb\u001b[0m: \tepochs: 43\n",
      "\u001b[34m\u001b[1mwandb\u001b[0m: \tlearning_rate: 0.0012517220646382483\n",
      "Failed to detect the name of this notebook, you can set it manually with the WANDB_NOTEBOOK_NAME environment variable to enable code saving.\n",
      "\u001b[34m\u001b[1mwandb\u001b[0m: \u001b[33mWARNING\u001b[0m Ignored wandb.init() arg project when running a sweep\n",
      "\u001b[34m\u001b[1mwandb\u001b[0m: \u001b[33mWARNING\u001b[0m Ignored wandb.init() arg entity when running a sweep\n"
     ]
    },
    {
     "data": {
      "text/html": [
       "\n",
       "                Tracking run with wandb version 0.10.23<br/>\n",
       "                Syncing run <strong style=\"color:#cdcd00\">restful-sweep-67</strong> to <a href=\"https://wandb.ai\" target=\"_blank\">Weights & Biases</a> <a href=\"https://docs.wandb.com/integrations/jupyter.html\" target=\"_blank\">(Documentation)</a>.<br/>\n",
       "                Project page: <a href=\"https://wandb.ai/charlieisalright/sentiment\" target=\"_blank\">https://wandb.ai/charlieisalright/sentiment</a><br/>\n",
       "                Sweep page: <a href=\"https://wandb.ai/charlieisalright/sentiment/sweeps/fnf3wbru\" target=\"_blank\">https://wandb.ai/charlieisalright/sentiment/sweeps/fnf3wbru</a><br/>\n",
       "Run page: <a href=\"https://wandb.ai/charlieisalright/sentiment/runs/ymyhzdaw\" target=\"_blank\">https://wandb.ai/charlieisalright/sentiment/runs/ymyhzdaw</a><br/>\n",
       "                Run data is saved locally in <code>/home/charlie/Documents/courses/miniproject/notebooks/wandb/run-20210330_062352-ymyhzdaw</code><br/><br/>\n",
       "            "
      ],
      "text/plain": [
       "<IPython.core.display.HTML object>"
      ]
     },
     "metadata": {},
     "output_type": "display_data"
    },
    {
     "name": "stdout",
     "output_type": "stream",
     "text": [
      "Epoch 1/43\n",
      "70/70 [==============================] - 36s 516ms/step - loss: 2.2922 - accuracy: 0.1586 - val_loss: 2.0063 - val_accuracy: 0.1902\n",
      "Epoch 2/43\n",
      "70/70 [==============================] - 36s 507ms/step - loss: 2.0433 - accuracy: 0.1910 - val_loss: 1.9626 - val_accuracy: 0.2242\n",
      "Epoch 3/43\n",
      "70/70 [==============================] - 36s 510ms/step - loss: 2.0013 - accuracy: 0.2041 - val_loss: 1.9478 - val_accuracy: 0.2880\n",
      "Epoch 4/43\n",
      "70/70 [==============================] - 35s 503ms/step - loss: 1.9801 - accuracy: 0.2178 - val_loss: 1.9791 - val_accuracy: 0.2052\n",
      "Epoch 5/43\n",
      "70/70 [==============================] - 36s 510ms/step - loss: 1.9460 - accuracy: 0.2420 - val_loss: 1.9112 - val_accuracy: 0.2554\n",
      "Epoch 6/43\n",
      "70/70 [==============================] - 36s 508ms/step - loss: 1.9409 - accuracy: 0.2374 - val_loss: 1.9016 - val_accuracy: 0.3274\n",
      "Epoch 7/43\n",
      "70/70 [==============================] - 35s 505ms/step - loss: 1.9148 - accuracy: 0.2580 - val_loss: 1.8749 - val_accuracy: 0.2799\n",
      "Epoch 8/43\n",
      "70/70 [==============================] - 36s 508ms/step - loss: 1.9049 - accuracy: 0.2703 - val_loss: 1.8538 - val_accuracy: 0.2772\n",
      "Epoch 9/43\n",
      "70/70 [==============================] - 35s 500ms/step - loss: 1.8959 - accuracy: 0.2750 - val_loss: 1.8841 - val_accuracy: 0.2649\n",
      "Epoch 10/43\n",
      "70/70 [==============================] - 36s 510ms/step - loss: 1.8870 - accuracy: 0.2781 - val_loss: 1.8465 - val_accuracy: 0.2976\n",
      "Epoch 11/43\n",
      "70/70 [==============================] - 36s 508ms/step - loss: 1.8651 - accuracy: 0.2909 - val_loss: 1.8425 - val_accuracy: 0.2636\n",
      "Epoch 12/43\n",
      "70/70 [==============================] - 36s 507ms/step - loss: 1.8641 - accuracy: 0.2930 - val_loss: 1.8086 - val_accuracy: 0.3315\n",
      "Epoch 13/43\n",
      "70/70 [==============================] - 35s 506ms/step - loss: 1.8431 - accuracy: 0.2848 - val_loss: 1.8071 - val_accuracy: 0.3234\n",
      "Epoch 14/43\n",
      "70/70 [==============================] - 35s 500ms/step - loss: 1.8299 - accuracy: 0.2853 - val_loss: 1.8143 - val_accuracy: 0.3016\n",
      "Epoch 15/43\n",
      "70/70 [==============================] - 35s 503ms/step - loss: 1.8282 - accuracy: 0.2990 - val_loss: 1.8544 - val_accuracy: 0.2812\n",
      "Epoch 16/43\n",
      "70/70 [==============================] - 36s 508ms/step - loss: 1.8407 - accuracy: 0.2966 - val_loss: 1.7864 - val_accuracy: 0.3356\n",
      "Epoch 17/43\n",
      "70/70 [==============================] - 36s 512ms/step - loss: 1.8029 - accuracy: 0.3148 - val_loss: 1.7680 - val_accuracy: 0.3519\n",
      "Epoch 18/43\n",
      "70/70 [==============================] - 35s 503ms/step - loss: 1.7814 - accuracy: 0.3148 - val_loss: 1.8110 - val_accuracy: 0.3234\n",
      "Epoch 19/43\n",
      "70/70 [==============================] - 35s 507ms/step - loss: 1.7999 - accuracy: 0.3069 - val_loss: 1.7672 - val_accuracy: 0.3791\n",
      "Epoch 20/43\n",
      "70/70 [==============================] - 35s 507ms/step - loss: 1.7964 - accuracy: 0.3136 - val_loss: 1.7450 - val_accuracy: 0.3736\n",
      "Epoch 21/43\n",
      "70/70 [==============================] - 36s 508ms/step - loss: 1.7771 - accuracy: 0.3162 - val_loss: 1.7147 - val_accuracy: 0.3546\n",
      "Epoch 22/43\n",
      "70/70 [==============================] - 35s 501ms/step - loss: 1.7632 - accuracy: 0.3254 - val_loss: 1.8420 - val_accuracy: 0.2690\n",
      "Epoch 23/43\n",
      "70/70 [==============================] - 35s 500ms/step - loss: 1.7845 - accuracy: 0.3043 - val_loss: 1.7178 - val_accuracy: 0.3505\n",
      "Epoch 24/43\n",
      "70/70 [==============================] - 35s 507ms/step - loss: 1.7580 - accuracy: 0.3368 - val_loss: 1.7073 - val_accuracy: 0.3655\n",
      "Epoch 25/43\n",
      "70/70 [==============================] - 35s 503ms/step - loss: 1.7614 - accuracy: 0.3321 - val_loss: 1.7311 - val_accuracy: 0.3560\n",
      "Epoch 26/43\n",
      "70/70 [==============================] - 35s 500ms/step - loss: 1.7629 - accuracy: 0.3218 - val_loss: 1.7281 - val_accuracy: 0.3655\n",
      "Epoch 27/43\n",
      "70/70 [==============================] - 36s 508ms/step - loss: 1.7444 - accuracy: 0.3357 - val_loss: 1.6838 - val_accuracy: 0.3736\n",
      "Epoch 28/43\n",
      "70/70 [==============================] - 35s 501ms/step - loss: 1.7376 - accuracy: 0.3326 - val_loss: 1.7148 - val_accuracy: 0.3573\n",
      "Epoch 29/43\n",
      "70/70 [==============================] - 35s 507ms/step - loss: 1.7171 - accuracy: 0.3486 - val_loss: 1.6824 - val_accuracy: 0.3859\n",
      "Epoch 30/43\n",
      "70/70 [==============================] - 35s 500ms/step - loss: 1.7376 - accuracy: 0.3414 - val_loss: 1.6928 - val_accuracy: 0.3641\n",
      "Epoch 31/43\n",
      "70/70 [==============================] - 36s 512ms/step - loss: 1.7196 - accuracy: 0.3551 - val_loss: 1.6693 - val_accuracy: 0.3723\n",
      "Epoch 32/43\n",
      "70/70 [==============================] - 35s 507ms/step - loss: 1.7220 - accuracy: 0.3517 - val_loss: 1.6680 - val_accuracy: 0.3818\n",
      "Epoch 33/43\n",
      "70/70 [==============================] - 35s 499ms/step - loss: 1.6918 - accuracy: 0.3671 - val_loss: 1.6758 - val_accuracy: 0.3859\n",
      "Epoch 34/43\n",
      "70/70 [==============================] - 36s 510ms/step - loss: 1.7033 - accuracy: 0.3536 - val_loss: 1.6606 - val_accuracy: 0.3927\n",
      "Epoch 35/43\n",
      "70/70 [==============================] - 35s 501ms/step - loss: 1.7329 - accuracy: 0.3486 - val_loss: 1.6906 - val_accuracy: 0.3818\n",
      "Epoch 36/43\n",
      "70/70 [==============================] - 35s 499ms/step - loss: 1.6924 - accuracy: 0.3733 - val_loss: 1.6765 - val_accuracy: 0.3940\n",
      "Epoch 37/43\n",
      "70/70 [==============================] - 35s 499ms/step - loss: 1.6912 - accuracy: 0.3563 - val_loss: 1.6903 - val_accuracy: 0.3655\n",
      "Epoch 38/43\n",
      "70/70 [==============================] - 35s 499ms/step - loss: 1.6798 - accuracy: 0.3574 - val_loss: 1.6640 - val_accuracy: 0.3804\n",
      "Epoch 39/43\n",
      "70/70 [==============================] - 35s 499ms/step - loss: 1.6783 - accuracy: 0.3666 - val_loss: 1.7548 - val_accuracy: 0.3261\n",
      "Epoch 40/43\n",
      "70/70 [==============================] - 36s 510ms/step - loss: 1.6982 - accuracy: 0.3622 - val_loss: 1.6341 - val_accuracy: 0.4035\n",
      "Epoch 41/43\n",
      "70/70 [==============================] - 35s 500ms/step - loss: 1.6948 - accuracy: 0.3666 - val_loss: 1.7070 - val_accuracy: 0.3492\n",
      "Epoch 42/43\n",
      "70/70 [==============================] - 35s 500ms/step - loss: 1.7042 - accuracy: 0.3393 - val_loss: 1.6765 - val_accuracy: 0.3682\n",
      "Epoch 43/43\n",
      "70/70 [==============================] - 35s 503ms/step - loss: 1.6949 - accuracy: 0.3561 - val_loss: 1.6360 - val_accuracy: 0.4090\n"
     ]
    },
    {
     "data": {
      "text/html": [
       "<br/>Waiting for W&B process to finish, PID 174127<br/>Program ended successfully."
      ],
      "text/plain": [
       "<IPython.core.display.HTML object>"
      ]
     },
     "metadata": {},
     "output_type": "display_data"
    },
    {
     "data": {
      "text/html": [
       "Find user logs for this run at: <code>/home/charlie/Documents/courses/miniproject/notebooks/wandb/run-20210330_062352-ymyhzdaw/logs/debug.log</code>"
      ],
      "text/plain": [
       "<IPython.core.display.HTML object>"
      ]
     },
     "metadata": {},
     "output_type": "display_data"
    },
    {
     "data": {
      "text/html": [
       "Find internal logs for this run at: <code>/home/charlie/Documents/courses/miniproject/notebooks/wandb/run-20210330_062352-ymyhzdaw/logs/debug-internal.log</code>"
      ],
      "text/plain": [
       "<IPython.core.display.HTML object>"
      ]
     },
     "metadata": {},
     "output_type": "display_data"
    },
    {
     "data": {
      "text/html": [
       "<h3>Run summary:</h3><br/><style>\n",
       "    table.wandb td:nth-child(1) { padding: 0 10px; text-align: right }\n",
       "    </style><table class=\"wandb\">\n",
       "<tr><td>epoch</td><td>42</td></tr><tr><td>loss</td><td>1.69485</td></tr><tr><td>accuracy</td><td>0.35612</td></tr><tr><td>val_loss</td><td>1.63605</td></tr><tr><td>val_accuracy</td><td>0.40897</td></tr><tr><td>_runtime</td><td>1559</td></tr><tr><td>_timestamp</td><td>1617083391</td></tr><tr><td>_step</td><td>42</td></tr><tr><td>best_val_loss</td><td>1.6341</td></tr><tr><td>best_epoch</td><td>39</td></tr></table>"
      ],
      "text/plain": [
       "<IPython.core.display.HTML object>"
      ]
     },
     "metadata": {},
     "output_type": "display_data"
    },
    {
     "data": {
      "text/html": [
       "<h3>Run history:</h3><br/><style>\n",
       "    table.wandb td:nth-child(1) { padding: 0 10px; text-align: right }\n",
       "    </style><table class=\"wandb\">\n",
       "<tr><td>epoch</td><td>▁▁▁▁▂▂▂▂▂▃▃▃▃▃▃▄▄▄▄▄▅▅▅▅▅▅▆▆▆▆▆▇▇▇▇▇▇▇██</td></tr><tr><td>loss</td><td>█▅▅▄▄▄▄▄▃▃▃▃▃▃▃▂▂▂▂▂▂▂▂▂▂▂▁▂▁▁▁▁▂▁▁▁▁▁▁▁</td></tr><tr><td>accuracy</td><td>▁▂▂▃▄▄▄▅▅▅▅▅▅▆▅▆▆▆▆▆▆▆▇▇▆▇▇▇▇▇█▇▇█▇▇███▇</td></tr><tr><td>val_loss</td><td>█▇▇▇▆▆▆▅▆▅▅▄▄▅▄▄▄▄▃▃▅▃▂▃▃▂▂▂▂▂▂▁▂▂▂▂▃▁▂▁</td></tr><tr><td>val_accuracy</td><td>▁▂▄▁▃▅▄▄▃▄▃▆▅▄▆▆▅▇▇▆▄▆▇▆▇▇▇▇▇▇▇▇▇█▇▇▅█▆█</td></tr><tr><td>_runtime</td><td>▁▁▁▂▂▂▂▂▂▃▃▃▃▃▄▄▄▄▄▄▅▅▅▅▅▅▆▆▆▆▆▇▇▇▇▇▇███</td></tr><tr><td>_timestamp</td><td>▁▁▁▂▂▂▂▂▂▃▃▃▃▃▄▄▄▄▄▄▅▅▅▅▅▅▆▆▆▆▆▇▇▇▇▇▇███</td></tr><tr><td>_step</td><td>▁▁▁▁▂▂▂▂▂▃▃▃▃▃▃▄▄▄▄▄▅▅▅▅▅▅▆▆▆▆▆▇▇▇▇▇▇▇██</td></tr></table><br/>"
      ],
      "text/plain": [
       "<IPython.core.display.HTML object>"
      ]
     },
     "metadata": {},
     "output_type": "display_data"
    },
    {
     "data": {
      "text/html": [
       "Synced 5 W&B file(s), 1 media file(s), 0 artifact file(s) and 1 other file(s)"
      ],
      "text/plain": [
       "<IPython.core.display.HTML object>"
      ]
     },
     "metadata": {},
     "output_type": "display_data"
    },
    {
     "data": {
      "text/html": [
       "\n",
       "                    <br/>Synced <strong style=\"color:#cdcd00\">restful-sweep-67</strong>: <a href=\"https://wandb.ai/charlieisalright/sentiment/runs/ymyhzdaw\" target=\"_blank\">https://wandb.ai/charlieisalright/sentiment/runs/ymyhzdaw</a><br/>\n",
       "                "
      ],
      "text/plain": [
       "<IPython.core.display.HTML object>"
      ]
     },
     "metadata": {},
     "output_type": "display_data"
    },
    {
     "name": "stderr",
     "output_type": "stream",
     "text": [
      "\u001b[34m\u001b[1mwandb\u001b[0m: Agent Starting Run: scxvsfzl with config:\n",
      "\u001b[34m\u001b[1mwandb\u001b[0m: \tbatch_size: 33\n",
      "\u001b[34m\u001b[1mwandb\u001b[0m: \tepochs: 41\n",
      "\u001b[34m\u001b[1mwandb\u001b[0m: \tlearning_rate: 0.0019044215155841094\n",
      "Failed to detect the name of this notebook, you can set it manually with the WANDB_NOTEBOOK_NAME environment variable to enable code saving.\n",
      "\u001b[34m\u001b[1mwandb\u001b[0m: \u001b[33mWARNING\u001b[0m Ignored wandb.init() arg project when running a sweep\n",
      "\u001b[34m\u001b[1mwandb\u001b[0m: \u001b[33mWARNING\u001b[0m Ignored wandb.init() arg entity when running a sweep\n"
     ]
    },
    {
     "data": {
      "text/html": [
       "\n",
       "                Tracking run with wandb version 0.10.23<br/>\n",
       "                Syncing run <strong style=\"color:#cdcd00\">elated-sweep-68</strong> to <a href=\"https://wandb.ai\" target=\"_blank\">Weights & Biases</a> <a href=\"https://docs.wandb.com/integrations/jupyter.html\" target=\"_blank\">(Documentation)</a>.<br/>\n",
       "                Project page: <a href=\"https://wandb.ai/charlieisalright/sentiment\" target=\"_blank\">https://wandb.ai/charlieisalright/sentiment</a><br/>\n",
       "                Sweep page: <a href=\"https://wandb.ai/charlieisalright/sentiment/sweeps/fnf3wbru\" target=\"_blank\">https://wandb.ai/charlieisalright/sentiment/sweeps/fnf3wbru</a><br/>\n",
       "Run page: <a href=\"https://wandb.ai/charlieisalright/sentiment/runs/scxvsfzl\" target=\"_blank\">https://wandb.ai/charlieisalright/sentiment/runs/scxvsfzl</a><br/>\n",
       "                Run data is saved locally in <code>/home/charlie/Documents/courses/miniproject/notebooks/wandb/run-20210330_064957-scxvsfzl</code><br/><br/>\n",
       "            "
      ],
      "text/plain": [
       "<IPython.core.display.HTML object>"
      ]
     },
     "metadata": {},
     "output_type": "display_data"
    },
    {
     "name": "stdout",
     "output_type": "stream",
     "text": [
      "Epoch 1/41\n",
      "69/70 [============================>.] - ETA: 0s - loss: 2.2893 - accuracy: 0.1591WARNING:tensorflow:Your input ran out of data; interrupting training. Make sure that your dataset or generator can generate at least `steps_per_epoch * epochs` batches (in this case, 2870 batches). You may need to use the repeat() function when building your dataset.\n",
      "69/70 [============================>.] - 52s 758ms/step - loss: 2.2893 - accuracy: 0.1591 - val_loss: 2.0090 - val_accuracy: 0.1875\n"
     ]
    },
    {
     "data": {
      "text/html": [
       "<br/>Waiting for W&B process to finish, PID 174799<br/>Program ended successfully."
      ],
      "text/plain": [
       "<IPython.core.display.HTML object>"
      ]
     },
     "metadata": {},
     "output_type": "display_data"
    },
    {
     "data": {
      "text/html": [
       "Find user logs for this run at: <code>/home/charlie/Documents/courses/miniproject/notebooks/wandb/run-20210330_064957-scxvsfzl/logs/debug.log</code>"
      ],
      "text/plain": [
       "<IPython.core.display.HTML object>"
      ]
     },
     "metadata": {},
     "output_type": "display_data"
    },
    {
     "data": {
      "text/html": [
       "Find internal logs for this run at: <code>/home/charlie/Documents/courses/miniproject/notebooks/wandb/run-20210330_064957-scxvsfzl/logs/debug-internal.log</code>"
      ],
      "text/plain": [
       "<IPython.core.display.HTML object>"
      ]
     },
     "metadata": {},
     "output_type": "display_data"
    },
    {
     "data": {
      "text/html": [
       "<h3>Run summary:</h3><br/><style>\n",
       "    table.wandb td:nth-child(1) { padding: 0 10px; text-align: right }\n",
       "    </style><table class=\"wandb\">\n",
       "<tr><td>epoch</td><td>0</td></tr><tr><td>loss</td><td>2.28927</td></tr><tr><td>accuracy</td><td>0.15911</td></tr><tr><td>val_loss</td><td>2.00903</td></tr><tr><td>val_accuracy</td><td>0.1875</td></tr><tr><td>_runtime</td><td>72</td></tr><tr><td>_timestamp</td><td>1617083469</td></tr><tr><td>_step</td><td>0</td></tr><tr><td>best_val_loss</td><td>2.00903</td></tr><tr><td>best_epoch</td><td>0</td></tr></table>"
      ],
      "text/plain": [
       "<IPython.core.display.HTML object>"
      ]
     },
     "metadata": {},
     "output_type": "display_data"
    },
    {
     "data": {
      "text/html": [
       "<h3>Run history:</h3><br/><style>\n",
       "    table.wandb td:nth-child(1) { padding: 0 10px; text-align: right }\n",
       "    </style><table class=\"wandb\">\n",
       "<tr><td>epoch</td><td>▁</td></tr><tr><td>loss</td><td>▁</td></tr><tr><td>accuracy</td><td>▁</td></tr><tr><td>val_loss</td><td>▁</td></tr><tr><td>val_accuracy</td><td>▁</td></tr><tr><td>_runtime</td><td>▁</td></tr><tr><td>_timestamp</td><td>▁</td></tr><tr><td>_step</td><td>▁</td></tr></table><br/>"
      ],
      "text/plain": [
       "<IPython.core.display.HTML object>"
      ]
     },
     "metadata": {},
     "output_type": "display_data"
    },
    {
     "data": {
      "text/html": [
       "Synced 5 W&B file(s), 1 media file(s), 0 artifact file(s) and 1 other file(s)"
      ],
      "text/plain": [
       "<IPython.core.display.HTML object>"
      ]
     },
     "metadata": {},
     "output_type": "display_data"
    },
    {
     "data": {
      "text/html": [
       "\n",
       "                    <br/>Synced <strong style=\"color:#cdcd00\">elated-sweep-68</strong>: <a href=\"https://wandb.ai/charlieisalright/sentiment/runs/scxvsfzl\" target=\"_blank\">https://wandb.ai/charlieisalright/sentiment/runs/scxvsfzl</a><br/>\n",
       "                "
      ],
      "text/plain": [
       "<IPython.core.display.HTML object>"
      ]
     },
     "metadata": {},
     "output_type": "display_data"
    },
    {
     "name": "stderr",
     "output_type": "stream",
     "text": [
      "\u001b[34m\u001b[1mwandb\u001b[0m: Agent Starting Run: 7u55uw8r with config:\n",
      "\u001b[34m\u001b[1mwandb\u001b[0m: \tbatch_size: 29\n",
      "\u001b[34m\u001b[1mwandb\u001b[0m: \tepochs: 41\n",
      "\u001b[34m\u001b[1mwandb\u001b[0m: \tlearning_rate: 0.0005388652103564516\n",
      "Failed to detect the name of this notebook, you can set it manually with the WANDB_NOTEBOOK_NAME environment variable to enable code saving.\n",
      "\u001b[34m\u001b[1mwandb\u001b[0m: \u001b[33mWARNING\u001b[0m Ignored wandb.init() arg project when running a sweep\n",
      "\u001b[34m\u001b[1mwandb\u001b[0m: \u001b[33mWARNING\u001b[0m Ignored wandb.init() arg entity when running a sweep\n"
     ]
    },
    {
     "data": {
      "text/html": [
       "\n",
       "                Tracking run with wandb version 0.10.23<br/>\n",
       "                Syncing run <strong style=\"color:#cdcd00\">classic-sweep-69</strong> to <a href=\"https://wandb.ai\" target=\"_blank\">Weights & Biases</a> <a href=\"https://docs.wandb.com/integrations/jupyter.html\" target=\"_blank\">(Documentation)</a>.<br/>\n",
       "                Project page: <a href=\"https://wandb.ai/charlieisalright/sentiment\" target=\"_blank\">https://wandb.ai/charlieisalright/sentiment</a><br/>\n",
       "                Sweep page: <a href=\"https://wandb.ai/charlieisalright/sentiment/sweeps/fnf3wbru\" target=\"_blank\">https://wandb.ai/charlieisalright/sentiment/sweeps/fnf3wbru</a><br/>\n",
       "Run page: <a href=\"https://wandb.ai/charlieisalright/sentiment/runs/7u55uw8r\" target=\"_blank\">https://wandb.ai/charlieisalright/sentiment/runs/7u55uw8r</a><br/>\n",
       "                Run data is saved locally in <code>/home/charlie/Documents/courses/miniproject/notebooks/wandb/run-20210330_065140-7u55uw8r</code><br/><br/>\n",
       "            "
      ],
      "text/plain": [
       "<IPython.core.display.HTML object>"
      ]
     },
     "metadata": {},
     "output_type": "display_data"
    },
    {
     "name": "stdout",
     "output_type": "stream",
     "text": [
      "Epoch 1/41\n",
      "70/70 [==============================] - 37s 531ms/step - loss: 2.3619 - accuracy: 0.1536 - val_loss: 1.9866 - val_accuracy: 0.2323\n",
      "Epoch 2/41\n",
      "70/70 [==============================] - 37s 528ms/step - loss: 2.0477 - accuracy: 0.1961 - val_loss: 1.9853 - val_accuracy: 0.2391\n",
      "Epoch 3/41\n",
      "70/70 [==============================] - 37s 523ms/step - loss: 1.9884 - accuracy: 0.2161 - val_loss: 1.9534 - val_accuracy: 0.2745\n",
      "Epoch 4/41\n",
      "70/70 [==============================] - 37s 523ms/step - loss: 1.9820 - accuracy: 0.2195 - val_loss: 1.9200 - val_accuracy: 0.2785\n",
      "Epoch 5/41\n",
      "70/70 [==============================] - 37s 524ms/step - loss: 1.9853 - accuracy: 0.2146 - val_loss: 1.9164 - val_accuracy: 0.2568\n",
      "Epoch 6/41\n",
      "70/70 [==============================] - 37s 523ms/step - loss: 1.9412 - accuracy: 0.2577 - val_loss: 1.8872 - val_accuracy: 0.3166\n",
      "Epoch 7/41\n",
      "70/70 [==============================] - 37s 522ms/step - loss: 1.9416 - accuracy: 0.2488 - val_loss: 1.8739 - val_accuracy: 0.3043\n",
      "Epoch 8/41\n",
      "70/70 [==============================] - 37s 524ms/step - loss: 1.9363 - accuracy: 0.2433 - val_loss: 1.8683 - val_accuracy: 0.2976\n",
      "Epoch 9/41\n",
      "70/70 [==============================] - 37s 524ms/step - loss: 1.8997 - accuracy: 0.2711 - val_loss: 1.8544 - val_accuracy: 0.2894\n",
      "Epoch 10/41\n",
      "70/70 [==============================] - 37s 525ms/step - loss: 1.8904 - accuracy: 0.2750 - val_loss: 1.8318 - val_accuracy: 0.3125\n",
      "Epoch 11/41\n",
      "70/70 [==============================] - 37s 523ms/step - loss: 1.8711 - accuracy: 0.2611 - val_loss: 1.8150 - val_accuracy: 0.3152\n",
      "Epoch 12/41\n",
      "70/70 [==============================] - 36s 518ms/step - loss: 1.8846 - accuracy: 0.2725 - val_loss: 1.8345 - val_accuracy: 0.2948\n",
      "Epoch 13/41\n",
      "70/70 [==============================] - 36s 519ms/step - loss: 1.8487 - accuracy: 0.3020 - val_loss: 1.8664 - val_accuracy: 0.2582\n",
      "Epoch 14/41\n",
      "70/70 [==============================] - 36s 521ms/step - loss: 1.8491 - accuracy: 0.3003 - val_loss: 1.8057 - val_accuracy: 0.3207\n",
      "Epoch 15/41\n",
      "70/70 [==============================] - 36s 517ms/step - loss: 1.8306 - accuracy: 0.2939 - val_loss: 1.8082 - val_accuracy: 0.3003\n",
      "Epoch 16/41\n",
      "70/70 [==============================] - 37s 524ms/step - loss: 1.8268 - accuracy: 0.3087 - val_loss: 1.7884 - val_accuracy: 0.3261\n",
      "Epoch 17/41\n",
      "70/70 [==============================] - 37s 523ms/step - loss: 1.8210 - accuracy: 0.3067 - val_loss: 1.7761 - val_accuracy: 0.3465\n",
      "Epoch 18/41\n",
      "70/70 [==============================] - 37s 522ms/step - loss: 1.8184 - accuracy: 0.3087 - val_loss: 1.7751 - val_accuracy: 0.3111\n",
      "Epoch 19/41\n",
      "70/70 [==============================] - 37s 524ms/step - loss: 1.8093 - accuracy: 0.3206 - val_loss: 1.7633 - val_accuracy: 0.3505\n",
      "Epoch 20/41\n",
      "70/70 [==============================] - 36s 516ms/step - loss: 1.7715 - accuracy: 0.3335 - val_loss: 1.7699 - val_accuracy: 0.3261\n",
      "Epoch 21/41\n",
      "70/70 [==============================] - 37s 523ms/step - loss: 1.8037 - accuracy: 0.3305 - val_loss: 1.7469 - val_accuracy: 0.3397\n",
      "Epoch 22/41\n",
      "70/70 [==============================] - 37s 526ms/step - loss: 1.7621 - accuracy: 0.3370 - val_loss: 1.7307 - val_accuracy: 0.3764\n",
      "Epoch 23/41\n",
      "70/70 [==============================] - 36s 517ms/step - loss: 1.7902 - accuracy: 0.3077 - val_loss: 1.7581 - val_accuracy: 0.3397\n",
      "Epoch 24/41\n",
      "70/70 [==============================] - 37s 526ms/step - loss: 1.7498 - accuracy: 0.3429 - val_loss: 1.7187 - val_accuracy: 0.3628\n",
      "Epoch 25/41\n",
      "70/70 [==============================] - 36s 517ms/step - loss: 1.7583 - accuracy: 0.3459 - val_loss: 1.7553 - val_accuracy: 0.3084\n",
      "Epoch 26/41\n",
      "70/70 [==============================] - 36s 518ms/step - loss: 1.7473 - accuracy: 0.3355 - val_loss: 1.7367 - val_accuracy: 0.3207\n",
      "Epoch 27/41\n",
      "70/70 [==============================] - 37s 528ms/step - loss: 1.7465 - accuracy: 0.3345 - val_loss: 1.7030 - val_accuracy: 0.3546\n",
      "Epoch 28/41\n",
      "70/70 [==============================] - 36s 516ms/step - loss: 1.7347 - accuracy: 0.3593 - val_loss: 1.7339 - val_accuracy: 0.3546\n",
      "Epoch 29/41\n",
      "70/70 [==============================] - 36s 517ms/step - loss: 1.7272 - accuracy: 0.3414 - val_loss: 1.7065 - val_accuracy: 0.3478\n",
      "Epoch 30/41\n",
      "70/70 [==============================] - 37s 529ms/step - loss: 1.7321 - accuracy: 0.3489 - val_loss: 1.6895 - val_accuracy: 0.3709\n",
      "Epoch 31/41\n",
      "70/70 [==============================] - 36s 520ms/step - loss: 1.7068 - accuracy: 0.3588 - val_loss: 1.7160 - val_accuracy: 0.3505\n",
      "Epoch 32/41\n",
      "70/70 [==============================] - 37s 523ms/step - loss: 1.7282 - accuracy: 0.3513 - val_loss: 1.6894 - val_accuracy: 0.3587\n",
      "Epoch 33/41\n",
      "70/70 [==============================] - 37s 522ms/step - loss: 1.7074 - accuracy: 0.3518 - val_loss: 1.6819 - val_accuracy: 0.3791\n",
      "Epoch 34/41\n",
      "70/70 [==============================] - 36s 516ms/step - loss: 1.6986 - accuracy: 0.3622 - val_loss: 1.6950 - val_accuracy: 0.3614\n",
      "Epoch 35/41\n",
      "70/70 [==============================] - 37s 523ms/step - loss: 1.7044 - accuracy: 0.3598 - val_loss: 1.6682 - val_accuracy: 0.3804\n",
      "Epoch 36/41\n",
      "70/70 [==============================] - 36s 518ms/step - loss: 1.7085 - accuracy: 0.3588 - val_loss: 1.6883 - val_accuracy: 0.3424\n",
      "Epoch 37/41\n",
      "70/70 [==============================] - 36s 517ms/step - loss: 1.6872 - accuracy: 0.3672 - val_loss: 1.6729 - val_accuracy: 0.3696\n",
      "Epoch 38/41\n",
      "70/70 [==============================] - 37s 524ms/step - loss: 1.6804 - accuracy: 0.3806 - val_loss: 1.6530 - val_accuracy: 0.3927\n",
      "Epoch 39/41\n",
      "70/70 [==============================] - 36s 517ms/step - loss: 1.6771 - accuracy: 0.3806 - val_loss: 1.6663 - val_accuracy: 0.3614\n",
      "Epoch 40/41\n",
      "70/70 [==============================] - 37s 523ms/step - loss: 1.6810 - accuracy: 0.3702 - val_loss: 1.6463 - val_accuracy: 0.3872\n",
      "Epoch 41/41\n",
      "70/70 [==============================] - 36s 516ms/step - loss: 1.6657 - accuracy: 0.3741 - val_loss: 1.6649 - val_accuracy: 0.3655\n"
     ]
    },
    {
     "data": {
      "text/html": [
       "<br/>Waiting for W&B process to finish, PID 175097<br/>Program ended successfully."
      ],
      "text/plain": [
       "<IPython.core.display.HTML object>"
      ]
     },
     "metadata": {},
     "output_type": "display_data"
    },
    {
     "data": {
      "text/html": [
       "Find user logs for this run at: <code>/home/charlie/Documents/courses/miniproject/notebooks/wandb/run-20210330_065140-7u55uw8r/logs/debug.log</code>"
      ],
      "text/plain": [
       "<IPython.core.display.HTML object>"
      ]
     },
     "metadata": {},
     "output_type": "display_data"
    },
    {
     "data": {
      "text/html": [
       "Find internal logs for this run at: <code>/home/charlie/Documents/courses/miniproject/notebooks/wandb/run-20210330_065140-7u55uw8r/logs/debug-internal.log</code>"
      ],
      "text/plain": [
       "<IPython.core.display.HTML object>"
      ]
     },
     "metadata": {},
     "output_type": "display_data"
    },
    {
     "data": {
      "text/html": [
       "<h3>Run summary:</h3><br/><style>\n",
       "    table.wandb td:nth-child(1) { padding: 0 10px; text-align: right }\n",
       "    </style><table class=\"wandb\">\n",
       "<tr><td>epoch</td><td>40</td></tr><tr><td>loss</td><td>1.66565</td></tr><tr><td>accuracy</td><td>0.37413</td></tr><tr><td>val_loss</td><td>1.66493</td></tr><tr><td>val_accuracy</td><td>0.36549</td></tr><tr><td>_runtime</td><td>1537</td></tr><tr><td>_timestamp</td><td>1617085037</td></tr><tr><td>_step</td><td>40</td></tr><tr><td>best_val_loss</td><td>1.64633</td></tr><tr><td>best_epoch</td><td>39</td></tr></table>"
      ],
      "text/plain": [
       "<IPython.core.display.HTML object>"
      ]
     },
     "metadata": {},
     "output_type": "display_data"
    },
    {
     "data": {
      "text/html": [
       "<h3>Run history:</h3><br/><style>\n",
       "    table.wandb td:nth-child(1) { padding: 0 10px; text-align: right }\n",
       "    </style><table class=\"wandb\">\n",
       "<tr><td>epoch</td><td>▁▁▁▂▂▂▂▂▂▃▃▃▃▃▃▄▄▄▄▄▅▅▅▅▅▅▆▆▆▆▆▆▇▇▇▇▇▇██</td></tr><tr><td>loss</td><td>█▅▄▄▄▄▄▄▃▃▃▃▃▃▃▃▃▃▂▂▂▂▂▂▂▂▂▂▂▂▁▂▁▁▁▁▁▁▁▁</td></tr><tr><td>accuracy</td><td>▁▂▃▃▃▄▄▄▅▅▄▅▆▆▅▆▆▆▆▇▆▇▆▇▇▇▇▇▇▇▇▇▇▇▇▇████</td></tr><tr><td>val_loss</td><td>██▇▇▇▆▆▆▅▅▄▅▅▄▄▄▄▄▃▃▃▃▃▂▃▃▂▃▂▂▂▂▂▂▁▂▁▁▁▁</td></tr><tr><td>val_accuracy</td><td>▁▁▃▃▂▅▄▄▃▅▅▄▂▅▄▅▆▄▆▅▆▇▆▇▄▅▆▆▆▇▆▇▇▇▇▆▇█▇▇</td></tr><tr><td>_runtime</td><td>▁▁▁▂▂▂▂▂▂▃▃▃▃▃▃▄▄▄▄▄▅▅▅▅▅▅▆▆▆▆▆▆▇▇▇▇▇▇██</td></tr><tr><td>_timestamp</td><td>▁▁▁▂▂▂▂▂▂▃▃▃▃▃▃▄▄▄▄▄▅▅▅▅▅▅▆▆▆▆▆▆▇▇▇▇▇▇██</td></tr><tr><td>_step</td><td>▁▁▁▂▂▂▂▂▂▃▃▃▃▃▃▄▄▄▄▄▅▅▅▅▅▅▆▆▆▆▆▆▇▇▇▇▇▇██</td></tr></table><br/>"
      ],
      "text/plain": [
       "<IPython.core.display.HTML object>"
      ]
     },
     "metadata": {},
     "output_type": "display_data"
    },
    {
     "data": {
      "text/html": [
       "Synced 5 W&B file(s), 1 media file(s), 0 artifact file(s) and 1 other file(s)"
      ],
      "text/plain": [
       "<IPython.core.display.HTML object>"
      ]
     },
     "metadata": {},
     "output_type": "display_data"
    },
    {
     "data": {
      "text/html": [
       "\n",
       "                    <br/>Synced <strong style=\"color:#cdcd00\">classic-sweep-69</strong>: <a href=\"https://wandb.ai/charlieisalright/sentiment/runs/7u55uw8r\" target=\"_blank\">https://wandb.ai/charlieisalright/sentiment/runs/7u55uw8r</a><br/>\n",
       "                "
      ],
      "text/plain": [
       "<IPython.core.display.HTML object>"
      ]
     },
     "metadata": {},
     "output_type": "display_data"
    },
    {
     "name": "stderr",
     "output_type": "stream",
     "text": [
      "\u001b[34m\u001b[1mwandb\u001b[0m: Agent Starting Run: 22hg3b5a with config:\n",
      "\u001b[34m\u001b[1mwandb\u001b[0m: \tbatch_size: 29\n",
      "\u001b[34m\u001b[1mwandb\u001b[0m: \tepochs: 50\n",
      "\u001b[34m\u001b[1mwandb\u001b[0m: \tlearning_rate: 0.0006638066966635531\n",
      "Failed to detect the name of this notebook, you can set it manually with the WANDB_NOTEBOOK_NAME environment variable to enable code saving.\n",
      "\u001b[34m\u001b[1mwandb\u001b[0m: \u001b[33mWARNING\u001b[0m Ignored wandb.init() arg project when running a sweep\n",
      "\u001b[34m\u001b[1mwandb\u001b[0m: \u001b[33mWARNING\u001b[0m Ignored wandb.init() arg entity when running a sweep\n"
     ]
    },
    {
     "data": {
      "text/html": [
       "\n",
       "                Tracking run with wandb version 0.10.23<br/>\n",
       "                Syncing run <strong style=\"color:#cdcd00\">peach-sweep-70</strong> to <a href=\"https://wandb.ai\" target=\"_blank\">Weights & Biases</a> <a href=\"https://docs.wandb.com/integrations/jupyter.html\" target=\"_blank\">(Documentation)</a>.<br/>\n",
       "                Project page: <a href=\"https://wandb.ai/charlieisalright/sentiment\" target=\"_blank\">https://wandb.ai/charlieisalright/sentiment</a><br/>\n",
       "                Sweep page: <a href=\"https://wandb.ai/charlieisalright/sentiment/sweeps/fnf3wbru\" target=\"_blank\">https://wandb.ai/charlieisalright/sentiment/sweeps/fnf3wbru</a><br/>\n",
       "Run page: <a href=\"https://wandb.ai/charlieisalright/sentiment/runs/22hg3b5a\" target=\"_blank\">https://wandb.ai/charlieisalright/sentiment/runs/22hg3b5a</a><br/>\n",
       "                Run data is saved locally in <code>/home/charlie/Documents/courses/miniproject/notebooks/wandb/run-20210330_071723-22hg3b5a</code><br/><br/>\n",
       "            "
      ],
      "text/plain": [
       "<IPython.core.display.HTML object>"
      ]
     },
     "metadata": {},
     "output_type": "display_data"
    },
    {
     "name": "stdout",
     "output_type": "stream",
     "text": [
      "Epoch 1/50\n",
      "70/70 [==============================] - 38s 540ms/step - loss: 2.3552 - accuracy: 0.1442 - val_loss: 2.0226 - val_accuracy: 0.1793\n",
      "Epoch 2/50\n",
      "70/70 [==============================] - 36s 520ms/step - loss: 2.0521 - accuracy: 0.1913 - val_loss: 1.9735 - val_accuracy: 0.2418\n",
      "Epoch 3/50\n",
      "70/70 [==============================] - 36s 521ms/step - loss: 2.0205 - accuracy: 0.2007 - val_loss: 1.9628 - val_accuracy: 0.2310\n",
      "Epoch 4/50\n",
      "70/70 [==============================] - 37s 527ms/step - loss: 1.9858 - accuracy: 0.2250 - val_loss: 1.9457 - val_accuracy: 0.2527\n",
      "Epoch 5/50\n",
      "70/70 [==============================] - 36s 519ms/step - loss: 1.9594 - accuracy: 0.2270 - val_loss: 1.9125 - val_accuracy: 0.2812\n",
      "Epoch 6/50\n",
      "70/70 [==============================] - 36s 514ms/step - loss: 1.9421 - accuracy: 0.2502 - val_loss: 1.9151 - val_accuracy: 0.2690\n",
      "Epoch 7/50\n",
      "70/70 [==============================] - 37s 523ms/step - loss: 1.9329 - accuracy: 0.2433 - val_loss: 1.8908 - val_accuracy: 0.2880\n",
      "Epoch 8/50\n",
      "70/70 [==============================] - 36s 521ms/step - loss: 1.9013 - accuracy: 0.2661 - val_loss: 1.8801 - val_accuracy: 0.2772\n",
      "Epoch 9/50\n",
      "70/70 [==============================] - 36s 514ms/step - loss: 1.9081 - accuracy: 0.2592 - val_loss: 1.8882 - val_accuracy: 0.2867\n",
      "Epoch 10/50\n",
      "70/70 [==============================] - 36s 520ms/step - loss: 1.8933 - accuracy: 0.2656 - val_loss: 1.8542 - val_accuracy: 0.3043\n",
      "Epoch 11/50\n",
      "70/70 [==============================] - 37s 524ms/step - loss: 1.8713 - accuracy: 0.2790 - val_loss: 1.8417 - val_accuracy: 0.2908\n",
      "Epoch 12/50\n",
      "70/70 [==============================] - 37s 523ms/step - loss: 1.8553 - accuracy: 0.2953 - val_loss: 1.8228 - val_accuracy: 0.3193\n",
      "Epoch 13/50\n",
      "70/70 [==============================] - 36s 518ms/step - loss: 1.8502 - accuracy: 0.2941 - val_loss: 1.8515 - val_accuracy: 0.2908\n",
      "Epoch 14/50\n",
      "70/70 [==============================] - 36s 520ms/step - loss: 1.8414 - accuracy: 0.3077 - val_loss: 1.8036 - val_accuracy: 0.3139\n",
      "Epoch 15/50\n",
      "70/70 [==============================] - 36s 521ms/step - loss: 1.8365 - accuracy: 0.3008 - val_loss: 1.8008 - val_accuracy: 0.3152\n",
      "Epoch 16/50\n",
      "70/70 [==============================] - 36s 521ms/step - loss: 1.8271 - accuracy: 0.3013 - val_loss: 1.7953 - val_accuracy: 0.3370\n",
      "Epoch 17/50\n",
      "70/70 [==============================] - 37s 521ms/step - loss: 1.8094 - accuracy: 0.3280 - val_loss: 1.7749 - val_accuracy: 0.3519\n",
      "Epoch 18/50\n",
      "70/70 [==============================] - 36s 521ms/step - loss: 1.7960 - accuracy: 0.3162 - val_loss: 1.7683 - val_accuracy: 0.3329\n",
      "Epoch 19/50\n",
      "70/70 [==============================] - 36s 515ms/step - loss: 1.7850 - accuracy: 0.3305 - val_loss: 1.7744 - val_accuracy: 0.3234\n",
      "Epoch 20/50\n",
      "70/70 [==============================] - 36s 521ms/step - loss: 1.7863 - accuracy: 0.3251 - val_loss: 1.7538 - val_accuracy: 0.3261\n",
      "Epoch 21/50\n",
      "70/70 [==============================] - 36s 520ms/step - loss: 1.7692 - accuracy: 0.3241 - val_loss: 1.7469 - val_accuracy: 0.3601\n",
      "Epoch 22/50\n",
      "70/70 [==============================] - 36s 518ms/step - loss: 1.7899 - accuracy: 0.3054 - val_loss: 1.7561 - val_accuracy: 0.3383\n",
      "Epoch 23/50\n",
      "70/70 [==============================] - 36s 519ms/step - loss: 1.7664 - accuracy: 0.3355 - val_loss: 1.7457 - val_accuracy: 0.3288\n",
      "Epoch 24/50\n",
      "70/70 [==============================] - 36s 521ms/step - loss: 1.7418 - accuracy: 0.3370 - val_loss: 1.7056 - val_accuracy: 0.3750\n",
      "Epoch 25/50\n",
      "70/70 [==============================] - 36s 516ms/step - loss: 1.7604 - accuracy: 0.3290 - val_loss: 1.7299 - val_accuracy: 0.3560\n",
      "Epoch 26/50\n",
      "70/70 [==============================] - 36s 514ms/step - loss: 1.7606 - accuracy: 0.3216 - val_loss: 1.7299 - val_accuracy: 0.3342\n",
      "Epoch 27/50\n",
      "70/70 [==============================] - 36s 515ms/step - loss: 1.7360 - accuracy: 0.3380 - val_loss: 1.7212 - val_accuracy: 0.3832\n",
      "Epoch 28/50\n",
      "70/70 [==============================] - 36s 516ms/step - loss: 1.7391 - accuracy: 0.3439 - val_loss: 1.7231 - val_accuracy: 0.3573\n",
      "Epoch 29/50\n",
      "70/70 [==============================] - 36s 521ms/step - loss: 1.7205 - accuracy: 0.3454 - val_loss: 1.6914 - val_accuracy: 0.3872\n",
      "Epoch 30/50\n",
      "70/70 [==============================] - 36s 515ms/step - loss: 1.7266 - accuracy: 0.3523 - val_loss: 1.7284 - val_accuracy: 0.3628\n",
      "Epoch 31/50\n",
      "70/70 [==============================] - 36s 515ms/step - loss: 1.7327 - accuracy: 0.3404 - val_loss: 1.7124 - val_accuracy: 0.3736\n",
      "Epoch 32/50\n",
      "70/70 [==============================] - 36s 516ms/step - loss: 1.6860 - accuracy: 0.3617 - val_loss: 1.7131 - val_accuracy: 0.3533\n",
      "Epoch 33/50\n",
      "70/70 [==============================] - 36s 516ms/step - loss: 1.7169 - accuracy: 0.3588 - val_loss: 1.7069 - val_accuracy: 0.3832\n",
      "Epoch 34/50\n",
      "70/70 [==============================] - 37s 523ms/step - loss: 1.6885 - accuracy: 0.3612 - val_loss: 1.6637 - val_accuracy: 0.3913\n",
      "Epoch 35/50\n",
      "70/70 [==============================] - 36s 517ms/step - loss: 1.6898 - accuracy: 0.3811 - val_loss: 1.6998 - val_accuracy: 0.3696\n",
      "Epoch 36/50\n",
      "70/70 [==============================] - 37s 522ms/step - loss: 1.6870 - accuracy: 0.3631 - val_loss: 1.6608 - val_accuracy: 0.3859\n",
      "Epoch 37/50\n",
      "70/70 [==============================] - 37s 526ms/step - loss: 1.6670 - accuracy: 0.3731 - val_loss: 1.6265 - val_accuracy: 0.4008\n",
      "Epoch 38/50\n",
      "70/70 [==============================] - 36s 516ms/step - loss: 1.6713 - accuracy: 0.3831 - val_loss: 1.6495 - val_accuracy: 0.3859\n",
      "Epoch 39/50\n",
      "70/70 [==============================] - 36s 515ms/step - loss: 1.6579 - accuracy: 0.3840 - val_loss: 1.6674 - val_accuracy: 0.3519\n",
      "Epoch 40/50\n",
      "70/70 [==============================] - 36s 516ms/step - loss: 1.6721 - accuracy: 0.3667 - val_loss: 1.6439 - val_accuracy: 0.3818\n",
      "Epoch 41/50\n",
      "70/70 [==============================] - 36s 518ms/step - loss: 1.6819 - accuracy: 0.3690 - val_loss: 1.6583 - val_accuracy: 0.3791\n",
      "Epoch 42/50\n",
      "70/70 [==============================] - 36s 514ms/step - loss: 1.6658 - accuracy: 0.3801 - val_loss: 1.6739 - val_accuracy: 0.3492\n",
      "Epoch 43/50\n",
      "70/70 [==============================] - 36s 518ms/step - loss: 1.6713 - accuracy: 0.3675 - val_loss: 1.6278 - val_accuracy: 0.4049\n",
      "Epoch 44/50\n",
      "70/70 [==============================] - 36s 521ms/step - loss: 1.6440 - accuracy: 0.3806 - val_loss: 1.6180 - val_accuracy: 0.4171\n",
      "Epoch 45/50\n",
      "70/70 [==============================] - 36s 514ms/step - loss: 1.6463 - accuracy: 0.3751 - val_loss: 1.6201 - val_accuracy: 0.4049\n",
      "Epoch 46/50\n",
      "70/70 [==============================] - 36s 515ms/step - loss: 1.6724 - accuracy: 0.3687 - val_loss: 1.6255 - val_accuracy: 0.4035\n",
      "Epoch 47/50\n",
      "70/70 [==============================] - 37s 521ms/step - loss: 1.6513 - accuracy: 0.3761 - val_loss: 1.6142 - val_accuracy: 0.4144\n",
      "Epoch 48/50\n",
      "70/70 [==============================] - 36s 515ms/step - loss: 1.6431 - accuracy: 0.3781 - val_loss: 1.6332 - val_accuracy: 0.4049\n",
      "Epoch 49/50\n",
      "70/70 [==============================] - 37s 523ms/step - loss: 1.6330 - accuracy: 0.3935 - val_loss: 1.6117 - val_accuracy: 0.4049\n",
      "Epoch 50/50\n",
      "70/70 [==============================] - 36s 515ms/step - loss: 1.6279 - accuracy: 0.3870 - val_loss: 1.6265 - val_accuracy: 0.4253\n"
     ]
    },
    {
     "data": {
      "text/html": [
       "<br/>Waiting for W&B process to finish, PID 175419<br/>Program ended successfully."
      ],
      "text/plain": [
       "<IPython.core.display.HTML object>"
      ]
     },
     "metadata": {},
     "output_type": "display_data"
    },
    {
     "data": {
      "text/html": [
       "Find user logs for this run at: <code>/home/charlie/Documents/courses/miniproject/notebooks/wandb/run-20210330_071723-22hg3b5a/logs/debug.log</code>"
      ],
      "text/plain": [
       "<IPython.core.display.HTML object>"
      ]
     },
     "metadata": {},
     "output_type": "display_data"
    },
    {
     "data": {
      "text/html": [
       "Find internal logs for this run at: <code>/home/charlie/Documents/courses/miniproject/notebooks/wandb/run-20210330_071723-22hg3b5a/logs/debug-internal.log</code>"
      ],
      "text/plain": [
       "<IPython.core.display.HTML object>"
      ]
     },
     "metadata": {},
     "output_type": "display_data"
    },
    {
     "data": {
      "text/html": [
       "<h3>Run summary:</h3><br/><style>\n",
       "    table.wandb td:nth-child(1) { padding: 0 10px; text-align: right }\n",
       "    </style><table class=\"wandb\">\n",
       "<tr><td>epoch</td><td>49</td></tr><tr><td>loss</td><td>1.62787</td></tr><tr><td>accuracy</td><td>0.38702</td></tr><tr><td>val_loss</td><td>1.62648</td></tr><tr><td>val_accuracy</td><td>0.42527</td></tr><tr><td>_runtime</td><td>1869</td></tr><tr><td>_timestamp</td><td>1617086912</td></tr><tr><td>_step</td><td>49</td></tr><tr><td>best_val_loss</td><td>1.61172</td></tr><tr><td>best_epoch</td><td>48</td></tr></table>"
      ],
      "text/plain": [
       "<IPython.core.display.HTML object>"
      ]
     },
     "metadata": {},
     "output_type": "display_data"
    },
    {
     "data": {
      "text/html": [
       "<h3>Run history:</h3><br/><style>\n",
       "    table.wandb td:nth-child(1) { padding: 0 10px; text-align: right }\n",
       "    </style><table class=\"wandb\">\n",
       "<tr><td>epoch</td><td>▁▁▁▁▂▂▂▂▂▃▃▃▃▃▃▄▄▄▄▄▅▅▅▅▅▅▆▆▆▆▆▆▇▇▇▇▇███</td></tr><tr><td>loss</td><td>█▅▅▄▄▄▄▄▃▃▃▃▃▃▃▃▂▃▂▂▂▂▂▂▂▂▂▂▂▁▁▁▂▁▁▁▁▁▁▁</td></tr><tr><td>accuracy</td><td>▁▂▃▃▄▄▅▄▅▅▅▆▆▆▆▆▆▆▇▇▆▇▇▇▇▇▇▇▇███▇█▇█▇███</td></tr><tr><td>val_loss</td><td>█▇▇▇▆▆▆▆▅▅▅▄▄▄▄▄▃▃▃▃▃▃▃▂▃▃▃▂▂▁▂▂▂▂▁▁▁▁▁▁</td></tr><tr><td>val_accuracy</td><td>▁▃▂▃▄▄▄▄▄▅▄▅▅▆▅▅▆▆▅▇▅▇▆▇▇▆▇▇▇▇▇▆▇▆▇█▇█▇█</td></tr><tr><td>_runtime</td><td>▁▁▁▁▂▂▂▂▂▃▃▃▃▃▃▄▄▄▄▄▅▅▅▅▅▅▆▆▆▆▆▆▇▇▇▇▇███</td></tr><tr><td>_timestamp</td><td>▁▁▁▁▂▂▂▂▂▃▃▃▃▃▃▄▄▄▄▄▅▅▅▅▅▅▆▆▆▆▆▆▇▇▇▇▇███</td></tr><tr><td>_step</td><td>▁▁▁▁▂▂▂▂▂▃▃▃▃▃▃▄▄▄▄▄▅▅▅▅▅▅▆▆▆▆▆▆▇▇▇▇▇███</td></tr></table><br/>"
      ],
      "text/plain": [
       "<IPython.core.display.HTML object>"
      ]
     },
     "metadata": {},
     "output_type": "display_data"
    },
    {
     "data": {
      "text/html": [
       "Synced 5 W&B file(s), 1 media file(s), 0 artifact file(s) and 1 other file(s)"
      ],
      "text/plain": [
       "<IPython.core.display.HTML object>"
      ]
     },
     "metadata": {},
     "output_type": "display_data"
    },
    {
     "data": {
      "text/html": [
       "\n",
       "                    <br/>Synced <strong style=\"color:#cdcd00\">peach-sweep-70</strong>: <a href=\"https://wandb.ai/charlieisalright/sentiment/runs/22hg3b5a\" target=\"_blank\">https://wandb.ai/charlieisalright/sentiment/runs/22hg3b5a</a><br/>\n",
       "                "
      ],
      "text/plain": [
       "<IPython.core.display.HTML object>"
      ]
     },
     "metadata": {},
     "output_type": "display_data"
    },
    {
     "name": "stderr",
     "output_type": "stream",
     "text": [
      "\u001b[34m\u001b[1mwandb\u001b[0m: Agent Starting Run: xozzsuns with config:\n",
      "\u001b[34m\u001b[1mwandb\u001b[0m: \tbatch_size: 29\n",
      "\u001b[34m\u001b[1mwandb\u001b[0m: \tepochs: 41\n",
      "\u001b[34m\u001b[1mwandb\u001b[0m: \tlearning_rate: 0.0011205765668014923\n",
      "Failed to detect the name of this notebook, you can set it manually with the WANDB_NOTEBOOK_NAME environment variable to enable code saving.\n",
      "\u001b[34m\u001b[1mwandb\u001b[0m: \u001b[33mWARNING\u001b[0m Ignored wandb.init() arg project when running a sweep\n",
      "\u001b[34m\u001b[1mwandb\u001b[0m: \u001b[33mWARNING\u001b[0m Ignored wandb.init() arg entity when running a sweep\n"
     ]
    },
    {
     "data": {
      "text/html": [
       "\n",
       "                Tracking run with wandb version 0.10.23<br/>\n",
       "                Syncing run <strong style=\"color:#cdcd00\">deft-sweep-71</strong> to <a href=\"https://wandb.ai\" target=\"_blank\">Weights & Biases</a> <a href=\"https://docs.wandb.com/integrations/jupyter.html\" target=\"_blank\">(Documentation)</a>.<br/>\n",
       "                Project page: <a href=\"https://wandb.ai/charlieisalright/sentiment\" target=\"_blank\">https://wandb.ai/charlieisalright/sentiment</a><br/>\n",
       "                Sweep page: <a href=\"https://wandb.ai/charlieisalright/sentiment/sweeps/fnf3wbru\" target=\"_blank\">https://wandb.ai/charlieisalright/sentiment/sweeps/fnf3wbru</a><br/>\n",
       "Run page: <a href=\"https://wandb.ai/charlieisalright/sentiment/runs/xozzsuns\" target=\"_blank\">https://wandb.ai/charlieisalright/sentiment/runs/xozzsuns</a><br/>\n",
       "                Run data is saved locally in <code>/home/charlie/Documents/courses/miniproject/notebooks/wandb/run-20210330_074838-xozzsuns</code><br/><br/>\n",
       "            "
      ],
      "text/plain": [
       "<IPython.core.display.HTML object>"
      ]
     },
     "metadata": {},
     "output_type": "display_data"
    },
    {
     "name": "stdout",
     "output_type": "stream",
     "text": [
      "Epoch 1/41\n",
      "70/70 [==============================] - 38s 548ms/step - loss: 2.3299 - accuracy: 0.1690 - val_loss: 2.0219 - val_accuracy: 0.1821\n",
      "Epoch 2/41\n",
      "70/70 [==============================] - 36s 520ms/step - loss: 2.0175 - accuracy: 0.2047 - val_loss: 1.9836 - val_accuracy: 0.2269\n",
      "Epoch 3/41\n",
      "70/70 [==============================] - 37s 524ms/step - loss: 1.9783 - accuracy: 0.2246 - val_loss: 1.9460 - val_accuracy: 0.2595\n",
      "Epoch 4/41\n",
      "70/70 [==============================] - 36s 521ms/step - loss: 1.9838 - accuracy: 0.2195 - val_loss: 1.9161 - val_accuracy: 0.2894\n",
      "Epoch 5/41\n",
      "70/70 [==============================] - 37s 527ms/step - loss: 1.9661 - accuracy: 0.2289 - val_loss: 1.9035 - val_accuracy: 0.2867\n",
      "Epoch 6/41\n",
      "70/70 [==============================] - 36s 516ms/step - loss: 1.9458 - accuracy: 0.2453 - val_loss: 1.9195 - val_accuracy: 0.2500\n",
      "Epoch 7/41\n",
      "70/70 [==============================] - 36s 516ms/step - loss: 1.9141 - accuracy: 0.2626 - val_loss: 1.9095 - val_accuracy: 0.2120\n",
      "Epoch 8/41\n",
      "70/70 [==============================] - 36s 521ms/step - loss: 1.9135 - accuracy: 0.2621 - val_loss: 1.8814 - val_accuracy: 0.3003\n",
      "Epoch 9/41\n",
      "70/70 [==============================] - 36s 521ms/step - loss: 1.8812 - accuracy: 0.2805 - val_loss: 1.8276 - val_accuracy: 0.3057\n",
      "Epoch 10/41\n",
      "70/70 [==============================] - 36s 515ms/step - loss: 1.8858 - accuracy: 0.2770 - val_loss: 1.8927 - val_accuracy: 0.2690\n",
      "Epoch 11/41\n",
      "70/70 [==============================] - 36s 521ms/step - loss: 1.8638 - accuracy: 0.2785 - val_loss: 1.8127 - val_accuracy: 0.3139\n",
      "Epoch 12/41\n",
      "70/70 [==============================] - 36s 517ms/step - loss: 1.8600 - accuracy: 0.3018 - val_loss: 1.8219 - val_accuracy: 0.3207\n",
      "Epoch 13/41\n",
      "70/70 [==============================] - 36s 515ms/step - loss: 1.8277 - accuracy: 0.3127 - val_loss: 1.8163 - val_accuracy: 0.2894\n",
      "Epoch 14/41\n",
      "70/70 [==============================] - 36s 520ms/step - loss: 1.8160 - accuracy: 0.3072 - val_loss: 1.7915 - val_accuracy: 0.3329\n",
      "Epoch 15/41\n",
      "70/70 [==============================] - 36s 515ms/step - loss: 1.8271 - accuracy: 0.3008 - val_loss: 1.7968 - val_accuracy: 0.3560\n",
      "Epoch 16/41\n",
      "70/70 [==============================] - 36s 520ms/step - loss: 1.8319 - accuracy: 0.3003 - val_loss: 1.7757 - val_accuracy: 0.3492\n",
      "Epoch 17/41\n",
      "70/70 [==============================] - 36s 516ms/step - loss: 1.8008 - accuracy: 0.3137 - val_loss: 1.8263 - val_accuracy: 0.2894\n",
      "Epoch 18/41\n",
      "70/70 [==============================] - 36s 521ms/step - loss: 1.8319 - accuracy: 0.2993 - val_loss: 1.7677 - val_accuracy: 0.3125\n",
      "Epoch 19/41\n",
      "70/70 [==============================] - 36s 521ms/step - loss: 1.7947 - accuracy: 0.3142 - val_loss: 1.7246 - val_accuracy: 0.3601\n",
      "Epoch 20/41\n",
      "70/70 [==============================] - 36s 515ms/step - loss: 1.7848 - accuracy: 0.3122 - val_loss: 1.7474 - val_accuracy: 0.3682\n",
      "Epoch 21/41\n",
      "70/70 [==============================] - 36s 516ms/step - loss: 1.7709 - accuracy: 0.3459 - val_loss: 1.7301 - val_accuracy: 0.3519\n",
      "Epoch 22/41\n",
      "70/70 [==============================] - 36s 521ms/step - loss: 1.7545 - accuracy: 0.3370 - val_loss: 1.7213 - val_accuracy: 0.3465\n",
      "Epoch 23/41\n",
      "70/70 [==============================] - 36s 516ms/step - loss: 1.7795 - accuracy: 0.3152 - val_loss: 1.7607 - val_accuracy: 0.3587\n",
      "Epoch 24/41\n",
      "70/70 [==============================] - 36s 516ms/step - loss: 1.7782 - accuracy: 0.3335 - val_loss: 1.7373 - val_accuracy: 0.3845\n",
      "Epoch 25/41\n",
      "70/70 [==============================] - 36s 521ms/step - loss: 1.7423 - accuracy: 0.3429 - val_loss: 1.7126 - val_accuracy: 0.3560\n",
      "Epoch 26/41\n",
      "70/70 [==============================] - 36s 516ms/step - loss: 1.7264 - accuracy: 0.3370 - val_loss: 1.7388 - val_accuracy: 0.3723\n",
      "Epoch 27/41\n",
      "70/70 [==============================] - 37s 523ms/step - loss: 1.7197 - accuracy: 0.3488 - val_loss: 1.6842 - val_accuracy: 0.3614\n",
      "Epoch 28/41\n",
      "70/70 [==============================] - 36s 516ms/step - loss: 1.7316 - accuracy: 0.3449 - val_loss: 1.6901 - val_accuracy: 0.3505\n",
      "Epoch 29/41\n",
      "70/70 [==============================] - 36s 516ms/step - loss: 1.7302 - accuracy: 0.3419 - val_loss: 1.7130 - val_accuracy: 0.3465\n",
      "Epoch 30/41\n",
      "70/70 [==============================] - 36s 519ms/step - loss: 1.7306 - accuracy: 0.3404 - val_loss: 1.6878 - val_accuracy: 0.3709\n",
      "Epoch 31/41\n",
      "70/70 [==============================] - 37s 524ms/step - loss: 1.6937 - accuracy: 0.3645 - val_loss: 1.6678 - val_accuracy: 0.3492\n",
      "Epoch 32/41\n",
      "70/70 [==============================] - 36s 516ms/step - loss: 1.7154 - accuracy: 0.3508 - val_loss: 1.6960 - val_accuracy: 0.3655\n",
      "Epoch 33/41\n",
      "70/70 [==============================] - 36s 516ms/step - loss: 1.7164 - accuracy: 0.3608 - val_loss: 1.7266 - val_accuracy: 0.3668\n",
      "Epoch 34/41\n",
      "70/70 [==============================] - 36s 515ms/step - loss: 1.7014 - accuracy: 0.3533 - val_loss: 1.6735 - val_accuracy: 0.4035\n",
      "Epoch 35/41\n",
      "70/70 [==============================] - 37s 526ms/step - loss: 1.7117 - accuracy: 0.3473 - val_loss: 1.6617 - val_accuracy: 0.3927\n",
      "Epoch 36/41\n",
      "70/70 [==============================] - 36s 516ms/step - loss: 1.6991 - accuracy: 0.3469 - val_loss: 1.7192 - val_accuracy: 0.3587\n",
      "Epoch 37/41\n",
      "70/70 [==============================] - 36s 521ms/step - loss: 1.6911 - accuracy: 0.3583 - val_loss: 1.6420 - val_accuracy: 0.3764\n",
      "Epoch 38/41\n",
      "70/70 [==============================] - 36s 516ms/step - loss: 1.7145 - accuracy: 0.3583 - val_loss: 1.6603 - val_accuracy: 0.3791\n",
      "Epoch 39/41\n",
      "70/70 [==============================] - 36s 516ms/step - loss: 1.6865 - accuracy: 0.3598 - val_loss: 1.6555 - val_accuracy: 0.3940\n",
      "Epoch 40/41\n",
      "70/70 [==============================] - 36s 521ms/step - loss: 1.6632 - accuracy: 0.3801 - val_loss: 1.6254 - val_accuracy: 0.3723\n",
      "Epoch 41/41\n",
      "70/70 [==============================] - 54s 765ms/step - loss: 1.6909 - accuracy: 0.3677 - val_loss: 1.6705 - val_accuracy: 0.3736\n"
     ]
    },
    {
     "data": {
      "text/html": [
       "<br/>Waiting for W&B process to finish, PID 175968<br/>Program ended successfully."
      ],
      "text/plain": [
       "<IPython.core.display.HTML object>"
      ]
     },
     "metadata": {},
     "output_type": "display_data"
    },
    {
     "data": {
      "text/html": [
       "Find user logs for this run at: <code>/home/charlie/Documents/courses/miniproject/notebooks/wandb/run-20210330_074838-xozzsuns/logs/debug.log</code>"
      ],
      "text/plain": [
       "<IPython.core.display.HTML object>"
      ]
     },
     "metadata": {},
     "output_type": "display_data"
    },
    {
     "data": {
      "text/html": [
       "Find internal logs for this run at: <code>/home/charlie/Documents/courses/miniproject/notebooks/wandb/run-20210330_074838-xozzsuns/logs/debug-internal.log</code>"
      ],
      "text/plain": [
       "<IPython.core.display.HTML object>"
      ]
     },
     "metadata": {},
     "output_type": "display_data"
    },
    {
     "data": {
      "text/html": [
       "<h3>Run summary:</h3><br/><style>\n",
       "    table.wandb td:nth-child(1) { padding: 0 10px; text-align: right }\n",
       "    </style><table class=\"wandb\">\n",
       "<tr><td>epoch</td><td>40</td></tr><tr><td>loss</td><td>1.69093</td></tr><tr><td>accuracy</td><td>0.36769</td></tr><tr><td>val_loss</td><td>1.67051</td></tr><tr><td>val_accuracy</td><td>0.37364</td></tr><tr><td>_runtime</td><td>1564</td></tr><tr><td>_timestamp</td><td>1617088482</td></tr><tr><td>_step</td><td>40</td></tr><tr><td>best_val_loss</td><td>1.62538</td></tr><tr><td>best_epoch</td><td>39</td></tr></table>"
      ],
      "text/plain": [
       "<IPython.core.display.HTML object>"
      ]
     },
     "metadata": {},
     "output_type": "display_data"
    },
    {
     "data": {
      "text/html": [
       "<h3>Run history:</h3><br/><style>\n",
       "    table.wandb td:nth-child(1) { padding: 0 10px; text-align: right }\n",
       "    </style><table class=\"wandb\">\n",
       "<tr><td>epoch</td><td>▁▁▁▂▂▂▂▂▂▃▃▃▃▃▃▄▄▄▄▄▅▅▅▅▅▅▆▆▆▆▆▆▇▇▇▇▇▇██</td></tr><tr><td>loss</td><td>█▅▄▄▄▄▃▃▃▃▃▃▃▂▃▃▂▃▂▂▂▂▂▂▂▁▁▁▁▁▁▁▁▁▁▁▁▁▁▁</td></tr><tr><td>accuracy</td><td>▁▂▃▃▃▄▄▄▅▅▅▆▆▆▆▆▆▆▆▆▇▇▆▇▇▇▇▇▇▇█▇█▇▇▇████</td></tr><tr><td>val_loss</td><td>█▇▇▆▆▆▆▅▄▆▄▄▄▄▄▃▄▃▃▃▃▂▃▃▂▃▂▂▂▂▁▂▃▂▁▂▁▁▁▂</td></tr><tr><td>val_accuracy</td><td>▁▂▃▄▄▃▂▅▅▄▅▅▄▆▆▆▄▅▇▇▆▆▇▇▆▇▇▆▆▇▆▇▇██▇▇▇█▇</td></tr><tr><td>_runtime</td><td>▁▁▁▂▂▂▂▂▂▃▃▃▃▃▃▄▄▄▄▄▄▅▅▅▅▅▆▆▆▆▆▆▇▇▇▇▇▇██</td></tr><tr><td>_timestamp</td><td>▁▁▁▂▂▂▂▂▂▃▃▃▃▃▃▄▄▄▄▄▄▅▅▅▅▅▆▆▆▆▆▆▇▇▇▇▇▇██</td></tr><tr><td>_step</td><td>▁▁▁▂▂▂▂▂▂▃▃▃▃▃▃▄▄▄▄▄▅▅▅▅▅▅▆▆▆▆▆▆▇▇▇▇▇▇██</td></tr></table><br/>"
      ],
      "text/plain": [
       "<IPython.core.display.HTML object>"
      ]
     },
     "metadata": {},
     "output_type": "display_data"
    },
    {
     "data": {
      "text/html": [
       "Synced 5 W&B file(s), 1 media file(s), 0 artifact file(s) and 1 other file(s)"
      ],
      "text/plain": [
       "<IPython.core.display.HTML object>"
      ]
     },
     "metadata": {},
     "output_type": "display_data"
    },
    {
     "data": {
      "text/html": [
       "\n",
       "                    <br/>Synced <strong style=\"color:#cdcd00\">deft-sweep-71</strong>: <a href=\"https://wandb.ai/charlieisalright/sentiment/runs/xozzsuns\" target=\"_blank\">https://wandb.ai/charlieisalright/sentiment/runs/xozzsuns</a><br/>\n",
       "                "
      ],
      "text/plain": [
       "<IPython.core.display.HTML object>"
      ]
     },
     "metadata": {},
     "output_type": "display_data"
    },
    {
     "name": "stderr",
     "output_type": "stream",
     "text": [
      "\u001b[34m\u001b[1mwandb\u001b[0m: Agent Starting Run: y1t0bi5a with config:\n",
      "\u001b[34m\u001b[1mwandb\u001b[0m: \tbatch_size: 22\n",
      "\u001b[34m\u001b[1mwandb\u001b[0m: \tepochs: 46\n",
      "\u001b[34m\u001b[1mwandb\u001b[0m: \tlearning_rate: 0.000369238995836499\n",
      "Failed to detect the name of this notebook, you can set it manually with the WANDB_NOTEBOOK_NAME environment variable to enable code saving.\n",
      "\u001b[34m\u001b[1mwandb\u001b[0m: \u001b[33mWARNING\u001b[0m Ignored wandb.init() arg project when running a sweep\n",
      "\u001b[34m\u001b[1mwandb\u001b[0m: \u001b[33mWARNING\u001b[0m Ignored wandb.init() arg entity when running a sweep\n"
     ]
    },
    {
     "data": {
      "text/html": [
       "\n",
       "                Tracking run with wandb version 0.10.23<br/>\n",
       "                Syncing run <strong style=\"color:#cdcd00\">rose-sweep-72</strong> to <a href=\"https://wandb.ai\" target=\"_blank\">Weights & Biases</a> <a href=\"https://docs.wandb.com/integrations/jupyter.html\" target=\"_blank\">(Documentation)</a>.<br/>\n",
       "                Project page: <a href=\"https://wandb.ai/charlieisalright/sentiment\" target=\"_blank\">https://wandb.ai/charlieisalright/sentiment</a><br/>\n",
       "                Sweep page: <a href=\"https://wandb.ai/charlieisalright/sentiment/sweeps/fnf3wbru\" target=\"_blank\">https://wandb.ai/charlieisalright/sentiment/sweeps/fnf3wbru</a><br/>\n",
       "Run page: <a href=\"https://wandb.ai/charlieisalright/sentiment/runs/y1t0bi5a\" target=\"_blank\">https://wandb.ai/charlieisalright/sentiment/runs/y1t0bi5a</a><br/>\n",
       "                Run data is saved locally in <code>/home/charlie/Documents/courses/miniproject/notebooks/wandb/run-20210330_081449-y1t0bi5a</code><br/><br/>\n",
       "            "
      ],
      "text/plain": [
       "<IPython.core.display.HTML object>"
      ]
     },
     "metadata": {},
     "output_type": "display_data"
    },
    {
     "name": "stdout",
     "output_type": "stream",
     "text": [
      "Epoch 1/46\n",
      "70/70 [==============================] - 30s 429ms/step - loss: 2.4362 - accuracy: 0.1429 - val_loss: 2.0546 - val_accuracy: 0.1603\n",
      "Epoch 2/46\n",
      "70/70 [==============================] - 29s 417ms/step - loss: 2.1045 - accuracy: 0.1739 - val_loss: 1.9981 - val_accuracy: 0.2079\n",
      "Epoch 3/46\n",
      "70/70 [==============================] - 29s 421ms/step - loss: 2.0344 - accuracy: 0.1981 - val_loss: 1.9921 - val_accuracy: 0.1549\n",
      "Epoch 4/46\n",
      "70/70 [==============================] - 29s 419ms/step - loss: 2.0064 - accuracy: 0.2026 - val_loss: 1.9627 - val_accuracy: 0.2337\n",
      "Epoch 5/46\n",
      "70/70 [==============================] - 29s 420ms/step - loss: 1.9793 - accuracy: 0.2195 - val_loss: 1.9374 - val_accuracy: 0.2378\n",
      "Epoch 6/46\n",
      "70/70 [==============================] - 29s 420ms/step - loss: 1.9742 - accuracy: 0.2231 - val_loss: 1.9336 - val_accuracy: 0.2609\n",
      "Epoch 7/46\n",
      "70/70 [==============================] - 29s 411ms/step - loss: 1.9771 - accuracy: 0.2356 - val_loss: 1.9350 - val_accuracy: 0.2935\n",
      "Epoch 8/46\n",
      "70/70 [==============================] - 29s 421ms/step - loss: 1.9323 - accuracy: 0.2519 - val_loss: 1.9129 - val_accuracy: 0.3152\n",
      "Epoch 9/46\n",
      "70/70 [==============================] - 29s 416ms/step - loss: 1.9514 - accuracy: 0.2375 - val_loss: 1.9023 - val_accuracy: 0.2948\n",
      "Epoch 10/46\n",
      "70/70 [==============================] - 29s 419ms/step - loss: 1.9226 - accuracy: 0.2669 - val_loss: 1.8921 - val_accuracy: 0.2921\n",
      "Epoch 11/46\n",
      "70/70 [==============================] - 29s 419ms/step - loss: 1.9244 - accuracy: 0.2571 - val_loss: 1.8722 - val_accuracy: 0.2948\n",
      "Epoch 12/46\n",
      "70/70 [==============================] - 29s 411ms/step - loss: 1.9117 - accuracy: 0.2900 - val_loss: 1.8941 - val_accuracy: 0.2500\n",
      "Epoch 13/46\n",
      "70/70 [==============================] - 29s 416ms/step - loss: 1.9071 - accuracy: 0.2697 - val_loss: 1.8677 - val_accuracy: 0.3125\n",
      "Epoch 14/46\n",
      "70/70 [==============================] - 29s 418ms/step - loss: 1.8844 - accuracy: 0.2762 - val_loss: 1.8615 - val_accuracy: 0.2935\n",
      "Epoch 15/46\n",
      "70/70 [==============================] - 29s 414ms/step - loss: 1.8789 - accuracy: 0.2779 - val_loss: 1.8628 - val_accuracy: 0.2636\n",
      "Epoch 16/46\n",
      "70/70 [==============================] - 29s 421ms/step - loss: 1.8694 - accuracy: 0.2883 - val_loss: 1.8284 - val_accuracy: 0.3111\n",
      "Epoch 17/46\n",
      "70/70 [==============================] - 29s 419ms/step - loss: 1.8598 - accuracy: 0.2999 - val_loss: 1.8113 - val_accuracy: 0.3424\n",
      "Epoch 18/46\n",
      "70/70 [==============================] - 29s 414ms/step - loss: 1.8425 - accuracy: 0.3013 - val_loss: 1.8218 - val_accuracy: 0.3166\n",
      "Epoch 19/46\n",
      "70/70 [==============================] - 29s 421ms/step - loss: 1.8510 - accuracy: 0.2883 - val_loss: 1.8084 - val_accuracy: 0.3207\n",
      "Epoch 20/46\n",
      "70/70 [==============================] - 29s 418ms/step - loss: 1.8350 - accuracy: 0.3051 - val_loss: 1.7908 - val_accuracy: 0.3234\n",
      "Epoch 21/46\n",
      "70/70 [==============================] - 29s 418ms/step - loss: 1.8406 - accuracy: 0.3110 - val_loss: 1.7869 - val_accuracy: 0.3329\n",
      "Epoch 22/46\n",
      "70/70 [==============================] - 29s 419ms/step - loss: 1.8282 - accuracy: 0.3031 - val_loss: 1.7862 - val_accuracy: 0.3546\n",
      "Epoch 23/46\n",
      "70/70 [==============================] - 29s 412ms/step - loss: 1.8176 - accuracy: 0.3176 - val_loss: 1.7911 - val_accuracy: 0.3193\n",
      "Epoch 24/46\n",
      "70/70 [==============================] - 30s 421ms/step - loss: 1.8050 - accuracy: 0.3214 - val_loss: 1.7779 - val_accuracy: 0.3519\n",
      "Epoch 25/46\n",
      "70/70 [==============================] - 29s 420ms/step - loss: 1.8023 - accuracy: 0.3052 - val_loss: 1.7654 - val_accuracy: 0.3723\n",
      "Epoch 26/46\n",
      "70/70 [==============================] - 29s 411ms/step - loss: 1.8172 - accuracy: 0.3150 - val_loss: 1.7756 - val_accuracy: 0.3261\n",
      "Epoch 27/46\n",
      "70/70 [==============================] - 29s 412ms/step - loss: 1.7907 - accuracy: 0.3150 - val_loss: 1.7656 - val_accuracy: 0.3383\n",
      "Epoch 28/46\n",
      "70/70 [==============================] - 29s 411ms/step - loss: 1.8181 - accuracy: 0.3045 - val_loss: 1.7932 - val_accuracy: 0.3234\n",
      "Epoch 29/46\n",
      "70/70 [==============================] - 29s 420ms/step - loss: 1.7930 - accuracy: 0.3149 - val_loss: 1.7518 - val_accuracy: 0.3451\n",
      "Epoch 30/46\n",
      "70/70 [==============================] - 29s 418ms/step - loss: 1.7960 - accuracy: 0.3084 - val_loss: 1.7334 - val_accuracy: 0.3424\n",
      "Epoch 31/46\n",
      "70/70 [==============================] - 29s 414ms/step - loss: 1.7897 - accuracy: 0.3201 - val_loss: 1.7505 - val_accuracy: 0.3274\n",
      "Epoch 32/46\n",
      "70/70 [==============================] - 29s 410ms/step - loss: 1.7834 - accuracy: 0.3156 - val_loss: 1.7509 - val_accuracy: 0.3533\n",
      "Epoch 33/46\n",
      "70/70 [==============================] - 29s 414ms/step - loss: 1.7827 - accuracy: 0.3299 - val_loss: 1.7811 - val_accuracy: 0.2649\n",
      "Epoch 34/46\n",
      "70/70 [==============================] - 29s 411ms/step - loss: 1.7768 - accuracy: 0.3294 - val_loss: 1.7861 - val_accuracy: 0.3288\n",
      "Epoch 35/46\n",
      "70/70 [==============================] - 29s 412ms/step - loss: 1.7728 - accuracy: 0.3255 - val_loss: 1.7471 - val_accuracy: 0.3356\n",
      "Epoch 36/46\n",
      "70/70 [==============================] - 29s 414ms/step - loss: 1.7633 - accuracy: 0.3494 - val_loss: 1.7400 - val_accuracy: 0.3628\n",
      "Epoch 37/46\n",
      "70/70 [==============================] - 29s 416ms/step - loss: 1.7681 - accuracy: 0.3353 - val_loss: 1.7352 - val_accuracy: 0.3655\n",
      "Epoch 38/46\n",
      "70/70 [==============================] - 29s 417ms/step - loss: 1.7555 - accuracy: 0.3406 - val_loss: 1.7150 - val_accuracy: 0.3614\n",
      "Epoch 39/46\n",
      "70/70 [==============================] - 29s 414ms/step - loss: 1.7804 - accuracy: 0.3201 - val_loss: 1.7155 - val_accuracy: 0.3668\n",
      "Epoch 40/46\n",
      "70/70 [==============================] - 29s 411ms/step - loss: 1.7311 - accuracy: 0.3445 - val_loss: 1.7289 - val_accuracy: 0.3533\n",
      "Epoch 41/46\n",
      "70/70 [==============================] - 29s 411ms/step - loss: 1.7772 - accuracy: 0.3294 - val_loss: 1.7302 - val_accuracy: 0.3668\n",
      "Epoch 42/46\n",
      "70/70 [==============================] - 29s 418ms/step - loss: 1.7169 - accuracy: 0.3524 - val_loss: 1.7000 - val_accuracy: 0.3696\n",
      "Epoch 43/46\n",
      "70/70 [==============================] - 30s 422ms/step - loss: 1.7334 - accuracy: 0.3474 - val_loss: 1.6764 - val_accuracy: 0.3954\n",
      "Epoch 44/46\n",
      "70/70 [==============================] - 29s 415ms/step - loss: 1.7480 - accuracy: 0.3578 - val_loss: 1.7205 - val_accuracy: 0.3696\n",
      "Epoch 45/46\n",
      "70/70 [==============================] - 29s 416ms/step - loss: 1.7301 - accuracy: 0.3364 - val_loss: 1.7211 - val_accuracy: 0.3288\n",
      "Epoch 46/46\n",
      "70/70 [==============================] - 29s 413ms/step - loss: 1.7496 - accuracy: 0.3370 - val_loss: 1.7227 - val_accuracy: 0.3560\n"
     ]
    },
    {
     "data": {
      "text/html": [
       "<br/>Waiting for W&B process to finish, PID 176305<br/>Program ended successfully."
      ],
      "text/plain": [
       "<IPython.core.display.HTML object>"
      ]
     },
     "metadata": {},
     "output_type": "display_data"
    },
    {
     "data": {
      "text/html": [
       "Find user logs for this run at: <code>/home/charlie/Documents/courses/miniproject/notebooks/wandb/run-20210330_081449-y1t0bi5a/logs/debug.log</code>"
      ],
      "text/plain": [
       "<IPython.core.display.HTML object>"
      ]
     },
     "metadata": {},
     "output_type": "display_data"
    },
    {
     "data": {
      "text/html": [
       "Find internal logs for this run at: <code>/home/charlie/Documents/courses/miniproject/notebooks/wandb/run-20210330_081449-y1t0bi5a/logs/debug-internal.log</code>"
      ],
      "text/plain": [
       "<IPython.core.display.HTML object>"
      ]
     },
     "metadata": {},
     "output_type": "display_data"
    },
    {
     "data": {
      "text/html": [
       "<h3>Run summary:</h3><br/><style>\n",
       "    table.wandb td:nth-child(1) { padding: 0 10px; text-align: right }\n",
       "    </style><table class=\"wandb\">\n",
       "<tr><td>epoch</td><td>45</td></tr><tr><td>loss</td><td>1.7496</td></tr><tr><td>accuracy</td><td>0.33701</td></tr><tr><td>val_loss</td><td>1.72265</td></tr><tr><td>val_accuracy</td><td>0.35598</td></tr><tr><td>_runtime</td><td>1378</td></tr><tr><td>_timestamp</td><td>1617089867</td></tr><tr><td>_step</td><td>45</td></tr><tr><td>best_val_loss</td><td>1.67639</td></tr><tr><td>best_epoch</td><td>42</td></tr></table>"
      ],
      "text/plain": [
       "<IPython.core.display.HTML object>"
      ]
     },
     "metadata": {},
     "output_type": "display_data"
    },
    {
     "data": {
      "text/html": [
       "<h3>Run history:</h3><br/><style>\n",
       "    table.wandb td:nth-child(1) { padding: 0 10px; text-align: right }\n",
       "    </style><table class=\"wandb\">\n",
       "<tr><td>epoch</td><td>▁▁▁▁▂▂▂▂▂▃▃▃▃▃▄▄▄▄▄▄▅▅▅▅▅▅▆▆▆▆▆▇▇▇▇▇████</td></tr><tr><td>loss</td><td>█▅▄▄▄▄▄▃▃▃▃▃▃▃▂▂▂▂▂▂▂▂▂▂▂▂▂▂▂▂▂▁▁▂▁▂▁▁▁▁</td></tr><tr><td>accuracy</td><td>▁▂▃▃▃▄▄▄▅▅▆▅▅▅▆▆▆▆▆▆▇▆▇▇▆▇▆▇▇▇▇█▇▇█▇███▇</td></tr><tr><td>val_loss</td><td>█▇▇▆▆▆▆▅▅▅▅▅▄▄▃▄▃▃▃▃▃▃▃▃▃▂▂▂▃▃▂▂▂▂▂▂▁▁▂▂</td></tr><tr><td>val_accuracy</td><td>▁▃▁▃▃▄▅▅▅▅▄▆▅▄▆▆▆▆▆▇▇▇▆▆▆▇▆▇▄▆▆▇▇▇▇▇▇█▇▆</td></tr><tr><td>_runtime</td><td>▁▁▁▁▂▂▂▂▂▃▃▃▃▃▄▄▄▄▄▄▅▅▅▅▅▅▆▆▆▆▆▇▇▇▇▇████</td></tr><tr><td>_timestamp</td><td>▁▁▁▁▂▂▂▂▂▃▃▃▃▃▄▄▄▄▄▄▅▅▅▅▅▅▆▆▆▆▆▇▇▇▇▇████</td></tr><tr><td>_step</td><td>▁▁▁▁▂▂▂▂▂▃▃▃▃▃▄▄▄▄▄▄▅▅▅▅▅▅▆▆▆▆▆▇▇▇▇▇████</td></tr></table><br/>"
      ],
      "text/plain": [
       "<IPython.core.display.HTML object>"
      ]
     },
     "metadata": {},
     "output_type": "display_data"
    },
    {
     "data": {
      "text/html": [
       "Synced 5 W&B file(s), 1 media file(s), 0 artifact file(s) and 1 other file(s)"
      ],
      "text/plain": [
       "<IPython.core.display.HTML object>"
      ]
     },
     "metadata": {},
     "output_type": "display_data"
    },
    {
     "data": {
      "text/html": [
       "\n",
       "                    <br/>Synced <strong style=\"color:#cdcd00\">rose-sweep-72</strong>: <a href=\"https://wandb.ai/charlieisalright/sentiment/runs/y1t0bi5a\" target=\"_blank\">https://wandb.ai/charlieisalright/sentiment/runs/y1t0bi5a</a><br/>\n",
       "                "
      ],
      "text/plain": [
       "<IPython.core.display.HTML object>"
      ]
     },
     "metadata": {},
     "output_type": "display_data"
    },
    {
     "name": "stderr",
     "output_type": "stream",
     "text": [
      "\u001b[34m\u001b[1mwandb\u001b[0m: Agent Starting Run: c0bplj8u with config:\n",
      "\u001b[34m\u001b[1mwandb\u001b[0m: \tbatch_size: 36\n",
      "\u001b[34m\u001b[1mwandb\u001b[0m: \tepochs: 13\n",
      "\u001b[34m\u001b[1mwandb\u001b[0m: \tlearning_rate: 0.007948434823950539\n",
      "Failed to detect the name of this notebook, you can set it manually with the WANDB_NOTEBOOK_NAME environment variable to enable code saving.\n",
      "\u001b[34m\u001b[1mwandb\u001b[0m: \u001b[33mWARNING\u001b[0m Ignored wandb.init() arg project when running a sweep\n",
      "\u001b[34m\u001b[1mwandb\u001b[0m: \u001b[33mWARNING\u001b[0m Ignored wandb.init() arg entity when running a sweep\n"
     ]
    },
    {
     "data": {
      "text/html": [
       "\n",
       "                Tracking run with wandb version 0.10.23<br/>\n",
       "                Syncing run <strong style=\"color:#cdcd00\">spring-sweep-73</strong> to <a href=\"https://wandb.ai\" target=\"_blank\">Weights & Biases</a> <a href=\"https://docs.wandb.com/integrations/jupyter.html\" target=\"_blank\">(Documentation)</a>.<br/>\n",
       "                Project page: <a href=\"https://wandb.ai/charlieisalright/sentiment\" target=\"_blank\">https://wandb.ai/charlieisalright/sentiment</a><br/>\n",
       "                Sweep page: <a href=\"https://wandb.ai/charlieisalright/sentiment/sweeps/fnf3wbru\" target=\"_blank\">https://wandb.ai/charlieisalright/sentiment/sweeps/fnf3wbru</a><br/>\n",
       "Run page: <a href=\"https://wandb.ai/charlieisalright/sentiment/runs/c0bplj8u\" target=\"_blank\">https://wandb.ai/charlieisalright/sentiment/runs/c0bplj8u</a><br/>\n",
       "                Run data is saved locally in <code>/home/charlie/Documents/courses/miniproject/notebooks/wandb/run-20210330_083754-c0bplj8u</code><br/><br/>\n",
       "            "
      ],
      "text/plain": [
       "<IPython.core.display.HTML object>"
      ]
     },
     "metadata": {},
     "output_type": "display_data"
    },
    {
     "name": "stdout",
     "output_type": "stream",
     "text": [
      "Epoch 1/13\n",
      "63/70 [==========================>...] - ETA: 3s - loss: 2.2466 - accuracy: 0.1516WARNING:tensorflow:Your input ran out of data; interrupting training. Make sure that your dataset or generator can generate at least `steps_per_epoch * epochs` batches (in this case, 910 batches). You may need to use the repeat() function when building your dataset.\n",
      "63/70 [==========================>...] - 42s 670ms/step - loss: 2.2466 - accuracy: 0.1516 - val_loss: 2.0615 - val_accuracy: 0.1454\n"
     ]
    },
    {
     "data": {
      "text/html": [
       "<br/>Waiting for W&B process to finish, PID 176968<br/>Program ended successfully."
      ],
      "text/plain": [
       "<IPython.core.display.HTML object>"
      ]
     },
     "metadata": {},
     "output_type": "display_data"
    },
    {
     "data": {
      "text/html": [
       "Find user logs for this run at: <code>/home/charlie/Documents/courses/miniproject/notebooks/wandb/run-20210330_083754-c0bplj8u/logs/debug.log</code>"
      ],
      "text/plain": [
       "<IPython.core.display.HTML object>"
      ]
     },
     "metadata": {},
     "output_type": "display_data"
    },
    {
     "data": {
      "text/html": [
       "Find internal logs for this run at: <code>/home/charlie/Documents/courses/miniproject/notebooks/wandb/run-20210330_083754-c0bplj8u/logs/debug-internal.log</code>"
      ],
      "text/plain": [
       "<IPython.core.display.HTML object>"
      ]
     },
     "metadata": {},
     "output_type": "display_data"
    },
    {
     "data": {
      "text/html": [
       "<h3>Run summary:</h3><br/><style>\n",
       "    table.wandb td:nth-child(1) { padding: 0 10px; text-align: right }\n",
       "    </style><table class=\"wandb\">\n",
       "<tr><td>epoch</td><td>0</td></tr><tr><td>loss</td><td>2.24661</td></tr><tr><td>accuracy</td><td>0.15156</td></tr><tr><td>val_loss</td><td>2.06155</td></tr><tr><td>val_accuracy</td><td>0.14538</td></tr><tr><td>_runtime</td><td>61</td></tr><tr><td>_timestamp</td><td>1617089935</td></tr><tr><td>_step</td><td>0</td></tr><tr><td>best_val_loss</td><td>2.06155</td></tr><tr><td>best_epoch</td><td>0</td></tr></table>"
      ],
      "text/plain": [
       "<IPython.core.display.HTML object>"
      ]
     },
     "metadata": {},
     "output_type": "display_data"
    },
    {
     "data": {
      "text/html": [
       "<h3>Run history:</h3><br/><style>\n",
       "    table.wandb td:nth-child(1) { padding: 0 10px; text-align: right }\n",
       "    </style><table class=\"wandb\">\n",
       "<tr><td>epoch</td><td>▁</td></tr><tr><td>loss</td><td>▁</td></tr><tr><td>accuracy</td><td>▁</td></tr><tr><td>val_loss</td><td>▁</td></tr><tr><td>val_accuracy</td><td>▁</td></tr><tr><td>_runtime</td><td>▁</td></tr><tr><td>_timestamp</td><td>▁</td></tr><tr><td>_step</td><td>▁</td></tr></table><br/>"
      ],
      "text/plain": [
       "<IPython.core.display.HTML object>"
      ]
     },
     "metadata": {},
     "output_type": "display_data"
    },
    {
     "data": {
      "text/html": [
       "Synced 5 W&B file(s), 1 media file(s), 0 artifact file(s) and 1 other file(s)"
      ],
      "text/plain": [
       "<IPython.core.display.HTML object>"
      ]
     },
     "metadata": {},
     "output_type": "display_data"
    },
    {
     "data": {
      "text/html": [
       "\n",
       "                    <br/>Synced <strong style=\"color:#cdcd00\">spring-sweep-73</strong>: <a href=\"https://wandb.ai/charlieisalright/sentiment/runs/c0bplj8u\" target=\"_blank\">https://wandb.ai/charlieisalright/sentiment/runs/c0bplj8u</a><br/>\n",
       "                "
      ],
      "text/plain": [
       "<IPython.core.display.HTML object>"
      ]
     },
     "metadata": {},
     "output_type": "display_data"
    },
    {
     "name": "stderr",
     "output_type": "stream",
     "text": [
      "\u001b[34m\u001b[1mwandb\u001b[0m: Agent Starting Run: nwlrev61 with config:\n",
      "\u001b[34m\u001b[1mwandb\u001b[0m: \tbatch_size: 13\n",
      "\u001b[34m\u001b[1mwandb\u001b[0m: \tepochs: 50\n",
      "\u001b[34m\u001b[1mwandb\u001b[0m: \tlearning_rate: 0.0011110784180112267\n",
      "Failed to detect the name of this notebook, you can set it manually with the WANDB_NOTEBOOK_NAME environment variable to enable code saving.\n",
      "\u001b[34m\u001b[1mwandb\u001b[0m: \u001b[33mWARNING\u001b[0m Ignored wandb.init() arg project when running a sweep\n",
      "\u001b[34m\u001b[1mwandb\u001b[0m: \u001b[33mWARNING\u001b[0m Ignored wandb.init() arg entity when running a sweep\n"
     ]
    },
    {
     "data": {
      "text/html": [
       "\n",
       "                Tracking run with wandb version 0.10.23<br/>\n",
       "                Syncing run <strong style=\"color:#cdcd00\">driven-sweep-74</strong> to <a href=\"https://wandb.ai\" target=\"_blank\">Weights & Biases</a> <a href=\"https://docs.wandb.com/integrations/jupyter.html\" target=\"_blank\">(Documentation)</a>.<br/>\n",
       "                Project page: <a href=\"https://wandb.ai/charlieisalright/sentiment\" target=\"_blank\">https://wandb.ai/charlieisalright/sentiment</a><br/>\n",
       "                Sweep page: <a href=\"https://wandb.ai/charlieisalright/sentiment/sweeps/fnf3wbru\" target=\"_blank\">https://wandb.ai/charlieisalright/sentiment/sweeps/fnf3wbru</a><br/>\n",
       "Run page: <a href=\"https://wandb.ai/charlieisalright/sentiment/runs/nwlrev61\" target=\"_blank\">https://wandb.ai/charlieisalright/sentiment/runs/nwlrev61</a><br/>\n",
       "                Run data is saved locally in <code>/home/charlie/Documents/courses/miniproject/notebooks/wandb/run-20210330_083935-nwlrev61</code><br/><br/>\n",
       "            "
      ],
      "text/plain": [
       "<IPython.core.display.HTML object>"
      ]
     },
     "metadata": {},
     "output_type": "display_data"
    },
    {
     "name": "stdout",
     "output_type": "stream",
     "text": [
      "Epoch 1/50\n",
      "70/70 [==============================] - 22s 310ms/step - loss: 2.4345 - accuracy: 0.1374 - val_loss: 2.0176 - val_accuracy: 0.1875\n",
      "Epoch 2/50\n",
      "70/70 [==============================] - 19s 278ms/step - loss: 2.0713 - accuracy: 0.1737 - val_loss: 2.0394 - val_accuracy: 0.1766\n",
      "Epoch 3/50\n",
      "70/70 [==============================] - 20s 286ms/step - loss: 2.0354 - accuracy: 0.1989 - val_loss: 1.9949 - val_accuracy: 0.2364\n",
      "Epoch 4/50\n",
      "70/70 [==============================] - 20s 281ms/step - loss: 2.0290 - accuracy: 0.2033 - val_loss: 2.0070 - val_accuracy: 0.2337\n",
      "Epoch 5/50\n",
      "70/70 [==============================] - 20s 286ms/step - loss: 2.0176 - accuracy: 0.1989 - val_loss: 1.9684 - val_accuracy: 0.2351\n",
      "Epoch 6/50\n",
      "70/70 [==============================] - 20s 285ms/step - loss: 1.9986 - accuracy: 0.1989 - val_loss: 1.9671 - val_accuracy: 0.2147\n",
      "Epoch 7/50\n",
      "70/70 [==============================] - 21s 293ms/step - loss: 2.0032 - accuracy: 0.2165 - val_loss: 1.9615 - val_accuracy: 0.2024\n",
      "Epoch 8/50\n",
      "70/70 [==============================] - 20s 279ms/step - loss: 1.9896 - accuracy: 0.2160 - val_loss: 1.9627 - val_accuracy: 0.2201\n",
      "Epoch 9/50\n",
      "70/70 [==============================] - 20s 285ms/step - loss: 1.9674 - accuracy: 0.2187 - val_loss: 1.9350 - val_accuracy: 0.2704\n",
      "Epoch 10/50\n",
      "70/70 [==============================] - 20s 280ms/step - loss: 1.9680 - accuracy: 0.2242 - val_loss: 1.9384 - val_accuracy: 0.2568\n",
      "Epoch 11/50\n",
      "70/70 [==============================] - 21s 295ms/step - loss: 1.9458 - accuracy: 0.2286 - val_loss: 1.9325 - val_accuracy: 0.2160\n",
      "Epoch 12/50\n",
      "70/70 [==============================] - 20s 284ms/step - loss: 1.9363 - accuracy: 0.2319 - val_loss: 1.9094 - val_accuracy: 0.2772\n",
      "Epoch 13/50\n",
      "70/70 [==============================] - 20s 287ms/step - loss: 1.9450 - accuracy: 0.2451 - val_loss: 1.8873 - val_accuracy: 0.3016\n",
      "Epoch 14/50\n",
      "70/70 [==============================] - 20s 287ms/step - loss: 1.9588 - accuracy: 0.2473 - val_loss: 1.8858 - val_accuracy: 0.2717\n",
      "Epoch 15/50\n",
      "70/70 [==============================] - 20s 285ms/step - loss: 1.9004 - accuracy: 0.2516 - val_loss: 1.8674 - val_accuracy: 0.2758\n",
      "Epoch 16/50\n",
      "70/70 [==============================] - 20s 286ms/step - loss: 1.9362 - accuracy: 0.2374 - val_loss: 1.8559 - val_accuracy: 0.2867\n",
      "Epoch 17/50\n",
      "70/70 [==============================] - 19s 277ms/step - loss: 1.8854 - accuracy: 0.2784 - val_loss: 1.8632 - val_accuracy: 0.2690\n",
      "Epoch 18/50\n",
      "70/70 [==============================] - 19s 277ms/step - loss: 1.9144 - accuracy: 0.2572 - val_loss: 1.8574 - val_accuracy: 0.2853\n",
      "Epoch 19/50\n",
      "70/70 [==============================] - 19s 278ms/step - loss: 1.9105 - accuracy: 0.2606 - val_loss: 1.8762 - val_accuracy: 0.3451\n",
      "Epoch 20/50\n",
      "70/70 [==============================] - 19s 278ms/step - loss: 1.9130 - accuracy: 0.2472 - val_loss: 1.8712 - val_accuracy: 0.2717\n",
      "Epoch 21/50\n",
      "70/70 [==============================] - 20s 290ms/step - loss: 1.9210 - accuracy: 0.2405 - val_loss: 1.8454 - val_accuracy: 0.3397\n",
      "Epoch 22/50\n",
      "70/70 [==============================] - 20s 280ms/step - loss: 1.8937 - accuracy: 0.2637 - val_loss: 1.8873 - val_accuracy: 0.3016\n",
      "Epoch 23/50\n",
      "70/70 [==============================] - 20s 286ms/step - loss: 1.9053 - accuracy: 0.2582 - val_loss: 1.8191 - val_accuracy: 0.3057\n",
      "Epoch 24/50\n",
      "70/70 [==============================] - 20s 282ms/step - loss: 1.9024 - accuracy: 0.2673 - val_loss: 1.8772 - val_accuracy: 0.2989\n",
      "Epoch 25/50\n",
      "70/70 [==============================] - 20s 282ms/step - loss: 1.9232 - accuracy: 0.2571 - val_loss: 1.8652 - val_accuracy: 0.2962\n",
      "Epoch 26/50\n",
      "70/70 [==============================] - 20s 281ms/step - loss: 1.8982 - accuracy: 0.2440 - val_loss: 1.8617 - val_accuracy: 0.2989\n",
      "Epoch 27/50\n",
      "70/70 [==============================] - 20s 284ms/step - loss: 1.9032 - accuracy: 0.2549 - val_loss: 1.8657 - val_accuracy: 0.2731\n",
      "Epoch 28/50\n",
      "70/70 [==============================] - 20s 281ms/step - loss: 1.8790 - accuracy: 0.2681 - val_loss: 1.8211 - val_accuracy: 0.3139\n",
      "Epoch 29/50\n",
      "70/70 [==============================] - 20s 280ms/step - loss: 1.8419 - accuracy: 0.2857 - val_loss: 1.8789 - val_accuracy: 0.2568\n",
      "Epoch 30/50\n",
      "70/70 [==============================] - 20s 279ms/step - loss: 1.8740 - accuracy: 0.2516 - val_loss: 1.8357 - val_accuracy: 0.3111\n",
      "Epoch 31/50\n",
      "70/70 [==============================] - 20s 279ms/step - loss: 1.8640 - accuracy: 0.2780 - val_loss: 1.8198 - val_accuracy: 0.3315\n",
      "Epoch 32/50\n",
      "70/70 [==============================] - 20s 285ms/step - loss: 1.8619 - accuracy: 0.2984 - val_loss: 1.8095 - val_accuracy: 0.3370\n",
      "Epoch 33/50\n",
      "70/70 [==============================] - 21s 293ms/step - loss: 1.8797 - accuracy: 0.2606 - val_loss: 1.7839 - val_accuracy: 0.3397\n",
      "Epoch 34/50\n",
      "70/70 [==============================] - 20s 279ms/step - loss: 1.8473 - accuracy: 0.2862 - val_loss: 1.8474 - val_accuracy: 0.2622\n",
      "Epoch 35/50\n",
      "70/70 [==============================] - 19s 278ms/step - loss: 1.8599 - accuracy: 0.2739 - val_loss: 1.8388 - val_accuracy: 0.3329\n",
      "Epoch 36/50\n",
      "70/70 [==============================] - 19s 278ms/step - loss: 1.8493 - accuracy: 0.2728 - val_loss: 1.8320 - val_accuracy: 0.2690\n",
      "Epoch 37/50\n",
      "70/70 [==============================] - 19s 278ms/step - loss: 1.8669 - accuracy: 0.2595 - val_loss: 1.8193 - val_accuracy: 0.3451\n",
      "Epoch 38/50\n",
      "70/70 [==============================] - 20s 287ms/step - loss: 1.8501 - accuracy: 0.2795 - val_loss: 1.7805 - val_accuracy: 0.3465\n",
      "Epoch 39/50\n",
      "70/70 [==============================] - 20s 283ms/step - loss: 1.8590 - accuracy: 0.2879 - val_loss: 1.7854 - val_accuracy: 0.3261\n",
      "Epoch 40/50\n",
      "70/70 [==============================] - 20s 287ms/step - loss: 1.7914 - accuracy: 0.3275 - val_loss: 1.7759 - val_accuracy: 0.3166\n",
      "Epoch 41/50\n",
      "70/70 [==============================] - 20s 281ms/step - loss: 1.8260 - accuracy: 0.2978 - val_loss: 1.7821 - val_accuracy: 0.2962\n",
      "Epoch 42/50\n",
      "70/70 [==============================] - 20s 280ms/step - loss: 1.8356 - accuracy: 0.3011 - val_loss: 1.7823 - val_accuracy: 0.3139\n",
      "Epoch 43/50\n",
      "70/70 [==============================] - 20s 284ms/step - loss: 1.7997 - accuracy: 0.3107 - val_loss: 1.7662 - val_accuracy: 0.3274\n",
      "Epoch 44/50\n",
      "70/70 [==============================] - 20s 283ms/step - loss: 1.8538 - accuracy: 0.2873 - val_loss: 1.7504 - val_accuracy: 0.3315\n",
      "Epoch 45/50\n",
      "70/70 [==============================] - 20s 287ms/step - loss: 1.8105 - accuracy: 0.3286 - val_loss: 1.7410 - val_accuracy: 0.3628\n",
      "Epoch 46/50\n",
      "70/70 [==============================] - 20s 280ms/step - loss: 1.7776 - accuracy: 0.3253 - val_loss: 1.7551 - val_accuracy: 0.3315\n",
      "Epoch 47/50\n",
      "70/70 [==============================] - 20s 287ms/step - loss: 1.7879 - accuracy: 0.3209 - val_loss: 1.7217 - val_accuracy: 0.3750\n",
      "Epoch 48/50\n",
      "70/70 [==============================] - 20s 280ms/step - loss: 1.8567 - accuracy: 0.3000 - val_loss: 1.7867 - val_accuracy: 0.3288\n",
      "Epoch 49/50\n",
      "70/70 [==============================] - 20s 280ms/step - loss: 1.8466 - accuracy: 0.2868 - val_loss: 1.7344 - val_accuracy: 0.3587\n",
      "Epoch 50/50\n",
      "70/70 [==============================] - 19s 278ms/step - loss: 1.8132 - accuracy: 0.3174 - val_loss: 1.7523 - val_accuracy: 0.3302\n"
     ]
    },
    {
     "data": {
      "text/html": [
       "<br/>Waiting for W&B process to finish, PID 177021<br/>Program ended successfully."
      ],
      "text/plain": [
       "<IPython.core.display.HTML object>"
      ]
     },
     "metadata": {},
     "output_type": "display_data"
    },
    {
     "data": {
      "text/html": [
       "Find user logs for this run at: <code>/home/charlie/Documents/courses/miniproject/notebooks/wandb/run-20210330_083935-nwlrev61/logs/debug.log</code>"
      ],
      "text/plain": [
       "<IPython.core.display.HTML object>"
      ]
     },
     "metadata": {},
     "output_type": "display_data"
    },
    {
     "data": {
      "text/html": [
       "Find internal logs for this run at: <code>/home/charlie/Documents/courses/miniproject/notebooks/wandb/run-20210330_083935-nwlrev61/logs/debug-internal.log</code>"
      ],
      "text/plain": [
       "<IPython.core.display.HTML object>"
      ]
     },
     "metadata": {},
     "output_type": "display_data"
    },
    {
     "data": {
      "text/html": [
       "<h3>Run summary:</h3><br/><style>\n",
       "    table.wandb td:nth-child(1) { padding: 0 10px; text-align: right }\n",
       "    </style><table class=\"wandb\">\n",
       "<tr><td>epoch</td><td>49</td></tr><tr><td>loss</td><td>1.81315</td></tr><tr><td>accuracy</td><td>0.31737</td></tr><tr><td>val_loss</td><td>1.75225</td></tr><tr><td>val_accuracy</td><td>0.33016</td></tr><tr><td>_runtime</td><td>1035</td></tr><tr><td>_timestamp</td><td>1617091011</td></tr><tr><td>_step</td><td>49</td></tr><tr><td>best_val_loss</td><td>1.72165</td></tr><tr><td>best_epoch</td><td>46</td></tr></table>"
      ],
      "text/plain": [
       "<IPython.core.display.HTML object>"
      ]
     },
     "metadata": {},
     "output_type": "display_data"
    },
    {
     "data": {
      "text/html": [
       "<h3>Run history:</h3><br/><style>\n",
       "    table.wandb td:nth-child(1) { padding: 0 10px; text-align: right }\n",
       "    </style><table class=\"wandb\">\n",
       "<tr><td>epoch</td><td>▁▁▁▁▂▂▂▂▂▃▃▃▃▃▃▄▄▄▄▄▅▅▅▅▅▅▆▆▆▆▆▆▇▇▇▇▇███</td></tr><tr><td>loss</td><td>█▄▄▄▃▃▃▃▃▃▃▃▃▂▂▂▃▂▂▂▂▂▂▂▂▂▂▂▂▂▂▂▂▂▁▂▁▁▂▁</td></tr><tr><td>accuracy</td><td>▁▂▃▃▃▄▄▄▄▅▅▅▅▆▅▆▅▆▆▆▅▅▆▇▆▇▆▇▆▆▆▇▇▇▇▇██▇█</td></tr><tr><td>val_loss</td><td>██▇▇▆▆▆▆▆▅▅▅▄▄▄▄▄▅▃▄▄▄▃▄▃▃▂▄▃▃▂▂▂▂▂▂▂▁▂▂</td></tr><tr><td>val_accuracy</td><td>▁▁▃▃▂▂▃▄▂▅▅▄▅▄▅▇▇▅▆▅▅▄▆▄▆▇▇▄▄▇▇▆▅▆▆▆▆█▆▆</td></tr><tr><td>_runtime</td><td>▁▁▁▁▂▂▂▂▂▃▃▃▃▃▃▄▄▄▄▄▅▅▅▅▅▅▆▆▆▆▆▆▇▇▇▇▇███</td></tr><tr><td>_timestamp</td><td>▁▁▁▁▂▂▂▂▂▃▃▃▃▃▃▄▄▄▄▄▅▅▅▅▅▅▆▆▆▆▆▆▇▇▇▇▇███</td></tr><tr><td>_step</td><td>▁▁▁▁▂▂▂▂▂▃▃▃▃▃▃▄▄▄▄▄▅▅▅▅▅▅▆▆▆▆▆▆▇▇▇▇▇███</td></tr></table><br/>"
      ],
      "text/plain": [
       "<IPython.core.display.HTML object>"
      ]
     },
     "metadata": {},
     "output_type": "display_data"
    },
    {
     "data": {
      "text/html": [
       "Synced 5 W&B file(s), 1 media file(s), 0 artifact file(s) and 1 other file(s)"
      ],
      "text/plain": [
       "<IPython.core.display.HTML object>"
      ]
     },
     "metadata": {},
     "output_type": "display_data"
    },
    {
     "data": {
      "text/html": [
       "\n",
       "                    <br/>Synced <strong style=\"color:#cdcd00\">driven-sweep-74</strong>: <a href=\"https://wandb.ai/charlieisalright/sentiment/runs/nwlrev61\" target=\"_blank\">https://wandb.ai/charlieisalright/sentiment/runs/nwlrev61</a><br/>\n",
       "                "
      ],
      "text/plain": [
       "<IPython.core.display.HTML object>"
      ]
     },
     "metadata": {},
     "output_type": "display_data"
    },
    {
     "name": "stderr",
     "output_type": "stream",
     "text": [
      "\u001b[34m\u001b[1mwandb\u001b[0m: Agent Starting Run: 5b6r98nr with config:\n",
      "\u001b[34m\u001b[1mwandb\u001b[0m: \tbatch_size: 61\n",
      "\u001b[34m\u001b[1mwandb\u001b[0m: \tepochs: 13\n",
      "\u001b[34m\u001b[1mwandb\u001b[0m: \tlearning_rate: 0.00027551091944849046\n",
      "Failed to detect the name of this notebook, you can set it manually with the WANDB_NOTEBOOK_NAME environment variable to enable code saving.\n",
      "\u001b[34m\u001b[1mwandb\u001b[0m: \u001b[33mWARNING\u001b[0m Ignored wandb.init() arg project when running a sweep\n",
      "\u001b[34m\u001b[1mwandb\u001b[0m: \u001b[33mWARNING\u001b[0m Ignored wandb.init() arg entity when running a sweep\n"
     ]
    },
    {
     "data": {
      "text/html": [
       "\n",
       "                Tracking run with wandb version 0.10.23<br/>\n",
       "                Syncing run <strong style=\"color:#cdcd00\">gentle-sweep-75</strong> to <a href=\"https://wandb.ai\" target=\"_blank\">Weights & Biases</a> <a href=\"https://docs.wandb.com/integrations/jupyter.html\" target=\"_blank\">(Documentation)</a>.<br/>\n",
       "                Project page: <a href=\"https://wandb.ai/charlieisalright/sentiment\" target=\"_blank\">https://wandb.ai/charlieisalright/sentiment</a><br/>\n",
       "                Sweep page: <a href=\"https://wandb.ai/charlieisalright/sentiment/sweeps/fnf3wbru\" target=\"_blank\">https://wandb.ai/charlieisalright/sentiment/sweeps/fnf3wbru</a><br/>\n",
       "Run page: <a href=\"https://wandb.ai/charlieisalright/sentiment/runs/5b6r98nr\" target=\"_blank\">https://wandb.ai/charlieisalright/sentiment/runs/5b6r98nr</a><br/>\n",
       "                Run data is saved locally in <code>/home/charlie/Documents/courses/miniproject/notebooks/wandb/run-20210330_085658-5b6r98nr</code><br/><br/>\n",
       "            "
      ],
      "text/plain": [
       "<IPython.core.display.HTML object>"
      ]
     },
     "metadata": {},
     "output_type": "display_data"
    }
   ],
   "source": [
    "sweep_config = {\n",
    "    \"method\": \"bayes\",\n",
    "    \"metric\": {\n",
    "        \"name\": \"val_loss\",\n",
    "        \"goal\": \"minimize\"\n",
    "    },\n",
    "    \"parameters\":{\n",
    "        \"epochs\": {\n",
    "            \"distribution\": \"int_uniform\",\n",
    "            \"min\": 13,\n",
    "            \"max\": 50\n",
    "        },\n",
    "        \"batch_size\": {\n",
    "            \"distribution\": \"int_uniform\",\n",
    "            \"min\": 4,\n",
    "            \"max\": 64\n",
    "        },\n",
    "        \"learning_rate\": {\n",
    "            \"distribution\": \"uniform\",\n",
    "            \"min\": 0.00001,\n",
    "            \"max\": 0.01\n",
    "        }\n",
    "    }\n",
    "}\n",
    "sweep_id = \"fnf3wbru\"\n",
    "wandb.agent(sweep_id, project='sentiment', function=train)"
   ]
  },
  {
   "cell_type": "markdown",
   "id": "human-opposition",
   "metadata": {},
   "source": [
    "Finally, evaluate the network, and plot some results."
   ]
  },
  {
   "cell_type": "code",
   "execution_count": null,
   "id": "built-dakota",
   "metadata": {},
   "outputs": [],
   "source": [
    "predictions = model.predict(x=testX.astype(\"float32\"), batch_size=32)\n",
    "print(classification_report(testY.argmax(axis=1),\n",
    "\tpredictions.argmax(axis=1), target_names=lb.classes_))\n",
    "\n",
    "N = epochs\n",
    "plt.style.use(\"ggplot\")\n",
    "plt.figure()\n",
    "plt.plot(np.arange(0, N), H.history[\"loss\"], label=\"train_loss\")\n",
    "plt.plot(np.arange(0, N), H.history[\"val_loss\"], label=\"val_loss\")\n",
    "plt.plot(np.arange(0, N), H.history[\"accuracy\"], label=\"train_acc\")\n",
    "plt.plot(np.arange(0, N), H.history[\"val_accuracy\"], label=\"val_acc\")\n",
    "plt.title(\"Training Loss and Accuracy on Dataset\")\n",
    "plt.xlabel(\"Epoch #\")\n",
    "plt.ylabel(\"Loss/Accuracy\")\n",
    "plt.legend(loc=\"lower left\")\n",
    "plt.show()"
   ]
  },
  {
   "cell_type": "markdown",
   "id": "changing-gilbert",
   "metadata": {},
   "source": [
    "Finally, serialize model and label binarizer to file."
   ]
  },
  {
   "cell_type": "code",
   "execution_count": null,
   "id": "found-swing",
   "metadata": {},
   "outputs": [],
   "source": [
    "model.save(\"model/activity.model\", save_formt=\"h5\")\n",
    "with f = open(\"model/lb.pickle\", \"wb\"):\n",
    "    f.write(pickle.dumps(lb))\n",
    "    "
   ]
  },
  {
   "cell_type": "markdown",
   "id": "robust-complex",
   "metadata": {},
   "source": [
    "## NOTES\n",
    "This works but provides accuracy of only about 0.3 ish. Next thing to try is using a face details model first!!!"
   ]
  },
  {
   "cell_type": "code",
   "execution_count": null,
   "id": "entire-tampa",
   "metadata": {},
   "outputs": [],
   "source": []
  }
 ],
 "metadata": {
  "kernelspec": {
   "display_name": "Python 3",
   "language": "python",
   "name": "python3"
  },
  "language_info": {
   "codemirror_mode": {
    "name": "ipython",
    "version": 3
   },
   "file_extension": ".py",
   "mimetype": "text/x-python",
   "name": "python",
   "nbconvert_exporter": "python",
   "pygments_lexer": "ipython3",
   "version": "3.8.5"
  }
 },
 "nbformat": 4,
 "nbformat_minor": 5
}
