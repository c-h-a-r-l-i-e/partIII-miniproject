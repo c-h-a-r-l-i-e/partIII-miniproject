{
 "cells": [
  {
   "cell_type": "markdown",
   "id": "structural-hydrogen",
   "metadata": {},
   "source": [
    "# CNN Video Sentiment Analysis\n",
    "This notebook will walk through the process of training a CNN to analyse frames of videos, and then take the aggregate over frames in a video."
   ]
  },
  {
   "cell_type": "code",
   "execution_count": 1,
   "id": "tender-river",
   "metadata": {},
   "outputs": [],
   "source": [
    "import matplotlib\n",
    "from tensorflow.keras.preprocessing.image import ImageDataGenerator\n",
    "from tensorflow.keras.layers import AveragePooling2D\n",
    "from tensorflow.keras.applications import ResNet50\n",
    "from tensorflow.keras.layers import Dropout\n",
    "from tensorflow.keras.layers import Flatten\n",
    "from tensorflow.keras.layers import Dense\n",
    "from tensorflow.keras.layers import Input\n",
    "from tensorflow.keras.models import Model\n",
    "from tensorflow.keras.models import load_model\n",
    "from tensorflow.keras.optimizers import SGD\n",
    "from sklearn.preprocessing import LabelBinarizer\n",
    "from sklearn.model_selection import train_test_split\n",
    "from sklearn.metrics import classification_report\n",
    "from imutils import paths\n",
    "import random\n",
    "import matplotlib.pyplot as plt\n",
    "import numpy as np\n",
    "import argparse\n",
    "import pickle\n",
    "import cv2\n",
    "import os\n"
   ]
  },
  {
   "cell_type": "code",
   "execution_count": 2,
   "id": "lightweight-cassette",
   "metadata": {},
   "outputs": [],
   "source": [
    "# test code for converting from pytorch to keras\n"
   ]
  },
  {
   "cell_type": "code",
   "execution_count": 3,
   "id": "weekly-child",
   "metadata": {},
   "outputs": [
    {
     "name": "stderr",
     "output_type": "stream",
     "text": [
      "Failed to detect the name of this notebook, you can set it manually with the WANDB_NOTEBOOK_NAME environment variable to enable code saving.\n",
      "\u001b[34m\u001b[1mwandb\u001b[0m: Currently logged in as: \u001b[33mcharlieisalright\u001b[0m (use `wandb login --relogin` to force relogin)\n"
     ]
    },
    {
     "data": {
      "text/plain": [
       "True"
      ]
     },
     "execution_count": 3,
     "metadata": {},
     "output_type": "execute_result"
    }
   ],
   "source": [
    "import wandb\n",
    "from wandb.keras import WandbCallback\n",
    "wandb.login()"
   ]
  },
  {
   "cell_type": "code",
   "execution_count": 5,
   "id": "constant-revision",
   "metadata": {},
   "outputs": [],
   "source": [
    "# Setup the location of the various parameters needed\n",
    "\n",
    "dataset = \"../data/img_dataset/ravdess/\"\n",
    "epochs = 25\n"
   ]
  },
  {
   "cell_type": "code",
   "execution_count": 6,
   "id": "silver-reply",
   "metadata": {},
   "outputs": [],
   "source": [
    "# One of RN18-FER+, RN18-MS, or RN50\n",
    "EXPERIMENT = \"RN50\"\n"
   ]
  },
  {
   "cell_type": "markdown",
   "id": "entertaining-innocent",
   "metadata": {},
   "source": [
    "We use transfer learning, on top of the ResNet CNN, using frames extracted from our videos to get the specific model. In this case, we are training using data at 720p."
   ]
  },
  {
   "cell_type": "code",
   "execution_count": 7,
   "id": "handy-spring",
   "metadata": {},
   "outputs": [
    {
     "name": "stdout",
     "output_type": "stream",
     "text": [
      "Processing 5563 images\n",
      "Done fetching images\n"
     ]
    }
   ],
   "source": [
    "image_paths = list(paths.list_images(dataset))\n",
    "data = []\n",
    "labels = []\n",
    "\n",
    "print(\"Processing {} images\".format(len(image_paths)))\n",
    "\n",
    "\n",
    "for image_path in image_paths:\n",
    "    label = image_path.split(os.path.sep)[-2]\n",
    "    \n",
    "    # Load images, converting to RGB channels and scaling to 224 x 224\n",
    "    image = cv2.imread(image_path)\n",
    "    image = cv2.cvtColor(image, cv2.COLOR_BGR2RGB)\n",
    "    image = cv2.resize(image, (224, 224))\n",
    "    \n",
    "    if EXPERIMENT in ['RN18-FER+', 'RN18-MS']:\n",
    "        image = image.transpose(2,0,1)\n",
    "    \n",
    "    data.append(image)\n",
    "    labels.append(label)\n",
    "    \n",
    "print(\"Done fetching images\")\n",
    "    \n",
    "data = np.array(data)\n",
    "labels = np.array(labels)\n",
    "\n",
    "# One-hot encoding\n",
    "lb = LabelBinarizer()\n",
    "labels = lb.fit_transform(labels)\n",
    "\n",
    "(trainX, testX, trainY, testY) = train_test_split(data, labels, \n",
    "                        test_size=0.25, stratify=labels, random_state=42)\n",
    "\n",
    "# Randomly change the train set so results are more generalizable\n",
    "        \n",
    "if EXPERIMENT in ['RN18-FER+', 'RN18-MS']:\n",
    "    data_format = 'channels_first'\n",
    "else:\n",
    "    data_format = 'channels_last'\n",
    "train_augmentation = ImageDataGenerator(\n",
    "    rotation_range=30,\n",
    "    zoom_range=0.15,\n",
    "    width_shift_range=0.2,\n",
    "    height_shift_range=0.2,\n",
    "    shear_range=0.15,\n",
    "    horizontal_flip=True,\n",
    "    fill_mode=\"nearest\",\n",
    "    data_format=data_format)\n",
    "\n",
    "val_augmentation = ImageDataGenerator(data_format=data_format)\n",
    "mean = np.array([123.68, 116.779, 103.939], dtype=\"float32\")\n",
    "train_augmentation.mean = mean\n",
    "val_augmentation.mean = mean"
   ]
  },
  {
   "cell_type": "code",
   "execution_count": null,
   "id": "bulgarian-crest",
   "metadata": {},
   "outputs": [],
   "source": [
    "# serialize the label binarizer to disk\n",
    "f = open(\"label_bin\", \"wb\")\n",
    "f.write(pickle.dumps(lb))\n",
    "f.close()"
   ]
  },
  {
   "cell_type": "code",
   "execution_count": null,
   "id": "trying-sociology",
   "metadata": {},
   "outputs": [],
   "source": [
    "def get_RN50_model():\n",
    "    base_model = ResNet50(weights=\"imagenet\", include_top=False, \n",
    "                      input_tensor=Input(shape=(224, 224, 3)))\n",
    "\n",
    "    head_model = base_model.output\n",
    "    head_model = AveragePooling2D(pool_size=(7, 7))(head_model)\n",
    "    head_model = Flatten(name=\"flatten\")(head_model)\n",
    "    head_model = Dense(512, activation=\"relu\")(head_model)\n",
    "    head_model = Dropout(0.5)(head_model)\n",
    "    head_model = Dense(len(lb.classes_), activation=\"softmax\")(head_model)\n",
    "\n",
    "    model = Model(inputs=base_model.input, outputs=head_model)\n",
    "\n",
    "    # Ensure we don't train the base model\n",
    "    for layer in base_model.layers:\n",
    "        layer.trainable = False\n",
    "        \n",
    "    return model\n",
    "\n",
    "def get_fer_model():\n",
    "    # TODO work out the input shape here!\n",
    "    base_model = load_model('../models/fan-fer', compile=False)\n",
    "    base_model._layers.pop()\n",
    "    base_model._layers.pop()\n",
    "    base_model._layers.pop()\n",
    "    base_model._layers.pop()\n",
    "    base_model._layers.pop()\n",
    "    base_model._layers.pop()\n",
    "    \n",
    "    head_model = base_model.layers[-1].output\n",
    "    head_model = AveragePooling2D(pool_size=(7, 7))(head_model)\n",
    "    head_model = Flatten(name=\"flatten\")(head_model)\n",
    "    head_model = Dense(512, activation=\"relu\")(head_model)\n",
    "    head_model = Dropout(0.5)(head_model)\n",
    "    head_model = Dense(len(lb.classes_), activation=\"softmax\")(head_model)\n",
    "\n",
    "    model = Model(inputs=base_model.input, outputs=head_model)\n",
    "    \n",
    "    # Ensure we don't train the base model\n",
    "    for layer in base_model.layers:\n",
    "        layer.trainable = False\n",
    "    return model\n",
    "\n",
    "\n",
    "def get_ms1m_model():\n",
    "    base_model = load_model('../models/fan-ms1m', compile=False)\n",
    "    base_model._layers.pop()\n",
    "    base_model._layers.pop()\n",
    "    base_model._layers.pop()\n",
    "    base_model._layers.pop()\n",
    "    base_model._layers.pop()\n",
    "    base_model._layers.pop()\n",
    "    \n",
    "    head_model = base_model.layers[-1].output\n",
    "    head_model = AveragePooling2D(pool_size=(7, 7))(head_model)\n",
    "    head_model = Flatten(name=\"flatten\")(head_model)\n",
    "    head_model = Dense(512, activation=\"relu\")(head_model)\n",
    "    head_model = Dropout(0.5)(head_model)\n",
    "    head_model = Dense(len(lb.classes_), activation=\"softmax\")(head_model)\n",
    "\n",
    "    model = Model(inputs=base_model.input, outputs=head_model)\n",
    "    \n",
    "    # Ensure we don't train the base model\n",
    "    for layer in base_model.layers:\n",
    "        layer.trainable = False\n",
    "    return model\n",
    "\n",
    "def get_model():\n",
    "    if EXPERIMENT == \"RN18-FER+\":\n",
    "        return get_fer_model()\n",
    "\n",
    "    elif EXPERIMENT == \"RN18-MS\":\n",
    "        return get_ms1m_model()\n",
    "    \n",
    "    elif EXPERIMENT == \"RN50\":\n",
    "        return get_RN50_model()\n",
    "    \n",
    "    else:\n",
    "        raise ValueError(\"Invalid EXPERIMENT setting : {}\".format(EXPERIMENT))"
   ]
  },
  {
   "cell_type": "code",
   "execution_count": null,
   "id": "smooth-asbestos",
   "metadata": {},
   "outputs": [],
   "source": [
    "def train():\n",
    "    # default hyperparameters\n",
    "    config_defaults = {\n",
    "        'batch_size' : 31,\n",
    "        'learning_rate' : 0.0008475,\n",
    "        'epochs': 49\n",
    "    }\n",
    "\n",
    "    wandb.init(project='sentiment', entity='charlieisalright', config=config_defaults)\n",
    "    config = wandb.config\n",
    "    \n",
    "    config.architecture_name = \"ResNet18\"\n",
    "    config.dataset = \"ms1m\"\n",
    "    \n",
    "    # Compile the model, using stochastic gradient descent optimization.\n",
    "    opt = SGD(lr=config.learning_rate, momentum=0.9, decay=1e-4 / config.epochs)\n",
    "    model = get_model()\n",
    "    model.compile(loss=\"categorical_crossentropy\", optimizer=opt,\n",
    "        metrics=[\"accuracy\"])\n",
    "\n",
    "    # Now we can start training!\n",
    "    H = model.fit(\n",
    "        x = train_augmentation.flow(trainX, trainY, batch_size=config.batch_size),\n",
    "        steps_per_epoch = len(trainX) // config.batch_size,\n",
    "        validation_data = val_augmentation.flow(testX, testY),\n",
    "        validation_steps = len(testX) // config.batch_size,\n",
    "        epochs = config.epochs,\n",
    "        callbacks = [WandbCallback()]\n",
    "    )\n"
   ]
  },
  {
   "cell_type": "markdown",
   "id": "joint-house",
   "metadata": {},
   "source": [
    "Next, we setup a sweep of hyperparameters."
   ]
  },
  {
   "cell_type": "code",
   "execution_count": null,
   "id": "collectible-tactics",
   "metadata": {},
   "outputs": [],
   "source": [
    "train()"
   ]
  },
  {
   "cell_type": "code",
   "execution_count": null,
   "id": "dominant-stand",
   "metadata": {},
   "outputs": [],
   "source": [
    "sweep_config = {\n",
    "    \"method\": \"bayes\",\n",
    "    \"metric\": {\n",
    "        \"name\": \"val_loss\",\n",
    "        \"goal\": \"minimize\"\n",
    "    },\n",
    "    \"parameters\":{\n",
    "        \"epochs\": {\n",
    "            \"distribution\": \"int_uniform\",\n",
    "            \"min\": 13,\n",
    "            \"max\": 50\n",
    "        },\n",
    "        \"batch_size\": {\n",
    "            \"distribution\": \"int_uniform\",\n",
    "            \"min\": 4,\n",
    "            \"max\": 64\n",
    "        },\n",
    "        \"learning_rate\": {\n",
    "            \"distribution\": \"uniform\",\n",
    "            \"min\": 0.00001,\n",
    "            \"max\": 0.01\n",
    "        }\n",
    "    }\n",
    "}\n",
    "sweep_id = 'ocuhuuax' #wandb.sweep(sweep_config, project='sentiment')\n",
    "wandb.agent(sweep_id, project='sentiment', function=train)"
   ]
  },
  {
   "cell_type": "markdown",
   "id": "stretch-surrey",
   "metadata": {},
   "source": [
    "Finally, evaluate the network, and plot some results."
   ]
  },
  {
   "cell_type": "code",
   "execution_count": 8,
   "id": "ancient-carbon",
   "metadata": {},
   "outputs": [
    {
     "name": "stdout",
     "output_type": "stream",
     "text": [
      "              precision    recall  f1-score   support\n",
      "\n",
      "       angry       0.48      0.63      0.55       190\n",
      "        calm       0.55      0.41      0.47       189\n",
      "     disgust       0.44      0.63      0.52       193\n",
      "     fearful       0.40      0.49      0.45       180\n",
      "       happy       0.61      0.78      0.68       185\n",
      "     neutral       0.62      0.11      0.19        89\n",
      "         sad       0.41      0.29      0.34       188\n",
      "   surprised       0.39      0.26      0.31       177\n",
      "\n",
      "    accuracy                           0.48      1391\n",
      "   macro avg       0.49      0.45      0.44      1391\n",
      "weighted avg       0.48      0.48      0.46      1391\n",
      "\n"
     ]
    }
   ],
   "source": [
    "model = load_model(\"../models/best-models/resnet50.h5\")\n",
    "\n",
    "predictions = model.predict(x=testX.astype(\"float32\"), batch_size=32)\n",
    "print(classification_report(testY.argmax(axis=1),\n",
    "\tpredictions.argmax(axis=1), target_names=lb.classes_))\n",
    "\n"
   ]
  },
  {
   "cell_type": "code",
   "execution_count": null,
   "id": "angry-found",
   "metadata": {},
   "outputs": [],
   "source": [
    "# Plot confusion matrix\n"
   ]
  },
  {
   "cell_type": "code",
   "execution_count": 22,
   "id": "raising-tomato",
   "metadata": {},
   "outputs": [
    {
     "data": {
      "image/png": "[encoded data removed]",
      "text/plain": [
       "<Figure size 432x288 with 1 Axes>"
      ]
     },
     "metadata": {
      "needs_background": "light"
     },
     "output_type": "display_data"
    }
   ],
   "source": [
    "from sklearn.metrics import confusion_matrix\n",
    "import itertools\n",
    "\n",
    "matrix = confusion_matrix(testY.argmax(axis=1), predictions.argmax(axis=1), normalize='true')\n",
    "\n",
    "plt.imshow(matrix, interpolation=\"nearest\")\n",
    "\n",
    "target_names = lb.classes_\n",
    "tick_marks = np.arange(len(target_names))\n",
    "plt.xticks(tick_marks, target_names, rotation=45)\n",
    "plt.yticks(tick_marks, target_names)\n",
    "\n",
    "\n",
    "thresh = matrix.max() / 1.5\n",
    "for i, j in itertools.product(range(matrix.shape[0]), range(matrix.shape[1])):\n",
    "    plt.text(j, i, \"{:0.2f}\".format(matrix[i, j]),\n",
    "             horizontalalignment=\"center\",\n",
    "             color=\"white\" if matrix[i, j] < thresh else \"black\")"
   ]
  },
  {
   "cell_type": "markdown",
   "id": "accepting-enforcement",
   "metadata": {},
   "source": [
    "## NOTES\n",
    "This works but provides accuracy of only about 0.3 ish. Next thing to try is using a face details model first!!!"
   ]
  },
  {
   "cell_type": "code",
   "execution_count": null,
   "id": "entire-holocaust",
   "metadata": {},
   "outputs": [],
   "source": []
  }
 ],
 "metadata": {
  "kernelspec": {
   "display_name": "Python 3",
   "language": "python",
   "name": "python3"
  },
  "language_info": {
   "codemirror_mode": {
    "name": "ipython",
    "version": 3
   },
   "file_extension": ".py",
   "mimetype": "text/x-python",
   "name": "python",
   "nbconvert_exporter": "python",
   "pygments_lexer": "ipython3",
   "version": "3.8.5"
  }
 },
 "nbformat": 4,
 "nbformat_minor": 5
}
